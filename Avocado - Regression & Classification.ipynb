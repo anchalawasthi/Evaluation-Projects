{
 "cells": [
  {
   "cell_type": "markdown",
   "metadata": {},
   "source": [
    "# Avocado - Regression & Classification\n",
    "\n",
    "Given data on avocado prices and sales volume in multiple US markets and various other factors like Date, AveragePrice,Total Volume, Total Bags,Year,Type etc.\n",
    "The goal is to predict average price of avocado and Predict the region of the Avocado sale, using best regression and classification models."
   ]
  },
  {
   "cell_type": "markdown",
   "metadata": {},
   "source": [
    "## About the data\n",
    "\n",
    "- ‘Unamed: 0’ : Its just a index feature that does not contribute to the data in any way\n",
    "- ‘Date’ : Date in which that particular sale was recorded\n",
    "- ‘AveragePrice’ : The average price of avocado on that particular data and region\n",
    "- ‘Total Volume’ : Total sales volume of avocados\n",
    "- ‘4046’ : Total sales volume of Small/Medium Hass Avocado\n",
    "- ‘4225’ : Total sales volume of Large Hass Avocado\n",
    "- ‘4770’ : Total sales volume of Extra Large Hass Avocado\n",
    "- ‘Total Bags’: Total number of Bags sold\n",
    "- ‘Small Bags’: Total number of Small Bags sold\n",
    "- Large Bags’: Total number of Large Bags sold\n",
    "- ‘XLarge Bags’: Total number of XLarge Bags sold\n",
    "- ‘Type’ : Type of avocado\n",
    "- ‘Year’ : Year in which that particular sale is measured \n",
    "- ‘Region’ : Region in which that particular sale is experienced"
   ]
  },
  {
   "cell_type": "code",
   "execution_count": 1,
   "metadata": {},
   "outputs": [
    {
     "data": {
      "text/html": [
       "<div>\n",
       "<style scoped>\n",
       "    .dataframe tbody tr th:only-of-type {\n",
       "        vertical-align: middle;\n",
       "    }\n",
       "\n",
       "    .dataframe tbody tr th {\n",
       "        vertical-align: top;\n",
       "    }\n",
       "\n",
       "    .dataframe thead th {\n",
       "        text-align: right;\n",
       "    }\n",
       "</style>\n",
       "<table border=\"1\" class=\"dataframe\">\n",
       "  <thead>\n",
       "    <tr style=\"text-align: right;\">\n",
       "      <th></th>\n",
       "      <th>Unnamed: 0</th>\n",
       "      <th>Date</th>\n",
       "      <th>AveragePrice</th>\n",
       "      <th>Total Volume</th>\n",
       "      <th>4046</th>\n",
       "      <th>4225</th>\n",
       "      <th>4770</th>\n",
       "      <th>Total Bags</th>\n",
       "      <th>Small Bags</th>\n",
       "      <th>Large Bags</th>\n",
       "      <th>XLarge Bags</th>\n",
       "      <th>type</th>\n",
       "      <th>year</th>\n",
       "      <th>region</th>\n",
       "    </tr>\n",
       "  </thead>\n",
       "  <tbody>\n",
       "    <tr>\n",
       "      <th>0</th>\n",
       "      <td>0.0</td>\n",
       "      <td>2015-12-27</td>\n",
       "      <td>1.33</td>\n",
       "      <td>64236.62</td>\n",
       "      <td>1036.74</td>\n",
       "      <td>54454.85</td>\n",
       "      <td>48.16</td>\n",
       "      <td>8696.87</td>\n",
       "      <td>8603.62</td>\n",
       "      <td>93.25</td>\n",
       "      <td>0.0</td>\n",
       "      <td>conventional</td>\n",
       "      <td>2015.0</td>\n",
       "      <td>Albany</td>\n",
       "    </tr>\n",
       "    <tr>\n",
       "      <th>1</th>\n",
       "      <td>1.0</td>\n",
       "      <td>2015-12-20</td>\n",
       "      <td>1.35</td>\n",
       "      <td>54876.98</td>\n",
       "      <td>674.28</td>\n",
       "      <td>44638.81</td>\n",
       "      <td>58.33</td>\n",
       "      <td>9505.56</td>\n",
       "      <td>9408.07</td>\n",
       "      <td>97.49</td>\n",
       "      <td>0.0</td>\n",
       "      <td>conventional</td>\n",
       "      <td>2015.0</td>\n",
       "      <td>Albany</td>\n",
       "    </tr>\n",
       "    <tr>\n",
       "      <th>2</th>\n",
       "      <td>2.0</td>\n",
       "      <td>2015-12-13</td>\n",
       "      <td>0.93</td>\n",
       "      <td>118220.22</td>\n",
       "      <td>794.70</td>\n",
       "      <td>109149.67</td>\n",
       "      <td>130.50</td>\n",
       "      <td>8145.35</td>\n",
       "      <td>8042.21</td>\n",
       "      <td>103.14</td>\n",
       "      <td>0.0</td>\n",
       "      <td>conventional</td>\n",
       "      <td>2015.0</td>\n",
       "      <td>Albany</td>\n",
       "    </tr>\n",
       "    <tr>\n",
       "      <th>3</th>\n",
       "      <td>3.0</td>\n",
       "      <td>2015-06-12</td>\n",
       "      <td>1.08</td>\n",
       "      <td>78992.15</td>\n",
       "      <td>1132.00</td>\n",
       "      <td>71976.41</td>\n",
       "      <td>72.58</td>\n",
       "      <td>5811.16</td>\n",
       "      <td>5677.40</td>\n",
       "      <td>133.76</td>\n",
       "      <td>0.0</td>\n",
       "      <td>conventional</td>\n",
       "      <td>2015.0</td>\n",
       "      <td>Albany</td>\n",
       "    </tr>\n",
       "    <tr>\n",
       "      <th>4</th>\n",
       "      <td>4.0</td>\n",
       "      <td>2015-11-29</td>\n",
       "      <td>1.28</td>\n",
       "      <td>51039.60</td>\n",
       "      <td>941.48</td>\n",
       "      <td>43838.39</td>\n",
       "      <td>75.78</td>\n",
       "      <td>6183.95</td>\n",
       "      <td>5986.26</td>\n",
       "      <td>197.69</td>\n",
       "      <td>0.0</td>\n",
       "      <td>conventional</td>\n",
       "      <td>2015.0</td>\n",
       "      <td>Albany</td>\n",
       "    </tr>\n",
       "  </tbody>\n",
       "</table>\n",
       "</div>"
      ],
      "text/plain": [
       "   Unnamed: 0       Date  AveragePrice  Total Volume     4046       4225  \\\n",
       "0         0.0 2015-12-27          1.33      64236.62  1036.74   54454.85   \n",
       "1         1.0 2015-12-20          1.35      54876.98   674.28   44638.81   \n",
       "2         2.0 2015-12-13          0.93     118220.22   794.70  109149.67   \n",
       "3         3.0 2015-06-12          1.08      78992.15  1132.00   71976.41   \n",
       "4         4.0 2015-11-29          1.28      51039.60   941.48   43838.39   \n",
       "\n",
       "     4770  Total Bags  Small Bags  Large Bags  XLarge Bags          type  \\\n",
       "0   48.16     8696.87     8603.62       93.25          0.0  conventional   \n",
       "1   58.33     9505.56     9408.07       97.49          0.0  conventional   \n",
       "2  130.50     8145.35     8042.21      103.14          0.0  conventional   \n",
       "3   72.58     5811.16     5677.40      133.76          0.0  conventional   \n",
       "4   75.78     6183.95     5986.26      197.69          0.0  conventional   \n",
       "\n",
       "     year  region  \n",
       "0  2015.0  Albany  \n",
       "1  2015.0  Albany  \n",
       "2  2015.0  Albany  \n",
       "3  2015.0  Albany  \n",
       "4  2015.0  Albany  "
      ]
     },
     "execution_count": 1,
     "metadata": {},
     "output_type": "execute_result"
    }
   ],
   "source": [
    "# Importing the data\n",
    "\n",
    "import pandas as pd\n",
    "import numpy as np\n",
    "\n",
    "df = pd.read_csv(r'C:\\Users\\User\\Desktop\\Projects\\avocado.csv', parse_dates=['Date'])\n",
    "df.head()"
   ]
  },
  {
   "cell_type": "code",
   "execution_count": 2,
   "metadata": {},
   "outputs": [
    {
     "data": {
      "text/html": [
       "<div>\n",
       "<style scoped>\n",
       "    .dataframe tbody tr th:only-of-type {\n",
       "        vertical-align: middle;\n",
       "    }\n",
       "\n",
       "    .dataframe tbody tr th {\n",
       "        vertical-align: top;\n",
       "    }\n",
       "\n",
       "    .dataframe thead th {\n",
       "        text-align: right;\n",
       "    }\n",
       "</style>\n",
       "<table border=\"1\" class=\"dataframe\">\n",
       "  <thead>\n",
       "    <tr style=\"text-align: right;\">\n",
       "      <th></th>\n",
       "      <th>Unnamed: 0</th>\n",
       "      <th>Date</th>\n",
       "      <th>AveragePrice</th>\n",
       "      <th>Total Volume</th>\n",
       "      <th>4046</th>\n",
       "      <th>4225</th>\n",
       "      <th>4770</th>\n",
       "      <th>Total Bags</th>\n",
       "      <th>Small Bags</th>\n",
       "      <th>Large Bags</th>\n",
       "      <th>XLarge Bags</th>\n",
       "      <th>type</th>\n",
       "      <th>year</th>\n",
       "      <th>region</th>\n",
       "    </tr>\n",
       "  </thead>\n",
       "  <tbody>\n",
       "    <tr>\n",
       "      <th>16463</th>\n",
       "      <td>NaN</td>\n",
       "      <td>NaT</td>\n",
       "      <td>NaN</td>\n",
       "      <td>NaN</td>\n",
       "      <td>NaN</td>\n",
       "      <td>NaN</td>\n",
       "      <td>NaN</td>\n",
       "      <td>NaN</td>\n",
       "      <td>NaN</td>\n",
       "      <td>NaN</td>\n",
       "      <td>NaN</td>\n",
       "      <td>NaN</td>\n",
       "      <td>NaN</td>\n",
       "      <td>NaN</td>\n",
       "    </tr>\n",
       "    <tr>\n",
       "      <th>16464</th>\n",
       "      <td>NaN</td>\n",
       "      <td>NaT</td>\n",
       "      <td>NaN</td>\n",
       "      <td>NaN</td>\n",
       "      <td>NaN</td>\n",
       "      <td>NaN</td>\n",
       "      <td>NaN</td>\n",
       "      <td>NaN</td>\n",
       "      <td>NaN</td>\n",
       "      <td>NaN</td>\n",
       "      <td>NaN</td>\n",
       "      <td>NaN</td>\n",
       "      <td>NaN</td>\n",
       "      <td>NaN</td>\n",
       "    </tr>\n",
       "    <tr>\n",
       "      <th>16465</th>\n",
       "      <td>NaN</td>\n",
       "      <td>NaT</td>\n",
       "      <td>NaN</td>\n",
       "      <td>NaN</td>\n",
       "      <td>NaN</td>\n",
       "      <td>NaN</td>\n",
       "      <td>NaN</td>\n",
       "      <td>NaN</td>\n",
       "      <td>NaN</td>\n",
       "      <td>NaN</td>\n",
       "      <td>NaN</td>\n",
       "      <td>NaN</td>\n",
       "      <td>NaN</td>\n",
       "      <td>NaN</td>\n",
       "    </tr>\n",
       "    <tr>\n",
       "      <th>16466</th>\n",
       "      <td>NaN</td>\n",
       "      <td>NaT</td>\n",
       "      <td>NaN</td>\n",
       "      <td>NaN</td>\n",
       "      <td>NaN</td>\n",
       "      <td>NaN</td>\n",
       "      <td>NaN</td>\n",
       "      <td>NaN</td>\n",
       "      <td>NaN</td>\n",
       "      <td>NaN</td>\n",
       "      <td>NaN</td>\n",
       "      <td>NaN</td>\n",
       "      <td>NaN</td>\n",
       "      <td>NaN</td>\n",
       "    </tr>\n",
       "    <tr>\n",
       "      <th>16467</th>\n",
       "      <td>NaN</td>\n",
       "      <td>NaT</td>\n",
       "      <td>NaN</td>\n",
       "      <td>NaN</td>\n",
       "      <td>NaN</td>\n",
       "      <td>NaN</td>\n",
       "      <td>NaN</td>\n",
       "      <td>NaN</td>\n",
       "      <td>NaN</td>\n",
       "      <td>NaN</td>\n",
       "      <td>NaN</td>\n",
       "      <td>NaN</td>\n",
       "      <td>NaN</td>\n",
       "      <td>NaN</td>\n",
       "    </tr>\n",
       "  </tbody>\n",
       "</table>\n",
       "</div>"
      ],
      "text/plain": [
       "       Unnamed: 0 Date  AveragePrice  Total Volume  4046  4225  4770  \\\n",
       "16463         NaN  NaT           NaN           NaN   NaN   NaN   NaN   \n",
       "16464         NaN  NaT           NaN           NaN   NaN   NaN   NaN   \n",
       "16465         NaN  NaT           NaN           NaN   NaN   NaN   NaN   \n",
       "16466         NaN  NaT           NaN           NaN   NaN   NaN   NaN   \n",
       "16467         NaN  NaT           NaN           NaN   NaN   NaN   NaN   \n",
       "\n",
       "       Total Bags  Small Bags  Large Bags  XLarge Bags type  year region  \n",
       "16463         NaN         NaN         NaN          NaN  NaN   NaN    NaN  \n",
       "16464         NaN         NaN         NaN          NaN  NaN   NaN    NaN  \n",
       "16465         NaN         NaN         NaN          NaN  NaN   NaN    NaN  \n",
       "16466         NaN         NaN         NaN          NaN  NaN   NaN    NaN  \n",
       "16467         NaN         NaN         NaN          NaN  NaN   NaN    NaN  "
      ]
     },
     "execution_count": 2,
     "metadata": {},
     "output_type": "execute_result"
    }
   ],
   "source": [
    "df.tail()"
   ]
  },
  {
   "cell_type": "markdown",
   "metadata": {},
   "source": [
    "It can be seen that the data contains empty tuples, which are unecessary and need to be dropped."
   ]
  },
  {
   "cell_type": "code",
   "execution_count": 3,
   "metadata": {},
   "outputs": [
    {
     "data": {
      "text/plain": [
       "(16468, 14)"
      ]
     },
     "execution_count": 3,
     "metadata": {},
     "output_type": "execute_result"
    }
   ],
   "source": [
    "df.shape"
   ]
  },
  {
   "cell_type": "code",
   "execution_count": 4,
   "metadata": {},
   "outputs": [
    {
     "data": {
      "text/plain": [
       "(1517, 14)"
      ]
     },
     "execution_count": 4,
     "metadata": {},
     "output_type": "execute_result"
    }
   ],
   "source": [
    "# Dropping rows which are entirely empty\n",
    "\n",
    "df.dropna(how='all', inplace=True)\n",
    "df.shape"
   ]
  },
  {
   "cell_type": "markdown",
   "metadata": {},
   "source": [
    "It can be seen that almost 15000 rows were deleted from the dataset. Leaving us with scarce data."
   ]
  },
  {
   "cell_type": "markdown",
   "metadata": {},
   "source": [
    "The column ‘Unamed: 0’ seems very unecessary, hence it should be dropped"
   ]
  },
  {
   "cell_type": "code",
   "execution_count": 5,
   "metadata": {},
   "outputs": [],
   "source": [
    "df = df.drop('Unnamed: 0', axis = 1)"
   ]
  },
  {
   "cell_type": "code",
   "execution_count": 6,
   "metadata": {},
   "outputs": [
    {
     "data": {
      "text/html": [
       "<div>\n",
       "<style scoped>\n",
       "    .dataframe tbody tr th:only-of-type {\n",
       "        vertical-align: middle;\n",
       "    }\n",
       "\n",
       "    .dataframe tbody tr th {\n",
       "        vertical-align: top;\n",
       "    }\n",
       "\n",
       "    .dataframe thead th {\n",
       "        text-align: right;\n",
       "    }\n",
       "</style>\n",
       "<table border=\"1\" class=\"dataframe\">\n",
       "  <thead>\n",
       "    <tr style=\"text-align: right;\">\n",
       "      <th></th>\n",
       "      <th>AveragePrice</th>\n",
       "      <th>Total Volume</th>\n",
       "      <th>4046</th>\n",
       "      <th>4225</th>\n",
       "      <th>4770</th>\n",
       "      <th>Total Bags</th>\n",
       "      <th>Small Bags</th>\n",
       "      <th>Large Bags</th>\n",
       "      <th>XLarge Bags</th>\n",
       "      <th>year</th>\n",
       "    </tr>\n",
       "  </thead>\n",
       "  <tbody>\n",
       "    <tr>\n",
       "      <th>count</th>\n",
       "      <td>1517.000000</td>\n",
       "      <td>1.517000e+03</td>\n",
       "      <td>1.517000e+03</td>\n",
       "      <td>1.517000e+03</td>\n",
       "      <td>1.517000e+03</td>\n",
       "      <td>1.517000e+03</td>\n",
       "      <td>1.517000e+03</td>\n",
       "      <td>1.517000e+03</td>\n",
       "      <td>1517.000000</td>\n",
       "      <td>1517.000000</td>\n",
       "    </tr>\n",
       "    <tr>\n",
       "      <th>mean</th>\n",
       "      <td>1.074990</td>\n",
       "      <td>1.601879e+06</td>\n",
       "      <td>6.464387e+05</td>\n",
       "      <td>6.114375e+05</td>\n",
       "      <td>5.040550e+04</td>\n",
       "      <td>2.935974e+05</td>\n",
       "      <td>2.487736e+05</td>\n",
       "      <td>4.264205e+04</td>\n",
       "      <td>2181.771074</td>\n",
       "      <td>2015.162821</td>\n",
       "    </tr>\n",
       "    <tr>\n",
       "      <th>std</th>\n",
       "      <td>0.188891</td>\n",
       "      <td>4.433143e+06</td>\n",
       "      <td>1.947614e+06</td>\n",
       "      <td>1.672906e+06</td>\n",
       "      <td>1.377812e+05</td>\n",
       "      <td>7.579765e+05</td>\n",
       "      <td>6.474765e+05</td>\n",
       "      <td>1.182157e+05</td>\n",
       "      <td>7455.712144</td>\n",
       "      <td>0.369324</td>\n",
       "    </tr>\n",
       "    <tr>\n",
       "      <th>min</th>\n",
       "      <td>0.490000</td>\n",
       "      <td>3.875074e+04</td>\n",
       "      <td>4.677200e+02</td>\n",
       "      <td>1.783770e+03</td>\n",
       "      <td>0.000000e+00</td>\n",
       "      <td>3.311770e+03</td>\n",
       "      <td>3.311770e+03</td>\n",
       "      <td>0.000000e+00</td>\n",
       "      <td>0.000000</td>\n",
       "      <td>2015.000000</td>\n",
       "    </tr>\n",
       "    <tr>\n",
       "      <th>25%</th>\n",
       "      <td>0.980000</td>\n",
       "      <td>1.474700e+05</td>\n",
       "      <td>2.040034e+04</td>\n",
       "      <td>4.147606e+04</td>\n",
       "      <td>9.112500e+02</td>\n",
       "      <td>3.620689e+04</td>\n",
       "      <td>2.972722e+04</td>\n",
       "      <td>5.407400e+02</td>\n",
       "      <td>0.000000</td>\n",
       "      <td>2015.000000</td>\n",
       "    </tr>\n",
       "    <tr>\n",
       "      <th>50%</th>\n",
       "      <td>1.080000</td>\n",
       "      <td>4.027919e+05</td>\n",
       "      <td>8.175117e+04</td>\n",
       "      <td>1.186649e+05</td>\n",
       "      <td>7.688170e+03</td>\n",
       "      <td>7.397906e+04</td>\n",
       "      <td>6.237569e+04</td>\n",
       "      <td>5.044350e+03</td>\n",
       "      <td>0.000000</td>\n",
       "      <td>2015.000000</td>\n",
       "    </tr>\n",
       "    <tr>\n",
       "      <th>75%</th>\n",
       "      <td>1.190000</td>\n",
       "      <td>9.819751e+05</td>\n",
       "      <td>3.775785e+05</td>\n",
       "      <td>4.851503e+05</td>\n",
       "      <td>2.916730e+04</td>\n",
       "      <td>1.576097e+05</td>\n",
       "      <td>1.461994e+05</td>\n",
       "      <td>2.926767e+04</td>\n",
       "      <td>401.480000</td>\n",
       "      <td>2015.000000</td>\n",
       "    </tr>\n",
       "    <tr>\n",
       "      <th>max</th>\n",
       "      <td>1.680000</td>\n",
       "      <td>4.465546e+07</td>\n",
       "      <td>1.893304e+07</td>\n",
       "      <td>1.895648e+07</td>\n",
       "      <td>1.381516e+06</td>\n",
       "      <td>6.736304e+06</td>\n",
       "      <td>5.893642e+06</td>\n",
       "      <td>1.121076e+06</td>\n",
       "      <td>108072.790000</td>\n",
       "      <td>2016.000000</td>\n",
       "    </tr>\n",
       "  </tbody>\n",
       "</table>\n",
       "</div>"
      ],
      "text/plain": [
       "       AveragePrice  Total Volume          4046          4225          4770  \\\n",
       "count   1517.000000  1.517000e+03  1.517000e+03  1.517000e+03  1.517000e+03   \n",
       "mean       1.074990  1.601879e+06  6.464387e+05  6.114375e+05  5.040550e+04   \n",
       "std        0.188891  4.433143e+06  1.947614e+06  1.672906e+06  1.377812e+05   \n",
       "min        0.490000  3.875074e+04  4.677200e+02  1.783770e+03  0.000000e+00   \n",
       "25%        0.980000  1.474700e+05  2.040034e+04  4.147606e+04  9.112500e+02   \n",
       "50%        1.080000  4.027919e+05  8.175117e+04  1.186649e+05  7.688170e+03   \n",
       "75%        1.190000  9.819751e+05  3.775785e+05  4.851503e+05  2.916730e+04   \n",
       "max        1.680000  4.465546e+07  1.893304e+07  1.895648e+07  1.381516e+06   \n",
       "\n",
       "         Total Bags    Small Bags    Large Bags    XLarge Bags         year  \n",
       "count  1.517000e+03  1.517000e+03  1.517000e+03    1517.000000  1517.000000  \n",
       "mean   2.935974e+05  2.487736e+05  4.264205e+04    2181.771074  2015.162821  \n",
       "std    7.579765e+05  6.474765e+05  1.182157e+05    7455.712144     0.369324  \n",
       "min    3.311770e+03  3.311770e+03  0.000000e+00       0.000000  2015.000000  \n",
       "25%    3.620689e+04  2.972722e+04  5.407400e+02       0.000000  2015.000000  \n",
       "50%    7.397906e+04  6.237569e+04  5.044350e+03       0.000000  2015.000000  \n",
       "75%    1.576097e+05  1.461994e+05  2.926767e+04     401.480000  2015.000000  \n",
       "max    6.736304e+06  5.893642e+06  1.121076e+06  108072.790000  2016.000000  "
      ]
     },
     "execution_count": 6,
     "metadata": {},
     "output_type": "execute_result"
    }
   ],
   "source": [
    "df.describe()"
   ]
  },
  {
   "cell_type": "markdown",
   "metadata": {},
   "source": [
    "- There are total of 1517 rows.\n",
    "- we can infer that there are no missing values.\n",
    "- Target Variable 'Average Price' looks normally distribured as mean and median(50 percentile value) are almost similar but with slight skewedness twoards right\n",
    "- The column ‘XLarge’ is suspectable of consisting outliers, as it observes a large difference between it 3rd Quartile Value and Maximum value"
   ]
  },
  {
   "cell_type": "code",
   "execution_count": 7,
   "metadata": {},
   "outputs": [
    {
     "data": {
      "text/html": [
       "<div>\n",
       "<style scoped>\n",
       "    .dataframe tbody tr th:only-of-type {\n",
       "        vertical-align: middle;\n",
       "    }\n",
       "\n",
       "    .dataframe tbody tr th {\n",
       "        vertical-align: top;\n",
       "    }\n",
       "\n",
       "    .dataframe thead th {\n",
       "        text-align: right;\n",
       "    }\n",
       "</style>\n",
       "<table border=\"1\" class=\"dataframe\">\n",
       "  <thead>\n",
       "    <tr style=\"text-align: right;\">\n",
       "      <th></th>\n",
       "      <th>type</th>\n",
       "      <th>region</th>\n",
       "    </tr>\n",
       "  </thead>\n",
       "  <tbody>\n",
       "    <tr>\n",
       "      <th>count</th>\n",
       "      <td>1517</td>\n",
       "      <td>1517</td>\n",
       "    </tr>\n",
       "    <tr>\n",
       "      <th>unique</th>\n",
       "      <td>1</td>\n",
       "      <td>51</td>\n",
       "    </tr>\n",
       "    <tr>\n",
       "      <th>top</th>\n",
       "      <td>conventional</td>\n",
       "      <td>California</td>\n",
       "    </tr>\n",
       "    <tr>\n",
       "      <th>freq</th>\n",
       "      <td>1517</td>\n",
       "      <td>76</td>\n",
       "    </tr>\n",
       "  </tbody>\n",
       "</table>\n",
       "</div>"
      ],
      "text/plain": [
       "                type      region\n",
       "count           1517        1517\n",
       "unique             1          51\n",
       "top     conventional  California\n",
       "freq            1517          76"
      ]
     },
     "execution_count": 7,
     "metadata": {},
     "output_type": "execute_result"
    }
   ],
   "source": [
    "df.describe(include=['O'])"
   ]
  },
  {
   "cell_type": "markdown",
   "metadata": {},
   "source": [
    "- The column ‘type’ consists just one type of data, hence it is safe to drop the column\n",
    "- The column ‘region’ entails 51 unique regions, of which 'California' occurs most frequently"
   ]
  },
  {
   "cell_type": "code",
   "execution_count": 8,
   "metadata": {},
   "outputs": [],
   "source": [
    "df = df.drop(['type'], axis=1)"
   ]
  },
  {
   "cell_type": "code",
   "execution_count": 9,
   "metadata": {},
   "outputs": [
    {
     "data": {
      "text/plain": [
       "Date            datetime64[ns]\n",
       "AveragePrice           float64\n",
       "Total Volume           float64\n",
       "4046                   float64\n",
       "4225                   float64\n",
       "4770                   float64\n",
       "Total Bags             float64\n",
       "Small Bags             float64\n",
       "Large Bags             float64\n",
       "XLarge Bags            float64\n",
       "year                   float64\n",
       "region                  object\n",
       "dtype: object"
      ]
     },
     "execution_count": 9,
     "metadata": {},
     "output_type": "execute_result"
    }
   ],
   "source": [
    "df.dtypes"
   ]
  },
  {
   "cell_type": "markdown",
   "metadata": {},
   "source": [
    "The column Date can be used to formulate two more columns i.e 'Month' and 'Year' as\n",
    "- The column month can help in month-wise analysis\n",
    "- the preexisting year column is in the dtype float, which is not the suitable format for Year data"
   ]
  },
  {
   "cell_type": "code",
   "execution_count": 10,
   "metadata": {},
   "outputs": [
    {
     "data": {
      "text/html": [
       "<div>\n",
       "<style scoped>\n",
       "    .dataframe tbody tr th:only-of-type {\n",
       "        vertical-align: middle;\n",
       "    }\n",
       "\n",
       "    .dataframe tbody tr th {\n",
       "        vertical-align: top;\n",
       "    }\n",
       "\n",
       "    .dataframe thead th {\n",
       "        text-align: right;\n",
       "    }\n",
       "</style>\n",
       "<table border=\"1\" class=\"dataframe\">\n",
       "  <thead>\n",
       "    <tr style=\"text-align: right;\">\n",
       "      <th></th>\n",
       "      <th>Date</th>\n",
       "      <th>AveragePrice</th>\n",
       "      <th>Total Volume</th>\n",
       "      <th>4046</th>\n",
       "      <th>4225</th>\n",
       "      <th>4770</th>\n",
       "      <th>Total Bags</th>\n",
       "      <th>Small Bags</th>\n",
       "      <th>Large Bags</th>\n",
       "      <th>XLarge Bags</th>\n",
       "      <th>year</th>\n",
       "      <th>region</th>\n",
       "      <th>Month</th>\n",
       "      <th>Year</th>\n",
       "    </tr>\n",
       "  </thead>\n",
       "  <tbody>\n",
       "    <tr>\n",
       "      <th>0</th>\n",
       "      <td>2015-12-27</td>\n",
       "      <td>1.33</td>\n",
       "      <td>64236.62</td>\n",
       "      <td>1036.74</td>\n",
       "      <td>54454.85</td>\n",
       "      <td>48.16</td>\n",
       "      <td>8696.87</td>\n",
       "      <td>8603.62</td>\n",
       "      <td>93.25</td>\n",
       "      <td>0.0</td>\n",
       "      <td>2015.0</td>\n",
       "      <td>Albany</td>\n",
       "      <td>12</td>\n",
       "      <td>2015</td>\n",
       "    </tr>\n",
       "    <tr>\n",
       "      <th>1</th>\n",
       "      <td>2015-12-20</td>\n",
       "      <td>1.35</td>\n",
       "      <td>54876.98</td>\n",
       "      <td>674.28</td>\n",
       "      <td>44638.81</td>\n",
       "      <td>58.33</td>\n",
       "      <td>9505.56</td>\n",
       "      <td>9408.07</td>\n",
       "      <td>97.49</td>\n",
       "      <td>0.0</td>\n",
       "      <td>2015.0</td>\n",
       "      <td>Albany</td>\n",
       "      <td>12</td>\n",
       "      <td>2015</td>\n",
       "    </tr>\n",
       "    <tr>\n",
       "      <th>2</th>\n",
       "      <td>2015-12-13</td>\n",
       "      <td>0.93</td>\n",
       "      <td>118220.22</td>\n",
       "      <td>794.70</td>\n",
       "      <td>109149.67</td>\n",
       "      <td>130.50</td>\n",
       "      <td>8145.35</td>\n",
       "      <td>8042.21</td>\n",
       "      <td>103.14</td>\n",
       "      <td>0.0</td>\n",
       "      <td>2015.0</td>\n",
       "      <td>Albany</td>\n",
       "      <td>12</td>\n",
       "      <td>2015</td>\n",
       "    </tr>\n",
       "    <tr>\n",
       "      <th>3</th>\n",
       "      <td>2015-06-12</td>\n",
       "      <td>1.08</td>\n",
       "      <td>78992.15</td>\n",
       "      <td>1132.00</td>\n",
       "      <td>71976.41</td>\n",
       "      <td>72.58</td>\n",
       "      <td>5811.16</td>\n",
       "      <td>5677.40</td>\n",
       "      <td>133.76</td>\n",
       "      <td>0.0</td>\n",
       "      <td>2015.0</td>\n",
       "      <td>Albany</td>\n",
       "      <td>6</td>\n",
       "      <td>2015</td>\n",
       "    </tr>\n",
       "    <tr>\n",
       "      <th>4</th>\n",
       "      <td>2015-11-29</td>\n",
       "      <td>1.28</td>\n",
       "      <td>51039.60</td>\n",
       "      <td>941.48</td>\n",
       "      <td>43838.39</td>\n",
       "      <td>75.78</td>\n",
       "      <td>6183.95</td>\n",
       "      <td>5986.26</td>\n",
       "      <td>197.69</td>\n",
       "      <td>0.0</td>\n",
       "      <td>2015.0</td>\n",
       "      <td>Albany</td>\n",
       "      <td>11</td>\n",
       "      <td>2015</td>\n",
       "    </tr>\n",
       "  </tbody>\n",
       "</table>\n",
       "</div>"
      ],
      "text/plain": [
       "        Date  AveragePrice  Total Volume     4046       4225    4770  \\\n",
       "0 2015-12-27          1.33      64236.62  1036.74   54454.85   48.16   \n",
       "1 2015-12-20          1.35      54876.98   674.28   44638.81   58.33   \n",
       "2 2015-12-13          0.93     118220.22   794.70  109149.67  130.50   \n",
       "3 2015-06-12          1.08      78992.15  1132.00   71976.41   72.58   \n",
       "4 2015-11-29          1.28      51039.60   941.48   43838.39   75.78   \n",
       "\n",
       "   Total Bags  Small Bags  Large Bags  XLarge Bags    year  region  Month  \\\n",
       "0     8696.87     8603.62       93.25          0.0  2015.0  Albany     12   \n",
       "1     9505.56     9408.07       97.49          0.0  2015.0  Albany     12   \n",
       "2     8145.35     8042.21      103.14          0.0  2015.0  Albany     12   \n",
       "3     5811.16     5677.40      133.76          0.0  2015.0  Albany      6   \n",
       "4     6183.95     5986.26      197.69          0.0  2015.0  Albany     11   \n",
       "\n",
       "   Year  \n",
       "0  2015  \n",
       "1  2015  \n",
       "2  2015  \n",
       "3  2015  \n",
       "4  2015  "
      ]
     },
     "execution_count": 10,
     "metadata": {},
     "output_type": "execute_result"
    }
   ],
   "source": [
    "# Creating columns 'Month' and 'Year'\n",
    "\n",
    "df['Month'] = pd.DatetimeIndex(df['Date']).month\n",
    "df['Year'] = pd.DatetimeIndex(df['Date']).year\n",
    "df.head()"
   ]
  },
  {
   "cell_type": "markdown",
   "metadata": {},
   "source": [
    "- Now seince we've created two new columns, we can drop the ‘Date’ column, because we don't need it anymore\n",
    "- The columns ‘year’ can be dropped as we have formulated a new column"
   ]
  },
  {
   "cell_type": "code",
   "execution_count": 11,
   "metadata": {},
   "outputs": [],
   "source": [
    "df = df.drop(['Date','year'], axis=1)"
   ]
  },
  {
   "cell_type": "code",
   "execution_count": 12,
   "metadata": {},
   "outputs": [
    {
     "data": {
      "text/plain": [
       "AveragePrice    0\n",
       "Total Volume    0\n",
       "4046            0\n",
       "4225            0\n",
       "4770            0\n",
       "Total Bags      0\n",
       "Small Bags      0\n",
       "Large Bags      0\n",
       "XLarge Bags     0\n",
       "region          0\n",
       "Month           0\n",
       "Year            0\n",
       "dtype: int64"
      ]
     },
     "execution_count": 12,
     "metadata": {},
     "output_type": "execute_result"
    }
   ],
   "source": [
    "df.isnull().sum()"
   ]
  },
  {
   "cell_type": "markdown",
   "metadata": {},
   "source": [
    "- The data does not comprise of any null values, hence it is safe to move on to the EDA process"
   ]
  },
  {
   "cell_type": "code",
   "execution_count": 13,
   "metadata": {},
   "outputs": [
    {
     "data": {
      "text/plain": [
       "(1517, 12)"
      ]
     },
     "execution_count": 13,
     "metadata": {},
     "output_type": "execute_result"
    }
   ],
   "source": [
    "df.shape"
   ]
  },
  {
   "cell_type": "code",
   "execution_count": 14,
   "metadata": {},
   "outputs": [
    {
     "data": {
      "text/plain": [
       "AveragePrice    float64\n",
       "Total Volume    float64\n",
       "4046            float64\n",
       "4225            float64\n",
       "4770            float64\n",
       "Total Bags      float64\n",
       "Small Bags      float64\n",
       "Large Bags      float64\n",
       "XLarge Bags     float64\n",
       "region           object\n",
       "Month             int64\n",
       "Year              int64\n",
       "dtype: object"
      ]
     },
     "execution_count": 14,
     "metadata": {},
     "output_type": "execute_result"
    }
   ],
   "source": [
    "df.dtypes"
   ]
  },
  {
   "cell_type": "markdown",
   "metadata": {},
   "source": [
    "### Summary\n",
    "\n",
    "Dataset info:\n",
    "\n",
    "- Number of variables: 12\n",
    "- Number of observations: 1517\n",
    "- Missing cells: 0\n",
    "\n",
    "Variables types:\n",
    "\n",
    "- Numeric: 11\n",
    "- Categorical: 1\n",
    "\n",
    "Observations:\n",
    "\n",
    "- Target variable in normally distributed but with slight skewedness towards right\n",
    "- Target variable Region has high cardinality"
   ]
  },
  {
   "cell_type": "markdown",
   "metadata": {},
   "source": [
    "# EDA"
   ]
  },
  {
   "cell_type": "code",
   "execution_count": 15,
   "metadata": {},
   "outputs": [],
   "source": [
    "import matplotlib.pyplot as plt\n",
    "from matplotlib import pyplot\n",
    "import seaborn as sns"
   ]
  },
  {
   "cell_type": "code",
   "execution_count": 16,
   "metadata": {},
   "outputs": [
    {
     "data": {
      "text/plain": [
       "<matplotlib.axes._subplots.AxesSubplot at 0x1ac1c48a6c8>"
      ]
     },
     "execution_count": 16,
     "metadata": {},
     "output_type": "execute_result"
    },
    {
     "data": {
      "image/png": "[encoded data removed]",
      "text/plain": [
       "<Figure size 648x432 with 1 Axes>"
      ]
     },
     "metadata": {
      "needs_background": "light"
     },
     "output_type": "display_data"
    }
   ],
   "source": [
    "plt.figure(figsize = (9,6))\n",
    "plt.title('Distribution Average Price')\n",
    "sns.distplot(df['AveragePrice'], color = 'b')"
   ]
  },
  {
   "cell_type": "markdown",
   "metadata": {},
   "source": [
    "Average Price data is Almost a normal distribution, where maximum values lie between 0.7 and 1.4 "
   ]
  },
  {
   "cell_type": "code",
   "execution_count": 17,
   "metadata": {},
   "outputs": [
    {
     "data": {
      "text/plain": [
       "<matplotlib.axes._subplots.AxesSubplot at 0x1ac1cc3a308>"
      ]
     },
     "execution_count": 17,
     "metadata": {},
     "output_type": "execute_result"
    },
    {
     "data": {
      "image/png": "[encoded data removed]",
      "text/plain": [
       "<Figure size 1296x432 with 1 Axes>"
      ]
     },
     "metadata": {
      "needs_background": "light"
     },
     "output_type": "display_data"
    }
   ],
   "source": [
    "plt.figure(figsize =(18,6))\n",
    "plt.title('Avocado price in each region')\n",
    "plt.xticks(rotation ='vertical')\n",
    "sns.boxplot(x = 'region', y = 'AveragePrice', data = df, width = 1, whis= 2)"
   ]
  },
  {
   "cell_type": "markdown",
   "metadata": {},
   "source": [
    "- BuffaloRochester has the highest Average price of avocados, followed by Albany and Boston \n",
    "- PhoenixTucson observes the lowest Average price of avocados, followed by Boise and Houston \n",
    "- It can also be seen that Average Price Varies visibly for each region, hence it can be concluded that both the variables play avital role in determining the values of another"
   ]
  },
  {
   "cell_type": "code",
   "execution_count": 18,
   "metadata": {},
   "outputs": [
    {
     "data": {
      "text/plain": [
       "<matplotlib.axes._subplots.AxesSubplot at 0x1ac1d0fec88>"
      ]
     },
     "execution_count": 18,
     "metadata": {},
     "output_type": "execute_result"
    },
    {
     "data": {
      "image/png": "[encoded data removed]",
      "text/plain": [
       "<Figure size 360x360 with 1 Axes>"
      ]
     },
     "metadata": {
      "needs_background": "light"
     },
     "output_type": "display_data"
    }
   ],
   "source": [
    "plt.figure(figsize = (5,5))\n",
    "plt.title('Average price each year')\n",
    "sns.boxplot(x = 'Year', y= 'AveragePrice', data = df)"
   ]
  },
  {
   "cell_type": "markdown",
   "metadata": {},
   "source": [
    "- The Median of Average price of avocados when compared in both year's is almost equal, which means that change in year did not necessariy mark an increase in average price of avocaods\n",
    "- However 2016 noticed an increase in its maximum average price"
   ]
  },
  {
   "cell_type": "code",
   "execution_count": 19,
   "metadata": {},
   "outputs": [
    {
     "data": {
      "text/plain": [
       "Text(0.5, 1.0, 'Average Price According to Months')"
      ]
     },
     "execution_count": 19,
     "metadata": {},
     "output_type": "execute_result"
    },
    {
     "data": {
      "image/png": "[encoded data removed]",
      "text/plain": [
       "<Figure size 720x360 with 1 Axes>"
      ]
     },
     "metadata": {
      "needs_background": "light"
     },
     "output_type": "display_data"
    }
   ],
   "source": [
    "plt.figure(figsize=(10,5))\n",
    "sns.lineplot(x=\"Month\", y=\"AveragePrice\", marker='o', ci=None, data=df)\n",
    "plt.title(\"Average Price According to Months\")"
   ]
  },
  {
   "cell_type": "markdown",
   "metadata": {},
   "source": [
    "- Average price of Avocados observes it's highest peak in the 11th month (Novemeber)\n",
    "- Average price of Avocados observe a steep drop during winter months i.e 11 and 12 (November and December)\n",
    "- However the Average price of Avocados observes a high rise again as winter subsides and spring begins to take over, i.e in from 12 to 1\n",
    "- The Average price of Avocados shifts variably almost every month "
   ]
  },
  {
   "cell_type": "code",
   "execution_count": 20,
   "metadata": {},
   "outputs": [
    {
     "data": {
      "image/png": "[encoded data removed]",
      "text/plain": [
       "<Figure size 1440x576 with 1 Axes>"
      ]
     },
     "metadata": {
      "needs_background": "light"
     },
     "output_type": "display_data"
    }
   ],
   "source": [
    "plt.figure(figsize=(20,8))\n",
    "plt.title(\"Total volume of Avocado sold by Region\")\n",
    "sns.barplot(x=\"region\", y=\"Total Volume\", data= df, palette=\"mako\")\n",
    "plt.xticks(rotation=90)\n",
    "plt.show()"
   ]
  },
  {
   "cell_type": "markdown",
   "metadata": {},
   "source": [
    "- As obvious, the Total US makes the maximum sales which no region can match\n",
    "- However, California marks the highest total sales of avocaods\n",
    "- Among other Avocado obssesed regions are SouthCentral and the West USA\n",
    "- There are also regions which are not very fond of Avocados like Boise, Spokan and Louiseville "
   ]
  },
  {
   "cell_type": "code",
   "execution_count": 21,
   "metadata": {},
   "outputs": [
    {
     "data": {
      "text/plain": [
       "<matplotlib.axes._subplots.AxesSubplot at 0x1ac1da24608>"
      ]
     },
     "execution_count": 21,
     "metadata": {},
     "output_type": "execute_result"
    },
    {
     "data": {
      "image/png": "[encoded data removed]",
      "text/plain": [
       "<Figure size 360x360 with 1 Axes>"
      ]
     },
     "metadata": {
      "needs_background": "light"
     },
     "output_type": "display_data"
    }
   ],
   "source": [
    "plt.figure(figsize=(5,5))\n",
    "plt.title('Total volume of sale each year')\n",
    "sns.barplot(x=\"Year\", y=\"Total Volume\", palette=\"rocket\", data=df)"
   ]
  },
  {
   "cell_type": "markdown",
   "metadata": {},
   "source": [
    "- Both the years observes almost same amount of sale"
   ]
  },
  {
   "cell_type": "code",
   "execution_count": 22,
   "metadata": {},
   "outputs": [
    {
     "data": {
      "text/plain": [
       "<matplotlib.axes._subplots.AxesSubplot at 0x1ac1d6b9248>"
      ]
     },
     "execution_count": 22,
     "metadata": {},
     "output_type": "execute_result"
    },
    {
     "data": {
      "image/png": "[encoded data removed]",
      "text/plain": [
       "<Figure size 720x360 with 1 Axes>"
      ]
     },
     "metadata": {
      "needs_background": "light"
     },
     "output_type": "display_data"
    }
   ],
   "source": [
    "plt.figure(figsize=(10,5))\n",
    "sns.barplot(x=\"Month\", y=\"Total Volume\", palette=\"rocket\", data=df)"
   ]
  },
  {
   "cell_type": "markdown",
   "metadata": {},
   "source": [
    "- Sales volume of Avocados observes it's highest peak in the 5th month (May)\n",
    "- Sales volume of Avocados observes it's lowest during winter months i.e 11 and 12 (November and December)\n",
    "- However the sales of Avocados observes a high rise again as winter subsides and spring begins to take over, i.e in 1st month (January)\n",
    "- The sales of Avocados is almost stable through spring and summer and begins to observe a fall from the fall season  "
   ]
  },
  {
   "cell_type": "markdown",
   "metadata": {},
   "source": [
    "# Regression - Price Prediction"
   ]
  },
  {
   "cell_type": "markdown",
   "metadata": {},
   "source": [
    "Checking correlation of variables with the target variable 'AveragePrice'"
   ]
  },
  {
   "cell_type": "code",
   "execution_count": 23,
   "metadata": {},
   "outputs": [
    {
     "data": {
      "text/plain": [
       "<matplotlib.axes._subplots.AxesSubplot at 0x1ac1d7b8e08>"
      ]
     },
     "execution_count": 23,
     "metadata": {},
     "output_type": "execute_result"
    },
    {
     "data": {
      "image/png": "[encoded data removed]",
      "text/plain": [
       "<Figure size 720x576 with 2 Axes>"
      ]
     },
     "metadata": {
      "needs_background": "light"
     },
     "output_type": "display_data"
    }
   ],
   "source": [
    "correlation = df.corr()\n",
    "plt.figure(figsize=(10,8))\n",
    "sns.heatmap(correlation, annot= True, linewidths=0.5, linecolor=\"white\", fmt= '.2f')"
   ]
  },
  {
   "cell_type": "markdown",
   "metadata": {},
   "source": [
    "As we can from the heatmap above, all the Features are not corroleted with the Average Price column, instead most of them are correlated with each other. Which will not help get a good model. \n",
    "\n",
    "- Thus Feature Engineering needs to be performed on the categorical Features : region"
   ]
  },
  {
   "cell_type": "markdown",
   "metadata": {},
   "source": [
    "## Feature Engineering"
   ]
  },
  {
   "cell_type": "markdown",
   "metadata": {},
   "source": [
    "#### Encoding the Categorical Variable"
   ]
  },
  {
   "cell_type": "code",
   "execution_count": 24,
   "metadata": {},
   "outputs": [
    {
     "data": {
      "text/plain": [
       "(1517, 63)"
      ]
     },
     "execution_count": 24,
     "metadata": {},
     "output_type": "execute_result"
    }
   ],
   "source": [
    "# Performing OneHotEncoding\n",
    "\n",
    "df_c = pd.get_dummies(df.region)\n",
    "df = pd.concat([df, df_c], axis=1)\n",
    "df.shape"
   ]
  },
  {
   "cell_type": "markdown",
   "metadata": {},
   "source": [
    "The column region is no longer needed"
   ]
  },
  {
   "cell_type": "code",
   "execution_count": 25,
   "metadata": {},
   "outputs": [],
   "source": [
    "df = df.drop(['region'], axis=1)"
   ]
  },
  {
   "cell_type": "markdown",
   "metadata": {},
   "source": [
    "#### Checking for skewness in data"
   ]
  },
  {
   "cell_type": "code",
   "execution_count": 26,
   "metadata": {},
   "outputs": [
    {
     "data": {
      "text/plain": [
       "AveragePrice       -0.109444\n",
       "Total Volume        6.200138\n",
       "4046                6.051830\n",
       "4225                6.394926\n",
       "4770                5.405164\n",
       "                      ...   \n",
       "Syracuse            8.775366\n",
       "Tampa               6.459339\n",
       "TotalUS             7.603358\n",
       "West                6.264246\n",
       "WestTexNewMexico    7.301281\n",
       "Length: 62, dtype: float64"
      ]
     },
     "execution_count": 26,
     "metadata": {},
     "output_type": "execute_result"
    }
   ],
   "source": [
    "df.skew()"
   ]
  },
  {
   "cell_type": "markdown",
   "metadata": {},
   "source": [
    "#### Treating Skewness using log method"
   ]
  },
  {
   "cell_type": "code",
   "execution_count": 27,
   "metadata": {},
   "outputs": [],
   "source": [
    "for col in df.columns:\n",
    "    if df.skew().loc[col]>2.0:\n",
    "        df[col]=np.log1p(df[col])"
   ]
  },
  {
   "cell_type": "code",
   "execution_count": 28,
   "metadata": {},
   "outputs": [
    {
     "data": {
      "text/plain": [
       "AveragePrice       -0.109444\n",
       "Total Volume        0.667468\n",
       "4046               -0.160268\n",
       "4225                0.184436\n",
       "4770               -0.355508\n",
       "                      ...   \n",
       "Syracuse            8.775366\n",
       "Tampa               6.459339\n",
       "TotalUS             7.603358\n",
       "West                6.264246\n",
       "WestTexNewMexico    7.301281\n",
       "Length: 62, dtype: float64"
      ]
     },
     "execution_count": 28,
     "metadata": {},
     "output_type": "execute_result"
    }
   ],
   "source": [
    "df.skew()"
   ]
  },
  {
   "cell_type": "markdown",
   "metadata": {},
   "source": [
    "It can be seen that after treating skewness, the data is not steeply skeweed towards any dirrection thus Outliers have been dealt with"
   ]
  },
  {
   "cell_type": "markdown",
   "metadata": {},
   "source": [
    "#### Shuffling the data before performing the split"
   ]
  },
  {
   "cell_type": "code",
   "execution_count": 29,
   "metadata": {},
   "outputs": [],
   "source": [
    "df = df.sample(frac = 1, random_state=0)"
   ]
  },
  {
   "cell_type": "markdown",
   "metadata": {},
   "source": [
    "#### Splitting the data "
   ]
  },
  {
   "cell_type": "code",
   "execution_count": 30,
   "metadata": {},
   "outputs": [],
   "source": [
    "x = df.drop(columns=['AveragePrice'])\n",
    "y = df[['AveragePrice']]"
   ]
  },
  {
   "cell_type": "code",
   "execution_count": 31,
   "metadata": {},
   "outputs": [
    {
     "data": {
      "text/plain": [
       "((1517, 61), (1517, 1))"
      ]
     },
     "execution_count": 31,
     "metadata": {},
     "output_type": "execute_result"
    }
   ],
   "source": [
    "x.shape, y.shape"
   ]
  },
  {
   "cell_type": "markdown",
   "metadata": {},
   "source": [
    "#### Scaling the data"
   ]
  },
  {
   "cell_type": "code",
   "execution_count": 32,
   "metadata": {},
   "outputs": [],
   "source": [
    "from sklearn.preprocessing import StandardScaler\n",
    "sc = StandardScaler()\n",
    "x = sc.fit_transform(x)"
   ]
  },
  {
   "cell_type": "markdown",
   "metadata": {},
   "source": [
    "# Training Phase"
   ]
  },
  {
   "cell_type": "markdown",
   "metadata": {},
   "source": [
    "Now our data are ready! lets apply our model which is going to be a Regression type because our Target variable 'AveragePrice'is continuous. \n",
    "\n",
    "Let's now begin to train out regression model! We will need to first split up our data into an X_train and y_train array that contains the features to train on, and a x_test and y_test array with the target variable"
   ]
  },
  {
   "cell_type": "code",
   "execution_count": 33,
   "metadata": {},
   "outputs": [],
   "source": [
    "from sklearn.model_selection import train_test_split\n",
    "x_train, x_test, y_train,y_test = train_test_split(x,y,test_size=.20,random_state=55)"
   ]
  },
  {
   "cell_type": "markdown",
   "metadata": {},
   "source": [
    "#### Finding the best values for random state"
   ]
  },
  {
   "cell_type": "code",
   "execution_count": 34,
   "metadata": {},
   "outputs": [
    {
     "name": "stdout",
     "output_type": "stream",
     "text": [
      "max r2 score corresponding to 96 is 0.8322219668573831\n"
     ]
    }
   ],
   "source": [
    "from sklearn.metrics import mean_squared_error, mean_absolute_error, r2_score\n",
    "from sklearn import linear_model\n",
    "max_r_score=0\n",
    "for r_state in range(42,100):\n",
    "    x_train,x_test,y_train,y_test = train_test_split(x,y,random_state = r_state, test_size=0.20)\n",
    "    regr = linear_model.LinearRegression()\n",
    "    regr.fit(x_train,y_train)\n",
    "    y_pred = regr.predict(x_test)\n",
    "    r2_scr=r2_score(y_test,y_pred)\n",
    "    if r2_scr>max_r_score:\n",
    "        max_r_score=r2_scr\n",
    "        final_r_state=r_state\n",
    "print('max r2 score corresponding to', final_r_state, 'is', max_r_score)"
   ]
  },
  {
   "cell_type": "markdown",
   "metadata": {},
   "source": [
    "It can be seen that maximum r2 score is corresponding to the 96 value of random state"
   ]
  },
  {
   "cell_type": "markdown",
   "metadata": {},
   "source": [
    "#### Checking for Over-fitting in the Linear Regression Model"
   ]
  },
  {
   "cell_type": "code",
   "execution_count": 35,
   "metadata": {},
   "outputs": [
    {
     "data": {
      "text/plain": [
       "array([0.77897955, 0.77142644, 0.78850079, 0.78692332, 0.80042038])"
      ]
     },
     "execution_count": 35,
     "metadata": {},
     "output_type": "execute_result"
    }
   ],
   "source": [
    "from sklearn.linear_model import LinearRegression\n",
    "from sklearn.model_selection import cross_val_score\n",
    "a_score = cross_val_score(LinearRegression(),x,y,cv=5,scoring='r2')\n",
    "a_score"
   ]
  },
  {
   "cell_type": "markdown",
   "metadata": {},
   "source": [
    "- It can be seen that, since the r2 score's are not varying insanly, the model is not overfitting the data.\n",
    "\n",
    "- Lasso and Ridge Regression don't need to be performed \n",
    "\n",
    "- However, if we want to achieve better results, more data needs to be used."
   ]
  },
  {
   "cell_type": "code",
   "execution_count": 36,
   "metadata": {},
   "outputs": [],
   "source": [
    "x_train, x_test, y_train,y_test = train_test_split(x,y,test_size=.20,random_state=96)"
   ]
  },
  {
   "cell_type": "code",
   "execution_count": 37,
   "metadata": {},
   "outputs": [],
   "source": [
    "import warnings\n",
    "warnings.filterwarnings('ignore')"
   ]
  },
  {
   "cell_type": "markdown",
   "metadata": {},
   "source": [
    "## Linear Regression"
   ]
  },
  {
   "cell_type": "code",
   "execution_count": 38,
   "metadata": {},
   "outputs": [],
   "source": [
    "from sklearn.linear_model import LinearRegression\n",
    "lr=LinearRegression()\n",
    "lr.fit(x_train,y_train)\n",
    "pred=lr.predict(x_test)"
   ]
  },
  {
   "cell_type": "code",
   "execution_count": 39,
   "metadata": {},
   "outputs": [
    {
     "name": "stdout",
     "output_type": "stream",
     "text": [
      "R2 Score: 83.22219668573831\n"
     ]
    }
   ],
   "source": [
    "lms = r2_score(y_test,pred)\n",
    "print('R2 Score:',lms*100)"
   ]
  },
  {
   "cell_type": "code",
   "execution_count": 40,
   "metadata": {},
   "outputs": [
    {
     "name": "stdout",
     "output_type": "stream",
     "text": [
      "MAE: 0.05934762453434964\n",
      "MSE: 0.006360124909327739\n",
      "RMSE: 0.07975039128009177\n"
     ]
    }
   ],
   "source": [
    "from sklearn import metrics\n",
    "print('MAE:', metrics.mean_absolute_error(y_test, pred))\n",
    "print('MSE:', metrics.mean_squared_error(y_test, pred))\n",
    "print('RMSE:', np.sqrt(metrics.mean_squared_error(y_test, pred)))"
   ]
  },
  {
   "cell_type": "markdown",
   "metadata": {},
   "source": [
    "- R2 score is a acceptable value \n",
    "- RMSE is very low which is good news\n",
    "- But it is too early to declare this as the best model"
   ]
  },
  {
   "cell_type": "code",
   "execution_count": 41,
   "metadata": {},
   "outputs": [
    {
     "data": {
      "image/png": "[encoded data removed]",
      "text/plain": [
       "<Figure size 360x360 with 1 Axes>"
      ]
     },
     "metadata": {
      "needs_background": "light"
     },
     "output_type": "display_data"
    }
   ],
   "source": [
    "plt.figure(figsize=(5,5))\n",
    "plt.scatter(x=y_test, y=pred, color='b')\n",
    "plt.plot(y_test,y_test, color='r')\n",
    "plt.xlabel('Actual Happiness Score',fontsize=14)\n",
    "plt.ylabel('Predicted Happiness Score',fontsize=14)\n",
    "plt.title('Linear Regression',fontsize=18)\n",
    "plt.show()"
   ]
  },
  {
   "cell_type": "markdown",
   "metadata": {},
   "source": [
    "- As we can see that we have a slightly scattered straigt line so this is a good model to apply on this data"
   ]
  },
  {
   "cell_type": "markdown",
   "metadata": {},
   "source": [
    "## DecisionTree Regression"
   ]
  },
  {
   "cell_type": "code",
   "execution_count": 42,
   "metadata": {},
   "outputs": [],
   "source": [
    "from sklearn.tree import DecisionTreeRegressor\n",
    "dtr=DecisionTreeRegressor()\n",
    "dtr.fit(x_train,y_train)\n",
    "pred=dtr.predict(x_test)"
   ]
  },
  {
   "cell_type": "code",
   "execution_count": 43,
   "metadata": {},
   "outputs": [
    {
     "name": "stdout",
     "output_type": "stream",
     "text": [
      "R2 Score: 70.22307319055551\n"
     ]
    }
   ],
   "source": [
    "dts = r2_score(y_test,pred)\n",
    "print('R2 Score:',dts*100)"
   ]
  },
  {
   "cell_type": "code",
   "execution_count": 44,
   "metadata": {},
   "outputs": [
    {
     "name": "stdout",
     "output_type": "stream",
     "text": [
      "MAE: 0.07332236842105262\n",
      "MSE: 0.01128782894736842\n",
      "RMSE: 0.10624419488785455\n"
     ]
    }
   ],
   "source": [
    "print('MAE:', metrics.mean_absolute_error(y_test, pred))\n",
    "print('MSE:', metrics.mean_squared_error(y_test, pred))\n",
    "print('RMSE:', np.sqrt(metrics.mean_squared_error(y_test, pred)))"
   ]
  },
  {
   "cell_type": "markdown",
   "metadata": {},
   "source": [
    "- R2 score is low compared to Linear Regression\n",
    "- RMSE is low but is greater than that of Linear Regression\n",
    "- But it is safe to declare that this is not the best model"
   ]
  },
  {
   "cell_type": "code",
   "execution_count": 45,
   "metadata": {},
   "outputs": [
    {
     "data": {
      "image/png": "[encoded data removed]",
      "text/plain": [
       "<Figure size 360x360 with 1 Axes>"
      ]
     },
     "metadata": {
      "needs_background": "light"
     },
     "output_type": "display_data"
    }
   ],
   "source": [
    "plt.figure(figsize=(5,5))\n",
    "plt.scatter(x=y_test, y=pred, color='b')\n",
    "plt.plot(y_test,y_test, color='r')\n",
    "plt.xlabel('Actual Happiness Score',fontsize=14)\n",
    "plt.ylabel('Predicted Happiness Score',fontsize=14)\n",
    "plt.title('Decision Tree Regression',fontsize=18)\n",
    "plt.show()"
   ]
  },
  {
   "cell_type": "markdown",
   "metadata": {},
   "source": [
    "The predicted values do not form a straight line"
   ]
  },
  {
   "cell_type": "markdown",
   "metadata": {},
   "source": [
    "## RandomForest Regression"
   ]
  },
  {
   "cell_type": "code",
   "execution_count": 46,
   "metadata": {},
   "outputs": [],
   "source": [
    "from sklearn.ensemble import RandomForestRegressor\n",
    "rdr = RandomForestRegressor()\n",
    "rdr.fit(x_train,y_train)\n",
    "pred=rdr.predict(x_test)"
   ]
  },
  {
   "cell_type": "code",
   "execution_count": 47,
   "metadata": {},
   "outputs": [
    {
     "name": "stdout",
     "output_type": "stream",
     "text": [
      "R2 Score: 86.67485987609803\n"
     ]
    }
   ],
   "source": [
    "rfs = r2_score(y_test,pred)\n",
    "print('R2 Score:',rfs*100)"
   ]
  },
  {
   "cell_type": "code",
   "execution_count": 48,
   "metadata": {},
   "outputs": [
    {
     "name": "stdout",
     "output_type": "stream",
     "text": [
      "MAE: 0.05280000000000005\n",
      "MSE: 0.005051290328947384\n",
      "RMSE: 0.07107243016069863\n"
     ]
    }
   ],
   "source": [
    "print('MAE:', metrics.mean_absolute_error(y_test, pred))\n",
    "print('MSE:', metrics.mean_squared_error(y_test, pred))\n",
    "print('RMSE:', np.sqrt(metrics.mean_squared_error(y_test, pred)))"
   ]
  },
  {
   "cell_type": "markdown",
   "metadata": {},
   "source": [
    "- R2 score is highest by far\n",
    "- RMSE is lowest when compared to Linear Regression\n",
    "- Random Forest is the best model"
   ]
  },
  {
   "cell_type": "code",
   "execution_count": 49,
   "metadata": {},
   "outputs": [
    {
     "data": {
      "image/png": "[encoded data removed]",
      "text/plain": [
       "<Figure size 360x360 with 1 Axes>"
      ]
     },
     "metadata": {
      "needs_background": "light"
     },
     "output_type": "display_data"
    }
   ],
   "source": [
    "plt.figure(figsize=(5,5))\n",
    "plt.scatter(x=y_test, y=pred, color='b')\n",
    "plt.plot(y_test,y_test, color='r')\n",
    "plt.xlabel('Actual Happiness Score',fontsize=14)\n",
    "plt.ylabel('Predicted Happiness Score',fontsize=14)\n",
    "plt.title('RandomForest Regression',fontsize=18)\n",
    "plt.show()"
   ]
  },
  {
   "cell_type": "markdown",
   "metadata": {},
   "source": [
    "Predicted Results form a clean line"
   ]
  },
  {
   "cell_type": "markdown",
   "metadata": {},
   "source": [
    "## SVM Regression"
   ]
  },
  {
   "cell_type": "code",
   "execution_count": 50,
   "metadata": {},
   "outputs": [
    {
     "name": "stdout",
     "output_type": "stream",
     "text": [
      "R2 Score: 80.2043600938202\n"
     ]
    }
   ],
   "source": [
    "from sklearn.svm import SVR\n",
    "sv = SVR(kernel = 'rbf', gamma = 'scale')\n",
    "sv.fit(x_train, y_train)\n",
    "sv.score(x_train, y_train)\n",
    "pred = sv.predict(x_test)\n",
    "\n",
    "svs = r2_score(y_test,pred)\n",
    "print('R2 Score:',svs*100)"
   ]
  },
  {
   "cell_type": "code",
   "execution_count": 51,
   "metadata": {},
   "outputs": [
    {
     "name": "stdout",
     "output_type": "stream",
     "text": [
      "MAE: 0.06681574445275333\n",
      "MSE: 0.0075041255464209046\n",
      "RMSE: 0.0866263559571849\n"
     ]
    }
   ],
   "source": [
    "print('MAE:', metrics.mean_absolute_error(y_test, pred))\n",
    "print('MSE:', metrics.mean_squared_error(y_test, pred))\n",
    "print('RMSE:', np.sqrt(metrics.mean_squared_error(y_test, pred)))"
   ]
  },
  {
   "cell_type": "markdown",
   "metadata": {},
   "source": [
    "- Both R2 and RMSE score is good but higher when compared to RandomForestRegressor\n",
    "- But it is safe to declare that this is not the best model"
   ]
  },
  {
   "cell_type": "code",
   "execution_count": 52,
   "metadata": {},
   "outputs": [
    {
     "data": {
      "image/png": "[encoded data removed]",
      "text/plain": [
       "<Figure size 360x360 with 1 Axes>"
      ]
     },
     "metadata": {
      "needs_background": "light"
     },
     "output_type": "display_data"
    }
   ],
   "source": [
    "plt.figure(figsize=(5,5))\n",
    "plt.scatter(x=y_test, y=pred, color='b')\n",
    "plt.plot(y_test,y_test, color='r')\n",
    "plt.xlabel('Actual Happiness Score',fontsize=14)\n",
    "plt.ylabel('Predicted Happiness Score',fontsize=14)\n",
    "plt.title('SVM Regression',fontsize=18)\n",
    "plt.show()"
   ]
  },
  {
   "cell_type": "markdown",
   "metadata": {},
   "source": [
    "## GradientBoost Regression"
   ]
  },
  {
   "cell_type": "code",
   "execution_count": 53,
   "metadata": {},
   "outputs": [
    {
     "name": "stdout",
     "output_type": "stream",
     "text": [
      "R2 Score: 79.66382836414235\n"
     ]
    }
   ],
   "source": [
    "from sklearn.ensemble import GradientBoostingRegressor\n",
    "\n",
    "gbr = GradientBoostingRegressor(random_state=0)\n",
    "gbr.fit(x_train, y_train)\n",
    "gbr.score(x_train, y_train)\n",
    "pred = gbr.predict(x_test)\n",
    "\n",
    "gbs = r2_score(y_test,pred)\n",
    "print('R2 Score:',gbs*100)"
   ]
  },
  {
   "cell_type": "code",
   "execution_count": 54,
   "metadata": {},
   "outputs": [
    {
     "name": "stdout",
     "output_type": "stream",
     "text": [
      "MAE: 0.06919400872253019\n",
      "MSE: 0.007709030160798147\n",
      "RMSE: 0.08780108291358454\n"
     ]
    }
   ],
   "source": [
    "print('MAE:', metrics.mean_absolute_error(y_test, pred))\n",
    "print('MSE:', metrics.mean_squared_error(y_test, pred))\n",
    "print('RMSE:', np.sqrt(metrics.mean_squared_error(y_test, pred)))"
   ]
  },
  {
   "cell_type": "markdown",
   "metadata": {},
   "source": [
    "- Both R2 and RMSE score is good but higher when compared to RandomForestRegressor\n",
    "- But it is safe to declare that this is not the best model"
   ]
  },
  {
   "cell_type": "code",
   "execution_count": 55,
   "metadata": {},
   "outputs": [
    {
     "data": {
      "image/png": "[encoded data removed]",
      "text/plain": [
       "<Figure size 360x360 with 1 Axes>"
      ]
     },
     "metadata": {
      "needs_background": "light"
     },
     "output_type": "display_data"
    }
   ],
   "source": [
    "plt.figure(figsize=(5,5))\n",
    "plt.scatter(x=y_test, y=pred, color='b')\n",
    "plt.plot(y_test,y_test, color='r')\n",
    "plt.xlabel('Actual Happiness Score',fontsize=14)\n",
    "plt.ylabel('Predicted Happiness Score',fontsize=14)\n",
    "plt.title('Gradient Regression',fontsize=18)\n",
    "plt.show()"
   ]
  },
  {
   "cell_type": "markdown",
   "metadata": {},
   "source": [
    "## ExtraTree Regression"
   ]
  },
  {
   "cell_type": "code",
   "execution_count": 56,
   "metadata": {},
   "outputs": [
    {
     "name": "stdout",
     "output_type": "stream",
     "text": [
      "R2 Score: 90.47245934729425\n"
     ]
    }
   ],
   "source": [
    "from sklearn.ensemble import ExtraTreesRegressor\n",
    "reg = ExtraTreesRegressor().fit(x_train, y_train)\n",
    "reg.score(x_train, y_train)\n",
    "reg.score(x_test, y_test)\n",
    "pred = reg.predict(x_test)\n",
    "\n",
    "regs = r2_score(y_test,pred)\n",
    "print('R2 Score:',regs*100)"
   ]
  },
  {
   "cell_type": "code",
   "execution_count": 57,
   "metadata": {},
   "outputs": [
    {
     "name": "stdout",
     "output_type": "stream",
     "text": [
      "MAE: 0.044166776315789504\n",
      "MSE: 0.0036116974013157993\n",
      "RMSE: 0.06009739928911899\n"
     ]
    }
   ],
   "source": [
    "print('MAE:', metrics.mean_absolute_error(y_test, pred))\n",
    "print('MSE:', metrics.mean_squared_error(y_test, pred))\n",
    "print('RMSE:', np.sqrt(metrics.mean_squared_error(y_test, pred)))"
   ]
  },
  {
   "cell_type": "markdown",
   "metadata": {},
   "source": [
    "- R2 score is highest by far\n",
    "- RMSE is the lowest when compared to RandomForest Regression\n",
    "- ExtraTree is the best model"
   ]
  },
  {
   "cell_type": "code",
   "execution_count": 58,
   "metadata": {},
   "outputs": [
    {
     "data": {
      "image/png": "[encoded data removed]",
      "text/plain": [
       "<Figure size 360x360 with 1 Axes>"
      ]
     },
     "metadata": {
      "needs_background": "light"
     },
     "output_type": "display_data"
    }
   ],
   "source": [
    "plt.figure(figsize=(5,5))\n",
    "plt.scatter(x=y_test, y=pred, color='b')\n",
    "plt.plot(y_test,y_test, color='r')\n",
    "plt.xlabel('Actual Happiness Score',fontsize=14)\n",
    "plt.ylabel('Predicted Happiness Score',fontsize=14)\n",
    "plt.title('ExtraTree Regression',fontsize=18)\n",
    "plt.show()"
   ]
  },
  {
   "cell_type": "markdown",
   "metadata": {},
   "source": [
    "Best Fit predicted data line can be observed"
   ]
  },
  {
   "cell_type": "markdown",
   "metadata": {},
   "source": [
    "## Picking the best model"
   ]
  },
  {
   "cell_type": "code",
   "execution_count": 59,
   "metadata": {},
   "outputs": [
    {
     "data": {
      "text/html": [
       "<div>\n",
       "<style scoped>\n",
       "    .dataframe tbody tr th:only-of-type {\n",
       "        vertical-align: middle;\n",
       "    }\n",
       "\n",
       "    .dataframe tbody tr th {\n",
       "        vertical-align: top;\n",
       "    }\n",
       "\n",
       "    .dataframe thead th {\n",
       "        text-align: right;\n",
       "    }\n",
       "</style>\n",
       "<table border=\"1\" class=\"dataframe\">\n",
       "  <thead>\n",
       "    <tr style=\"text-align: right;\">\n",
       "      <th></th>\n",
       "      <th>Model</th>\n",
       "      <th>R2 Score</th>\n",
       "    </tr>\n",
       "  </thead>\n",
       "  <tbody>\n",
       "    <tr>\n",
       "      <th>5</th>\n",
       "      <td>Extratree regression</td>\n",
       "      <td>90.472459</td>\n",
       "    </tr>\n",
       "    <tr>\n",
       "      <th>2</th>\n",
       "      <td>Random Forest Regression</td>\n",
       "      <td>86.674860</td>\n",
       "    </tr>\n",
       "    <tr>\n",
       "      <th>0</th>\n",
       "      <td>Linear Regression</td>\n",
       "      <td>83.222197</td>\n",
       "    </tr>\n",
       "    <tr>\n",
       "      <th>3</th>\n",
       "      <td>SVM Regression</td>\n",
       "      <td>80.204360</td>\n",
       "    </tr>\n",
       "    <tr>\n",
       "      <th>4</th>\n",
       "      <td>Gradient Boost Regression</td>\n",
       "      <td>79.663828</td>\n",
       "    </tr>\n",
       "    <tr>\n",
       "      <th>1</th>\n",
       "      <td>Decision Tree Regression</td>\n",
       "      <td>70.223073</td>\n",
       "    </tr>\n",
       "  </tbody>\n",
       "</table>\n",
       "</div>"
      ],
      "text/plain": [
       "                       Model   R2 Score\n",
       "5       Extratree regression  90.472459\n",
       "2   Random Forest Regression  86.674860\n",
       "0          Linear Regression  83.222197\n",
       "3             SVM Regression  80.204360\n",
       "4  Gradient Boost Regression  79.663828\n",
       "1   Decision Tree Regression  70.223073"
      ]
     },
     "execution_count": 59,
     "metadata": {},
     "output_type": "execute_result"
    }
   ],
   "source": [
    "models = pd.DataFrame({\n",
    "    'Model': ['Linear Regression','Decision Tree Regression','Random Forest Regression',\n",
    "              'SVM Regression','Gradient Boost Regression', 'Extratree regression'],\n",
    "    'R2 Score': [lms*100, dts*100, rfs*100, svs*100, gbs*100, regs*100 ],\n",
    "    })\n",
    "models.sort_values(by='R2 Score', ascending=False)"
   ]
  },
  {
   "cell_type": "markdown",
   "metadata": {},
   "source": [
    "Top 3 best performing models are \n",
    "- ExtraTreeRegressor\n",
    "- RandomForestRegressor\n",
    "- Linear Regression\n",
    "\n",
    "Lets check for the overfitting in the above mentioned models"
   ]
  },
  {
   "cell_type": "code",
   "execution_count": 60,
   "metadata": {},
   "outputs": [],
   "source": [
    "from sklearn.model_selection import GridSearchCV\n",
    "from sklearn.model_selection import cross_val_score"
   ]
  },
  {
   "cell_type": "markdown",
   "metadata": {},
   "source": [
    "#### CrossValidation on LinearRegression"
   ]
  },
  {
   "cell_type": "code",
   "execution_count": 61,
   "metadata": {},
   "outputs": [
    {
     "name": "stdout",
     "output_type": "stream",
     "text": [
      "Cross Val Score: 77.90807826155101\n"
     ]
    }
   ],
   "source": [
    "lmscore = cross_val_score(lr,x,y,cv=3)\n",
    "lmc = lmscore.mean() \n",
    "print('Cross Val Score:',lmc*100)"
   ]
  },
  {
   "cell_type": "markdown",
   "metadata": {},
   "source": [
    "- The R2 Score for Linear Regression was 83.22\n",
    "- The difference between the R2 Score and Cross Val Score is '6'"
   ]
  },
  {
   "cell_type": "markdown",
   "metadata": {},
   "source": [
    "#### CrossValidation on RandomForestRegression"
   ]
  },
  {
   "cell_type": "code",
   "execution_count": 62,
   "metadata": {},
   "outputs": [
    {
     "name": "stdout",
     "output_type": "stream",
     "text": [
      "Cross Val Score: 80.59808900461076\n"
     ]
    }
   ],
   "source": [
    "rfscore = cross_val_score(rdr,x,y,cv=3)\n",
    "rfc = rfscore.mean() \n",
    "print('Cross Val Score:',rfc*100)"
   ]
  },
  {
   "cell_type": "markdown",
   "metadata": {},
   "source": [
    "- The R2 Score for Random Forest Regression was 86.14\n",
    "- The difference between the R2 Score and Cross Val Score is '6'"
   ]
  },
  {
   "cell_type": "markdown",
   "metadata": {},
   "source": [
    "#### CrossValidation on ExtraTreeRegression"
   ]
  },
  {
   "cell_type": "code",
   "execution_count": 63,
   "metadata": {},
   "outputs": [
    {
     "name": "stdout",
     "output_type": "stream",
     "text": [
      "Cross Val Score: 86.31336621910656\n"
     ]
    }
   ],
   "source": [
    "rfscore = cross_val_score(reg,x,y,cv=3)\n",
    "rfc = rfscore.mean() \n",
    "print('Cross Val Score:',rfc*100)"
   ]
  },
  {
   "cell_type": "markdown",
   "metadata": {},
   "source": [
    "- The R2 Score for ExtraTree Regression was 90.50\n",
    "- The difference between the R2 Score and Cross Val Score is '4'"
   ]
  },
  {
   "cell_type": "markdown",
   "metadata": {},
   "source": [
    "It can be seen that the difference between the accuracy score and cross validation score is minimum in ExtraaTreeRegression, Hence that is our final model"
   ]
  },
  {
   "cell_type": "markdown",
   "metadata": {},
   "source": [
    "## Hyperparameter Tuning - ExtraTreeRegressor\n",
    "Since we have picked ExtraTreeRegressor as our final model it is essential to perform hyperparameter tuning on it to extract the best score"
   ]
  },
  {
   "cell_type": "code",
   "execution_count": 64,
   "metadata": {},
   "outputs": [
    {
     "name": "stdout",
     "output_type": "stream",
     "text": [
      "Fitting 5 folds for each of 9 candidates, totalling 45 fits\n"
     ]
    },
    {
     "name": "stderr",
     "output_type": "stream",
     "text": [
      "[Parallel(n_jobs=-1)]: Using backend LokyBackend with 8 concurrent workers.\n",
      "[Parallel(n_jobs=-1)]: Done  25 tasks      | elapsed:   17.9s\n",
      "[Parallel(n_jobs=-1)]: Done  45 out of  45 | elapsed:   23.6s finished\n"
     ]
    },
    {
     "name": "stdout",
     "output_type": "stream",
     "text": [
      "{'n_estimators': 500, 'max_features': 'auto'}\n"
     ]
    }
   ],
   "source": [
    "grid_param = {'n_estimators': [100,300,500],\n",
    "             'max_features': ['auto','sqrt','log2']}\n",
    "\n",
    "from sklearn.model_selection import RandomizedSearchCV\n",
    "reg = ExtraTreesRegressor()\n",
    "reg_random = RandomizedSearchCV(estimator = reg,\n",
    "                               param_distributions = grid_param,\n",
    "                               cv=5, verbose=2, n_jobs = -1)\n",
    "\n",
    "reg_random.fit(x_train,y_train)\n",
    "print(reg_random.best_params_)"
   ]
  },
  {
   "cell_type": "code",
   "execution_count": 65,
   "metadata": {},
   "outputs": [
    {
     "name": "stdout",
     "output_type": "stream",
     "text": [
      "R2 Score: 90.45937485107707\n"
     ]
    }
   ],
   "source": [
    "reg = ExtraTreesRegressor(n_estimators=500, max_features='auto')\n",
    "reg.fit(x_train, y_train)\n",
    "reg.score(x_train, y_train)\n",
    "reg.score(x_test, y_test)\n",
    "pred = reg.predict(x_test)\n",
    "\n",
    "regs = r2_score(y_test,pred)\n",
    "print('R2 Score:',regs*100)"
   ]
  },
  {
   "cell_type": "code",
   "execution_count": 66,
   "metadata": {},
   "outputs": [
    {
     "name": "stdout",
     "output_type": "stream",
     "text": [
      "MAE: 0.04384960526315764\n",
      "MSE: 0.003616657468421015\n",
      "RMSE: 0.060138652033621565\n"
     ]
    }
   ],
   "source": [
    "print('MAE:', metrics.mean_absolute_error(y_test, pred))\n",
    "print('MSE:', metrics.mean_squared_error(y_test, pred))\n",
    "print('RMSE:', np.sqrt(metrics.mean_squared_error(y_test, pred)))"
   ]
  },
  {
   "cell_type": "code",
   "execution_count": 67,
   "metadata": {},
   "outputs": [
    {
     "data": {
      "image/png": "[encoded data removed]",
      "text/plain": [
       "<Figure size 360x360 with 1 Axes>"
      ]
     },
     "metadata": {
      "needs_background": "light"
     },
     "output_type": "display_data"
    }
   ],
   "source": [
    "plt.figure(figsize=(5,5))\n",
    "plt.scatter(x=y_test, y=pred, color='b')\n",
    "plt.plot(y_test,y_test, color='r')\n",
    "plt.xlabel('Actual Happiness Score',fontsize=14)\n",
    "plt.ylabel('Predicted Happiness Score',fontsize=14)\n",
    "plt.title('ExtraTree Regression',fontsize=18)\n",
    "plt.show()"
   ]
  },
  {
   "cell_type": "markdown",
   "metadata": {},
   "source": [
    "#### Saving the best model"
   ]
  },
  {
   "cell_type": "code",
   "execution_count": 68,
   "metadata": {},
   "outputs": [],
   "source": [
    "import pickle\n",
    "\n",
    "filename = 'avocado_reg.pkl'\n",
    "pickle.dump(reg, open(filename, 'wb'))"
   ]
  },
  {
   "cell_type": "markdown",
   "metadata": {},
   "source": [
    "## Conclusion\n",
    "\n",
    "From the above data we can observe,\n",
    "\n",
    "- DecisionTreeRegression Model has least R-Squared Value - UnderFit Model\n",
    "- ExtraTreeRegressor Model has maximum R-Squared Value for train data as well as for test data - Best Model"
   ]
  },
  {
   "cell_type": "markdown",
   "metadata": {},
   "source": [
    "# Classification -  Classifying into regions"
   ]
  },
  {
   "cell_type": "markdown",
   "metadata": {},
   "source": [
    "#### Importing data"
   ]
  },
  {
   "cell_type": "code",
   "execution_count": 69,
   "metadata": {},
   "outputs": [],
   "source": [
    "df = pd.read_csv(r'C:\\Users\\User\\Desktop\\Projects\\avocado.csv', parse_dates=['Date'])"
   ]
  },
  {
   "cell_type": "markdown",
   "metadata": {},
   "source": [
    "Performing same data cleaning and feature engineering procedures as performed above"
   ]
  },
  {
   "cell_type": "code",
   "execution_count": 70,
   "metadata": {},
   "outputs": [
    {
     "data": {
      "text/plain": [
       "(1517, 14)"
      ]
     },
     "execution_count": 70,
     "metadata": {},
     "output_type": "execute_result"
    }
   ],
   "source": [
    "df.dropna(how='all', inplace=True)\n",
    "df.shape"
   ]
  },
  {
   "cell_type": "code",
   "execution_count": 71,
   "metadata": {},
   "outputs": [],
   "source": [
    "df = df.drop('Unnamed: 0', axis = 1)"
   ]
  },
  {
   "cell_type": "code",
   "execution_count": 72,
   "metadata": {},
   "outputs": [
    {
     "data": {
      "text/html": [
       "<div>\n",
       "<style scoped>\n",
       "    .dataframe tbody tr th:only-of-type {\n",
       "        vertical-align: middle;\n",
       "    }\n",
       "\n",
       "    .dataframe tbody tr th {\n",
       "        vertical-align: top;\n",
       "    }\n",
       "\n",
       "    .dataframe thead th {\n",
       "        text-align: right;\n",
       "    }\n",
       "</style>\n",
       "<table border=\"1\" class=\"dataframe\">\n",
       "  <thead>\n",
       "    <tr style=\"text-align: right;\">\n",
       "      <th></th>\n",
       "      <th>Date</th>\n",
       "      <th>AveragePrice</th>\n",
       "      <th>Total Volume</th>\n",
       "      <th>4046</th>\n",
       "      <th>4225</th>\n",
       "      <th>4770</th>\n",
       "      <th>Total Bags</th>\n",
       "      <th>Small Bags</th>\n",
       "      <th>Large Bags</th>\n",
       "      <th>XLarge Bags</th>\n",
       "      <th>type</th>\n",
       "      <th>year</th>\n",
       "      <th>region</th>\n",
       "      <th>Month</th>\n",
       "      <th>Year</th>\n",
       "    </tr>\n",
       "  </thead>\n",
       "  <tbody>\n",
       "    <tr>\n",
       "      <th>0</th>\n",
       "      <td>2015-12-27</td>\n",
       "      <td>1.33</td>\n",
       "      <td>64236.62</td>\n",
       "      <td>1036.74</td>\n",
       "      <td>54454.85</td>\n",
       "      <td>48.16</td>\n",
       "      <td>8696.87</td>\n",
       "      <td>8603.62</td>\n",
       "      <td>93.25</td>\n",
       "      <td>0.0</td>\n",
       "      <td>conventional</td>\n",
       "      <td>2015.0</td>\n",
       "      <td>Albany</td>\n",
       "      <td>12</td>\n",
       "      <td>2015</td>\n",
       "    </tr>\n",
       "    <tr>\n",
       "      <th>1</th>\n",
       "      <td>2015-12-20</td>\n",
       "      <td>1.35</td>\n",
       "      <td>54876.98</td>\n",
       "      <td>674.28</td>\n",
       "      <td>44638.81</td>\n",
       "      <td>58.33</td>\n",
       "      <td>9505.56</td>\n",
       "      <td>9408.07</td>\n",
       "      <td>97.49</td>\n",
       "      <td>0.0</td>\n",
       "      <td>conventional</td>\n",
       "      <td>2015.0</td>\n",
       "      <td>Albany</td>\n",
       "      <td>12</td>\n",
       "      <td>2015</td>\n",
       "    </tr>\n",
       "    <tr>\n",
       "      <th>2</th>\n",
       "      <td>2015-12-13</td>\n",
       "      <td>0.93</td>\n",
       "      <td>118220.22</td>\n",
       "      <td>794.70</td>\n",
       "      <td>109149.67</td>\n",
       "      <td>130.50</td>\n",
       "      <td>8145.35</td>\n",
       "      <td>8042.21</td>\n",
       "      <td>103.14</td>\n",
       "      <td>0.0</td>\n",
       "      <td>conventional</td>\n",
       "      <td>2015.0</td>\n",
       "      <td>Albany</td>\n",
       "      <td>12</td>\n",
       "      <td>2015</td>\n",
       "    </tr>\n",
       "    <tr>\n",
       "      <th>3</th>\n",
       "      <td>2015-06-12</td>\n",
       "      <td>1.08</td>\n",
       "      <td>78992.15</td>\n",
       "      <td>1132.00</td>\n",
       "      <td>71976.41</td>\n",
       "      <td>72.58</td>\n",
       "      <td>5811.16</td>\n",
       "      <td>5677.40</td>\n",
       "      <td>133.76</td>\n",
       "      <td>0.0</td>\n",
       "      <td>conventional</td>\n",
       "      <td>2015.0</td>\n",
       "      <td>Albany</td>\n",
       "      <td>6</td>\n",
       "      <td>2015</td>\n",
       "    </tr>\n",
       "    <tr>\n",
       "      <th>4</th>\n",
       "      <td>2015-11-29</td>\n",
       "      <td>1.28</td>\n",
       "      <td>51039.60</td>\n",
       "      <td>941.48</td>\n",
       "      <td>43838.39</td>\n",
       "      <td>75.78</td>\n",
       "      <td>6183.95</td>\n",
       "      <td>5986.26</td>\n",
       "      <td>197.69</td>\n",
       "      <td>0.0</td>\n",
       "      <td>conventional</td>\n",
       "      <td>2015.0</td>\n",
       "      <td>Albany</td>\n",
       "      <td>11</td>\n",
       "      <td>2015</td>\n",
       "    </tr>\n",
       "  </tbody>\n",
       "</table>\n",
       "</div>"
      ],
      "text/plain": [
       "        Date  AveragePrice  Total Volume     4046       4225    4770  \\\n",
       "0 2015-12-27          1.33      64236.62  1036.74   54454.85   48.16   \n",
       "1 2015-12-20          1.35      54876.98   674.28   44638.81   58.33   \n",
       "2 2015-12-13          0.93     118220.22   794.70  109149.67  130.50   \n",
       "3 2015-06-12          1.08      78992.15  1132.00   71976.41   72.58   \n",
       "4 2015-11-29          1.28      51039.60   941.48   43838.39   75.78   \n",
       "\n",
       "   Total Bags  Small Bags  Large Bags  XLarge Bags          type    year  \\\n",
       "0     8696.87     8603.62       93.25          0.0  conventional  2015.0   \n",
       "1     9505.56     9408.07       97.49          0.0  conventional  2015.0   \n",
       "2     8145.35     8042.21      103.14          0.0  conventional  2015.0   \n",
       "3     5811.16     5677.40      133.76          0.0  conventional  2015.0   \n",
       "4     6183.95     5986.26      197.69          0.0  conventional  2015.0   \n",
       "\n",
       "   region  Month  Year  \n",
       "0  Albany     12  2015  \n",
       "1  Albany     12  2015  \n",
       "2  Albany     12  2015  \n",
       "3  Albany      6  2015  \n",
       "4  Albany     11  2015  "
      ]
     },
     "execution_count": 72,
     "metadata": {},
     "output_type": "execute_result"
    }
   ],
   "source": [
    "df['Month'] = pd.DatetimeIndex(df['Date']).month\n",
    "df['Year'] = pd.DatetimeIndex(df['Date']).year\n",
    "df.head()"
   ]
  },
  {
   "cell_type": "code",
   "execution_count": 73,
   "metadata": {},
   "outputs": [],
   "source": [
    "df = df.drop(['Date','year','type'], axis=1)"
   ]
  },
  {
   "cell_type": "code",
   "execution_count": 74,
   "metadata": {},
   "outputs": [
    {
     "data": {
      "text/plain": [
       "dtype('O')"
      ]
     },
     "execution_count": 74,
     "metadata": {},
     "output_type": "execute_result"
    }
   ],
   "source": [
    "df['region'].dtype"
   ]
  },
  {
   "cell_type": "markdown",
   "metadata": {},
   "source": [
    "## Feature Engineering"
   ]
  },
  {
   "cell_type": "markdown",
   "metadata": {},
   "source": [
    "Performing LabelEncoding on the Target Variable as it is an object type data"
   ]
  },
  {
   "cell_type": "code",
   "execution_count": 75,
   "metadata": {},
   "outputs": [],
   "source": [
    "from sklearn.preprocessing import LabelEncoder\n",
    "le = LabelEncoder()\n",
    "le.fit(df['region'])\n",
    "df['region']=le.transform(df['region'])"
   ]
  },
  {
   "cell_type": "code",
   "execution_count": 76,
   "metadata": {},
   "outputs": [
    {
     "data": {
      "text/plain": [
       "AveragePrice   -0.109444\n",
       "Total Volume    6.200138\n",
       "4046            6.051830\n",
       "4225            6.394926\n",
       "4770            5.405164\n",
       "Total Bags      5.366378\n",
       "Small Bags      5.355185\n",
       "Large Bags      5.144495\n",
       "XLarge Bags     5.775077\n",
       "region          0.288146\n",
       "Month           0.101439\n",
       "Year            1.828332\n",
       "dtype: float64"
      ]
     },
     "execution_count": 76,
     "metadata": {},
     "output_type": "execute_result"
    }
   ],
   "source": [
    "df.skew()"
   ]
  },
  {
   "cell_type": "code",
   "execution_count": 77,
   "metadata": {},
   "outputs": [],
   "source": [
    "for col in df.columns:\n",
    "    if df.skew().loc[col]>5.0:\n",
    "        df[col]=np.log1p(df[col])"
   ]
  },
  {
   "cell_type": "code",
   "execution_count": 78,
   "metadata": {},
   "outputs": [
    {
     "data": {
      "text/plain": [
       "AveragePrice   -0.109444\n",
       "Total Volume    0.667468\n",
       "4046           -0.160268\n",
       "4225            0.184436\n",
       "4770           -0.355508\n",
       "Total Bags      0.695502\n",
       "Small Bags      0.713843\n",
       "Large Bags     -0.912766\n",
       "XLarge Bags     0.783913\n",
       "region          0.288146\n",
       "Month           0.101439\n",
       "Year            1.828332\n",
       "dtype: float64"
      ]
     },
     "execution_count": 78,
     "metadata": {},
     "output_type": "execute_result"
    }
   ],
   "source": [
    "df.skew()"
   ]
  },
  {
   "cell_type": "markdown",
   "metadata": {},
   "source": [
    "It can be seen that after treating skewness, the data is not steeply skeweed towards any dirrection thus Outliers have been dealt with"
   ]
  },
  {
   "cell_type": "code",
   "execution_count": 79,
   "metadata": {},
   "outputs": [
    {
     "name": "stdout",
     "output_type": "stream",
     "text": [
      "6     76\n",
      "0     67\n",
      "2     65\n",
      "3     65\n",
      "4     62\n",
      "1     54\n",
      "31    52\n",
      "5     51\n",
      "44    49\n",
      "9     47\n",
      "26    44\n",
      "19    41\n",
      "12    40\n",
      "42    39\n",
      "38    38\n",
      "49    36\n",
      "22    34\n",
      "47    34\n",
      "7     31\n",
      "34    30\n",
      "28    29\n",
      "17    29\n",
      "50    27\n",
      "25    25\n",
      "48    25\n",
      "11    24\n",
      "41    24\n",
      "8     23\n",
      "13    23\n",
      "32    22\n",
      "29    21\n",
      "36    21\n",
      "15    19\n",
      "46    19\n",
      "24    18\n",
      "14    18\n",
      "10    17\n",
      "37    17\n",
      "23    17\n",
      "18    16\n",
      "35    16\n",
      "45    16\n",
      "39    15\n",
      "30    13\n",
      "16    13\n",
      "27    12\n",
      "33    12\n",
      "20    10\n",
      "43     9\n",
      "40     9\n",
      "21     3\n",
      "Name: region, dtype: int64\n"
     ]
    }
   ],
   "source": [
    "ser1= df.region.value_counts()\n",
    "print(ser1\n",
    "     )"
   ]
  },
  {
   "cell_type": "markdown",
   "metadata": {},
   "source": [
    "The data is not perfectly balanced,however it is not highly imbalanced, thus it can be used"
   ]
  },
  {
   "cell_type": "code",
   "execution_count": 80,
   "metadata": {},
   "outputs": [
    {
     "data": {
      "text/plain": [
       "<matplotlib.axes._subplots.AxesSubplot at 0x1ac1dab4c48>"
      ]
     },
     "execution_count": 80,
     "metadata": {},
     "output_type": "execute_result"
    },
    {
     "data": {
      "image/png": "[encoded data removed]",
      "text/plain": [
       "<Figure size 864x648 with 2 Axes>"
      ]
     },
     "metadata": {
      "needs_background": "light"
     },
     "output_type": "display_data"
    }
   ],
   "source": [
    "correlation = df.corr()\n",
    "plt.figure(figsize=(12,9))\n",
    "sns.heatmap(correlation, annot= True, linewidths=0.5, linecolor=\"white\", fmt= '.2f')"
   ]
  },
  {
   "cell_type": "markdown",
   "metadata": {},
   "source": [
    "- Year is behaving very negatively with the target value, hence it should be dropped "
   ]
  },
  {
   "cell_type": "code",
   "execution_count": 81,
   "metadata": {},
   "outputs": [],
   "source": [
    "df = df.drop(['Year'], axis=1)"
   ]
  },
  {
   "cell_type": "markdown",
   "metadata": {},
   "source": [
    "#### Splitting the data"
   ]
  },
  {
   "cell_type": "code",
   "execution_count": 82,
   "metadata": {},
   "outputs": [],
   "source": [
    "x = df.drop(columns=['region'])\n",
    "y = df[['region']]"
   ]
  },
  {
   "cell_type": "code",
   "execution_count": 83,
   "metadata": {},
   "outputs": [
    {
     "data": {
      "text/plain": [
       "((1517, 10), (1517, 1))"
      ]
     },
     "execution_count": 83,
     "metadata": {},
     "output_type": "execute_result"
    }
   ],
   "source": [
    "x.shape, y.shape"
   ]
  },
  {
   "cell_type": "markdown",
   "metadata": {},
   "source": [
    "#### Checking for variable importance"
   ]
  },
  {
   "cell_type": "code",
   "execution_count": 84,
   "metadata": {},
   "outputs": [
    {
     "name": "stdout",
     "output_type": "stream",
     "text": [
      "[0.06883623 0.12003756 0.1513887  0.13099688 0.12581565 0.09871743\n",
      " 0.09766632 0.10818226 0.07760757 0.02075139]\n"
     ]
    }
   ],
   "source": [
    "from sklearn.ensemble import ExtraTreesClassifier\n",
    "model = ExtraTreesClassifier()\n",
    "model.fit(x,y)\n",
    "\n",
    "print(model.feature_importances_)"
   ]
  },
  {
   "cell_type": "code",
   "execution_count": 85,
   "metadata": {},
   "outputs": [
    {
     "data": {
      "image/png": "[encoded data removed]",
      "text/plain": [
       "<Figure size 432x288 with 1 Axes>"
      ]
     },
     "metadata": {
      "needs_background": "light"
     },
     "output_type": "display_data"
    }
   ],
   "source": [
    "import matplotlib.pyplot as plt\n",
    "feat_importances = pd.Series(model.feature_importances_,index =x.columns)\n",
    "feat_importances.nlargest(10).plot(kind=\"barh\")\n",
    "plt.show()"
   ]
  },
  {
   "cell_type": "markdown",
   "metadata": {},
   "source": [
    "- Month is the least important feature, thus it can be dropped"
   ]
  },
  {
   "cell_type": "code",
   "execution_count": 86,
   "metadata": {},
   "outputs": [],
   "source": [
    "x = x.drop(['Month'], axis=1)"
   ]
  },
  {
   "cell_type": "code",
   "execution_count": 87,
   "metadata": {},
   "outputs": [
    {
     "data": {
      "text/plain": [
       "(1517, 9)"
      ]
     },
     "execution_count": 87,
     "metadata": {},
     "output_type": "execute_result"
    }
   ],
   "source": [
    "x.shape"
   ]
  },
  {
   "cell_type": "markdown",
   "metadata": {},
   "source": [
    "# Training Phase\n",
    "\n",
    "Now our data are ready! lets apply our model which is going to be a Classification type because our Target variable 'region'is categorical. \n",
    "\n",
    "Let's now begin to train out regression model! We will need to first split up our data into an X_train and y_train array that contains the features to train on, and a x_test and y_test array with the target variable"
   ]
  },
  {
   "cell_type": "code",
   "execution_count": 88,
   "metadata": {},
   "outputs": [],
   "source": [
    "from sklearn.metrics import accuracy_score\n",
    "from sklearn.metrics import confusion_matrix,classification_report\n",
    "from sklearn.model_selection import train_test_split\n",
    "\n",
    "train_x,test_x,train_y,test_y=train_test_split(x,y,test_size=.22,random_state=47)"
   ]
  },
  {
   "cell_type": "markdown",
   "metadata": {},
   "source": [
    "## Logistic Classification"
   ]
  },
  {
   "cell_type": "code",
   "execution_count": 89,
   "metadata": {},
   "outputs": [
    {
     "name": "stdout",
     "output_type": "stream",
     "text": [
      "accuracy score: 77.54491017964071\n",
      "\n",
      "\n",
      "              precision    recall  f1-score   support\n",
      "\n",
      "           0       0.67      0.84      0.74        19\n",
      "           1       0.77      0.83      0.80        12\n",
      "           2       0.94      1.00      0.97        16\n",
      "           3       0.90      0.75      0.82        12\n",
      "           4       0.73      0.73      0.73        11\n",
      "           5       0.86      1.00      0.92        12\n",
      "           6       0.81      1.00      0.89        17\n",
      "           7       0.86      0.86      0.86         7\n",
      "           8       1.00      1.00      1.00         7\n",
      "           9       0.86      1.00      0.92        12\n",
      "          10       1.00      0.60      0.75         5\n",
      "          11       1.00      0.88      0.93         8\n",
      "          12       0.91      1.00      0.95        10\n",
      "          13       1.00      1.00      1.00         3\n",
      "          14       1.00      1.00      1.00         2\n",
      "          15       1.00      1.00      1.00         4\n",
      "          16       0.00      0.00      0.00         4\n",
      "          17       0.44      0.57      0.50         7\n",
      "          18       0.00      0.00      0.00         5\n",
      "          19       0.67      0.89      0.76         9\n",
      "          20       0.00      0.00      0.00         3\n",
      "          22       0.50      1.00      0.67         6\n",
      "          23       1.00      1.00      1.00         2\n",
      "          24       1.00      1.00      1.00         4\n",
      "          25       0.62      1.00      0.77         5\n",
      "          26       0.93      1.00      0.97        14\n",
      "          27       1.00      1.00      1.00         1\n",
      "          28       1.00      0.67      0.80         3\n",
      "          29       0.00      0.00      0.00         5\n",
      "          30       1.00      1.00      1.00         1\n",
      "          31       0.64      0.60      0.62        15\n",
      "          32       1.00      0.60      0.75         5\n",
      "          33       1.00      1.00      1.00         4\n",
      "          34       0.60      0.60      0.60         5\n",
      "          35       0.00      0.00      0.00         1\n",
      "          36       0.50      0.33      0.40         3\n",
      "          37       0.67      1.00      0.80         2\n",
      "          38       0.50      0.71      0.59         7\n",
      "          39       1.00      0.67      0.80         3\n",
      "          40       1.00      0.50      0.67         2\n",
      "          41       0.88      0.88      0.88         8\n",
      "          42       0.50      0.60      0.55         5\n",
      "          43       0.00      0.00      0.00         3\n",
      "          44       0.58      0.78      0.67         9\n",
      "          45       0.75      0.75      0.75         4\n",
      "          46       1.00      0.33      0.50         3\n",
      "          47       0.75      0.90      0.82        10\n",
      "          48       0.80      0.50      0.62         8\n",
      "          49       0.50      0.67      0.57         3\n",
      "          50       1.00      0.50      0.67         8\n",
      "\n",
      "    accuracy                           0.78       334\n",
      "   macro avg       0.72      0.71      0.70       334\n",
      "weighted avg       0.75      0.78      0.75       334\n",
      "\n"
     ]
    }
   ],
   "source": [
    "from sklearn.linear_model import LogisticRegression\n",
    "\n",
    "lg = LogisticRegression()\n",
    "lg.fit(train_x, train_y)\n",
    "pred = lg.predict(test_x)\n",
    "log = accuracy_score(test_y,pred)*100\n",
    "\n",
    "print('accuracy score:', log)\n",
    "print('\\n')\n",
    "print (classification_report(test_y,pred))"
   ]
  },
  {
   "cell_type": "markdown",
   "metadata": {},
   "source": [
    "## Gaussian NaiveBayes"
   ]
  },
  {
   "cell_type": "code",
   "execution_count": 90,
   "metadata": {},
   "outputs": [
    {
     "name": "stdout",
     "output_type": "stream",
     "text": [
      "accuracy score: 91.31736526946108\n",
      "\n",
      "\n",
      "[[19  0  0 ...  0  0  0]\n",
      " [ 0 12  0 ...  0  0  0]\n",
      " [ 0  0 16 ...  0  0  0]\n",
      " ...\n",
      " [ 0  0  0 ...  8  0  0]\n",
      " [ 0  0  0 ...  0  2  0]\n",
      " [ 0  0  0 ...  0  0  8]]\n",
      "\n",
      "\n",
      "              precision    recall  f1-score   support\n",
      "\n",
      "           0       1.00      1.00      1.00        19\n",
      "           1       0.80      1.00      0.89        12\n",
      "           2       1.00      1.00      1.00        16\n",
      "           3       0.92      1.00      0.96        12\n",
      "           4       1.00      0.73      0.84        11\n",
      "           5       1.00      1.00      1.00        12\n",
      "           6       0.85      1.00      0.92        17\n",
      "           7       1.00      0.57      0.73         7\n",
      "           8       1.00      1.00      1.00         7\n",
      "           9       1.00      1.00      1.00        12\n",
      "          10       1.00      0.80      0.89         5\n",
      "          11       1.00      1.00      1.00         8\n",
      "          12       1.00      1.00      1.00        10\n",
      "          13       0.75      1.00      0.86         3\n",
      "          14       1.00      1.00      1.00         2\n",
      "          15       1.00      0.75      0.86         4\n",
      "          16       1.00      1.00      1.00         4\n",
      "          17       0.55      0.86      0.67         7\n",
      "          18       0.83      1.00      0.91         5\n",
      "          19       1.00      1.00      1.00         9\n",
      "          20       1.00      1.00      1.00         3\n",
      "          22       0.75      1.00      0.86         6\n",
      "          23       1.00      0.50      0.67         2\n",
      "          24       1.00      1.00      1.00         4\n",
      "          25       1.00      1.00      1.00         5\n",
      "          26       1.00      1.00      1.00        14\n",
      "          27       1.00      1.00      1.00         1\n",
      "          28       0.50      1.00      0.67         3\n",
      "          29       0.57      0.80      0.67         5\n",
      "          30       1.00      1.00      1.00         1\n",
      "          31       0.91      0.67      0.77        15\n",
      "          32       1.00      0.40      0.57         5\n",
      "          33       1.00      1.00      1.00         4\n",
      "          34       0.83      1.00      0.91         5\n",
      "          35       0.25      1.00      0.40         1\n",
      "          36       1.00      1.00      1.00         3\n",
      "          37       1.00      1.00      1.00         2\n",
      "          38       1.00      0.86      0.92         7\n",
      "          39       1.00      1.00      1.00         3\n",
      "          40       1.00      1.00      1.00         2\n",
      "          41       1.00      0.88      0.93         8\n",
      "          42       1.00      0.60      0.75         5\n",
      "          43       1.00      1.00      1.00         3\n",
      "          44       1.00      0.89      0.94         9\n",
      "          45       1.00      1.00      1.00         4\n",
      "          46       1.00      1.00      1.00         3\n",
      "          47       0.86      0.60      0.71        10\n",
      "          48       1.00      1.00      1.00         8\n",
      "          49       1.00      0.67      0.80         3\n",
      "          50       0.89      1.00      0.94         8\n",
      "\n",
      "    accuracy                           0.91       334\n",
      "   macro avg       0.93      0.91      0.90       334\n",
      "weighted avg       0.94      0.91      0.91       334\n",
      "\n"
     ]
    }
   ],
   "source": [
    "from sklearn.naive_bayes import GaussianNB\n",
    "gnb = GaussianNB()\n",
    "gnb.fit(train_x,train_y)\n",
    "predgnb= gnb.predict(test_x)\n",
    "gaussian = accuracy_score(test_y,predgnb)*100\n",
    "\n",
    "print('accuracy score:',gaussian)\n",
    "print('\\n')\n",
    "print(confusion_matrix(test_y, predgnb))\n",
    "print('\\n')\n",
    "print(classification_report(test_y, predgnb))"
   ]
  },
  {
   "cell_type": "markdown",
   "metadata": {},
   "source": [
    "## SVM Classifier"
   ]
  },
  {
   "cell_type": "code",
   "execution_count": 91,
   "metadata": {},
   "outputs": [
    {
     "name": "stdout",
     "output_type": "stream",
     "text": [
      "{'C': 10, 'kernel': 'linear'}\n"
     ]
    }
   ],
   "source": [
    "from sklearn.svm import SVC\n",
    "from sklearn import svm, datasets\n",
    "\n",
    "parameters = {'kernel':['linear','rbf'], 'C':[1,5,10]}\n",
    "svc = SVC()\n",
    "clf = GridSearchCV(svc,parameters)\n",
    "clf.fit(train_x,train_y)\n",
    "\n",
    "print(clf.best_params_)"
   ]
  },
  {
   "cell_type": "code",
   "execution_count": 92,
   "metadata": {},
   "outputs": [
    {
     "name": "stdout",
     "output_type": "stream",
     "text": [
      "accuracy score: 95.50898203592814\n",
      "\n",
      "\n",
      "[[19  0  0 ...  0  0  0]\n",
      " [ 0 12  0 ...  0  0  0]\n",
      " [ 0  0 16 ...  0  0  0]\n",
      " ...\n",
      " [ 0  0  0 ...  8  0  0]\n",
      " [ 0  0  0 ...  0  3  0]\n",
      " [ 0  0  0 ...  0  0  7]]\n",
      "\n",
      "\n",
      "              precision    recall  f1-score   support\n",
      "\n",
      "           0       1.00      1.00      1.00        19\n",
      "           1       0.86      1.00      0.92        12\n",
      "           2       1.00      1.00      1.00        16\n",
      "           3       1.00      1.00      1.00        12\n",
      "           4       1.00      1.00      1.00        11\n",
      "           5       0.92      1.00      0.96        12\n",
      "           6       0.89      1.00      0.94        17\n",
      "           7       0.88      1.00      0.93         7\n",
      "           8       1.00      1.00      1.00         7\n",
      "           9       1.00      1.00      1.00        12\n",
      "          10       1.00      0.80      0.89         5\n",
      "          11       1.00      1.00      1.00         8\n",
      "          12       1.00      1.00      1.00        10\n",
      "          13       1.00      1.00      1.00         3\n",
      "          14       1.00      1.00      1.00         2\n",
      "          15       1.00      1.00      1.00         4\n",
      "          16       1.00      1.00      1.00         4\n",
      "          17       0.86      0.86      0.86         7\n",
      "          18       1.00      1.00      1.00         5\n",
      "          19       0.90      1.00      0.95         9\n",
      "          20       1.00      1.00      1.00         3\n",
      "          22       0.75      1.00      0.86         6\n",
      "          23       1.00      1.00      1.00         2\n",
      "          24       1.00      1.00      1.00         4\n",
      "          25       1.00      1.00      1.00         5\n",
      "          26       1.00      1.00      1.00        14\n",
      "          27       1.00      1.00      1.00         1\n",
      "          28       1.00      1.00      1.00         3\n",
      "          29       1.00      0.40      0.57         5\n",
      "          30       1.00      1.00      1.00         1\n",
      "          31       0.82      0.93      0.87        15\n",
      "          32       1.00      0.60      0.75         5\n",
      "          33       1.00      1.00      1.00         4\n",
      "          34       1.00      1.00      1.00         5\n",
      "          35       0.00      0.00      0.00         1\n",
      "          36       1.00      1.00      1.00         3\n",
      "          37       1.00      1.00      1.00         2\n",
      "          38       1.00      1.00      1.00         7\n",
      "          39       1.00      1.00      1.00         3\n",
      "          40       1.00      1.00      1.00         2\n",
      "          41       1.00      1.00      1.00         8\n",
      "          42       1.00      0.60      0.75         5\n",
      "          43       1.00      1.00      1.00         3\n",
      "          44       1.00      1.00      1.00         9\n",
      "          45       1.00      1.00      1.00         4\n",
      "          46       1.00      0.67      0.80         3\n",
      "          47       0.80      0.80      0.80        10\n",
      "          48       1.00      1.00      1.00         8\n",
      "          49       1.00      1.00      1.00         3\n",
      "          50       1.00      0.88      0.93         8\n",
      "\n",
      "    accuracy                           0.96       334\n",
      "   macro avg       0.95      0.93      0.94       334\n",
      "weighted avg       0.96      0.96      0.95       334\n",
      "\n"
     ]
    }
   ],
   "source": [
    "from sklearn.svm import SVC\n",
    "svc=SVC(C=10, kernel='linear')\n",
    "svc.fit(train_x,train_y)\n",
    "svc.score(train_x,train_y)\n",
    "predsvc=svc.predict(test_x)\n",
    "svcs = accuracy_score(test_y, predsvc)*100\n",
    "\n",
    "print('accuracy score:',svcs)\n",
    "print('\\n')\n",
    "print(confusion_matrix(test_y, predsvc))\n",
    "print('\\n')\n",
    "print(classification_report(test_y, predsvc))"
   ]
  },
  {
   "cell_type": "markdown",
   "metadata": {},
   "source": [
    "## DecisionTree Classifier"
   ]
  },
  {
   "cell_type": "code",
   "execution_count": 93,
   "metadata": {},
   "outputs": [
    {
     "name": "stdout",
     "output_type": "stream",
     "text": [
      "{'criterion': 'entropy'}\n"
     ]
    }
   ],
   "source": [
    "from sklearn.tree import DecisionTreeClassifier\n",
    "\n",
    "parameters = {'criterion':['gini','entropy']}\n",
    "dtc =DecisionTreeClassifier()\n",
    "clf = GridSearchCV(dtc,parameters)\n",
    "clf.fit(train_x,train_y)\n",
    "\n",
    "print(clf.best_params_)"
   ]
  },
  {
   "cell_type": "code",
   "execution_count": 94,
   "metadata": {},
   "outputs": [
    {
     "name": "stdout",
     "output_type": "stream",
     "text": [
      "accuracy score: 89.22155688622755\n",
      "\n",
      "\n",
      "[[16  0  0 ...  0  0  0]\n",
      " [ 0 11  0 ...  0  0  0]\n",
      " [ 0  0 15 ...  0  0  0]\n",
      " ...\n",
      " [ 0  0  0 ...  8  0  0]\n",
      " [ 0  0  0 ...  0  3  0]\n",
      " [ 0  0  0 ...  0  0  8]]\n",
      "\n",
      "\n",
      "              precision    recall  f1-score   support\n",
      "\n",
      "           0       1.00      0.84      0.91        19\n",
      "           1       1.00      0.92      0.96        12\n",
      "           2       1.00      0.94      0.97        16\n",
      "           3       1.00      1.00      1.00        12\n",
      "           4       0.92      1.00      0.96        11\n",
      "           5       0.92      0.92      0.92        12\n",
      "           6       0.85      1.00      0.92        17\n",
      "           7       1.00      0.71      0.83         7\n",
      "           8       0.88      1.00      0.93         7\n",
      "           9       1.00      1.00      1.00        12\n",
      "          10       1.00      1.00      1.00         5\n",
      "          11       1.00      1.00      1.00         8\n",
      "          12       1.00      0.90      0.95        10\n",
      "          13       1.00      0.67      0.80         3\n",
      "          14       1.00      1.00      1.00         2\n",
      "          15       1.00      0.50      0.67         4\n",
      "          16       0.80      1.00      0.89         4\n",
      "          17       0.88      1.00      0.93         7\n",
      "          18       0.75      0.60      0.67         5\n",
      "          19       0.89      0.89      0.89         9\n",
      "          20       0.00      0.00      0.00         3\n",
      "          22       0.67      1.00      0.80         6\n",
      "          23       0.50      1.00      0.67         2\n",
      "          24       1.00      0.50      0.67         4\n",
      "          25       1.00      1.00      1.00         5\n",
      "          26       1.00      1.00      1.00        14\n",
      "          27       1.00      1.00      1.00         1\n",
      "          28       1.00      1.00      1.00         3\n",
      "          29       0.67      0.80      0.73         5\n",
      "          30       0.50      1.00      0.67         1\n",
      "          31       1.00      0.93      0.97        15\n",
      "          32       0.67      0.40      0.50         5\n",
      "          33       0.67      1.00      0.80         4\n",
      "          34       0.71      1.00      0.83         5\n",
      "          35       0.33      1.00      0.50         1\n",
      "          36       0.60      1.00      0.75         3\n",
      "          37       0.67      1.00      0.80         2\n",
      "          38       1.00      0.71      0.83         7\n",
      "          39       1.00      1.00      1.00         3\n",
      "          40       1.00      1.00      1.00         2\n",
      "          41       0.88      0.88      0.88         8\n",
      "          42       1.00      0.60      0.75         5\n",
      "          43       1.00      0.67      0.80         3\n",
      "          44       0.82      1.00      0.90         9\n",
      "          45       1.00      0.75      0.86         4\n",
      "          46       0.60      1.00      0.75         3\n",
      "          47       0.86      0.60      0.71        10\n",
      "          48       1.00      1.00      1.00         8\n",
      "          49       1.00      1.00      1.00         3\n",
      "          50       0.89      1.00      0.94         8\n",
      "\n",
      "    accuracy                           0.89       334\n",
      "   macro avg       0.86      0.87      0.85       334\n",
      "weighted avg       0.91      0.89      0.89       334\n",
      "\n"
     ]
    }
   ],
   "source": [
    "from sklearn.tree import DecisionTreeClassifier\n",
    "dtc =DecisionTreeClassifier(criterion='entropy')\n",
    "dtc.fit(train_x,train_y)\n",
    "dtc.score(train_x,train_y)\n",
    "preddtc=dtc.predict(test_x)\n",
    "decision_e = accuracy_score(test_y, preddtc)*100\n",
    "\n",
    "print('accuracy score:',decision_e )\n",
    "print('\\n')\n",
    "print(confusion_matrix(test_y, preddtc))\n",
    "print('\\n')\n",
    "print(classification_report(test_y, preddtc))"
   ]
  },
  {
   "cell_type": "markdown",
   "metadata": {},
   "source": [
    "## RandomForest Classifier"
   ]
  },
  {
   "cell_type": "code",
   "execution_count": 95,
   "metadata": {},
   "outputs": [
    {
     "name": "stdout",
     "output_type": "stream",
     "text": [
      "{'n_estimators': 300, 'random_state': 50}\n"
     ]
    }
   ],
   "source": [
    "from sklearn.ensemble import RandomForestClassifier\n",
    "\n",
    "parameters = {'n_estimators': [100,300,500],'random_state': [40,45,50,55,60,65,70,75]}\n",
    "rf = RandomForestClassifier()\n",
    "clf = GridSearchCV(rf,parameters)\n",
    "clf.fit(train_x,train_y)\n",
    "\n",
    "print(clf.best_params_)"
   ]
  },
  {
   "cell_type": "code",
   "execution_count": 96,
   "metadata": {},
   "outputs": [
    {
     "name": "stdout",
     "output_type": "stream",
     "text": [
      "accuracy score: 97.0059880239521\n",
      "\n",
      "\n",
      "[[18  0  0 ...  0  0  0]\n",
      " [ 0 12  0 ...  0  0  0]\n",
      " [ 0  0 16 ...  0  0  0]\n",
      " ...\n",
      " [ 0  0  0 ...  8  0  0]\n",
      " [ 0  0  0 ...  0  3  0]\n",
      " [ 0  0  0 ...  0  0  8]]\n",
      "              precision    recall  f1-score   support\n",
      "\n",
      "           0       0.95      0.95      0.95        19\n",
      "           1       1.00      1.00      1.00        12\n",
      "           2       1.00      1.00      1.00        16\n",
      "           3       1.00      1.00      1.00        12\n",
      "           4       1.00      1.00      1.00        11\n",
      "           5       0.92      1.00      0.96        12\n",
      "           6       0.89      1.00      0.94        17\n",
      "           7       1.00      0.86      0.92         7\n",
      "           8       1.00      1.00      1.00         7\n",
      "           9       1.00      1.00      1.00        12\n",
      "          10       1.00      0.80      0.89         5\n",
      "          11       1.00      1.00      1.00         8\n",
      "          12       1.00      1.00      1.00        10\n",
      "          13       1.00      1.00      1.00         3\n",
      "          14       1.00      1.00      1.00         2\n",
      "          15       1.00      1.00      1.00         4\n",
      "          16       1.00      1.00      1.00         4\n",
      "          17       1.00      1.00      1.00         7\n",
      "          18       0.83      1.00      0.91         5\n",
      "          19       1.00      1.00      1.00         9\n",
      "          20       1.00      1.00      1.00         3\n",
      "          22       0.86      1.00      0.92         6\n",
      "          23       1.00      1.00      1.00         2\n",
      "          24       1.00      1.00      1.00         4\n",
      "          25       1.00      1.00      1.00         5\n",
      "          26       1.00      1.00      1.00        14\n",
      "          27       1.00      1.00      1.00         1\n",
      "          28       1.00      1.00      1.00         3\n",
      "          29       1.00      0.80      0.89         5\n",
      "          30       1.00      1.00      1.00         1\n",
      "          31       0.94      1.00      0.97        15\n",
      "          32       1.00      0.60      0.75         5\n",
      "          33       1.00      1.00      1.00         4\n",
      "          34       0.83      1.00      0.91         5\n",
      "          35       0.50      1.00      0.67         1\n",
      "          36       1.00      1.00      1.00         3\n",
      "          37       1.00      1.00      1.00         2\n",
      "          38       1.00      0.86      0.92         7\n",
      "          39       1.00      1.00      1.00         3\n",
      "          40       1.00      1.00      1.00         2\n",
      "          41       1.00      1.00      1.00         8\n",
      "          42       1.00      0.60      0.75         5\n",
      "          43       1.00      1.00      1.00         3\n",
      "          44       1.00      1.00      1.00         9\n",
      "          45       1.00      1.00      1.00         4\n",
      "          46       1.00      0.67      0.80         3\n",
      "          47       0.91      1.00      0.95        10\n",
      "          48       1.00      1.00      1.00         8\n",
      "          49       1.00      1.00      1.00         3\n",
      "          50       1.00      1.00      1.00         8\n",
      "\n",
      "    accuracy                           0.97       334\n",
      "   macro avg       0.97      0.96      0.96       334\n",
      "weighted avg       0.97      0.97      0.97       334\n",
      "\n"
     ]
    }
   ],
   "source": [
    "from sklearn.ensemble import RandomForestClassifier\n",
    "rf = RandomForestClassifier(n_estimators=300,random_state=50)\n",
    "rf.fit(train_x,train_y)\n",
    "predrf = rf.predict(test_x)\n",
    "random = accuracy_score(test_y,predrf)*100\n",
    "\n",
    "print('accuracy score:',random)\n",
    "print('\\n')\n",
    "print(confusion_matrix(test_y,predrf))\n",
    "print(classification_report(test_y,predrf))"
   ]
  },
  {
   "cell_type": "markdown",
   "metadata": {},
   "source": [
    "## KNN Classifier"
   ]
  },
  {
   "cell_type": "code",
   "execution_count": 97,
   "metadata": {},
   "outputs": [
    {
     "name": "stdout",
     "output_type": "stream",
     "text": [
      "{'n_neighbors': 5}\n"
     ]
    }
   ],
   "source": [
    "from sklearn.neighbors import KNeighborsClassifier\n",
    "\n",
    "parameters = {'n_neighbors': [5,10,15,20,25,30]}\n",
    "knn = KNeighborsClassifier()\n",
    "clf = GridSearchCV(knn,parameters)\n",
    "clf.fit(train_x,train_y)\n",
    "\n",
    "print(clf.best_params_)"
   ]
  },
  {
   "cell_type": "code",
   "execution_count": 98,
   "metadata": {},
   "outputs": [
    {
     "name": "stdout",
     "output_type": "stream",
     "text": [
      "accuracy score: 90.11976047904191\n",
      "\n",
      "\n",
      "[[18  0  0 ...  0  0  0]\n",
      " [ 0 11  0 ...  0  0  0]\n",
      " [ 0  0 16 ...  0  0  0]\n",
      " ...\n",
      " [ 0  0  0 ...  8  0  0]\n",
      " [ 0  0  0 ...  0  2  0]\n",
      " [ 0  0  0 ...  0  0  8]]\n",
      "\n",
      "\n",
      "              precision    recall  f1-score   support\n",
      "\n",
      "           0       1.00      0.95      0.97        19\n",
      "           1       0.92      0.92      0.92        12\n",
      "           2       0.89      1.00      0.94        16\n",
      "           3       1.00      1.00      1.00        12\n",
      "           4       1.00      0.82      0.90        11\n",
      "           5       0.79      0.92      0.85        12\n",
      "           6       0.85      1.00      0.92        17\n",
      "           7       1.00      1.00      1.00         7\n",
      "           8       1.00      0.86      0.92         7\n",
      "           9       1.00      1.00      1.00        12\n",
      "          10       0.80      0.80      0.80         5\n",
      "          11       0.89      1.00      0.94         8\n",
      "          12       1.00      1.00      1.00        10\n",
      "          13       1.00      0.67      0.80         3\n",
      "          14       1.00      1.00      1.00         2\n",
      "          15       1.00      1.00      1.00         4\n",
      "          16       1.00      1.00      1.00         4\n",
      "          17       0.67      0.86      0.75         7\n",
      "          18       0.80      0.80      0.80         5\n",
      "          19       1.00      1.00      1.00         9\n",
      "          20       1.00      1.00      1.00         3\n",
      "          22       0.67      1.00      0.80         6\n",
      "          23       0.50      1.00      0.67         2\n",
      "          24       1.00      1.00      1.00         4\n",
      "          25       1.00      1.00      1.00         5\n",
      "          26       1.00      1.00      1.00        14\n",
      "          27       1.00      1.00      1.00         1\n",
      "          28       0.75      1.00      0.86         3\n",
      "          29       0.50      0.80      0.62         5\n",
      "          30       1.00      1.00      1.00         1\n",
      "          31       0.92      0.80      0.86        15\n",
      "          32       1.00      0.60      0.75         5\n",
      "          33       1.00      1.00      1.00         4\n",
      "          34       0.62      1.00      0.77         5\n",
      "          35       1.00      1.00      1.00         1\n",
      "          36       0.67      0.67      0.67         3\n",
      "          37       1.00      1.00      1.00         2\n",
      "          38       1.00      0.71      0.83         7\n",
      "          39       1.00      0.67      0.80         3\n",
      "          40       1.00      0.50      0.67         2\n",
      "          41       1.00      1.00      1.00         8\n",
      "          42       1.00      0.40      0.57         5\n",
      "          43       1.00      1.00      1.00         3\n",
      "          44       0.89      0.89      0.89         9\n",
      "          45       1.00      1.00      1.00         4\n",
      "          46       0.50      0.33      0.40         3\n",
      "          47       1.00      0.50      0.67        10\n",
      "          48       1.00      1.00      1.00         8\n",
      "          49       0.67      0.67      0.67         3\n",
      "          50       1.00      1.00      1.00         8\n",
      "\n",
      "    accuracy                           0.90       334\n",
      "   macro avg       0.91      0.88      0.88       334\n",
      "weighted avg       0.92      0.90      0.90       334\n",
      "\n"
     ]
    }
   ],
   "source": [
    "from sklearn.neighbors import KNeighborsClassifier\n",
    "knn = KNeighborsClassifier(n_neighbors =5)\n",
    "knn.fit(train_x,train_y)\n",
    "knn.score(train_x,train_y)\n",
    "predknn = knn.predict(test_x)\n",
    "knn_a = accuracy_score(test_y, predknn)*100\n",
    "\n",
    "print('accuracy score:',knn_a)\n",
    "print('\\n')\n",
    "print(confusion_matrix(test_y, predknn))\n",
    "print('\\n')\n",
    "print(classification_report(test_y, predknn))"
   ]
  },
  {
   "cell_type": "markdown",
   "metadata": {},
   "source": [
    "#### Picking the best model"
   ]
  },
  {
   "cell_type": "code",
   "execution_count": 99,
   "metadata": {},
   "outputs": [
    {
     "data": {
      "text/html": [
       "<div>\n",
       "<style scoped>\n",
       "    .dataframe tbody tr th:only-of-type {\n",
       "        vertical-align: middle;\n",
       "    }\n",
       "\n",
       "    .dataframe tbody tr th {\n",
       "        vertical-align: top;\n",
       "    }\n",
       "\n",
       "    .dataframe thead th {\n",
       "        text-align: right;\n",
       "    }\n",
       "</style>\n",
       "<table border=\"1\" class=\"dataframe\">\n",
       "  <thead>\n",
       "    <tr style=\"text-align: right;\">\n",
       "      <th></th>\n",
       "      <th>Model</th>\n",
       "      <th>Score</th>\n",
       "    </tr>\n",
       "  </thead>\n",
       "  <tbody>\n",
       "    <tr>\n",
       "      <th>3</th>\n",
       "      <td>Random Forest</td>\n",
       "      <td>97.005988</td>\n",
       "    </tr>\n",
       "    <tr>\n",
       "      <th>0</th>\n",
       "      <td>Support Vector Machines</td>\n",
       "      <td>95.508982</td>\n",
       "    </tr>\n",
       "    <tr>\n",
       "      <th>4</th>\n",
       "      <td>Gaussian Naive Bayes</td>\n",
       "      <td>91.317365</td>\n",
       "    </tr>\n",
       "    <tr>\n",
       "      <th>1</th>\n",
       "      <td>KNN</td>\n",
       "      <td>90.119760</td>\n",
       "    </tr>\n",
       "    <tr>\n",
       "      <th>5</th>\n",
       "      <td>Decision Tree</td>\n",
       "      <td>89.221557</td>\n",
       "    </tr>\n",
       "    <tr>\n",
       "      <th>2</th>\n",
       "      <td>Logistic Regression</td>\n",
       "      <td>77.544910</td>\n",
       "    </tr>\n",
       "  </tbody>\n",
       "</table>\n",
       "</div>"
      ],
      "text/plain": [
       "                     Model      Score\n",
       "3            Random Forest  97.005988\n",
       "0  Support Vector Machines  95.508982\n",
       "4     Gaussian Naive Bayes  91.317365\n",
       "1                      KNN  90.119760\n",
       "5            Decision Tree  89.221557\n",
       "2      Logistic Regression  77.544910"
      ]
     },
     "execution_count": 99,
     "metadata": {},
     "output_type": "execute_result"
    }
   ],
   "source": [
    "models = pd.DataFrame({\n",
    "    'Model': ['Support Vector Machines', 'KNN', 'Logistic Regression', \n",
    "              'Random Forest', ' Gaussian Naive Bayes',\n",
    "              'Decision Tree'],\n",
    "    'Score': [svcs,knn_a,log,random,gaussian,decision_e]})\n",
    "models.sort_values(by='Score', ascending=False)"
   ]
  },
  {
   "cell_type": "markdown",
   "metadata": {},
   "source": [
    "#### Saving the best model"
   ]
  },
  {
   "cell_type": "code",
   "execution_count": 100,
   "metadata": {},
   "outputs": [],
   "source": [
    "import pickle\n",
    "\n",
    "filename = 'avocado_classi.pkl'\n",
    "pickle.dump(random, open(filename, 'wb'))"
   ]
  },
  {
   "cell_type": "markdown",
   "metadata": {},
   "source": [
    "## Conclusion\n",
    "\n",
    "From the above data we can observe,\n",
    "\n",
    "- SVMClassifier Model has least accuracy score - UnderFit Model\n",
    "- randomForestClassifier Model has maximum accuracy for test data - Best Model\n",
    "\n",
    "## Market Insights\n",
    "\n",
    "- Avocado is a very popular and in demand fruit consumed by the population of US\n",
    "\n",
    "\n",
    "- Avocado experiences the least sales during extreme sales weather condistions like in the 6th month (June) which is considered as the hottest month of the year in US and in the 12th month (December) which is the coldest month of the year in US.\n",
    "\n",
    "\n",
    "- Avocado is in demand during spring and the fall season.\n",
    "\n",
    "\n",
    "- Major regions of US that contribute to the maximum sale of Avocado's are California, GreatLakes, LosAngeles, MidSouth US, NorthEast US, SouthCentral US, SouthEast US and the West US."
   ]
  }
 ],
 "metadata": {
  "kernelspec": {
   "display_name": "Python 3",
   "language": "python",
   "name": "python3"
  },
  "language_info": {
   "codemirror_mode": {
    "name": "ipython",
    "version": 3
   },
   "file_extension": ".py",
   "mimetype": "text/x-python",
   "name": "python",
   "nbconvert_exporter": "python",
   "pygments_lexer": "ipython3",
   "version": "3.7.6"
  }
 },
 "nbformat": 4,
 "nbformat_minor": 4
}
