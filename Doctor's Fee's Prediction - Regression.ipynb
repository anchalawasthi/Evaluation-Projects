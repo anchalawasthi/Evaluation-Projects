{
 "cells": [
  {
   "cell_type": "markdown",
   "metadata": {},
   "source": [
    "# Predict A Doctor's Consultation Fee \n",
    "\n",
    "The dataset contains consultation fee of different doctors along with other associated features. The dataset can be used to analyse what factors affect a doctor's consultation fee and a machine learning model can be prepared to predict a doctor's consultation fee."
   ]
  },
  {
   "cell_type": "markdown",
   "metadata": {},
   "source": [
    "## About the data\n",
    "\n",
    "- __Size of training set: 5961 records__\n",
    "\n",
    "\n",
    "- __Size of test set: 1987 records__\n",
    "\n",
    "\n",
    "- Qualification: Qualification and degrees held by the doctor\n",
    "\n",
    "\n",
    "- Experience: Experience of the doctor in number of years\n",
    "\n",
    "\n",
    "- Rating: Rating given by patients\n",
    "\n",
    "\n",
    "- Profile: Type of the doctor\n",
    "\n",
    "\n",
    "- Miscellaeous_Info: Extra information about the doctor\n",
    "\n",
    "\n",
    "- Fees: Fees charged by the doctor\n",
    "\n",
    "\n",
    "- Place: Area and the city where the doctor is located."
   ]
  },
  {
   "cell_type": "code",
   "execution_count": 1,
   "metadata": {},
   "outputs": [
    {
     "data": {
      "text/plain": [
       "((5961, 7), (1987, 6))"
      ]
     },
     "execution_count": 1,
     "metadata": {},
     "output_type": "execute_result"
    }
   ],
   "source": [
    "# Importing the data\n",
    "import pandas as pd \n",
    "import numpy as np\n",
    "\n",
    "train = pd.read_csv(r'C:\\Users\\User\\Desktop\\Projects\\Final_Train.csv')\n",
    "test = pd.read_csv(r'C:\\Users\\User\\Desktop\\Projects\\Final_Test.csv')\n",
    "\n",
    "train.shape, test.shape"
   ]
  },
  {
   "cell_type": "markdown",
   "metadata": {},
   "source": [
    "#### Exploring the data"
   ]
  },
  {
   "cell_type": "code",
   "execution_count": 2,
   "metadata": {},
   "outputs": [
    {
     "data": {
      "text/html": [
       "<div>\n",
       "<style scoped>\n",
       "    .dataframe tbody tr th:only-of-type {\n",
       "        vertical-align: middle;\n",
       "    }\n",
       "\n",
       "    .dataframe tbody tr th {\n",
       "        vertical-align: top;\n",
       "    }\n",
       "\n",
       "    .dataframe thead th {\n",
       "        text-align: right;\n",
       "    }\n",
       "</style>\n",
       "<table border=\"1\" class=\"dataframe\">\n",
       "  <thead>\n",
       "    <tr style=\"text-align: right;\">\n",
       "      <th></th>\n",
       "      <th>Qualification</th>\n",
       "      <th>Experience</th>\n",
       "      <th>Rating</th>\n",
       "      <th>Place</th>\n",
       "      <th>Profile</th>\n",
       "      <th>Miscellaneous_Info</th>\n",
       "      <th>Fees</th>\n",
       "    </tr>\n",
       "  </thead>\n",
       "  <tbody>\n",
       "    <tr>\n",
       "      <th>0</th>\n",
       "      <td>BHMS, MD - Homeopathy</td>\n",
       "      <td>24 years experience</td>\n",
       "      <td>100%</td>\n",
       "      <td>Kakkanad, Ernakulam</td>\n",
       "      <td>Homeopath</td>\n",
       "      <td>100% 16 Feedback Kakkanad, Ernakulam</td>\n",
       "      <td>100</td>\n",
       "    </tr>\n",
       "    <tr>\n",
       "      <th>1</th>\n",
       "      <td>BAMS, MD - Ayurveda Medicine</td>\n",
       "      <td>12 years experience</td>\n",
       "      <td>98%</td>\n",
       "      <td>Whitefield, Bangalore</td>\n",
       "      <td>Ayurveda</td>\n",
       "      <td>98% 76 Feedback Whitefield, Bangalore</td>\n",
       "      <td>350</td>\n",
       "    </tr>\n",
       "    <tr>\n",
       "      <th>2</th>\n",
       "      <td>MBBS, MS - Otorhinolaryngology</td>\n",
       "      <td>9 years experience</td>\n",
       "      <td>NaN</td>\n",
       "      <td>Mathikere - BEL, Bangalore</td>\n",
       "      <td>ENT Specialist</td>\n",
       "      <td>NaN</td>\n",
       "      <td>300</td>\n",
       "    </tr>\n",
       "    <tr>\n",
       "      <th>3</th>\n",
       "      <td>BSc - Zoology, BAMS</td>\n",
       "      <td>12 years experience</td>\n",
       "      <td>NaN</td>\n",
       "      <td>Bannerghatta Road, Bangalore</td>\n",
       "      <td>Ayurveda</td>\n",
       "      <td>Bannerghatta Road, Bangalore ?250 Available on...</td>\n",
       "      <td>250</td>\n",
       "    </tr>\n",
       "    <tr>\n",
       "      <th>4</th>\n",
       "      <td>BAMS</td>\n",
       "      <td>20 years experience</td>\n",
       "      <td>100%</td>\n",
       "      <td>Keelkattalai, Chennai</td>\n",
       "      <td>Ayurveda</td>\n",
       "      <td>100% 4 Feedback Keelkattalai, Chennai</td>\n",
       "      <td>250</td>\n",
       "    </tr>\n",
       "  </tbody>\n",
       "</table>\n",
       "</div>"
      ],
      "text/plain": [
       "                    Qualification           Experience Rating  \\\n",
       "0           BHMS, MD - Homeopathy  24 years experience   100%   \n",
       "1    BAMS, MD - Ayurveda Medicine  12 years experience    98%   \n",
       "2  MBBS, MS - Otorhinolaryngology   9 years experience    NaN   \n",
       "3             BSc - Zoology, BAMS  12 years experience    NaN   \n",
       "4                            BAMS  20 years experience   100%   \n",
       "\n",
       "                          Place         Profile  \\\n",
       "0           Kakkanad, Ernakulam       Homeopath   \n",
       "1         Whitefield, Bangalore        Ayurveda   \n",
       "2    Mathikere - BEL, Bangalore  ENT Specialist   \n",
       "3  Bannerghatta Road, Bangalore        Ayurveda   \n",
       "4         Keelkattalai, Chennai        Ayurveda   \n",
       "\n",
       "                                  Miscellaneous_Info  Fees  \n",
       "0               100% 16 Feedback Kakkanad, Ernakulam   100  \n",
       "1              98% 76 Feedback Whitefield, Bangalore   350  \n",
       "2                                                NaN   300  \n",
       "3  Bannerghatta Road, Bangalore ?250 Available on...   250  \n",
       "4              100% 4 Feedback Keelkattalai, Chennai   250  "
      ]
     },
     "execution_count": 2,
     "metadata": {},
     "output_type": "execute_result"
    }
   ],
   "source": [
    "train.head()"
   ]
  },
  {
   "cell_type": "code",
   "execution_count": 3,
   "metadata": {},
   "outputs": [
    {
     "data": {
      "text/html": [
       "<div>\n",
       "<style scoped>\n",
       "    .dataframe tbody tr th:only-of-type {\n",
       "        vertical-align: middle;\n",
       "    }\n",
       "\n",
       "    .dataframe tbody tr th {\n",
       "        vertical-align: top;\n",
       "    }\n",
       "\n",
       "    .dataframe thead th {\n",
       "        text-align: right;\n",
       "    }\n",
       "</style>\n",
       "<table border=\"1\" class=\"dataframe\">\n",
       "  <thead>\n",
       "    <tr style=\"text-align: right;\">\n",
       "      <th></th>\n",
       "      <th>Qualification</th>\n",
       "      <th>Experience</th>\n",
       "      <th>Rating</th>\n",
       "      <th>Place</th>\n",
       "      <th>Profile</th>\n",
       "      <th>Miscellaneous_Info</th>\n",
       "    </tr>\n",
       "  </thead>\n",
       "  <tbody>\n",
       "    <tr>\n",
       "      <th>0</th>\n",
       "      <td>MBBS</td>\n",
       "      <td>35 years experience</td>\n",
       "      <td>NaN</td>\n",
       "      <td>Ghatkopar East, Mumbai</td>\n",
       "      <td>General Medicine</td>\n",
       "      <td>NaN</td>\n",
       "    </tr>\n",
       "    <tr>\n",
       "      <th>1</th>\n",
       "      <td>MBBS, Diploma in Otorhinolaryngology (DLO)</td>\n",
       "      <td>31 years experience</td>\n",
       "      <td>NaN</td>\n",
       "      <td>West Marredpally, Hyderabad</td>\n",
       "      <td>ENT Specialist</td>\n",
       "      <td>NaN</td>\n",
       "    </tr>\n",
       "    <tr>\n",
       "      <th>2</th>\n",
       "      <td>MBBS, DDVL</td>\n",
       "      <td>40 years experience</td>\n",
       "      <td>70%</td>\n",
       "      <td>KK Nagar, Chennai</td>\n",
       "      <td>Dermatologists</td>\n",
       "      <td>70% 4 Feedback KK Nagar, Chennai</td>\n",
       "    </tr>\n",
       "    <tr>\n",
       "      <th>3</th>\n",
       "      <td>BAMS</td>\n",
       "      <td>0 years experience</td>\n",
       "      <td>NaN</td>\n",
       "      <td>New Ashok Nagar, Delhi</td>\n",
       "      <td>Ayurveda</td>\n",
       "      <td>NaN</td>\n",
       "    </tr>\n",
       "    <tr>\n",
       "      <th>4</th>\n",
       "      <td>BDS, MDS - Conservative Dentistry &amp; Endodontics</td>\n",
       "      <td>16 years experience</td>\n",
       "      <td>100%</td>\n",
       "      <td>Kanakpura Road, Bangalore</td>\n",
       "      <td>Dentist</td>\n",
       "      <td>General Dentistry Conservative Dentistry Cosme...</td>\n",
       "    </tr>\n",
       "  </tbody>\n",
       "</table>\n",
       "</div>"
      ],
      "text/plain": [
       "                                     Qualification           Experience  \\\n",
       "0                                             MBBS  35 years experience   \n",
       "1       MBBS, Diploma in Otorhinolaryngology (DLO)  31 years experience   \n",
       "2                                       MBBS, DDVL  40 years experience   \n",
       "3                                             BAMS   0 years experience   \n",
       "4  BDS, MDS - Conservative Dentistry & Endodontics  16 years experience   \n",
       "\n",
       "  Rating                        Place           Profile  \\\n",
       "0    NaN       Ghatkopar East, Mumbai  General Medicine   \n",
       "1    NaN  West Marredpally, Hyderabad    ENT Specialist   \n",
       "2    70%            KK Nagar, Chennai    Dermatologists   \n",
       "3    NaN       New Ashok Nagar, Delhi          Ayurveda   \n",
       "4   100%    Kanakpura Road, Bangalore           Dentist   \n",
       "\n",
       "                                  Miscellaneous_Info  \n",
       "0                                                NaN  \n",
       "1                                                NaN  \n",
       "2                   70% 4 Feedback KK Nagar, Chennai  \n",
       "3                                                NaN  \n",
       "4  General Dentistry Conservative Dentistry Cosme...  "
      ]
     },
     "execution_count": 3,
     "metadata": {},
     "output_type": "execute_result"
    }
   ],
   "source": [
    "test.head()"
   ]
  },
  {
   "cell_type": "code",
   "execution_count": 4,
   "metadata": {},
   "outputs": [
    {
     "data": {
      "text/plain": [
       "Qualification            0\n",
       "Experience               0\n",
       "Rating                3302\n",
       "Place                   25\n",
       "Profile                  0\n",
       "Miscellaneous_Info    2620\n",
       "Fees                     0\n",
       "dtype: int64"
      ]
     },
     "execution_count": 4,
     "metadata": {},
     "output_type": "execute_result"
    }
   ],
   "source": [
    "train.isnull().sum()"
   ]
  },
  {
   "cell_type": "markdown",
   "metadata": {},
   "source": [
    "- The data has multiple missing values in the rows 'Rating', 'Place' and 'Miscellaneous_Info'"
   ]
  },
  {
   "cell_type": "code",
   "execution_count": 5,
   "metadata": {},
   "outputs": [
    {
     "name": "stdout",
     "output_type": "stream",
     "text": [
      "<class 'pandas.core.frame.DataFrame'>\n",
      "RangeIndex: 5961 entries, 0 to 5960\n",
      "Data columns (total 7 columns):\n",
      " #   Column              Non-Null Count  Dtype \n",
      "---  ------              --------------  ----- \n",
      " 0   Qualification       5961 non-null   object\n",
      " 1   Experience          5961 non-null   object\n",
      " 2   Rating              2659 non-null   object\n",
      " 3   Place               5936 non-null   object\n",
      " 4   Profile             5961 non-null   object\n",
      " 5   Miscellaneous_Info  3341 non-null   object\n",
      " 6   Fees                5961 non-null   int64 \n",
      "dtypes: int64(1), object(6)\n",
      "memory usage: 326.1+ KB\n"
     ]
    }
   ],
   "source": [
    "train.info()"
   ]
  },
  {
   "cell_type": "markdown",
   "metadata": {},
   "source": [
    "The training dataset has 5961 examples, 6 feature columns and 1 target column. 6 of the 7 features are type object data, and the target column 'Fees' is of the type int64."
   ]
  },
  {
   "cell_type": "code",
   "execution_count": 6,
   "metadata": {},
   "outputs": [
    {
     "data": {
      "text/html": [
       "<div>\n",
       "<style scoped>\n",
       "    .dataframe tbody tr th:only-of-type {\n",
       "        vertical-align: middle;\n",
       "    }\n",
       "\n",
       "    .dataframe tbody tr th {\n",
       "        vertical-align: top;\n",
       "    }\n",
       "\n",
       "    .dataframe thead th {\n",
       "        text-align: right;\n",
       "    }\n",
       "</style>\n",
       "<table border=\"1\" class=\"dataframe\">\n",
       "  <thead>\n",
       "    <tr style=\"text-align: right;\">\n",
       "      <th></th>\n",
       "      <th>Fees</th>\n",
       "    </tr>\n",
       "  </thead>\n",
       "  <tbody>\n",
       "    <tr>\n",
       "      <th>count</th>\n",
       "      <td>5961.000000</td>\n",
       "    </tr>\n",
       "    <tr>\n",
       "      <th>mean</th>\n",
       "      <td>307.944640</td>\n",
       "    </tr>\n",
       "    <tr>\n",
       "      <th>std</th>\n",
       "      <td>190.920373</td>\n",
       "    </tr>\n",
       "    <tr>\n",
       "      <th>min</th>\n",
       "      <td>5.000000</td>\n",
       "    </tr>\n",
       "    <tr>\n",
       "      <th>25%</th>\n",
       "      <td>150.000000</td>\n",
       "    </tr>\n",
       "    <tr>\n",
       "      <th>50%</th>\n",
       "      <td>300.000000</td>\n",
       "    </tr>\n",
       "    <tr>\n",
       "      <th>75%</th>\n",
       "      <td>500.000000</td>\n",
       "    </tr>\n",
       "    <tr>\n",
       "      <th>max</th>\n",
       "      <td>950.000000</td>\n",
       "    </tr>\n",
       "  </tbody>\n",
       "</table>\n",
       "</div>"
      ],
      "text/plain": [
       "              Fees\n",
       "count  5961.000000\n",
       "mean    307.944640\n",
       "std     190.920373\n",
       "min       5.000000\n",
       "25%     150.000000\n",
       "50%     300.000000\n",
       "75%     500.000000\n",
       "max     950.000000"
      ]
     },
     "execution_count": 6,
     "metadata": {},
     "output_type": "execute_result"
    }
   ],
   "source": [
    "train.describe()"
   ]
  },
  {
   "cell_type": "markdown",
   "metadata": {},
   "source": [
    "- The column Fees does not have any missing values.\n",
    "\n",
    "\n",
    "- The average Fees is 300 and the minimal fees is 5, which is extremly pocket friendly.\n",
    "\n",
    "\n",
    "- The maximum Fees is 950, there is a huge difference between the minimum and the maximum, this it effects the distribution of the data"
   ]
  },
  {
   "cell_type": "code",
   "execution_count": 7,
   "metadata": {},
   "outputs": [
    {
     "data": {
      "text/html": [
       "<div>\n",
       "<style scoped>\n",
       "    .dataframe tbody tr th:only-of-type {\n",
       "        vertical-align: middle;\n",
       "    }\n",
       "\n",
       "    .dataframe tbody tr th {\n",
       "        vertical-align: top;\n",
       "    }\n",
       "\n",
       "    .dataframe thead th {\n",
       "        text-align: right;\n",
       "    }\n",
       "</style>\n",
       "<table border=\"1\" class=\"dataframe\">\n",
       "  <thead>\n",
       "    <tr style=\"text-align: right;\">\n",
       "      <th></th>\n",
       "      <th>Qualification</th>\n",
       "      <th>Experience</th>\n",
       "      <th>Rating</th>\n",
       "      <th>Place</th>\n",
       "      <th>Profile</th>\n",
       "      <th>Miscellaneous_Info</th>\n",
       "    </tr>\n",
       "  </thead>\n",
       "  <tbody>\n",
       "    <tr>\n",
       "      <th>count</th>\n",
       "      <td>5961</td>\n",
       "      <td>5961</td>\n",
       "      <td>2659</td>\n",
       "      <td>5936</td>\n",
       "      <td>5961</td>\n",
       "      <td>3341</td>\n",
       "    </tr>\n",
       "    <tr>\n",
       "      <th>unique</th>\n",
       "      <td>1420</td>\n",
       "      <td>64</td>\n",
       "      <td>51</td>\n",
       "      <td>877</td>\n",
       "      <td>6</td>\n",
       "      <td>2998</td>\n",
       "    </tr>\n",
       "    <tr>\n",
       "      <th>top</th>\n",
       "      <td>BDS</td>\n",
       "      <td>9 years experience</td>\n",
       "      <td>100%</td>\n",
       "      <td>HSR Layout, Bangalore</td>\n",
       "      <td>Dentist</td>\n",
       "      <td>Acrylic Partial Denture Crowns and Bridges Fix...</td>\n",
       "    </tr>\n",
       "    <tr>\n",
       "      <th>freq</th>\n",
       "      <td>488</td>\n",
       "      <td>323</td>\n",
       "      <td>684</td>\n",
       "      <td>75</td>\n",
       "      <td>1397</td>\n",
       "      <td>40</td>\n",
       "    </tr>\n",
       "  </tbody>\n",
       "</table>\n",
       "</div>"
      ],
      "text/plain": [
       "       Qualification          Experience Rating                  Place  \\\n",
       "count           5961                5961   2659                   5936   \n",
       "unique          1420                  64     51                    877   \n",
       "top              BDS  9 years experience   100%  HSR Layout, Bangalore   \n",
       "freq             488                 323    684                     75   \n",
       "\n",
       "        Profile                                 Miscellaneous_Info  \n",
       "count      5961                                               3341  \n",
       "unique        6                                               2998  \n",
       "top     Dentist  Acrylic Partial Denture Crowns and Bridges Fix...  \n",
       "freq       1397                                                 40  "
      ]
     },
     "execution_count": 7,
     "metadata": {},
     "output_type": "execute_result"
    }
   ],
   "source": [
    "train.describe(include=['O'])"
   ]
  },
  {
   "cell_type": "markdown",
   "metadata": {},
   "source": [
    "- The column 'Qualification' has 1420 unique degrees, out of which BDS is the most frequently occuring, hence maximum number of entries in our data is of Dentists.\n",
    "\n",
    "\n",
    "- The column 'Experience' has 64 unique Experience entries, even though the data is integer type the column is labeled object type.\n",
    "\n",
    "\n",
    "- The column 'Rating' has 51 unique Rating entries, even though rating is integer type the column is labeled object type. The the most frequent rating entry is 100%.\n",
    "\n",
    "\n",
    "- The column 'Place' has 877 unique location entries, Most of the entries are from the HSR layout, Banglore.\n",
    "\n",
    "\n",
    "- The column 'Profile' has only 6 unique degrees, out of which Dentist is the most frequently occuring, hence maximum number of entries in our data is of Dentists."
   ]
  },
  {
   "cell_type": "code",
   "execution_count": 9,
   "metadata": {},
   "outputs": [
    {
     "data": {
      "text/html": [
       "<div>\n",
       "<style scoped>\n",
       "    .dataframe tbody tr th:only-of-type {\n",
       "        vertical-align: middle;\n",
       "    }\n",
       "\n",
       "    .dataframe tbody tr th {\n",
       "        vertical-align: top;\n",
       "    }\n",
       "\n",
       "    .dataframe thead th {\n",
       "        text-align: right;\n",
       "    }\n",
       "</style>\n",
       "<table border=\"1\" class=\"dataframe\">\n",
       "  <thead>\n",
       "    <tr style=\"text-align: right;\">\n",
       "      <th></th>\n",
       "      <th>Qualification</th>\n",
       "      <th>Experience</th>\n",
       "      <th>Rating</th>\n",
       "      <th>Place</th>\n",
       "      <th>Profile</th>\n",
       "      <th>Miscellaneous_Info</th>\n",
       "      <th>Fees</th>\n",
       "    </tr>\n",
       "  </thead>\n",
       "  <tbody>\n",
       "    <tr>\n",
       "      <th>0</th>\n",
       "      <td>BHMS, MD - Homeopathy</td>\n",
       "      <td>24 years experience</td>\n",
       "      <td>100%</td>\n",
       "      <td>Kakkanad, Ernakulam</td>\n",
       "      <td>Homeopath</td>\n",
       "      <td>100% 16 Feedback Kakkanad, Ernakulam</td>\n",
       "      <td>100</td>\n",
       "    </tr>\n",
       "    <tr>\n",
       "      <th>1</th>\n",
       "      <td>BAMS, MD - Ayurveda Medicine</td>\n",
       "      <td>12 years experience</td>\n",
       "      <td>98%</td>\n",
       "      <td>Whitefield, Bangalore</td>\n",
       "      <td>Ayurveda</td>\n",
       "      <td>98% 76 Feedback Whitefield, Bangalore</td>\n",
       "      <td>350</td>\n",
       "    </tr>\n",
       "    <tr>\n",
       "      <th>2</th>\n",
       "      <td>MBBS, MS - Otorhinolaryngology</td>\n",
       "      <td>9 years experience</td>\n",
       "      <td>NaN</td>\n",
       "      <td>Mathikere - BEL, Bangalore</td>\n",
       "      <td>ENT Specialist</td>\n",
       "      <td>NaN</td>\n",
       "      <td>300</td>\n",
       "    </tr>\n",
       "    <tr>\n",
       "      <th>3</th>\n",
       "      <td>BSc - Zoology, BAMS</td>\n",
       "      <td>12 years experience</td>\n",
       "      <td>NaN</td>\n",
       "      <td>Bannerghatta Road, Bangalore</td>\n",
       "      <td>Ayurveda</td>\n",
       "      <td>Bannerghatta Road, Bangalore ?250 Available on...</td>\n",
       "      <td>250</td>\n",
       "    </tr>\n",
       "    <tr>\n",
       "      <th>4</th>\n",
       "      <td>BAMS</td>\n",
       "      <td>20 years experience</td>\n",
       "      <td>100%</td>\n",
       "      <td>Keelkattalai, Chennai</td>\n",
       "      <td>Ayurveda</td>\n",
       "      <td>100% 4 Feedback Keelkattalai, Chennai</td>\n",
       "      <td>250</td>\n",
       "    </tr>\n",
       "  </tbody>\n",
       "</table>\n",
       "</div>"
      ],
      "text/plain": [
       "                    Qualification           Experience Rating  \\\n",
       "0           BHMS, MD - Homeopathy  24 years experience   100%   \n",
       "1    BAMS, MD - Ayurveda Medicine  12 years experience    98%   \n",
       "2  MBBS, MS - Otorhinolaryngology   9 years experience    NaN   \n",
       "3             BSc - Zoology, BAMS  12 years experience    NaN   \n",
       "4                            BAMS  20 years experience   100%   \n",
       "\n",
       "                          Place         Profile  \\\n",
       "0           Kakkanad, Ernakulam       Homeopath   \n",
       "1         Whitefield, Bangalore        Ayurveda   \n",
       "2    Mathikere - BEL, Bangalore  ENT Specialist   \n",
       "3  Bannerghatta Road, Bangalore        Ayurveda   \n",
       "4         Keelkattalai, Chennai        Ayurveda   \n",
       "\n",
       "                                  Miscellaneous_Info  Fees  \n",
       "0               100% 16 Feedback Kakkanad, Ernakulam   100  \n",
       "1              98% 76 Feedback Whitefield, Bangalore   350  \n",
       "2                                                NaN   300  \n",
       "3  Bannerghatta Road, Bangalore ?250 Available on...   250  \n",
       "4              100% 4 Feedback Keelkattalai, Chennai   250  "
      ]
     },
     "execution_count": 9,
     "metadata": {},
     "output_type": "execute_result"
    }
   ],
   "source": [
    "train.head()"
   ]
  },
  {
   "cell_type": "markdown",
   "metadata": {},
   "source": [
    "#### Combining the train and test data"
   ]
  },
  {
   "cell_type": "code",
   "execution_count": 10,
   "metadata": {},
   "outputs": [
    {
     "data": {
      "text/plain": [
       "(7948, 8)"
      ]
     },
     "execution_count": 10,
     "metadata": {},
     "output_type": "execute_result"
    }
   ],
   "source": [
    "df = pd.concat([train.assign(ind=\"train\"), test.assign(ind=\"test\")])\n",
    "df.shape"
   ]
  },
  {
   "cell_type": "markdown",
   "metadata": {},
   "source": [
    "# Feature Engineering"
   ]
  },
  {
   "cell_type": "markdown",
   "metadata": {},
   "source": [
    "The column 'Experience' has the phrase 'years experience' attached to the numerical value which needs to be dropped"
   ]
  },
  {
   "cell_type": "code",
   "execution_count": 11,
   "metadata": {},
   "outputs": [],
   "source": [
    "df['Experience'] = df['Experience'].str.replace('years experience','').astype(int)"
   ]
  },
  {
   "cell_type": "markdown",
   "metadata": {},
   "source": [
    "- The column 'Place', has 2 seperate entries which entices both the city and the area which need to be split for better analysis.\n",
    "\n",
    "\n",
    "- Thus the column 'Place' will be split into two seperate columns 'Area' and 'City'."
   ]
  },
  {
   "cell_type": "code",
   "execution_count": 12,
   "metadata": {},
   "outputs": [],
   "source": [
    "df['Area'] = df['Place'].str.rsplit(',', 1).str.get(0)\n",
    "df['City'] = df['Place'].str.rsplit(',', 1).str.get(1)"
   ]
  },
  {
   "cell_type": "code",
   "execution_count": 13,
   "metadata": {
    "scrolled": true
   },
   "outputs": [
    {
     "data": {
      "text/html": [
       "<div>\n",
       "<style scoped>\n",
       "    .dataframe tbody tr th:only-of-type {\n",
       "        vertical-align: middle;\n",
       "    }\n",
       "\n",
       "    .dataframe tbody tr th {\n",
       "        vertical-align: top;\n",
       "    }\n",
       "\n",
       "    .dataframe thead th {\n",
       "        text-align: right;\n",
       "    }\n",
       "</style>\n",
       "<table border=\"1\" class=\"dataframe\">\n",
       "  <thead>\n",
       "    <tr style=\"text-align: right;\">\n",
       "      <th></th>\n",
       "      <th>Qualification</th>\n",
       "      <th>Experience</th>\n",
       "      <th>Rating</th>\n",
       "      <th>Place</th>\n",
       "      <th>Profile</th>\n",
       "      <th>Miscellaneous_Info</th>\n",
       "      <th>Fees</th>\n",
       "      <th>ind</th>\n",
       "      <th>Area</th>\n",
       "      <th>City</th>\n",
       "    </tr>\n",
       "  </thead>\n",
       "  <tbody>\n",
       "    <tr>\n",
       "      <th>0</th>\n",
       "      <td>BHMS, MD - Homeopathy</td>\n",
       "      <td>24</td>\n",
       "      <td>100%</td>\n",
       "      <td>Kakkanad, Ernakulam</td>\n",
       "      <td>Homeopath</td>\n",
       "      <td>100% 16 Feedback Kakkanad, Ernakulam</td>\n",
       "      <td>100.0</td>\n",
       "      <td>train</td>\n",
       "      <td>Kakkanad</td>\n",
       "      <td>Ernakulam</td>\n",
       "    </tr>\n",
       "  </tbody>\n",
       "</table>\n",
       "</div>"
      ],
      "text/plain": [
       "           Qualification  Experience Rating                Place    Profile  \\\n",
       "0  BHMS, MD - Homeopathy          24   100%  Kakkanad, Ernakulam  Homeopath   \n",
       "\n",
       "                     Miscellaneous_Info   Fees    ind      Area        City  \n",
       "0  100% 16 Feedback Kakkanad, Ernakulam  100.0  train  Kakkanad   Ernakulam  "
      ]
     },
     "execution_count": 13,
     "metadata": {},
     "output_type": "execute_result"
    }
   ],
   "source": [
    "df.head(1)"
   ]
  },
  {
   "cell_type": "markdown",
   "metadata": {},
   "source": [
    "- The column 'Qualification', has 2 seperate entries because most of the doctor's have persued masters as well, thus it makes better sense to split them and treat them seperately.\n",
    "\n",
    "\n",
    "- Thus the column 'Qualification' will be split into two seperate columns 'First_Degree' and 'Second_Degree'."
   ]
  },
  {
   "cell_type": "code",
   "execution_count": 14,
   "metadata": {},
   "outputs": [],
   "source": [
    "df['First_Degree'] = df['Qualification'].str.rsplit(',', 1).str.get(0)\n",
    "df['Second_Degree'] = df['Qualification'].str.rsplit(',', 1).str.get(1)"
   ]
  },
  {
   "cell_type": "code",
   "execution_count": 15,
   "metadata": {},
   "outputs": [
    {
     "data": {
      "text/html": [
       "<div>\n",
       "<style scoped>\n",
       "    .dataframe tbody tr th:only-of-type {\n",
       "        vertical-align: middle;\n",
       "    }\n",
       "\n",
       "    .dataframe tbody tr th {\n",
       "        vertical-align: top;\n",
       "    }\n",
       "\n",
       "    .dataframe thead th {\n",
       "        text-align: right;\n",
       "    }\n",
       "</style>\n",
       "<table border=\"1\" class=\"dataframe\">\n",
       "  <thead>\n",
       "    <tr style=\"text-align: right;\">\n",
       "      <th></th>\n",
       "      <th>Qualification</th>\n",
       "      <th>Experience</th>\n",
       "      <th>Rating</th>\n",
       "      <th>Place</th>\n",
       "      <th>Profile</th>\n",
       "      <th>Miscellaneous_Info</th>\n",
       "      <th>Fees</th>\n",
       "      <th>ind</th>\n",
       "      <th>Area</th>\n",
       "      <th>City</th>\n",
       "      <th>First_Degree</th>\n",
       "      <th>Second_Degree</th>\n",
       "    </tr>\n",
       "  </thead>\n",
       "  <tbody>\n",
       "    <tr>\n",
       "      <th>0</th>\n",
       "      <td>BHMS, MD - Homeopathy</td>\n",
       "      <td>24</td>\n",
       "      <td>100%</td>\n",
       "      <td>Kakkanad, Ernakulam</td>\n",
       "      <td>Homeopath</td>\n",
       "      <td>100% 16 Feedback Kakkanad, Ernakulam</td>\n",
       "      <td>100.0</td>\n",
       "      <td>train</td>\n",
       "      <td>Kakkanad</td>\n",
       "      <td>Ernakulam</td>\n",
       "      <td>BHMS</td>\n",
       "      <td>MD - Homeopathy</td>\n",
       "    </tr>\n",
       "  </tbody>\n",
       "</table>\n",
       "</div>"
      ],
      "text/plain": [
       "           Qualification  Experience Rating                Place    Profile  \\\n",
       "0  BHMS, MD - Homeopathy          24   100%  Kakkanad, Ernakulam  Homeopath   \n",
       "\n",
       "                     Miscellaneous_Info   Fees    ind      Area        City  \\\n",
       "0  100% 16 Feedback Kakkanad, Ernakulam  100.0  train  Kakkanad   Ernakulam   \n",
       "\n",
       "  First_Degree     Second_Degree  \n",
       "0         BHMS   MD - Homeopathy  "
      ]
     },
     "execution_count": 15,
     "metadata": {},
     "output_type": "execute_result"
    }
   ],
   "source": [
    "df.head(1)"
   ]
  },
  {
   "cell_type": "code",
   "execution_count": 16,
   "metadata": {},
   "outputs": [],
   "source": [
    "# Since both 'Qualification' and 'Place' columns have been used to extract new features\n",
    "# Thus they can be dropped\n",
    "df.drop(['Qualification', 'Place'], axis=1, inplace=True)"
   ]
  },
  {
   "cell_type": "markdown",
   "metadata": {},
   "source": [
    "# Data Cleaning"
   ]
  },
  {
   "cell_type": "markdown",
   "metadata": {},
   "source": [
    "#### Cleaning 'Rating' \n",
    "\n",
    "The column has the noun percent sign (%) attached to it which needs to be dropped for better analysis|"
   ]
  },
  {
   "cell_type": "code",
   "execution_count": 17,
   "metadata": {},
   "outputs": [],
   "source": [
    "df['Rating'].fillna('0%', inplace=True)\n",
    "import re\n",
    "def clean_text(text):\n",
    "    text = re.sub(r'%', '', str(text))\n",
    "    return text\n",
    "\n",
    "df['Rating'] = df['Rating'].apply(clean_text)\n",
    "df['Rating'] = df['Rating'].astype(int)"
   ]
  },
  {
   "cell_type": "code",
   "execution_count": 18,
   "metadata": {},
   "outputs": [
    {
     "data": {
      "text/html": [
       "<div>\n",
       "<style scoped>\n",
       "    .dataframe tbody tr th:only-of-type {\n",
       "        vertical-align: middle;\n",
       "    }\n",
       "\n",
       "    .dataframe tbody tr th {\n",
       "        vertical-align: top;\n",
       "    }\n",
       "\n",
       "    .dataframe thead th {\n",
       "        text-align: right;\n",
       "    }\n",
       "</style>\n",
       "<table border=\"1\" class=\"dataframe\">\n",
       "  <thead>\n",
       "    <tr style=\"text-align: right;\">\n",
       "      <th></th>\n",
       "      <th>Experience</th>\n",
       "      <th>Rating</th>\n",
       "      <th>Profile</th>\n",
       "      <th>Miscellaneous_Info</th>\n",
       "      <th>Fees</th>\n",
       "      <th>ind</th>\n",
       "      <th>Area</th>\n",
       "      <th>City</th>\n",
       "      <th>First_Degree</th>\n",
       "      <th>Second_Degree</th>\n",
       "    </tr>\n",
       "  </thead>\n",
       "  <tbody>\n",
       "    <tr>\n",
       "      <th>0</th>\n",
       "      <td>24</td>\n",
       "      <td>100</td>\n",
       "      <td>Homeopath</td>\n",
       "      <td>100% 16 Feedback Kakkanad, Ernakulam</td>\n",
       "      <td>100.0</td>\n",
       "      <td>train</td>\n",
       "      <td>Kakkanad</td>\n",
       "      <td>Ernakulam</td>\n",
       "      <td>BHMS</td>\n",
       "      <td>MD - Homeopathy</td>\n",
       "    </tr>\n",
       "  </tbody>\n",
       "</table>\n",
       "</div>"
      ],
      "text/plain": [
       "   Experience  Rating    Profile                    Miscellaneous_Info   Fees  \\\n",
       "0          24     100  Homeopath  100% 16 Feedback Kakkanad, Ernakulam  100.0   \n",
       "\n",
       "     ind      Area        City First_Degree     Second_Degree  \n",
       "0  train  Kakkanad   Ernakulam         BHMS   MD - Homeopathy  "
      ]
     },
     "execution_count": 18,
     "metadata": {},
     "output_type": "execute_result"
    }
   ],
   "source": [
    "df.head(1)"
   ]
  },
  {
   "cell_type": "markdown",
   "metadata": {},
   "source": [
    "#### Cleaning 'Miscellaneous_Info' \n",
    "The column has multiple type of data like\n",
    "\n",
    "- The feedback provided by the customers\n",
    "- Has a lot of missing values.\n",
    "- The miscellaneous fees charged\n",
    "- The location that has already been mentioned in another column\n",
    "\n",
    "Which need to be seperated for better analysis\n",
    "\n",
    "__The column seems to be very confusing__"
   ]
  },
  {
   "cell_type": "code",
   "execution_count": 20,
   "metadata": {},
   "outputs": [],
   "source": [
    "df['Miscellaneous_Info'].fillna('missing', inplace=True)\n",
    "\n",
    "# Extracting the feedback from the column and formulating a new variable 'Feedback'.\n",
    "def get_text(feedback):\n",
    "    feedback = re.findall(r'\\d+ Feedback', str(feedback))\n",
    "    if feedback == []:\n",
    "        feedback = '0 Feedback'\n",
    "        return feedback\n",
    "    else:\n",
    "        return feedback[0]\n",
    "\n",
    "df['Feedback'] = df['Miscellaneous_Info'].apply(get_text)\n",
    "df['Feedback'] = df['Feedback'].str.replace(' Feedback','')\n",
    "df['Feedback'] = df['Feedback'].astype(int)"
   ]
  },
  {
   "cell_type": "code",
   "execution_count": 21,
   "metadata": {},
   "outputs": [],
   "source": [
    "# Extracting the fees mentioned from the column and formulating a new variable 'Misc_Fees'.\n",
    "def get_fee(text):\n",
    "    text = re.sub(r',', \"\", text)\n",
    "    text = re.findall(r'₹\\d+', text)\n",
    "    if text != []:\n",
    "        return text[0]\n",
    "    else:\n",
    "        return 0\n",
    "\n",
    "df['Misc_Fees'] = df['Miscellaneous_Info'].apply(get_fee)\n",
    "df['Misc_Fees'].fillna(50, inplace=True)\n",
    "df['Misc_Fees'] = df['Misc_Fees'].astype(int)"
   ]
  },
  {
   "cell_type": "code",
   "execution_count": 22,
   "metadata": {},
   "outputs": [],
   "source": [
    "# Since 'Miscellaneous_Info' has been used to extract new features\n",
    "# Thus it can be dropped\n",
    "df.drop(['Miscellaneous_Info'], axis=1, inplace=True)"
   ]
  },
  {
   "cell_type": "markdown",
   "metadata": {},
   "source": [
    "# EDA"
   ]
  },
  {
   "cell_type": "code",
   "execution_count": 23,
   "metadata": {},
   "outputs": [],
   "source": [
    "import matplotlib.pyplot as plt\n",
    "import seaborn as sns\n",
    "from matplotlib import pyplot"
   ]
  },
  {
   "cell_type": "markdown",
   "metadata": {},
   "source": [
    "#### Univariate Analysis"
   ]
  },
  {
   "cell_type": "markdown",
   "metadata": {},
   "source": [
    "#### Fees"
   ]
  },
  {
   "cell_type": "code",
   "execution_count": 24,
   "metadata": {},
   "outputs": [
    {
     "data": {
      "image/png": "[encoded data removed]",
      "text/plain": [
       "<Figure size 1080x504 with 1 Axes>"
      ]
     },
     "metadata": {
      "needs_background": "light"
     },
     "output_type": "display_data"
    }
   ],
   "source": [
    "fig, ax = plt.subplots(figsize=(15, 7))\n",
    "sns.countplot(train['Fees'].sort_values(), ax=ax, alpha=0.5, palette='copper')\n",
    "plt.show()"
   ]
  },
  {
   "cell_type": "markdown",
   "metadata": {},
   "source": [
    "Most of the fees are distributed around 100,200,300 and 500."
   ]
  },
  {
   "cell_type": "code",
   "execution_count": 25,
   "metadata": {},
   "outputs": [
    {
     "data": {
      "text/plain": [
       "<matplotlib.axes._subplots.AxesSubplot at 0x1fd20326b48>"
      ]
     },
     "execution_count": 25,
     "metadata": {},
     "output_type": "execute_result"
    },
    {
     "data": {
      "image/png": "[encoded data removed]",
      "text/plain": [
       "<Figure size 648x432 with 1 Axes>"
      ]
     },
     "metadata": {
      "needs_background": "light"
     },
     "output_type": "display_data"
    }
   ],
   "source": [
    "plt.figure(figsize = (9,6))\n",
    "plt.title('Distribution of Fees')\n",
    "sns.distplot(df['Fees'], color='#b36f74')"
   ]
  },
  {
   "cell_type": "markdown",
   "metadata": {},
   "source": [
    "#### Profile"
   ]
  },
  {
   "cell_type": "code",
   "execution_count": 26,
   "metadata": {},
   "outputs": [
    {
     "data": {
      "image/png": "[encoded data removed]",
      "text/plain": [
       "<Figure size 576x432 with 1 Axes>"
      ]
     },
     "metadata": {
      "needs_background": "light"
     },
     "output_type": "display_data"
    }
   ],
   "source": [
    "fig, ax = plt.subplots(figsize=(8,6))\n",
    "sns.countplot(df['Profile'].sort_values(), ax=ax, alpha=0.5, palette='copper')\n",
    "plt.xticks(rotation=90)\n",
    "plt.show()"
   ]
  },
  {
   "cell_type": "markdown",
   "metadata": {},
   "source": [
    "#### Experience"
   ]
  },
  {
   "cell_type": "code",
   "execution_count": 27,
   "metadata": {},
   "outputs": [
    {
     "data": {
      "text/plain": [
       "<matplotlib.axes._subplots.AxesSubplot at 0x1fd201fde88>"
      ]
     },
     "execution_count": 27,
     "metadata": {},
     "output_type": "execute_result"
    },
    {
     "data": {
      "image/png": "[encoded data removed]",
      "text/plain": [
       "<Figure size 648x432 with 1 Axes>"
      ]
     },
     "metadata": {
      "needs_background": "light"
     },
     "output_type": "display_data"
    }
   ],
   "source": [
    "plt.figure(figsize = (9,6))\n",
    "plt.title('Distribution of Experience')\n",
    "sns.distplot(df['Experience'], color='#b36f74')"
   ]
  },
  {
   "cell_type": "markdown",
   "metadata": {},
   "source": [
    "Most of the experience distribution is centered around 5-15 years"
   ]
  },
  {
   "cell_type": "code",
   "execution_count": 28,
   "metadata": {},
   "outputs": [
    {
     "data": {
      "image/png": "[encoded data removed]",
      "text/plain": [
       "<Figure size 1224x504 with 1 Axes>"
      ]
     },
     "metadata": {
      "needs_background": "light"
     },
     "output_type": "display_data"
    }
   ],
   "source": [
    "fig, ax = plt.subplots(figsize=(17,7))\n",
    "sns.countplot(df['Experience'], ax=ax, alpha=0.5, palette='copper')\n",
    "ax.set(title='Distribution of Experience')\n",
    "plt.show()"
   ]
  },
  {
   "cell_type": "markdown",
   "metadata": {},
   "source": [
    "#### Bi-variate Analysis"
   ]
  },
  {
   "cell_type": "markdown",
   "metadata": {},
   "source": [
    "#### Fees"
   ]
  },
  {
   "cell_type": "code",
   "execution_count": 29,
   "metadata": {},
   "outputs": [
    {
     "data": {
      "text/plain": [
       "Text(0.5, 1.0, 'Experience According to Fees')"
      ]
     },
     "execution_count": 29,
     "metadata": {},
     "output_type": "execute_result"
    },
    {
     "data": {
      "image/png": "[encoded data removed]",
      "text/plain": [
       "<Figure size 1224x360 with 1 Axes>"
      ]
     },
     "metadata": {
      "needs_background": "light"
     },
     "output_type": "display_data"
    }
   ],
   "source": [
    "plt.figure(figsize=(17,5))\n",
    "sns.lineplot(x=\"Experience\", y=\"Fees\", marker='o', ci=None, data=df)\n",
    "plt.title(\"Experience According to Fees\")"
   ]
  },
  {
   "cell_type": "markdown",
   "metadata": {},
   "source": [
    "- It can be assumed that there is a association between the experience of the doctor and the fees they charged. \n",
    "\n",
    "\n",
    "- Average fees increased with experience but peak at approximately 25 years of experience, then, average fees decreased with further increasing number of experience."
   ]
  },
  {
   "cell_type": "code",
   "execution_count": 30,
   "metadata": {},
   "outputs": [
    {
     "data": {
      "text/plain": [
       "Text(0.5, 1.0, 'Rating According to Fees')"
      ]
     },
     "execution_count": 30,
     "metadata": {},
     "output_type": "execute_result"
    },
    {
     "data": {
      "image/png": "[encoded data removed]",
      "text/plain": [
       "<Figure size 1224x360 with 1 Axes>"
      ]
     },
     "metadata": {
      "needs_background": "light"
     },
     "output_type": "display_data"
    }
   ],
   "source": [
    "plt.figure(figsize=(17,5))\n",
    "sns.lineplot(x=\"Rating\", y=\"Fees\", marker='o', ci=None, data=df)\n",
    "plt.title(\"Rating According to Fees\")"
   ]
  },
  {
   "cell_type": "markdown",
   "metadata": {},
   "source": [
    "- high rating does not correlate to a higher fee charged and a lower fee might be the reason for high rating), and the highest average fees charged were actually rated 30–60%. "
   ]
  },
  {
   "cell_type": "code",
   "execution_count": 31,
   "metadata": {},
   "outputs": [
    {
     "data": {
      "image/png": "[encoded data removed]",
      "text/plain": [
       "<Figure size 504x504 with 1 Axes>"
      ]
     },
     "metadata": {},
     "output_type": "display_data"
    }
   ],
   "source": [
    "profile=train['Profile'].value_counts().index\n",
    "\n",
    "colors= ['#b36f74','#e06c74','#c93c47','#f52534','#9c0813','#591015']\n",
    "\n",
    "arr=[]\n",
    "for i in profile:\n",
    "  x=train[train['Profile']==i]\n",
    "  arr.append(np.mean(x['Fees']))\n",
    "plt.figure(figsize=(7,7))    \n",
    "plt.title('Average fees w.r.t the Profile')\n",
    "plt.pie(arr,labels=profile, colors=colors, autopct='%1.2f%%', pctdistance=0.6,\n",
    "        labeldistance=1.1,shadow=True,textprops={'fontsize':14}, explode=(0,0,0.2,0,0,0))\n",
    "plt.show()"
   ]
  },
  {
   "cell_type": "markdown",
   "metadata": {},
   "source": [
    "- It states that 'Ayurveda' doctors earn the least compared to the rest of the profiles.\n",
    "\n",
    "\n",
    "- whereas the 'Dermatologists' and the 'ENT' specialists are earning the most."
   ]
  },
  {
   "cell_type": "code",
   "execution_count": 32,
   "metadata": {},
   "outputs": [
    {
     "data": {
      "image/png": "[encoded data removed]",
      "text/plain": [
       "<Figure size 504x504 with 1 Axes>"
      ]
     },
     "metadata": {},
     "output_type": "display_data"
    }
   ],
   "source": [
    "City=df['City'].value_counts().index\n",
    "colors= ['#b36f74','#e06c74','#c93c47','#f52534','#9c0813','#591015']\n",
    "\n",
    "arr=[]\n",
    "for i in City:\n",
    "  x=df[df['City']==i]\n",
    "  arr.append(np.mean(x['Fees']))\n",
    "    \n",
    "plt.figure(figsize=(7,7))    \n",
    "plt.title('Average fees w.r.t the City')\n",
    "plt.pie(arr,labels=City, colors=colors, autopct='%1.2f%%', pctdistance=0.6,\n",
    "        labeldistance=1.1,shadow=True,textprops={'fontsize':14}, explode=(0,0,0.2,0,0,0,0,0))\n",
    "plt.show()"
   ]
  },
  {
   "cell_type": "markdown",
   "metadata": {},
   "source": [
    "- It shows that the cities are highly correlated with the wages of the doctor.\n",
    "\n",
    "\n",
    "- It can be said that the Fees is fairly high in metropolitian cities like Delhi, Banglore, Mumbai and Hyderabad."
   ]
  },
  {
   "cell_type": "markdown",
   "metadata": {},
   "source": [
    "#### City"
   ]
  },
  {
   "cell_type": "code",
   "execution_count": 33,
   "metadata": {},
   "outputs": [
    {
     "data": {
      "image/png": "[encoded data removed]",
      "text/plain": [
       "<Figure size 432x1728 with 6 Axes>"
      ]
     },
     "metadata": {
      "needs_background": "light"
     },
     "output_type": "display_data"
    }
   ],
   "source": [
    "sns.catplot(x='Fees', y='City', row='Profile', data=df.sort_values(\"Profile\"), kind='box', height=4, aspect= 1.5, palette='copper')\n",
    "plt.show()"
   ]
  },
  {
   "cell_type": "markdown",
   "metadata": {},
   "source": [
    "1. __Ayurveda__ : There are no Ayurvedic doctor's in Coimbatore and most in Delhi\n",
    "\n",
    "\n",
    "2. __Dentist__ : Delhi has the maximum number of Dentists and Coimbatore has the least.\n",
    "\n",
    "\n",
    "3. __Dermatologists__ : There are no Dermatologists in Thiruvananthpuram and equal amount in Delhi and Mumbai.\n",
    "\n",
    "\n",
    "4. __ENT__ : There are no Dermatologists in Thiruvananthpuram and maximum Delhi.\n",
    "\n",
    "\n",
    "5. __Genral Medicine__ : Theres very few in Ernakulum\n",
    "\n",
    "\n",
    "6. __Homeopath__ : Mumbai has the maximum number of Homepath doctor's.\n",
    "\n",
    "\n",
    "__A genral conclusion can be drawn that Metropolitian Cities like Mumbai and Delhi both have very high number of all profiles of doctor's. Smaller cities like Coimbatore and Thiruvananthpuram do not necesirraly have all profiles of doctor's__ "
   ]
  },
  {
   "cell_type": "markdown",
   "metadata": {},
   "source": [
    "#### Encoding the column Profile"
   ]
  },
  {
   "cell_type": "code",
   "execution_count": 34,
   "metadata": {},
   "outputs": [],
   "source": [
    "df = pd.get_dummies(df, columns=['Profile'])"
   ]
  },
  {
   "cell_type": "markdown",
   "metadata": {},
   "source": [
    "#### Treating the missing values"
   ]
  },
  {
   "cell_type": "code",
   "execution_count": 35,
   "metadata": {},
   "outputs": [
    {
     "data": {
      "text/plain": [
       "Experience                     0\n",
       "Rating                         0\n",
       "Fees                        1987\n",
       "ind                            0\n",
       "Area                          31\n",
       "City                          32\n",
       "First_Degree                   0\n",
       "Second_Degree               2571\n",
       "Feedback                       0\n",
       "Misc_Fees                      0\n",
       "Profile_Ayurveda               0\n",
       "Profile_Dentist                0\n",
       "Profile_Dermatologists         0\n",
       "Profile_ENT Specialist         0\n",
       "Profile_General Medicine       0\n",
       "Profile_Homeopath              0\n",
       "dtype: int64"
      ]
     },
     "execution_count": 35,
     "metadata": {},
     "output_type": "execute_result"
    }
   ],
   "source": [
    "df.isnull().sum()"
   ]
  },
  {
   "cell_type": "code",
   "execution_count": 36,
   "metadata": {},
   "outputs": [],
   "source": [
    "# Filling the null values in categorical columns\n",
    "\n",
    "from sklearn.impute import SimpleImputer\n",
    "imp = SimpleImputer(strategy='most_frequent')\n",
    "\n",
    "df['Area']=imp.fit_transform(df['Area'].values.reshape(-1,1))\n",
    "df['City']=imp.fit_transform(df['City'].values.reshape(-1,1))"
   ]
  },
  {
   "cell_type": "code",
   "execution_count": 37,
   "metadata": {},
   "outputs": [],
   "source": [
    "# Not all doctor's have undertaken a second degree thus the should be imputed\n",
    "df['Second_Degree'] = df['Second_Degree'].replace(np.nan, 'No Second Degree') "
   ]
  },
  {
   "cell_type": "markdown",
   "metadata": {},
   "source": [
    "#### Splitting the data into train and test back"
   ]
  },
  {
   "cell_type": "code",
   "execution_count": 38,
   "metadata": {},
   "outputs": [],
   "source": [
    "test, train = df[df[\"ind\"].eq(\"test\")], df[df[\"ind\"].eq(\"train\")]\n",
    "test = test.drop(['ind','Fees'], axis=1)\n",
    "train = train.drop(['ind'], axis=1)"
   ]
  },
  {
   "cell_type": "code",
   "execution_count": 39,
   "metadata": {},
   "outputs": [
    {
     "data": {
      "text/plain": [
       "((5961, 14), (5961,))"
      ]
     },
     "execution_count": 39,
     "metadata": {},
     "output_type": "execute_result"
    }
   ],
   "source": [
    "targets = train['Fees']\n",
    "train.drop('Fees',axis=1,inplace=True)\n",
    "train.shape, targets.shape"
   ]
  },
  {
   "cell_type": "markdown",
   "metadata": {},
   "source": [
    "# Training Phase"
   ]
  },
  {
   "cell_type": "code",
   "execution_count": 40,
   "metadata": {},
   "outputs": [],
   "source": [
    "from sklearn.model_selection import train_test_split\n",
    "x_train, x_test, y_train,y_test = train_test_split(train,targets,test_size=.25,random_state=1)"
   ]
  },
  {
   "cell_type": "code",
   "execution_count": 41,
   "metadata": {},
   "outputs": [],
   "source": [
    "x_train_qual1 = x_train['First_Degree']\n",
    "x_test_qual1 = x_test['First_Degree']\n",
    "\n",
    "x_train_qual2 = x_train['Second_Degree']\n",
    "x_test_qual2 = x_test['Second_Degree']\n",
    "\n",
    "x_train_area = x_train['Area']\n",
    "x_test_area = x_test['Area']\n",
    "\n",
    "x_train_city = x_train['City']\n",
    "x_test_city = x_test['City']"
   ]
  },
  {
   "cell_type": "code",
   "execution_count": 42,
   "metadata": {},
   "outputs": [],
   "source": [
    "from sklearn.feature_extraction.text import TfidfVectorizer\n",
    "\n",
    "tf1 = TfidfVectorizer(ngram_range=(1,2), binary=True, token_pattern=r'\\w{3,}')\n",
    "x_train_qual1 = tf1.fit_transform(x_train_qual1)\n",
    "x_test_qual1 = tf1.transform(x_test_qual1)\n",
    "\n",
    "x_train_qual2 = tf1.fit_transform(x_train_qual2)\n",
    "x_test_qual2 = tf1.transform(x_test_qual2)\n",
    "\n",
    "tf2 = TfidfVectorizer()\n",
    "x_train_area = tf2.fit_transform(x_train_area)\n",
    "x_test_area = tf2.transform(x_test_area)\n",
    "\n",
    "x_train_city = tf2.fit_transform(x_train_city)\n",
    "x_test_city = tf2.transform(x_test_city)"
   ]
  },
  {
   "cell_type": "code",
   "execution_count": 43,
   "metadata": {},
   "outputs": [],
   "source": [
    "x_train_exp = np.array(x_train['Experience']).reshape(-1,1)\n",
    "x_test_exp = np.array(x_test['Experience']).reshape(-1,1)\n",
    "\n",
    "x_train_feedback = np.array(x_train['Feedback']).reshape(-1,1)\n",
    "x_test_feedback = np.array(x_test['Feedback']).reshape(-1,1)\n",
    "\n",
    "x_train_rating = np.array(x_train['Rating']).reshape(-1,1)\n",
    "x_test_rating = np.array(x_test['Rating']).reshape(-1,1)"
   ]
  },
  {
   "cell_type": "code",
   "execution_count": 44,
   "metadata": {},
   "outputs": [],
   "source": [
    "cols = ['Profile_Dentist', 'Profile_Dermatologists', 'Profile_ENT Specialist', 'Profile_General Medicine',\n",
    "       'Profile_Homeopath']\n",
    "\n",
    "x_train_prof = x_train[cols]\n",
    "x_test_prof = x_test[cols]\n",
    "\n",
    "x_train_miscfees = np.array(x_train['Misc_Fees']).reshape(-1,1)\n",
    "x_test_miscfees = np.array(x_test['Misc_Fees']).reshape(-1,1)"
   ]
  },
  {
   "cell_type": "code",
   "execution_count": 45,
   "metadata": {},
   "outputs": [],
   "source": [
    "from math import sqrt \n",
    "from sklearn.metrics import mean_squared_log_error, mean_squared_error,r2_score,mean_absolute_error"
   ]
  },
  {
   "cell_type": "code",
   "execution_count": 46,
   "metadata": {},
   "outputs": [],
   "source": [
    "from scipy.sparse import hstack\n",
    "merged_train = hstack((x_train_exp, x_train_qual1, x_train_qual2, x_train_prof, x_train_rating, x_train_miscfees, x_train_area,x_train_city))\n",
    "merged_test  = hstack((x_test_exp, x_test_qual1, x_test_qual2, x_test_prof, x_test_rating, x_test_miscfees, x_test_area,x_test_city))"
   ]
  },
  {
   "cell_type": "code",
   "execution_count": 47,
   "metadata": {},
   "outputs": [
    {
     "data": {
      "text/plain": [
       "((4470, 3445), (1491, 3445))"
      ]
     },
     "execution_count": 47,
     "metadata": {},
     "output_type": "execute_result"
    }
   ],
   "source": [
    "merged_train.shape, merged_test.shape"
   ]
  },
  {
   "cell_type": "code",
   "execution_count": 48,
   "metadata": {},
   "outputs": [],
   "source": [
    "from sklearn.model_selection import GridSearchCV\n",
    "from sklearn.model_selection import cross_val_score\n",
    "import warnings\n",
    "warnings.filterwarnings('ignore')"
   ]
  },
  {
   "cell_type": "markdown",
   "metadata": {},
   "source": [
    "### Linear Regression"
   ]
  },
  {
   "cell_type": "code",
   "execution_count": 49,
   "metadata": {},
   "outputs": [
    {
     "name": "stdout",
     "output_type": "stream",
     "text": [
      "R2 Score: -38.4558940650225\n"
     ]
    }
   ],
   "source": [
    "from sklearn.linear_model import LinearRegression\n",
    "\n",
    "lg = LinearRegression()\n",
    "lg.fit(merged_train,y_train)\n",
    "lg.score(merged_train,y_train)\n",
    "pred_lin = lg.predict(merged_test)\n",
    "\n",
    "lgs = r2_score(y_test,pred_lin)\n",
    "print('R2 Score:',lgs*100)"
   ]
  },
  {
   "cell_type": "code",
   "execution_count": 50,
   "metadata": {},
   "outputs": [
    {
     "name": "stdout",
     "output_type": "stream",
     "text": [
      "Error:\n",
      "Mean Absolute Error: 156.05271276417213\n",
      "Mean Squared Error: 49808.8725574419\n",
      "Root Mean Square Error: 223.17901459913722\n"
     ]
    }
   ],
   "source": [
    "print('Error:')\n",
    "\n",
    "print('Mean Absolute Error:',mean_absolute_error(y_test,pred_lin))\n",
    "print('Mean Squared Error:',mean_squared_error(y_test,pred_lin))\n",
    "print('Root Mean Square Error:',np.sqrt(mean_squared_error(y_test,pred_lin)))"
   ]
  },
  {
   "cell_type": "code",
   "execution_count": 51,
   "metadata": {},
   "outputs": [
    {
     "data": {
      "image/png": "[encoded data removed]",
      "text/plain": [
       "<Figure size 432x288 with 1 Axes>"
      ]
     },
     "metadata": {
      "needs_background": "light"
     },
     "output_type": "display_data"
    }
   ],
   "source": [
    "plt.figure(figsize=(6,4))\n",
    "plt.scatter(x=y_test, y=pred_lin, color='#b36f74')\n",
    "plt.plot(y_test,y_test, color='black')\n",
    "plt.xlabel('Actual Happiness Score',fontsize=14)\n",
    "plt.ylabel('Predicted Happiness Score',fontsize=14)\n",
    "plt.title('Linear Regression',fontsize=18)\n",
    "plt.show()"
   ]
  },
  {
   "cell_type": "markdown",
   "metadata": {},
   "source": [
    "### Lasso Regression"
   ]
  },
  {
   "cell_type": "code",
   "execution_count": 52,
   "metadata": {},
   "outputs": [
    {
     "name": "stdout",
     "output_type": "stream",
     "text": [
      "R2 Score: 18.851229636829302\n"
     ]
    }
   ],
   "source": [
    "from sklearn.linear_model import Lasso\n",
    "\n",
    "ls = Lasso()\n",
    "ls.fit(merged_train,y_train)\n",
    "ls.score(merged_train,y_train)\n",
    "pred_ls = ls.predict(merged_test)\n",
    "\n",
    "lss = r2_score(y_test,pred_ls)\n",
    "print('R2 Score:',lss*100)"
   ]
  },
  {
   "cell_type": "code",
   "execution_count": 53,
   "metadata": {},
   "outputs": [
    {
     "name": "stdout",
     "output_type": "stream",
     "text": [
      "Error:\n",
      "Mean Absolute Error: 135.39641994426944\n",
      "Mean Squared Error: 29192.89777085324\n",
      "Root Mean Square Error: 170.85929231637724\n"
     ]
    }
   ],
   "source": [
    "print('Error:')\n",
    "\n",
    "print('Mean Absolute Error:',mean_absolute_error(y_test,pred_ls))\n",
    "print('Mean Squared Error:',mean_squared_error(y_test,pred_ls))\n",
    "print('Root Mean Square Error:',np.sqrt(mean_squared_error(y_test,pred_ls)))"
   ]
  },
  {
   "cell_type": "code",
   "execution_count": 54,
   "metadata": {},
   "outputs": [
    {
     "data": {
      "image/png": "[encoded data removed]",
      "text/plain": [
       "<Figure size 432x288 with 1 Axes>"
      ]
     },
     "metadata": {
      "needs_background": "light"
     },
     "output_type": "display_data"
    }
   ],
   "source": [
    "plt.figure(figsize=(6,4))\n",
    "plt.scatter(x=y_test, y=pred_ls, color='#b36f74')\n",
    "plt.plot(y_test,y_test, color='black')\n",
    "plt.xlabel('Actual Happiness Score',fontsize=14)\n",
    "plt.ylabel('Predicted Happiness Score',fontsize=14)\n",
    "plt.title('Lasso Regression',fontsize=18)\n",
    "plt.show()"
   ]
  },
  {
   "cell_type": "markdown",
   "metadata": {},
   "source": [
    "### Ridge Regression"
   ]
  },
  {
   "cell_type": "code",
   "execution_count": 55,
   "metadata": {},
   "outputs": [
    {
     "name": "stdout",
     "output_type": "stream",
     "text": [
      "R2 Score: 21.47150125732491\n"
     ]
    }
   ],
   "source": [
    "from sklearn.linear_model import Ridge\n",
    "\n",
    "rg = Ridge()\n",
    "rg.fit(merged_train,y_train)\n",
    "rg.score(merged_train,y_train)\n",
    "pred_rg = rg.predict(merged_test)\n",
    "\n",
    "rgs = r2_score(y_test, pred_rg)\n",
    "print('R2 Score:',rgs*100)"
   ]
  },
  {
   "cell_type": "code",
   "execution_count": 56,
   "metadata": {},
   "outputs": [
    {
     "name": "stdout",
     "output_type": "stream",
     "text": [
      "Error:\n",
      "Mean Absolute Error: 128.52535448341305\n",
      "Mean Squared Error: 28250.267079018227\n",
      "Root Mean Square Error: 168.07815764999992\n"
     ]
    }
   ],
   "source": [
    "print('Error:')\n",
    "\n",
    "print('Mean Absolute Error:',mean_absolute_error(y_test,pred_rg))\n",
    "print('Mean Squared Error:',mean_squared_error(y_test,pred_rg))\n",
    "print('Root Mean Square Error:',np.sqrt(mean_squared_error(y_test,pred_rg)))"
   ]
  },
  {
   "cell_type": "code",
   "execution_count": 57,
   "metadata": {},
   "outputs": [
    {
     "data": {
      "image/png": "[encoded data removed]",
      "text/plain": [
       "<Figure size 432x288 with 1 Axes>"
      ]
     },
     "metadata": {
      "needs_background": "light"
     },
     "output_type": "display_data"
    }
   ],
   "source": [
    "plt.figure(figsize=(6,4))\n",
    "plt.scatter(x=y_test, y=pred_rg, color='#b36f74')\n",
    "plt.plot(y_test,y_test, color='black')\n",
    "plt.xlabel('Actual Happiness Score',fontsize=14)\n",
    "plt.ylabel('Predicted Happiness Score',fontsize=14)\n",
    "plt.title('Ridge Regression',fontsize=18)\n",
    "plt.show()"
   ]
  },
  {
   "cell_type": "markdown",
   "metadata": {},
   "source": [
    "### KNN"
   ]
  },
  {
   "cell_type": "code",
   "execution_count": 58,
   "metadata": {},
   "outputs": [
    {
     "name": "stdout",
     "output_type": "stream",
     "text": [
      "R2 Score: 5.418581179045933\n"
     ]
    }
   ],
   "source": [
    "from sklearn.neighbors import KNeighborsRegressor\n",
    "\n",
    "kn = KNeighborsRegressor()\n",
    "kn.fit(merged_train,y_train)\n",
    "kn.score(merged_train,y_train)\n",
    "pred_kn = kn.predict(merged_test)\n",
    "\n",
    "kns = r2_score(y_test,pred_kn)\n",
    "print('R2 Score:',kns*100)"
   ]
  },
  {
   "cell_type": "code",
   "execution_count": 59,
   "metadata": {},
   "outputs": [
    {
     "name": "stdout",
     "output_type": "stream",
     "text": [
      "Error:\n",
      "Mean Absolute Error: 143.88477531857814\n",
      "Mean Squared Error: 34025.231415157614\n",
      "Root Mean Square Error: 184.4592947377757\n"
     ]
    }
   ],
   "source": [
    "print('Error:')\n",
    "\n",
    "print('Mean Absolute Error:',mean_absolute_error(y_test,pred_kn))\n",
    "print('Mean Squared Error:',mean_squared_error(y_test,pred_kn))\n",
    "print('Root Mean Square Error:',np.sqrt(mean_squared_error(y_test,pred_kn)))"
   ]
  },
  {
   "cell_type": "code",
   "execution_count": 60,
   "metadata": {},
   "outputs": [
    {
     "data": {
      "image/png": "[encoded data removed]",
      "text/plain": [
       "<Figure size 432x288 with 1 Axes>"
      ]
     },
     "metadata": {
      "needs_background": "light"
     },
     "output_type": "display_data"
    }
   ],
   "source": [
    "plt.figure(figsize=(6,4))\n",
    "plt.scatter(x=y_test, y=pred_kn, color='#b36f74')\n",
    "plt.plot(y_test,y_test, color='black')\n",
    "plt.xlabel('Actual Happiness Score',fontsize=14)\n",
    "plt.ylabel('Predicted Happiness Score',fontsize=14)\n",
    "plt.title('KNN Regression',fontsize=18)\n",
    "plt.show()"
   ]
  },
  {
   "cell_type": "markdown",
   "metadata": {},
   "source": [
    "### DecisionTree"
   ]
  },
  {
   "cell_type": "code",
   "execution_count": 61,
   "metadata": {},
   "outputs": [
    {
     "name": "stdout",
     "output_type": "stream",
     "text": [
      "R2 Score: -28.49434830203763\n"
     ]
    }
   ],
   "source": [
    "from sklearn.tree import DecisionTreeRegressor\n",
    "\n",
    "dtr = DecisionTreeRegressor()\n",
    "dtr.fit(merged_train,y_train)\n",
    "dtr.score(merged_train,y_train)\n",
    "pred_dtr = dtr.predict(merged_test)\n",
    "\n",
    "dtrs = r2_score(y_test,pred_dtr)\n",
    "print('R2 Score:',dtrs*100)"
   ]
  },
  {
   "cell_type": "code",
   "execution_count": 62,
   "metadata": {},
   "outputs": [
    {
     "name": "stdout",
     "output_type": "stream",
     "text": [
      "Error:\n",
      "Mean Absolute Error: 149.77129443326626\n",
      "Mean Squared Error: 46225.25217974514\n",
      "Root Mean Square Error: 215.00058646372372\n"
     ]
    }
   ],
   "source": [
    "print('Error:')\n",
    "\n",
    "print('Mean Absolute Error:',mean_absolute_error(y_test,pred_dtr))\n",
    "print('Mean Squared Error:',mean_squared_error(y_test,pred_dtr))\n",
    "print('Root Mean Square Error:',np.sqrt(mean_squared_error(y_test,pred_dtr)))"
   ]
  },
  {
   "cell_type": "code",
   "execution_count": 63,
   "metadata": {},
   "outputs": [
    {
     "data": {
      "image/png": "[encoded data removed]",
      "text/plain": [
       "<Figure size 432x288 with 1 Axes>"
      ]
     },
     "metadata": {
      "needs_background": "light"
     },
     "output_type": "display_data"
    }
   ],
   "source": [
    "plt.figure(figsize=(6,4))\n",
    "plt.scatter(x=y_test, y=pred_dtr, color='#b36f74')\n",
    "plt.plot(y_test,y_test, color='black')\n",
    "plt.xlabel('Actual Happiness Score',fontsize=14)\n",
    "plt.ylabel('Predicted Happiness Score',fontsize=14)\n",
    "plt.title('DecisionTree Regression',fontsize=18)\n",
    "plt.show()"
   ]
  },
  {
   "cell_type": "markdown",
   "metadata": {},
   "source": [
    "### RandomForest"
   ]
  },
  {
   "cell_type": "code",
   "execution_count": 64,
   "metadata": {},
   "outputs": [
    {
     "name": "stdout",
     "output_type": "stream",
     "text": [
      "R2 Score: 20.640431851134768\n"
     ]
    }
   ],
   "source": [
    "from sklearn.ensemble import RandomForestRegressor\n",
    "\n",
    "rf = RandomForestRegressor()\n",
    "rf.fit(merged_train,y_train)\n",
    "rf.score(merged_train,y_train)\n",
    "pred_random = rf.predict(merged_test)\n",
    "\n",
    "rfs = r2_score(y_test,pred_random)\n",
    "print('R2 Score:',rfs*100)"
   ]
  },
  {
   "cell_type": "code",
   "execution_count": 65,
   "metadata": {},
   "outputs": [
    {
     "name": "stdout",
     "output_type": "stream",
     "text": [
      "Error:\n",
      "Mean Absolute Error: 127.03445546293636\n",
      "Mean Squared Error: 28549.240484367612\n",
      "Root Mean Square Error: 168.96520495169298\n"
     ]
    }
   ],
   "source": [
    "print('Error:')\n",
    "\n",
    "print('Mean Absolute Error:',mean_absolute_error(y_test,pred_random))\n",
    "print('Mean Squared Error:',mean_squared_error(y_test,pred_random))\n",
    "print('Root Mean Square Error:',np.sqrt(mean_squared_error(y_test,pred_random)))"
   ]
  },
  {
   "cell_type": "code",
   "execution_count": 66,
   "metadata": {},
   "outputs": [
    {
     "data": {
      "image/png": "[encoded data removed]",
      "text/plain": [
       "<Figure size 432x288 with 1 Axes>"
      ]
     },
     "metadata": {
      "needs_background": "light"
     },
     "output_type": "display_data"
    }
   ],
   "source": [
    "plt.figure(figsize=(6,4))\n",
    "plt.scatter(x=y_test, y=pred_random, color='#b36f74')\n",
    "plt.plot(y_test,y_test, color='black')\n",
    "plt.xlabel('Actual Happiness Score',fontsize=14)\n",
    "plt.ylabel('Predicted Happiness Score',fontsize=14)\n",
    "plt.title('RandomForest Regression',fontsize=18)\n",
    "plt.show()"
   ]
  },
  {
   "cell_type": "markdown",
   "metadata": {},
   "source": [
    "### GradientBoost"
   ]
  },
  {
   "cell_type": "code",
   "execution_count": 67,
   "metadata": {},
   "outputs": [
    {
     "name": "stdout",
     "output_type": "stream",
     "text": [
      "R2 Score: 22.717576613954225\n"
     ]
    }
   ],
   "source": [
    "from sklearn.ensemble import GradientBoostingRegressor\n",
    "\n",
    "gbr = GradientBoostingRegressor()\n",
    "gbr.fit(merged_train,y_train)\n",
    "gbr.score(merged_train,y_train)\n",
    "pred_gb = gbr.predict(merged_test)\n",
    "\n",
    "gbs = r2_score(y_test,pred_gb)\n",
    "print('R2 Score:',gbs*100)"
   ]
  },
  {
   "cell_type": "code",
   "execution_count": 68,
   "metadata": {},
   "outputs": [
    {
     "name": "stdout",
     "output_type": "stream",
     "text": [
      "Error:\n",
      "Mean Absolute Error: 131.57096174911425\n",
      "Mean Squared Error: 27801.997187335815\n",
      "Root Mean Square Error: 166.73930906458685\n"
     ]
    }
   ],
   "source": [
    "print('Error:')\n",
    "\n",
    "print('Mean Absolute Error:',mean_absolute_error(y_test,pred_gb))\n",
    "print('Mean Squared Error:',mean_squared_error(y_test,pred_gb))\n",
    "print('Root Mean Square Error:',np.sqrt(mean_squared_error(y_test,pred_gb)))"
   ]
  },
  {
   "cell_type": "code",
   "execution_count": 69,
   "metadata": {},
   "outputs": [
    {
     "data": {
      "image/png": "[encoded data removed]",
      "text/plain": [
       "<Figure size 432x288 with 1 Axes>"
      ]
     },
     "metadata": {
      "needs_background": "light"
     },
     "output_type": "display_data"
    }
   ],
   "source": [
    "plt.figure(figsize=(6,4))\n",
    "plt.scatter(x=y_test, y=pred_gb, color='#b36f74')\n",
    "plt.plot(y_test,y_test, color='black')\n",
    "plt.xlabel('Actual Happiness Score',fontsize=14)\n",
    "plt.ylabel('Predicted Happiness Score',fontsize=14)\n",
    "plt.title('GradientBoost Regression',fontsize=18)\n",
    "plt.show()"
   ]
  },
  {
   "cell_type": "markdown",
   "metadata": {},
   "source": [
    "### AdaBoost"
   ]
  },
  {
   "cell_type": "code",
   "execution_count": 70,
   "metadata": {},
   "outputs": [
    {
     "name": "stdout",
     "output_type": "stream",
     "text": [
      "R2 Score: 9.99060475234369\n"
     ]
    }
   ],
   "source": [
    "from sklearn.ensemble import AdaBoostRegressor\n",
    "\n",
    "ada = AdaBoostRegressor()\n",
    "ada.fit(merged_train,y_train)\n",
    "ada.score(merged_train,y_train)\n",
    "pred_ada = ada.predict(merged_test)\n",
    "\n",
    "adas = r2_score(y_test,pred_ada)\n",
    "print('R2 Score:',adas*100)"
   ]
  },
  {
   "cell_type": "code",
   "execution_count": 71,
   "metadata": {},
   "outputs": [
    {
     "name": "stdout",
     "output_type": "stream",
     "text": [
      "Error:\n",
      "Mean Absolute Error: 149.08798535146437\n",
      "Mean Squared Error: 32380.466914304645\n",
      "Root Mean Square Error: 179.94573324840087\n"
     ]
    }
   ],
   "source": [
    "print('Error:')\n",
    "\n",
    "print('Mean Absolute Error:',mean_absolute_error(y_test,pred_ada))\n",
    "print('Mean Squared Error:',mean_squared_error(y_test,pred_ada))\n",
    "print('Root Mean Square Error:',np.sqrt(mean_squared_error(y_test,pred_ada)))"
   ]
  },
  {
   "cell_type": "code",
   "execution_count": 72,
   "metadata": {},
   "outputs": [
    {
     "data": {
      "image/png": "[encoded data removed]",
      "text/plain": [
       "<Figure size 432x288 with 1 Axes>"
      ]
     },
     "metadata": {
      "needs_background": "light"
     },
     "output_type": "display_data"
    }
   ],
   "source": [
    "plt.figure(figsize=(6,4))\n",
    "plt.scatter(x=y_test, y=pred_ada, color='#b36f74')\n",
    "plt.plot(y_test,y_test, color='black')\n",
    "plt.xlabel('Actual Happiness Score',fontsize=14)\n",
    "plt.ylabel('Predicted Happiness Score',fontsize=14)\n",
    "plt.title('AdaBoost Regression',fontsize=18)\n",
    "plt.show()"
   ]
  },
  {
   "cell_type": "markdown",
   "metadata": {},
   "source": [
    "### XGB"
   ]
  },
  {
   "cell_type": "code",
   "execution_count": 73,
   "metadata": {},
   "outputs": [
    {
     "name": "stdout",
     "output_type": "stream",
     "text": [
      "R2 Score: 25.065161882449626\n"
     ]
    }
   ],
   "source": [
    "import xgboost as xgb\n",
    "\n",
    "xg = xgb.XGBRegressor()\n",
    "xg.fit(merged_train,y_train)\n",
    "xg.score(merged_train,y_train)\n",
    "pred_xg = xg.predict(merged_test)\n",
    "\n",
    "xgs = r2_score(y_test,pred_xg)\n",
    "print('R2 Score:',xgs*100)"
   ]
  },
  {
   "cell_type": "code",
   "execution_count": 74,
   "metadata": {},
   "outputs": [
    {
     "name": "stdout",
     "output_type": "stream",
     "text": [
      "Error:\n",
      "Mean Absolute Error: 125.94814678680808\n",
      "Mean Squared Error: 26957.464159357234\n",
      "Root Mean Square Error: 164.1872837931039\n"
     ]
    }
   ],
   "source": [
    "print('Error:')\n",
    "\n",
    "print('Mean Absolute Error:',mean_absolute_error(y_test,pred_xg))\n",
    "print('Mean Squared Error:',mean_squared_error(y_test,pred_xg))\n",
    "print('Root Mean Square Error:',np.sqrt(mean_squared_error(y_test,pred_xg)))"
   ]
  },
  {
   "cell_type": "code",
   "execution_count": 75,
   "metadata": {},
   "outputs": [
    {
     "data": {
      "image/png": "[encoded data removed]",
      "text/plain": [
       "<Figure size 432x288 with 1 Axes>"
      ]
     },
     "metadata": {
      "needs_background": "light"
     },
     "output_type": "display_data"
    }
   ],
   "source": [
    "plt.figure(figsize=(6,4))\n",
    "plt.scatter(x=y_test, y=pred_xg, color='#b36f74')\n",
    "plt.plot(y_test,y_test, color='black')\n",
    "plt.xlabel('Actual Happiness Score',fontsize=14)\n",
    "plt.ylabel('Predicted Happiness Score',fontsize=14)\n",
    "plt.title('XGB Regression',fontsize=18)\n",
    "plt.show()"
   ]
  },
  {
   "cell_type": "markdown",
   "metadata": {},
   "source": [
    "### Bagging"
   ]
  },
  {
   "cell_type": "code",
   "execution_count": 76,
   "metadata": {},
   "outputs": [
    {
     "name": "stdout",
     "output_type": "stream",
     "text": [
      "R2 Score: 13.804722064293085\n"
     ]
    }
   ],
   "source": [
    "from sklearn.ensemble import BaggingRegressor\n",
    "\n",
    "bg = BaggingRegressor()\n",
    "bg.fit(merged_train,y_train)\n",
    "bg.score(merged_train,y_train)\n",
    "pred_bg = bg.predict(merged_test)\n",
    "\n",
    "bgs = r2_score(y_test,pred_bg)\n",
    "print('R2 Score:',bgs*100)"
   ]
  },
  {
   "cell_type": "code",
   "execution_count": 77,
   "metadata": {},
   "outputs": [
    {
     "name": "stdout",
     "output_type": "stream",
     "text": [
      "Error:\n",
      "Mean Absolute Error: 130.59195171026155\n",
      "Mean Squared Error: 31008.355713167897\n",
      "Root Mean Square Error: 176.0918956487433\n"
     ]
    }
   ],
   "source": [
    "print('Error:')\n",
    "\n",
    "print('Mean Absolute Error:',mean_absolute_error(y_test,pred_bg))\n",
    "print('Mean Squared Error:',mean_squared_error(y_test,pred_bg))\n",
    "print('Root Mean Square Error:',np.sqrt(mean_squared_error(y_test,pred_bg)))"
   ]
  },
  {
   "cell_type": "code",
   "execution_count": 78,
   "metadata": {},
   "outputs": [
    {
     "data": {
      "image/png": "[encoded data removed]",
      "text/plain": [
       "<Figure size 432x288 with 1 Axes>"
      ]
     },
     "metadata": {
      "needs_background": "light"
     },
     "output_type": "display_data"
    }
   ],
   "source": [
    "plt.figure(figsize=(6,4))\n",
    "plt.scatter(x=y_test, y=pred_bg, color='#b36f74')\n",
    "plt.plot(y_test,y_test, color='black')\n",
    "plt.xlabel('Actual Happiness Score',fontsize=14)\n",
    "plt.ylabel('Predicted Happiness Score',fontsize=14)\n",
    "plt.title('XGB Regression',fontsize=18)\n",
    "plt.show()"
   ]
  },
  {
   "cell_type": "markdown",
   "metadata": {},
   "source": [
    "### Picking the best model"
   ]
  },
  {
   "cell_type": "code",
   "execution_count": 79,
   "metadata": {},
   "outputs": [
    {
     "data": {
      "text/html": [
       "<div>\n",
       "<style scoped>\n",
       "    .dataframe tbody tr th:only-of-type {\n",
       "        vertical-align: middle;\n",
       "    }\n",
       "\n",
       "    .dataframe tbody tr th {\n",
       "        vertical-align: top;\n",
       "    }\n",
       "\n",
       "    .dataframe thead th {\n",
       "        text-align: right;\n",
       "    }\n",
       "</style>\n",
       "<table border=\"1\" class=\"dataframe\">\n",
       "  <thead>\n",
       "    <tr style=\"text-align: right;\">\n",
       "      <th></th>\n",
       "      <th>Model</th>\n",
       "      <th>R2 Score</th>\n",
       "    </tr>\n",
       "  </thead>\n",
       "  <tbody>\n",
       "    <tr>\n",
       "      <th>8</th>\n",
       "      <td>XGBoost</td>\n",
       "      <td>25.065162</td>\n",
       "    </tr>\n",
       "    <tr>\n",
       "      <th>6</th>\n",
       "      <td>Gradient Boost Regression</td>\n",
       "      <td>22.717577</td>\n",
       "    </tr>\n",
       "    <tr>\n",
       "      <th>2</th>\n",
       "      <td>Ridge Regression</td>\n",
       "      <td>21.471501</td>\n",
       "    </tr>\n",
       "    <tr>\n",
       "      <th>5</th>\n",
       "      <td>Random Forest Regression</td>\n",
       "      <td>20.640432</td>\n",
       "    </tr>\n",
       "    <tr>\n",
       "      <th>1</th>\n",
       "      <td>Lasso Regression</td>\n",
       "      <td>18.851230</td>\n",
       "    </tr>\n",
       "    <tr>\n",
       "      <th>9</th>\n",
       "      <td>BaggingRegressor</td>\n",
       "      <td>13.804722</td>\n",
       "    </tr>\n",
       "    <tr>\n",
       "      <th>7</th>\n",
       "      <td>AdaBoost Regressor</td>\n",
       "      <td>9.990605</td>\n",
       "    </tr>\n",
       "    <tr>\n",
       "      <th>3</th>\n",
       "      <td>KNN</td>\n",
       "      <td>5.418581</td>\n",
       "    </tr>\n",
       "    <tr>\n",
       "      <th>4</th>\n",
       "      <td>Decision Tree Regression</td>\n",
       "      <td>-28.494348</td>\n",
       "    </tr>\n",
       "    <tr>\n",
       "      <th>0</th>\n",
       "      <td>Linear Regression</td>\n",
       "      <td>-38.455894</td>\n",
       "    </tr>\n",
       "  </tbody>\n",
       "</table>\n",
       "</div>"
      ],
      "text/plain": [
       "                       Model   R2 Score\n",
       "8                    XGBoost  25.065162\n",
       "6  Gradient Boost Regression  22.717577\n",
       "2           Ridge Regression  21.471501\n",
       "5   Random Forest Regression  20.640432\n",
       "1           Lasso Regression  18.851230\n",
       "9           BaggingRegressor  13.804722\n",
       "7         AdaBoost Regressor   9.990605\n",
       "3                        KNN   5.418581\n",
       "4   Decision Tree Regression -28.494348\n",
       "0          Linear Regression -38.455894"
      ]
     },
     "execution_count": 79,
     "metadata": {},
     "output_type": "execute_result"
    }
   ],
   "source": [
    "models = pd.DataFrame({\n",
    "    'Model': ['Linear Regression','Lasso Regression', 'Ridge Regression','KNN','Decision Tree Regression',\n",
    "              'Random Forest Regression','Gradient Boost Regression','AdaBoost Regressor','XGBoost','BaggingRegressor'],\n",
    "    'R2 Score': [lgs*100, lss*100, rgs*100, kns*100, dtrs*100, rfs*100, gbs*100, adas*100, xgs*100, bgs*100]})\n",
    "models.sort_values(by='R2 Score', ascending=False)"
   ]
  },
  {
   "cell_type": "markdown",
   "metadata": {},
   "source": [
    "The scores aren't very great, and the top scores are from the models are \n",
    "1. XGBoost\n",
    "2. Gradient Boost Regressor\n",
    "3. Ridge Regressior\n",
    "4. Random Forest Regressior\n",
    "5. Lasso Regression\n",
    "\n",
    "__And Hyperparameter Tuning needs to be performed on top 5 models to attain better scores__"
   ]
  },
  {
   "cell_type": "markdown",
   "metadata": {},
   "source": [
    "## Hyperparameter Tuning"
   ]
  },
  {
   "cell_type": "markdown",
   "metadata": {},
   "source": [
    "#### XGB"
   ]
  },
  {
   "cell_type": "code",
   "execution_count": 80,
   "metadata": {},
   "outputs": [
    {
     "name": "stdout",
     "output_type": "stream",
     "text": [
      "Fitting 5 folds for each of 10 candidates, totalling 50 fits\n"
     ]
    },
    {
     "name": "stderr",
     "output_type": "stream",
     "text": [
      "[Parallel(n_jobs=-1)]: Using backend LokyBackend with 8 concurrent workers.\n",
      "[Parallel(n_jobs=-1)]: Done  25 tasks      | elapsed:   13.7s\n",
      "[Parallel(n_jobs=-1)]: Done  50 out of  50 | elapsed:   34.8s finished\n"
     ]
    },
    {
     "name": "stdout",
     "output_type": "stream",
     "text": [
      "{'subsample': 0.85, 'reg_lambda': 1, 'min_child_weight': 0, 'max_depth': 25, 'max_delta_step': 0, 'learning_rate': 0.02, 'gamma': 100, 'colsample_bytree': 0.7, 'colsample_bylevel': 1}\n"
     ]
    }
   ],
   "source": [
    "from xgboost import XGBRegressor\n",
    "grid_param = {'learning_rate': [0.02,0],\n",
    "              'gamma': [100,200,300],\n",
    "              'max_depth': [0,25],\n",
    "              'min_child_weight': [0,1],\n",
    "              'max_delta_step': [0.1,0],\n",
    "              'subsample': [0,0.75,0.85,0.95,1],\n",
    "              'colsample_bylevel': [0,0.50,0.95,1],\n",
    "              'colsample_bytree': [0.3,0.7],\n",
    "              'reg_lambda': [0,1]}\n",
    "\n",
    "from sklearn.model_selection import RandomizedSearchCV\n",
    "xgb = XGBRegressor()\n",
    "reg_xgb = RandomizedSearchCV(estimator = xgb,\n",
    "                               param_distributions = grid_param,\n",
    "                               cv=5, verbose=2, n_jobs = -1)\n",
    "\n",
    "reg_xgb.fit(merged_train,y_train)\n",
    "print(reg_xgb.best_params_)"
   ]
  },
  {
   "cell_type": "code",
   "execution_count": 81,
   "metadata": {},
   "outputs": [
    {
     "name": "stdout",
     "output_type": "stream",
     "text": [
      "R2 Score: 0.22401112419752456\n",
      "RMSLE: 0.5737818956650961\n",
      "RMSE: 167.08035111598525\n"
     ]
    }
   ],
   "source": [
    "xgb = XGBRegressor(learning_rate=0.02, \n",
    "                   gamma=100, \n",
    "                   max_depth=25,  \n",
    "                   min_child_weight=0, \n",
    "                   max_delta_step=0, \n",
    "                   subsample=0.75,  \n",
    "                   colsample_bylevel=0.95,  \n",
    "                   colsample_bytree=0.70,  \n",
    "                   reg_lambda=1)\n",
    "xgb.fit(merged_train, y_train)\n",
    "y_pred1 = xgb.predict(merged_test)\n",
    "y_pred1 = y_pred1.astype(int)\n",
    "lssx = r2_score(y_test,y_pred1)\n",
    "print('R2 Score:',lssx)\n",
    "lssrr = sqrt(mean_squared_log_error(y_test, y_pred1))\n",
    "print('RMSLE:', lssrr)\n",
    "print('RMSE:', sqrt(mean_squared_error(y_test, y_pred1)))"
   ]
  },
  {
   "cell_type": "markdown",
   "metadata": {},
   "source": [
    "#### GradientBoost"
   ]
  },
  {
   "cell_type": "code",
   "execution_count": 82,
   "metadata": {},
   "outputs": [
    {
     "name": "stdout",
     "output_type": "stream",
     "text": [
      "Fitting 5 folds for each of 10 candidates, totalling 50 fits\n"
     ]
    },
    {
     "name": "stderr",
     "output_type": "stream",
     "text": [
      "[Parallel(n_jobs=-1)]: Using backend LokyBackend with 8 concurrent workers.\n",
      "[Parallel(n_jobs=-1)]: Done  25 tasks      | elapsed:    1.4s\n",
      "[Parallel(n_jobs=-1)]: Done  50 out of  50 | elapsed:    6.7s finished\n"
     ]
    },
    {
     "name": "stdout",
     "output_type": "stream",
     "text": [
      "{'subsample': 1.0, 'random_state': 10, 'n_estimators': 92, 'min_samples_split': 80, 'min_samples_leaf': 1, 'max_features': 'auto', 'max_depth': 11, 'loss': 'lad', 'learning_rate': 0.2}\n"
     ]
    }
   ],
   "source": [
    "from sklearn.ensemble import GradientBoostingRegressor\n",
    "grid_param = {'loss':['ls','lad','huber','quantile'],\n",
    "              'learning_rate':[0.1,0.2],  \n",
    "              'random_state':[10,20], \n",
    "              'n_estimators':[92,100],   \n",
    "              'max_depth':[10,11],  \n",
    "              'subsample':[0,1.0], \n",
    "              'min_samples_split':[40,80], \n",
    "              'min_samples_leaf':[0,1],\n",
    "              'max_features':['auto','sqrt','log2']}\n",
    "\n",
    "from sklearn.model_selection import RandomizedSearchCV\n",
    "gbr1= GradientBoostingRegressor()\n",
    "reg_gbr1 = RandomizedSearchCV(estimator = gbr1,\n",
    "                               param_distributions = grid_param,\n",
    "                               cv=5, verbose=2, n_jobs = -1)\n",
    "\n",
    "reg_gbr1.fit(merged_train,y_train)\n",
    "print(reg_gbr1.best_params_)"
   ]
  },
  {
   "cell_type": "code",
   "execution_count": 83,
   "metadata": {},
   "outputs": [
    {
     "name": "stdout",
     "output_type": "stream",
     "text": [
      "R2 Score: 0.23923147600618655\n",
      "RMSLE: 0.5916420201569095\n",
      "RMSE: 165.4336681479496\n"
     ]
    }
   ],
   "source": [
    "from sklearn.ensemble import GradientBoostingRegressor\n",
    "gb = GradientBoostingRegressor(loss='lad', \n",
    "                               learning_rate=0.2,  \n",
    "                               random_state=10, \n",
    "                               n_estimators=92,   \n",
    "                               max_depth=11,  \n",
    "                               subsample=1.0, \n",
    "                               min_samples_split=40, \n",
    "                               min_samples_leaf=1,\n",
    "                               max_features='auto')\n",
    "gb.fit(merged_train, y_train)\n",
    "y_pred3 = gb.predict(merged_test)\n",
    "lssgb = r2_score(y_test,y_pred3)\n",
    "print('R2 Score:',lssgb)\n",
    "lsgbr = sqrt(mean_squared_log_error(y_test, y_pred3))\n",
    "print('RMSLE:', lsgbr)\n",
    "print('RMSE:', sqrt(mean_squared_error(y_test, y_pred3)))"
   ]
  },
  {
   "cell_type": "markdown",
   "metadata": {},
   "source": [
    "#### Ridge "
   ]
  },
  {
   "cell_type": "code",
   "execution_count": 84,
   "metadata": {},
   "outputs": [
    {
     "name": "stdout",
     "output_type": "stream",
     "text": [
      "Fitting 5 folds for each of 10 candidates, totalling 50 fits\n"
     ]
    },
    {
     "name": "stderr",
     "output_type": "stream",
     "text": [
      "[Parallel(n_jobs=-1)]: Using backend LokyBackend with 8 concurrent workers.\n"
     ]
    },
    {
     "name": "stdout",
     "output_type": "stream",
     "text": [
      "{'solver': 'sparse_cg', 'random_state': 20, 'normalize': 'False', 'max_iter': 500, 'fit_intercept': 'True', 'copy_X': 'True', 'alpha': 1.0}\n"
     ]
    },
    {
     "name": "stderr",
     "output_type": "stream",
     "text": [
      "[Parallel(n_jobs=-1)]: Done  50 out of  50 | elapsed:    0.3s finished\n"
     ]
    }
   ],
   "source": [
    "grid_param = {'alpha': [0.0001,0.001,0.01,0,1.0,10],\n",
    "             'fit_intercept': ['True','False'],\n",
    "             'normalize': ['True','False'],\n",
    "             'copy_X': ['True','False'],\n",
    "             'max_iter': [100,300,500,800,1000],\n",
    "             'solver': ['auto', 'svd', 'holesky', 'lsqr', 'sparse_cg', 'sag', 'saga'],\n",
    "             'random_state': [0,10,20,30,40,50,60,70,80,90]}\n",
    "\n",
    "from sklearn.model_selection import RandomizedSearchCV\n",
    "rg = Ridge()\n",
    "reg_ridge = RandomizedSearchCV(estimator = rg,\n",
    "                               param_distributions = grid_param,\n",
    "                               cv=5, verbose=2, n_jobs = -1)\n",
    "\n",
    "reg_ridge.fit(merged_train,y_train)\n",
    "print(reg_ridge.best_params_)"
   ]
  },
  {
   "cell_type": "code",
   "execution_count": 85,
   "metadata": {},
   "outputs": [
    {
     "name": "stdout",
     "output_type": "stream",
     "text": [
      "R2 Score: 0.18851229636829303\n",
      "RMSLE: 0.6736966020039119\n",
      "RMSE: 171.41456669899796\n"
     ]
    }
   ],
   "source": [
    "lsr = Ridge(solver='auto',\n",
    "            random_state=70,\n",
    "            normalize=False,\n",
    "            max_iter=500,\n",
    "            fit_intercept=False,\n",
    "            copy_X=True,\n",
    "            alpha=0.01)\n",
    "\n",
    "lsr.fit(merged_train, y_train)\n",
    "y_pred6 = lsr.predict(merged_test)\n",
    "lssr = r2_score(y_test,y_pred6)\n",
    "print('R2 Score:',lss)\n",
    "lsrr = sqrt(mean_squared_log_error(y_test, y_pred6))\n",
    "print('RMSLE:', lsrr)\n",
    "print('RMSE:', sqrt(mean_squared_error(y_test, y_pred6)))"
   ]
  },
  {
   "cell_type": "markdown",
   "metadata": {},
   "source": [
    "#### RandomForest"
   ]
  },
  {
   "cell_type": "code",
   "execution_count": 86,
   "metadata": {},
   "outputs": [
    {
     "name": "stdout",
     "output_type": "stream",
     "text": [
      "Fitting 5 folds for each of 10 candidates, totalling 50 fits\n"
     ]
    },
    {
     "name": "stderr",
     "output_type": "stream",
     "text": [
      "[Parallel(n_jobs=-1)]: Using backend LokyBackend with 8 concurrent workers.\n",
      "[Parallel(n_jobs=-1)]: Done  35 out of  50 | elapsed:    1.0s remaining:    0.4s\n",
      "[Parallel(n_jobs=-1)]: Done  50 out of  50 | elapsed:    2.3s finished\n"
     ]
    },
    {
     "name": "stdout",
     "output_type": "stream",
     "text": [
      "{'oob_score': 'True', 'n_jobs': -1, 'min_weight_fraction_leaf': 0.2, 'min_samples_split': 5, 'min_samples_leaf': 2, 'min_impurity_decrease': 0.2, 'max_features': 'auto', 'max_depth': 20, 'criterion': 'mse', 'bootstrap': 'True'}\n"
     ]
    }
   ],
   "source": [
    "grid_param = {'criterion':['mse'], \n",
    "              'max_depth':[20,58],  \n",
    "              'min_samples_split':[5,10], \n",
    "              'min_samples_leaf':[0,2], \n",
    "              'min_weight_fraction_leaf':[0.0,0.2], \n",
    "              'max_features':['auto','sqrt','log2'],  \n",
    "              'min_impurity_decrease':[0.20,0.0],  \n",
    "              'bootstrap':['True','False'], \n",
    "              'oob_score':['True','False'], \n",
    "              'n_jobs':[-1,0]}\n",
    "\n",
    "from sklearn.model_selection import RandomizedSearchCV\n",
    "rfr = RandomForestRegressor()\n",
    "reg_rfr = RandomizedSearchCV(estimator = rfr,\n",
    "                               param_distributions = grid_param,\n",
    "                               cv=5, verbose=2, n_jobs = -1)\n",
    "\n",
    "reg_rfr.fit(merged_train,y_train)\n",
    "print(reg_rfr.best_params_)"
   ]
  },
  {
   "cell_type": "code",
   "execution_count": 87,
   "metadata": {},
   "outputs": [
    {
     "name": "stdout",
     "output_type": "stream",
     "text": [
      "R2 Score: 0.18851229636829303\n",
      "RMSLE: 0.6051871102348879\n",
      "RMSE: 168.34853998414553\n"
     ]
    }
   ],
   "source": [
    "from sklearn.ensemble import RandomForestRegressor\n",
    "rf = RandomForestRegressor(n_estimators=29,  \n",
    "                           criterion='mse', \n",
    "                           max_depth=58,  \n",
    "                           min_samples_split=5, \n",
    "                           min_samples_leaf=2, \n",
    "                           min_weight_fraction_leaf=0.0, \n",
    "                           max_features='auto', \n",
    "                           max_leaf_nodes=None, \n",
    "                           min_impurity_decrease=0.20,  \n",
    "                           bootstrap=True, \n",
    "                           oob_score=True, \n",
    "                           n_jobs=-1, \n",
    "                           random_state=11)  \n",
    "\n",
    "rf.fit(merged_train, y_train)\n",
    "y_pred4 = rf.predict(merged_test)\n",
    "rff = r2_score(y_test,y_pred4)\n",
    "print('R2 Score:',lss)\n",
    "rffr = sqrt(mean_squared_log_error(y_test, y_pred4))\n",
    "print('RMSLE:', rffr)\n",
    "print('RMSE:', sqrt(mean_squared_error(y_test, y_pred4)))"
   ]
  },
  {
   "cell_type": "markdown",
   "metadata": {},
   "source": [
    "#### Lasso"
   ]
  },
  {
   "cell_type": "code",
   "execution_count": 88,
   "metadata": {},
   "outputs": [
    {
     "name": "stdout",
     "output_type": "stream",
     "text": [
      "Fitting 5 folds for each of 10 candidates, totalling 50 fits\n"
     ]
    },
    {
     "name": "stderr",
     "output_type": "stream",
     "text": [
      "[Parallel(n_jobs=-1)]: Using backend LokyBackend with 8 concurrent workers.\n",
      "[Parallel(n_jobs=-1)]: Done  25 tasks      | elapsed:   27.9s\n",
      "[Parallel(n_jobs=-1)]: Done  50 out of  50 | elapsed:  1.3min finished\n"
     ]
    },
    {
     "name": "stdout",
     "output_type": "stream",
     "text": [
      "{'warm_start': 'False', 'selection': 'cyclic', 'random_state': 70, 'positive': 'True', 'normalize': 'False', 'max_iter': 300, 'fit_intercept': 'False', 'copy_X': 'False', 'alpha': 0.01}\n"
     ]
    }
   ],
   "source": [
    "grid_param = {'alpha': [0.0001,0.001,0.01,0,1.0,10],\n",
    "             'fit_intercept': ['True','False'],\n",
    "             'normalize': ['True','False'],\n",
    "             'copy_X': ['True','False'],\n",
    "             'max_iter': [100,300,500,800,1000],\n",
    "             'random_state': [0,10,20,30,40,50,60,70,80,90],\n",
    "             'warm_start': ['True','False'],\n",
    "             'positive': ['True','False'],\n",
    "             'selection': ['cyclic','random']}\n",
    "\n",
    "from sklearn.model_selection import RandomizedSearchCV\n",
    "las = Lasso()\n",
    "reg_lasso = RandomizedSearchCV(estimator = las,\n",
    "                               param_distributions = grid_param,\n",
    "                               cv=5, verbose=2, n_jobs = -1)\n",
    "\n",
    "reg_lasso.fit(merged_train,y_train)\n",
    "print(reg_lasso.best_params_)"
   ]
  },
  {
   "cell_type": "code",
   "execution_count": 89,
   "metadata": {},
   "outputs": [
    {
     "name": "stdout",
     "output_type": "stream",
     "text": [
      "R2 Score: 0.15671906110129874\n",
      "RMSLE: 0.6325094300149217\n",
      "RMSE: 174.17417954629224\n"
     ]
    }
   ],
   "source": [
    "lss = Lasso(warm_start=False,\n",
    "            selection='cyclic',\n",
    "            random_state=40,\n",
    "            positive=True,\n",
    "            normalize=False,\n",
    "            max_iter=1000,\n",
    "            fit_intercept=True,\n",
    "            copy_X=True,\n",
    "            alpha=0.01)\n",
    "\n",
    "lss.fit(merged_train, y_train)\n",
    "y_pred7 = lss.predict(merged_test)\n",
    "lsss = r2_score(y_test,y_pred7)\n",
    "print('R2 Score:',lsss)\n",
    "lsssr = sqrt(mean_squared_log_error(y_test, y_pred7))\n",
    "print('RMSLE:', lsssr)\n",
    "print('RMSE:', sqrt(mean_squared_error(y_test, y_pred7)))"
   ]
  },
  {
   "cell_type": "markdown",
   "metadata": {},
   "source": [
    "## Picking the best model"
   ]
  },
  {
   "cell_type": "markdown",
   "metadata": {},
   "source": [
    "## Evaluation Metrics\n",
    "\n",
    "__Root Mean Squared Logarithmic Error (RMSLE)__ \n",
    "\n",
    "- It is the Root Mean Squared Error of the log-transformed predicted and log-transformed actual values.\n",
    "\n",
    "\n",
    "- RMSLE is preferable when:\n",
    "\n",
    "i. targets having exponential growth, such as population counts, average sales of a commodity over a span of years etc.\n",
    "\n",
    "\n",
    "ii. there is a wide range in the target variables and\n",
    "\n",
    "\n",
    "iii. we want to penalize under estimates more than over estimates.\n",
    "\n",
    "\n",
    "__Thus RMSLE is a better choice for evaluation metrics rather than R2 score for this data__"
   ]
  },
  {
   "cell_type": "code",
   "execution_count": 90,
   "metadata": {},
   "outputs": [
    {
     "data": {
      "text/html": [
       "<div>\n",
       "<style scoped>\n",
       "    .dataframe tbody tr th:only-of-type {\n",
       "        vertical-align: middle;\n",
       "    }\n",
       "\n",
       "    .dataframe tbody tr th {\n",
       "        vertical-align: top;\n",
       "    }\n",
       "\n",
       "    .dataframe thead th {\n",
       "        text-align: right;\n",
       "    }\n",
       "</style>\n",
       "<table border=\"1\" class=\"dataframe\">\n",
       "  <thead>\n",
       "    <tr style=\"text-align: right;\">\n",
       "      <th></th>\n",
       "      <th>Model</th>\n",
       "      <th>R2 Score</th>\n",
       "      <th>RMSLE</th>\n",
       "    </tr>\n",
       "  </thead>\n",
       "  <tbody>\n",
       "    <tr>\n",
       "      <th>2</th>\n",
       "      <td>Ridge</td>\n",
       "      <td>18.322923</td>\n",
       "      <td>67.369660</td>\n",
       "    </tr>\n",
       "    <tr>\n",
       "      <th>4</th>\n",
       "      <td>Lasso</td>\n",
       "      <td>15.671906</td>\n",
       "      <td>63.250943</td>\n",
       "    </tr>\n",
       "    <tr>\n",
       "      <th>3</th>\n",
       "      <td>RandomForestRegressor</td>\n",
       "      <td>21.218645</td>\n",
       "      <td>60.518711</td>\n",
       "    </tr>\n",
       "    <tr>\n",
       "      <th>1</th>\n",
       "      <td>GradientBoostingRegressor</td>\n",
       "      <td>23.923148</td>\n",
       "      <td>59.164202</td>\n",
       "    </tr>\n",
       "    <tr>\n",
       "      <th>0</th>\n",
       "      <td>XGBoostRegressor</td>\n",
       "      <td>22.401112</td>\n",
       "      <td>57.378190</td>\n",
       "    </tr>\n",
       "  </tbody>\n",
       "</table>\n",
       "</div>"
      ],
      "text/plain": [
       "                       Model   R2 Score      RMSLE\n",
       "2                      Ridge  18.322923  67.369660\n",
       "4                      Lasso  15.671906  63.250943\n",
       "3      RandomForestRegressor  21.218645  60.518711\n",
       "1  GradientBoostingRegressor  23.923148  59.164202\n",
       "0           XGBoostRegressor  22.401112  57.378190"
      ]
     },
     "execution_count": 90,
     "metadata": {},
     "output_type": "execute_result"
    }
   ],
   "source": [
    "models = pd.DataFrame({\n",
    "    'Model': ['XGBoostRegressor', 'GradientBoostingRegressor', 'Ridge', 'RandomForestRegressor','Lasso'],\n",
    "    'R2 Score': [lssx*100, lssgb*100, lssr*100, rff*100,lsss*100],\n",
    "    'RMSLE': [lssrr*100, lsgbr*100, lsrr*100, rffr*100,lsssr*100] \n",
    "})\n",
    "models.sort_values(by='RMSLE', ascending=False)"
   ]
  },
  {
   "cell_type": "markdown",
   "metadata": {},
   "source": [
    "__After Hyperparameter Tuning__\n",
    "\n",
    "- The best model for the data is RandomForestRegressor because it has a fairly high value for R2 score as well as RMSLE."
   ]
  },
  {
   "cell_type": "markdown",
   "metadata": {},
   "source": [
    "#### Saving the best model"
   ]
  },
  {
   "cell_type": "code",
   "execution_count": 91,
   "metadata": {},
   "outputs": [],
   "source": [
    "import pickle\n",
    "\n",
    "filename = 'Doctor_Fee_Prediction.pkl'\n",
    "pickle.dump(rf, open(filename, 'wb'))"
   ]
  },
  {
   "cell_type": "markdown",
   "metadata": {},
   "source": [
    "## Testing Phase"
   ]
  },
  {
   "cell_type": "code",
   "execution_count": 92,
   "metadata": {},
   "outputs": [
    {
     "data": {
      "text/plain": [
       "(1987, 6)"
      ]
     },
     "execution_count": 92,
     "metadata": {},
     "output_type": "execute_result"
    }
   ],
   "source": [
    "test = pd.read_csv(r'C:\\Users\\User\\Desktop\\Projects\\Final_Test.csv')\n",
    "test.shape"
   ]
  },
  {
   "cell_type": "code",
   "execution_count": 93,
   "metadata": {},
   "outputs": [
    {
     "data": {
      "text/html": [
       "<div>\n",
       "<style scoped>\n",
       "    .dataframe tbody tr th:only-of-type {\n",
       "        vertical-align: middle;\n",
       "    }\n",
       "\n",
       "    .dataframe tbody tr th {\n",
       "        vertical-align: top;\n",
       "    }\n",
       "\n",
       "    .dataframe thead th {\n",
       "        text-align: right;\n",
       "    }\n",
       "</style>\n",
       "<table border=\"1\" class=\"dataframe\">\n",
       "  <thead>\n",
       "    <tr style=\"text-align: right;\">\n",
       "      <th></th>\n",
       "      <th>Qualification</th>\n",
       "      <th>Experience</th>\n",
       "      <th>Rating</th>\n",
       "      <th>Place</th>\n",
       "      <th>Profile</th>\n",
       "      <th>Miscellaneous_Info</th>\n",
       "    </tr>\n",
       "  </thead>\n",
       "  <tbody>\n",
       "    <tr>\n",
       "      <th>0</th>\n",
       "      <td>MBBS</td>\n",
       "      <td>35 years experience</td>\n",
       "      <td>NaN</td>\n",
       "      <td>Ghatkopar East, Mumbai</td>\n",
       "      <td>General Medicine</td>\n",
       "      <td>NaN</td>\n",
       "    </tr>\n",
       "  </tbody>\n",
       "</table>\n",
       "</div>"
      ],
      "text/plain": [
       "  Qualification           Experience Rating                   Place  \\\n",
       "0          MBBS  35 years experience    NaN  Ghatkopar East, Mumbai   \n",
       "\n",
       "            Profile Miscellaneous_Info  \n",
       "0  General Medicine                NaN  "
      ]
     },
     "execution_count": 93,
     "metadata": {},
     "output_type": "execute_result"
    }
   ],
   "source": [
    "test.head(1)"
   ]
  },
  {
   "cell_type": "code",
   "execution_count": 94,
   "metadata": {},
   "outputs": [],
   "source": [
    "test['Experience'] = test['Experience'].str.replace('years experience','').astype(int)"
   ]
  },
  {
   "cell_type": "code",
   "execution_count": 95,
   "metadata": {},
   "outputs": [],
   "source": [
    "test['Qualification'] = test['Qualification'].apply(clean_text)\n",
    "test['Place'].fillna('missing', inplace=True)"
   ]
  },
  {
   "cell_type": "code",
   "execution_count": 96,
   "metadata": {},
   "outputs": [],
   "source": [
    "test['Area'] = test['Place'].str.rsplit(',', 1).str.get(0)\n",
    "test['City'] = test['Place'].str.rsplit(',', 1).str.get(1)"
   ]
  },
  {
   "cell_type": "code",
   "execution_count": 97,
   "metadata": {},
   "outputs": [],
   "source": [
    "test['First_Degree'] = test['Qualification'].str.rsplit(',', 1).str.get(0)\n",
    "test['Second_Degree'] = test['Qualification'].str.rsplit(',', 1).str.get(1)"
   ]
  },
  {
   "cell_type": "code",
   "execution_count": 98,
   "metadata": {},
   "outputs": [],
   "source": [
    "test.drop(['Qualification', 'Place'], axis=1, inplace=True)"
   ]
  },
  {
   "cell_type": "code",
   "execution_count": 99,
   "metadata": {},
   "outputs": [],
   "source": [
    "test['Rating'].fillna('0%', inplace=True)\n",
    "test['Rating'] = test['Rating'].apply(clean_text)\n",
    "test['Rating'] = test['Rating'].astype(int)"
   ]
  },
  {
   "cell_type": "code",
   "execution_count": 102,
   "metadata": {},
   "outputs": [],
   "source": [
    "test['Miscellaneous_Info'].fillna('missing', inplace=True)\n",
    "test['Feedback'] = test['Miscellaneous_Info'].apply(get_text)\n",
    "test['Feedback'] = test['Feedback'].str.replace(' Feedback','')\n",
    "test['Feedback'] = test['Feedback'].astype(int)"
   ]
  },
  {
   "cell_type": "code",
   "execution_count": 103,
   "metadata": {},
   "outputs": [],
   "source": [
    "test['Misc_Fees'] = test['Miscellaneous_Info'].apply(get_fee)\n",
    "test['Misc_Fees'].fillna(50, inplace=True)\n",
    "test['Misc_Fees'] = test['Misc_Fees'].astype(int)"
   ]
  },
  {
   "cell_type": "code",
   "execution_count": 104,
   "metadata": {},
   "outputs": [],
   "source": [
    "test.drop(['Miscellaneous_Info'], axis=1, inplace=True)"
   ]
  },
  {
   "cell_type": "code",
   "execution_count": 105,
   "metadata": {},
   "outputs": [],
   "source": [
    "test = pd.get_dummies(test, columns=['Profile'])"
   ]
  },
  {
   "cell_type": "code",
   "execution_count": 106,
   "metadata": {},
   "outputs": [],
   "source": [
    "from sklearn.impute import SimpleImputer\n",
    "imp = SimpleImputer(strategy='most_frequent')\n",
    "\n",
    "test['Area']=imp.fit_transform(test['Area'].values.reshape(-1,1))\n",
    "test['City']=imp.fit_transform(test['City'].values.reshape(-1,1))"
   ]
  },
  {
   "cell_type": "code",
   "execution_count": 107,
   "metadata": {},
   "outputs": [],
   "source": [
    "test['Second_Degree'] = test['Second_Degree'].replace(np.nan, 'No Second Degree') "
   ]
  },
  {
   "cell_type": "code",
   "execution_count": 108,
   "metadata": {},
   "outputs": [
    {
     "data": {
      "text/html": [
       "<div>\n",
       "<style scoped>\n",
       "    .dataframe tbody tr th:only-of-type {\n",
       "        vertical-align: middle;\n",
       "    }\n",
       "\n",
       "    .dataframe tbody tr th {\n",
       "        vertical-align: top;\n",
       "    }\n",
       "\n",
       "    .dataframe thead th {\n",
       "        text-align: right;\n",
       "    }\n",
       "</style>\n",
       "<table border=\"1\" class=\"dataframe\">\n",
       "  <thead>\n",
       "    <tr style=\"text-align: right;\">\n",
       "      <th></th>\n",
       "      <th>Experience</th>\n",
       "      <th>Rating</th>\n",
       "      <th>Area</th>\n",
       "      <th>City</th>\n",
       "      <th>First_Degree</th>\n",
       "      <th>Second_Degree</th>\n",
       "      <th>Misc_Fees</th>\n",
       "      <th>Feedback</th>\n",
       "      <th>Profile_Ayurveda</th>\n",
       "      <th>Profile_Dentist</th>\n",
       "      <th>Profile_Dermatologists</th>\n",
       "      <th>Profile_ENT Specialist</th>\n",
       "      <th>Profile_General Medicine</th>\n",
       "      <th>Profile_Homeopath</th>\n",
       "    </tr>\n",
       "  </thead>\n",
       "  <tbody>\n",
       "    <tr>\n",
       "      <th>0</th>\n",
       "      <td>35</td>\n",
       "      <td>0</td>\n",
       "      <td>Ghatkopar East</td>\n",
       "      <td>Mumbai</td>\n",
       "      <td>MBBS</td>\n",
       "      <td>No Second Degree</td>\n",
       "      <td>0</td>\n",
       "      <td>0</td>\n",
       "      <td>0</td>\n",
       "      <td>0</td>\n",
       "      <td>0</td>\n",
       "      <td>0</td>\n",
       "      <td>1</td>\n",
       "      <td>0</td>\n",
       "    </tr>\n",
       "  </tbody>\n",
       "</table>\n",
       "</div>"
      ],
      "text/plain": [
       "   Experience  Rating            Area     City First_Degree     Second_Degree  \\\n",
       "0          35       0  Ghatkopar East   Mumbai         MBBS  No Second Degree   \n",
       "\n",
       "   Misc_Fees  Feedback  Profile_Ayurveda  Profile_Dentist  \\\n",
       "0          0         0                 0                0   \n",
       "\n",
       "   Profile_Dermatologists  Profile_ENT Specialist  Profile_General Medicine  \\\n",
       "0                       0                       0                         1   \n",
       "\n",
       "   Profile_Homeopath  \n",
       "0                  0  "
      ]
     },
     "execution_count": 108,
     "metadata": {},
     "output_type": "execute_result"
    }
   ],
   "source": [
    "test.head(1)"
   ]
  },
  {
   "cell_type": "code",
   "execution_count": 109,
   "metadata": {},
   "outputs": [],
   "source": [
    "x_train = df.drop(labels='Fees', axis=1)\n",
    "y_train = df['Fees'].values\n",
    "x_test = test"
   ]
  },
  {
   "cell_type": "code",
   "execution_count": 110,
   "metadata": {},
   "outputs": [],
   "source": [
    "x_train_qual1 = x_train['First_Degree']\n",
    "x_test_qual1 = x_test['First_Degree']\n",
    "\n",
    "x_train_qual2 = x_train['Second_Degree']\n",
    "x_test_qual2 = x_test['Second_Degree']\n",
    "\n",
    "x_train_area = x_train['Area']\n",
    "x_test_area = x_test['Area']\n",
    "\n",
    "x_train_city = x_train['City']\n",
    "x_test_city = x_test['City']"
   ]
  },
  {
   "cell_type": "code",
   "execution_count": 111,
   "metadata": {},
   "outputs": [],
   "source": [
    "from sklearn.feature_extraction.text import TfidfVectorizer\n",
    "\n",
    "tf1 = TfidfVectorizer(ngram_range=(1,2), binary=True, token_pattern=r'\\w{3,}')\n",
    "x_train_qual1 = tf1.fit_transform(x_train_qual1)\n",
    "x_test_qual1 = tf1.transform(x_test_qual1)\n",
    "\n",
    "x_train_qual2 = tf1.fit_transform(x_train_qual2)\n",
    "x_test_qual2 = tf1.transform(x_test_qual2)\n",
    "\n",
    "tf2 = TfidfVectorizer()\n",
    "x_train_area = tf2.fit_transform(x_train_area)\n",
    "x_test_area = tf2.transform(x_test_area)\n",
    "\n",
    "x_train_city = tf2.fit_transform(x_train_city)\n",
    "x_test_city = tf2.transform(x_test_city)"
   ]
  },
  {
   "cell_type": "code",
   "execution_count": 112,
   "metadata": {},
   "outputs": [],
   "source": [
    "x_train_exp = np.array(x_train['Experience']).reshape(-1,1)\n",
    "x_test_exp = np.array(x_test['Experience']).reshape(-1,1)\n",
    "\n",
    "x_train_feedback = np.array(x_train['Feedback']).reshape(-1,1)\n",
    "x_test_feedback = np.array(x_test['Feedback']).reshape(-1,1)\n",
    "\n",
    "x_train_rating = np.array(x_train['Rating']).reshape(-1,1)\n",
    "x_test_rating = np.array(x_test['Rating']).reshape(-1,1)"
   ]
  },
  {
   "cell_type": "code",
   "execution_count": 113,
   "metadata": {},
   "outputs": [],
   "source": [
    "cols = ['Profile_Dentist', 'Profile_Dermatologists', 'Profile_ENT Specialist', 'Profile_General Medicine',\n",
    "       'Profile_Homeopath']\n",
    "\n",
    "x_train_prof = x_train[cols]\n",
    "x_test_prof = x_test[cols]\n",
    "\n",
    "x_train_miscfees = np.array(x_train['Misc_Fees']).reshape(-1,1)\n",
    "x_test_miscfees = np.array(x_test['Misc_Fees']).reshape(-1,1)"
   ]
  },
  {
   "cell_type": "code",
   "execution_count": 115,
   "metadata": {},
   "outputs": [],
   "source": [
    "from scipy.sparse import hstack\n",
    "merged_train = hstack((x_train_exp, x_train_qual1, x_train_qual2, x_train_prof, x_train_rating, x_train_miscfees, x_train_area,x_train_city))\n",
    "merged_test  = hstack((x_test_exp, x_test_qual1, x_test_qual2, x_test_prof, x_test_rating, x_test_miscfees, x_test_area,x_test_city))"
   ]
  },
  {
   "cell_type": "code",
   "execution_count": 116,
   "metadata": {},
   "outputs": [
    {
     "data": {
      "text/plain": [
       "((7948, 4492), (1987, 4492))"
      ]
     },
     "execution_count": 116,
     "metadata": {},
     "output_type": "execute_result"
    }
   ],
   "source": [
    "merged_train.shape, merged_test.shape"
   ]
  },
  {
   "cell_type": "code",
   "execution_count": null,
   "metadata": {},
   "outputs": [],
   "source": [
    "from sklearn.ensemble import RandomForestRegressor\n",
    "rf = RandomForestRegressor()  \n",
    "\n",
    "rf.fit(merged_train, y_train)\n",
    "rf.score(merged_train,y_train)\n",
    "\n",
    "y_pred = rf.predict(merged_test)\n",
    "y_pred"
   ]
  },
  {
   "cell_type": "code",
   "execution_count": null,
   "metadata": {},
   "outputs": [],
   "source": [
    "np.savetxt(\"Doctor_Cosultation_Fee_Prediction.csv\", y_pred, delimiter=\",\")"
   ]
  },
  {
   "cell_type": "markdown",
   "metadata": {},
   "source": [
    "# Conclusion\n",
    "\n",
    "- Average fees increased with experience but peak at approximately 25 years of experience, then, average fees decreased with further increasing number of experience.\n",
    "\n",
    "\n",
    "- high rating does not correlate to a higher fee charged and a lower fee might be the reason for high rating), and the highest average fees charged were actually rated 30–60%. \n",
    "\n",
    "\n",
    "- 'Ayurveda' doctors earn the least compared to the rest of the profiles.\n",
    "\n",
    "\n",
    "- 'Dermatologists' and the 'ENT' specialists earn the most.\n",
    "\n",
    "\n",
    "- Cities are highly correlated with the wages of the doctor.\n",
    "\n",
    "\n",
    "- It can be said that the Fees is fairly high in metropolitian cities like Delhi, Banglore, Mumbai and Hyderabad.\n",
    "\n",
    "\n",
    "- A genral conclusion can be drawn that Metropolitian Cities like Mumbai and Delhi both have very high number of all profiles of doctor's. Smaller cities like Coimbatore and Thiruvananthpuram do not necesirraly have all profiles of doctor's"
   ]
  }
 ],
 "metadata": {
  "kernelspec": {
   "display_name": "Python 3",
   "language": "python",
   "name": "python3"
  },
  "language_info": {
   "codemirror_mode": {
    "name": "ipython",
    "version": 3
   },
   "file_extension": ".py",
   "mimetype": "text/x-python",
   "name": "python",
   "nbconvert_exporter": "python",
   "pygments_lexer": "ipython3",
   "version": "3.7.6"
  }
 },
 "nbformat": 4,
 "nbformat_minor": 4
}
