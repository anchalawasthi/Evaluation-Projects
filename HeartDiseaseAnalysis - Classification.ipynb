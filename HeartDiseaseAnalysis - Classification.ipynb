{
 "cells": [
  {
   "cell_type": "markdown",
   "metadata": {},
   "source": [
    "# Heart Disease Analysis - Classification\n",
    "\n",
    "Given clinical parameters of a patient, we have to predict whether or not they have heart disease"
   ]
  },
  {
   "cell_type": "markdown",
   "metadata": {},
   "source": [
    "## About the data\n",
    "\n",
    "1. age (Age in years)\n",
    "\n",
    "\n",
    "2. sex : (1 = male, 0 = female)\n",
    "\n",
    "\n",
    "3. cp (Chest Pain Type): [1: Typical Angina, 2: Atypical Angina, 3: Non-Anginal Pain, 4: Asymptomatic]\n",
    "\n",
    "\n",
    "4. trestbps (Resting Blood Pressure in mm/hg )\n",
    "\n",
    "\n",
    "5. chol (Serum Cholesterol in mg/dl)\n",
    "\n",
    "\n",
    "6. fps (Fasting Blood Sugar > 120 mg/dl): [0 = no, 1 = yes]\n",
    "\n",
    "\n",
    "7. restecg (Resting ECG): [0: normal, 1: having ST-T wave abnormality , 2: showing probable or definite left ventricular hypertrophy]\n",
    "\n",
    "\n",
    "8. thalach (maximum heart rate achieved)\n",
    "\n",
    "\n",
    "9. exang (Exercise Induced Angina): [1 = yes, 0 = no]\n",
    "\n",
    "\n",
    "10. oldpeak (ST depression induced by exercise relative to rest)\n",
    "\n",
    "\n",
    "11. slope (the slope of the peak exercise ST segment)\n",
    "\n",
    "\n",
    "12. ca [number of major vessels (0–3)]\n",
    "\n",
    "\n",
    "13. thal (Thallium heart scan): [3 = normal, 6 = fixed defect, 7 = reversible defect]\n",
    "\n",
    "\n",
    "14. target: [0 = no disease, 1 = disease]"
   ]
  },
  {
   "cell_type": "markdown",
   "metadata": {},
   "source": [
    "#### Importing the dataset"
   ]
  },
  {
   "cell_type": "code",
   "execution_count": 1,
   "metadata": {},
   "outputs": [
    {
     "data": {
      "text/html": [
       "<div>\n",
       "<style scoped>\n",
       "    .dataframe tbody tr th:only-of-type {\n",
       "        vertical-align: middle;\n",
       "    }\n",
       "\n",
       "    .dataframe tbody tr th {\n",
       "        vertical-align: top;\n",
       "    }\n",
       "\n",
       "    .dataframe thead th {\n",
       "        text-align: right;\n",
       "    }\n",
       "</style>\n",
       "<table border=\"1\" class=\"dataframe\">\n",
       "  <thead>\n",
       "    <tr style=\"text-align: right;\">\n",
       "      <th></th>\n",
       "      <th>63</th>\n",
       "      <th>1</th>\n",
       "      <th>4</th>\n",
       "      <th>140</th>\n",
       "      <th>260</th>\n",
       "      <th>0</th>\n",
       "      <th>1.1</th>\n",
       "      <th>112</th>\n",
       "      <th>1.2</th>\n",
       "      <th>3</th>\n",
       "      <th>2</th>\n",
       "      <th>?</th>\n",
       "      <th>?.1</th>\n",
       "      <th>2.1</th>\n",
       "    </tr>\n",
       "  </thead>\n",
       "  <tbody>\n",
       "    <tr>\n",
       "      <th>0</th>\n",
       "      <td>44</td>\n",
       "      <td>1</td>\n",
       "      <td>4</td>\n",
       "      <td>130</td>\n",
       "      <td>209</td>\n",
       "      <td>0</td>\n",
       "      <td>1</td>\n",
       "      <td>127</td>\n",
       "      <td>0</td>\n",
       "      <td>0</td>\n",
       "      <td>?</td>\n",
       "      <td>?</td>\n",
       "      <td>?</td>\n",
       "      <td>0</td>\n",
       "    </tr>\n",
       "    <tr>\n",
       "      <th>1</th>\n",
       "      <td>60</td>\n",
       "      <td>1</td>\n",
       "      <td>4</td>\n",
       "      <td>132</td>\n",
       "      <td>218</td>\n",
       "      <td>0</td>\n",
       "      <td>1</td>\n",
       "      <td>140</td>\n",
       "      <td>1</td>\n",
       "      <td>1.5</td>\n",
       "      <td>3</td>\n",
       "      <td>?</td>\n",
       "      <td>?</td>\n",
       "      <td>2</td>\n",
       "    </tr>\n",
       "    <tr>\n",
       "      <th>2</th>\n",
       "      <td>55</td>\n",
       "      <td>1</td>\n",
       "      <td>4</td>\n",
       "      <td>142</td>\n",
       "      <td>228</td>\n",
       "      <td>0</td>\n",
       "      <td>1</td>\n",
       "      <td>149</td>\n",
       "      <td>1</td>\n",
       "      <td>2.5</td>\n",
       "      <td>1</td>\n",
       "      <td>?</td>\n",
       "      <td>?</td>\n",
       "      <td>1</td>\n",
       "    </tr>\n",
       "    <tr>\n",
       "      <th>3</th>\n",
       "      <td>66</td>\n",
       "      <td>1</td>\n",
       "      <td>3</td>\n",
       "      <td>110</td>\n",
       "      <td>213</td>\n",
       "      <td>1</td>\n",
       "      <td>2</td>\n",
       "      <td>99</td>\n",
       "      <td>1</td>\n",
       "      <td>1.3</td>\n",
       "      <td>2</td>\n",
       "      <td>?</td>\n",
       "      <td>?</td>\n",
       "      <td>0</td>\n",
       "    </tr>\n",
       "    <tr>\n",
       "      <th>4</th>\n",
       "      <td>66</td>\n",
       "      <td>1</td>\n",
       "      <td>3</td>\n",
       "      <td>120</td>\n",
       "      <td>0</td>\n",
       "      <td>0</td>\n",
       "      <td>1</td>\n",
       "      <td>120</td>\n",
       "      <td>0</td>\n",
       "      <td>-0.5</td>\n",
       "      <td>1</td>\n",
       "      <td>?</td>\n",
       "      <td>?</td>\n",
       "      <td>0</td>\n",
       "    </tr>\n",
       "  </tbody>\n",
       "</table>\n",
       "</div>"
      ],
      "text/plain": [
       "   63  1  4  140  260  0  1.1  112 1.2     3  2  ? ?.1  2.1\n",
       "0  44  1  4  130  209  0    1  127   0     0  ?  ?   ?    0\n",
       "1  60  1  4  132  218  0    1  140   1   1.5  3  ?   ?    2\n",
       "2  55  1  4  142  228  0    1  149   1   2.5  1  ?   ?    1\n",
       "3  66  1  3  110  213  1    2   99   1   1.3  2  ?   ?    0\n",
       "4  66  1  3  120    0  0    1  120   0  -0.5  1  ?   ?    0"
      ]
     },
     "execution_count": 1,
     "metadata": {},
     "output_type": "execute_result"
    }
   ],
   "source": [
    "import pandas as pd\n",
    "import numpy as np\n",
    "\n",
    "df = pd.read_csv(r'C:\\Users\\User\\Desktop\\Projects\\heartdisease_data.csv')\n",
    "df.head()"
   ]
  },
  {
   "cell_type": "markdown",
   "metadata": {},
   "source": [
    "Since the variable names are very ambigious, hence it is necessary to alter the names "
   ]
  },
  {
   "cell_type": "code",
   "execution_count": 2,
   "metadata": {},
   "outputs": [],
   "source": [
    "df.columns=['age', 'sex', 'cp', 'trestbps', 'chol', 'fbs', 'restecg', \n",
    "            'thalach', 'exang', 'oldpeak','slope', 'ca', 'thal', 'target']"
   ]
  },
  {
   "cell_type": "code",
   "execution_count": 3,
   "metadata": {},
   "outputs": [
    {
     "data": {
      "text/html": [
       "<div>\n",
       "<style scoped>\n",
       "    .dataframe tbody tr th:only-of-type {\n",
       "        vertical-align: middle;\n",
       "    }\n",
       "\n",
       "    .dataframe tbody tr th {\n",
       "        vertical-align: top;\n",
       "    }\n",
       "\n",
       "    .dataframe thead th {\n",
       "        text-align: right;\n",
       "    }\n",
       "</style>\n",
       "<table border=\"1\" class=\"dataframe\">\n",
       "  <thead>\n",
       "    <tr style=\"text-align: right;\">\n",
       "      <th></th>\n",
       "      <th>age</th>\n",
       "      <th>sex</th>\n",
       "      <th>cp</th>\n",
       "      <th>trestbps</th>\n",
       "      <th>chol</th>\n",
       "      <th>fbs</th>\n",
       "      <th>restecg</th>\n",
       "      <th>thalach</th>\n",
       "      <th>exang</th>\n",
       "      <th>oldpeak</th>\n",
       "      <th>slope</th>\n",
       "      <th>ca</th>\n",
       "      <th>thal</th>\n",
       "      <th>target</th>\n",
       "    </tr>\n",
       "  </thead>\n",
       "  <tbody>\n",
       "    <tr>\n",
       "      <th>0</th>\n",
       "      <td>44</td>\n",
       "      <td>1</td>\n",
       "      <td>4</td>\n",
       "      <td>130</td>\n",
       "      <td>209</td>\n",
       "      <td>0</td>\n",
       "      <td>1</td>\n",
       "      <td>127</td>\n",
       "      <td>0</td>\n",
       "      <td>0</td>\n",
       "      <td>?</td>\n",
       "      <td>?</td>\n",
       "      <td>?</td>\n",
       "      <td>0</td>\n",
       "    </tr>\n",
       "    <tr>\n",
       "      <th>1</th>\n",
       "      <td>60</td>\n",
       "      <td>1</td>\n",
       "      <td>4</td>\n",
       "      <td>132</td>\n",
       "      <td>218</td>\n",
       "      <td>0</td>\n",
       "      <td>1</td>\n",
       "      <td>140</td>\n",
       "      <td>1</td>\n",
       "      <td>1.5</td>\n",
       "      <td>3</td>\n",
       "      <td>?</td>\n",
       "      <td>?</td>\n",
       "      <td>2</td>\n",
       "    </tr>\n",
       "    <tr>\n",
       "      <th>2</th>\n",
       "      <td>55</td>\n",
       "      <td>1</td>\n",
       "      <td>4</td>\n",
       "      <td>142</td>\n",
       "      <td>228</td>\n",
       "      <td>0</td>\n",
       "      <td>1</td>\n",
       "      <td>149</td>\n",
       "      <td>1</td>\n",
       "      <td>2.5</td>\n",
       "      <td>1</td>\n",
       "      <td>?</td>\n",
       "      <td>?</td>\n",
       "      <td>1</td>\n",
       "    </tr>\n",
       "    <tr>\n",
       "      <th>3</th>\n",
       "      <td>66</td>\n",
       "      <td>1</td>\n",
       "      <td>3</td>\n",
       "      <td>110</td>\n",
       "      <td>213</td>\n",
       "      <td>1</td>\n",
       "      <td>2</td>\n",
       "      <td>99</td>\n",
       "      <td>1</td>\n",
       "      <td>1.3</td>\n",
       "      <td>2</td>\n",
       "      <td>?</td>\n",
       "      <td>?</td>\n",
       "      <td>0</td>\n",
       "    </tr>\n",
       "    <tr>\n",
       "      <th>4</th>\n",
       "      <td>66</td>\n",
       "      <td>1</td>\n",
       "      <td>3</td>\n",
       "      <td>120</td>\n",
       "      <td>0</td>\n",
       "      <td>0</td>\n",
       "      <td>1</td>\n",
       "      <td>120</td>\n",
       "      <td>0</td>\n",
       "      <td>-0.5</td>\n",
       "      <td>1</td>\n",
       "      <td>?</td>\n",
       "      <td>?</td>\n",
       "      <td>0</td>\n",
       "    </tr>\n",
       "  </tbody>\n",
       "</table>\n",
       "</div>"
      ],
      "text/plain": [
       "   age  sex  cp trestbps chol fbs  restecg thalach exang oldpeak slope ca  \\\n",
       "0   44    1   4      130  209   0        1     127     0       0     ?  ?   \n",
       "1   60    1   4      132  218   0        1     140     1     1.5     3  ?   \n",
       "2   55    1   4      142  228   0        1     149     1     2.5     1  ?   \n",
       "3   66    1   3      110  213   1        2      99     1     1.3     2  ?   \n",
       "4   66    1   3      120    0   0        1     120     0    -0.5     1  ?   \n",
       "\n",
       "  thal  target  \n",
       "0    ?       0  \n",
       "1    ?       2  \n",
       "2    ?       1  \n",
       "3    ?       0  \n",
       "4    ?       0  "
      ]
     },
     "execution_count": 3,
     "metadata": {},
     "output_type": "execute_result"
    }
   ],
   "source": [
    "df.head()"
   ]
  },
  {
   "cell_type": "markdown",
   "metadata": {},
   "source": [
    "The data is very baffling and contains '?' as data which is not acceptable, hence it needs to be replaced with NaN."
   ]
  },
  {
   "cell_type": "code",
   "execution_count": 4,
   "metadata": {},
   "outputs": [
    {
     "data": {
      "text/html": [
       "<div>\n",
       "<style scoped>\n",
       "    .dataframe tbody tr th:only-of-type {\n",
       "        vertical-align: middle;\n",
       "    }\n",
       "\n",
       "    .dataframe tbody tr th {\n",
       "        vertical-align: top;\n",
       "    }\n",
       "\n",
       "    .dataframe thead th {\n",
       "        text-align: right;\n",
       "    }\n",
       "</style>\n",
       "<table border=\"1\" class=\"dataframe\">\n",
       "  <thead>\n",
       "    <tr style=\"text-align: right;\">\n",
       "      <th></th>\n",
       "      <th>age</th>\n",
       "      <th>sex</th>\n",
       "      <th>cp</th>\n",
       "      <th>trestbps</th>\n",
       "      <th>chol</th>\n",
       "      <th>fbs</th>\n",
       "      <th>restecg</th>\n",
       "      <th>thalach</th>\n",
       "      <th>exang</th>\n",
       "      <th>oldpeak</th>\n",
       "      <th>slope</th>\n",
       "      <th>ca</th>\n",
       "      <th>thal</th>\n",
       "      <th>target</th>\n",
       "    </tr>\n",
       "  </thead>\n",
       "  <tbody>\n",
       "    <tr>\n",
       "      <th>0</th>\n",
       "      <td>44</td>\n",
       "      <td>1</td>\n",
       "      <td>4</td>\n",
       "      <td>130</td>\n",
       "      <td>209</td>\n",
       "      <td>0</td>\n",
       "      <td>1</td>\n",
       "      <td>127</td>\n",
       "      <td>0</td>\n",
       "      <td>0</td>\n",
       "      <td>NaN</td>\n",
       "      <td>NaN</td>\n",
       "      <td>NaN</td>\n",
       "      <td>0</td>\n",
       "    </tr>\n",
       "    <tr>\n",
       "      <th>1</th>\n",
       "      <td>60</td>\n",
       "      <td>1</td>\n",
       "      <td>4</td>\n",
       "      <td>132</td>\n",
       "      <td>218</td>\n",
       "      <td>0</td>\n",
       "      <td>1</td>\n",
       "      <td>140</td>\n",
       "      <td>1</td>\n",
       "      <td>1.5</td>\n",
       "      <td>3</td>\n",
       "      <td>NaN</td>\n",
       "      <td>NaN</td>\n",
       "      <td>2</td>\n",
       "    </tr>\n",
       "    <tr>\n",
       "      <th>2</th>\n",
       "      <td>55</td>\n",
       "      <td>1</td>\n",
       "      <td>4</td>\n",
       "      <td>142</td>\n",
       "      <td>228</td>\n",
       "      <td>0</td>\n",
       "      <td>1</td>\n",
       "      <td>149</td>\n",
       "      <td>1</td>\n",
       "      <td>2.5</td>\n",
       "      <td>1</td>\n",
       "      <td>NaN</td>\n",
       "      <td>NaN</td>\n",
       "      <td>1</td>\n",
       "    </tr>\n",
       "    <tr>\n",
       "      <th>3</th>\n",
       "      <td>66</td>\n",
       "      <td>1</td>\n",
       "      <td>3</td>\n",
       "      <td>110</td>\n",
       "      <td>213</td>\n",
       "      <td>1</td>\n",
       "      <td>2</td>\n",
       "      <td>99</td>\n",
       "      <td>1</td>\n",
       "      <td>1.3</td>\n",
       "      <td>2</td>\n",
       "      <td>NaN</td>\n",
       "      <td>NaN</td>\n",
       "      <td>0</td>\n",
       "    </tr>\n",
       "    <tr>\n",
       "      <th>4</th>\n",
       "      <td>66</td>\n",
       "      <td>1</td>\n",
       "      <td>3</td>\n",
       "      <td>120</td>\n",
       "      <td>0</td>\n",
       "      <td>0</td>\n",
       "      <td>1</td>\n",
       "      <td>120</td>\n",
       "      <td>0</td>\n",
       "      <td>-0.5</td>\n",
       "      <td>1</td>\n",
       "      <td>NaN</td>\n",
       "      <td>NaN</td>\n",
       "      <td>0</td>\n",
       "    </tr>\n",
       "  </tbody>\n",
       "</table>\n",
       "</div>"
      ],
      "text/plain": [
       "   age  sex  cp trestbps chol fbs  restecg thalach exang oldpeak slope   ca  \\\n",
       "0   44    1   4      130  209   0        1     127     0       0   NaN  NaN   \n",
       "1   60    1   4      132  218   0        1     140     1     1.5     3  NaN   \n",
       "2   55    1   4      142  228   0        1     149     1     2.5     1  NaN   \n",
       "3   66    1   3      110  213   1        2      99     1     1.3     2  NaN   \n",
       "4   66    1   3      120    0   0        1     120     0    -0.5     1  NaN   \n",
       "\n",
       "  thal  target  \n",
       "0  NaN       0  \n",
       "1  NaN       2  \n",
       "2  NaN       1  \n",
       "3  NaN       0  \n",
       "4  NaN       0  "
      ]
     },
     "execution_count": 4,
     "metadata": {},
     "output_type": "execute_result"
    }
   ],
   "source": [
    "for i in df.columns:\n",
    "    df[i]=df[i].replace('?',np.NaN)\n",
    "\n",
    "df.head()"
   ]
  },
  {
   "cell_type": "markdown",
   "metadata": {},
   "source": [
    "#### Checking if data has correct datatypes"
   ]
  },
  {
   "cell_type": "code",
   "execution_count": 5,
   "metadata": {},
   "outputs": [
    {
     "data": {
      "text/plain": [
       "age          int64\n",
       "sex          int64\n",
       "cp           int64\n",
       "trestbps    object\n",
       "chol        object\n",
       "fbs         object\n",
       "restecg      int64\n",
       "thalach     object\n",
       "exang       object\n",
       "oldpeak     object\n",
       "slope       object\n",
       "ca          object\n",
       "thal        object\n",
       "target       int64\n",
       "dtype: object"
      ]
     },
     "execution_count": 5,
     "metadata": {},
     "output_type": "execute_result"
    }
   ],
   "source": [
    "df.dtypes"
   ]
  },
  {
   "cell_type": "markdown",
   "metadata": {},
   "source": [
    "#### It can be seen that the variables types are\n",
    " \n",
    "- Binary: sex, fbs, exang, target\n",
    "- Categorical: cp, restecg, slope, ca, thal\n",
    "- Continuous: age, trestbps, chol, thalac, oldpeak\n",
    "\n",
    "\n",
    "Note here that the binary and categorical variable are classified as different integer type by python. We will need to change these.\n",
    "\n",
    "This ambiguity needs to be treated"
   ]
  },
  {
   "cell_type": "markdown",
   "metadata": {},
   "source": [
    "#### change the categorical type to categorical variables"
   ]
  },
  {
   "cell_type": "code",
   "execution_count": 6,
   "metadata": {},
   "outputs": [
    {
     "data": {
      "text/plain": [
       "age          int64\n",
       "sex         object\n",
       "cp          object\n",
       "trestbps    object\n",
       "chol        object\n",
       "fbs         object\n",
       "restecg     object\n",
       "thalach     object\n",
       "exang       object\n",
       "oldpeak     object\n",
       "slope       object\n",
       "ca          object\n",
       "thal        object\n",
       "target      object\n",
       "dtype: object"
      ]
     },
     "execution_count": 6,
     "metadata": {},
     "output_type": "execute_result"
    }
   ],
   "source": [
    "df['sex'] = df['sex'].astype('object')\n",
    "df['cp'] = df['cp'].astype('object')\n",
    "df['restecg'] = df['restecg'].astype('object')\n",
    "df['target'] = df['target'].astype('object')\n",
    "\n",
    "df.dtypes"
   ]
  },
  {
   "cell_type": "markdown",
   "metadata": {},
   "source": [
    "Now the numerical type need to converted to numerical type, however we cannot do so becuase the data has null values.\n",
    "- the null values need to be treated first"
   ]
  },
  {
   "cell_type": "markdown",
   "metadata": {},
   "source": [
    "#### Checking for null values"
   ]
  },
  {
   "cell_type": "code",
   "execution_count": 7,
   "metadata": {},
   "outputs": [
    {
     "data": {
      "text/plain": [
       "age           0\n",
       "sex           0\n",
       "cp            0\n",
       "trestbps     56\n",
       "chol          7\n",
       "fbs           7\n",
       "restecg       0\n",
       "thalach      53\n",
       "exang        53\n",
       "oldpeak      56\n",
       "slope       102\n",
       "ca          197\n",
       "thal        165\n",
       "target        0\n",
       "dtype: int64"
      ]
     },
     "execution_count": 7,
     "metadata": {},
     "output_type": "execute_result"
    }
   ],
   "source": [
    "df.isnull().sum()"
   ]
  },
  {
   "cell_type": "markdown",
   "metadata": {},
   "source": [
    "- The variable 'ca' has almost 98% null data, hence it seems appropriate to drop this variable.\n",
    "\n",
    "\n",
    "- The variable 'thal' has almost 82% null data, hence it seems appropriate to drop this variable."
   ]
  },
  {
   "cell_type": "code",
   "execution_count": 8,
   "metadata": {},
   "outputs": [],
   "source": [
    "df.drop(['ca','thal'], axis=1, inplace=True)"
   ]
  },
  {
   "cell_type": "markdown",
   "metadata": {},
   "source": [
    "#### Imputing the null values in categorical variables"
   ]
  },
  {
   "cell_type": "code",
   "execution_count": 9,
   "metadata": {},
   "outputs": [],
   "source": [
    "from sklearn.impute import SimpleImputer\n",
    "imp = SimpleImputer(strategy='most_frequent')\n",
    "\n",
    "df['fbs']=imp.fit_transform(df['fbs'].values.reshape(-1,1))\n",
    "df['exang']=imp.fit_transform(df['exang'].values.reshape(-1,1))\n",
    "#df['slope']=imp.fit_transform(df['slope'].values.reshape(-1,1))\n",
    "#df['thal']=imp.fit_transform(df['thal'].values.reshape(-1,1))"
   ]
  },
  {
   "cell_type": "markdown",
   "metadata": {},
   "source": [
    "#### Imputing the null values in numerical variables"
   ]
  },
  {
   "cell_type": "code",
   "execution_count": 10,
   "metadata": {},
   "outputs": [],
   "source": [
    "from sklearn.impute import SimpleImputer\n",
    "imp = SimpleImputer(strategy='mean')\n",
    "\n",
    "df['trestbps']=imp.fit_transform(df['trestbps'].values.reshape(-1,1))\n",
    "df['chol']=imp.fit_transform(df['chol'].values.reshape(-1,1))\n",
    "df['thalach']=imp.fit_transform(df['thalach'].values.reshape(-1,1))\n",
    "df['oldpeak']=imp.fit_transform(df['oldpeak'].values.reshape(-1,1))"
   ]
  },
  {
   "cell_type": "code",
   "execution_count": 11,
   "metadata": {},
   "outputs": [
    {
     "data": {
      "text/plain": [
       "age           0\n",
       "sex           0\n",
       "cp            0\n",
       "trestbps      0\n",
       "chol          0\n",
       "fbs           0\n",
       "restecg       0\n",
       "thalach       0\n",
       "exang         0\n",
       "oldpeak       0\n",
       "slope       102\n",
       "target        0\n",
       "dtype: int64"
      ]
     },
     "execution_count": 11,
     "metadata": {},
     "output_type": "execute_result"
    }
   ],
   "source": [
    "df.isnull().sum()"
   ]
  },
  {
   "cell_type": "markdown",
   "metadata": {},
   "source": [
    "We can see that all the null values have been treated"
   ]
  },
  {
   "cell_type": "markdown",
   "metadata": {},
   "source": [
    "#### change the numerical type to numerical variables"
   ]
  },
  {
   "cell_type": "code",
   "execution_count": 12,
   "metadata": {},
   "outputs": [
    {
     "data": {
      "text/plain": [
       "age          int64\n",
       "sex         object\n",
       "cp          object\n",
       "trestbps     int32\n",
       "chol         int32\n",
       "fbs         object\n",
       "restecg     object\n",
       "thalach      int32\n",
       "exang       object\n",
       "oldpeak      int32\n",
       "slope       object\n",
       "target      object\n",
       "dtype: object"
      ]
     },
     "execution_count": 12,
     "metadata": {},
     "output_type": "execute_result"
    }
   ],
   "source": [
    "df['trestbps'] = df['trestbps'].astype('int')\n",
    "df['chol'] = df['chol'].astype('int')\n",
    "df['thalach'] = df['thalach'].astype('int')\n",
    "df['oldpeak'] = df['oldpeak'].astype('int')\n",
    "\n",
    "df.dtypes"
   ]
  },
  {
   "cell_type": "markdown",
   "metadata": {},
   "source": [
    "All the variables are now correctly labelled"
   ]
  },
  {
   "cell_type": "markdown",
   "metadata": {},
   "source": [
    "#### Checking for unique variables"
   ]
  },
  {
   "cell_type": "code",
   "execution_count": 13,
   "metadata": {},
   "outputs": [
    {
     "data": {
      "text/plain": [
       "age          39\n",
       "sex           2\n",
       "cp            4\n",
       "trestbps     41\n",
       "chol        100\n",
       "fbs           2\n",
       "restecg       3\n",
       "thalach      59\n",
       "exang         2\n",
       "oldpeak       5\n",
       "slope         3\n",
       "target        5\n",
       "dtype: int64"
      ]
     },
     "execution_count": 13,
     "metadata": {},
     "output_type": "execute_result"
    }
   ],
   "source": [
    "df.nunique()"
   ]
  },
  {
   "cell_type": "markdown",
   "metadata": {},
   "source": [
    "We can see that the target variable has 5 unique values however it is clear that the target is only to predict if the entry is prone to a heartDisease or not, hence it is safe to label the target variable into 2 categories"
   ]
  },
  {
   "cell_type": "code",
   "execution_count": 14,
   "metadata": {},
   "outputs": [],
   "source": [
    "df['target']=df['target'].replace(0, 'Healthy')"
   ]
  },
  {
   "cell_type": "code",
   "execution_count": 15,
   "metadata": {},
   "outputs": [],
   "source": [
    "df['target']=df['target'].replace(1, 'At_risk')"
   ]
  },
  {
   "cell_type": "code",
   "execution_count": 16,
   "metadata": {},
   "outputs": [],
   "source": [
    "df['target']=df['target'].replace(2, 'At_risk')"
   ]
  },
  {
   "cell_type": "code",
   "execution_count": 17,
   "metadata": {},
   "outputs": [],
   "source": [
    "df['target']=df['target'].replace(3, 'At_risk')"
   ]
  },
  {
   "cell_type": "code",
   "execution_count": 18,
   "metadata": {},
   "outputs": [],
   "source": [
    "df['target']=df['target'].replace(4, 'At_risk')"
   ]
  },
  {
   "cell_type": "code",
   "execution_count": 19,
   "metadata": {},
   "outputs": [
    {
     "data": {
      "text/html": [
       "<div>\n",
       "<style scoped>\n",
       "    .dataframe tbody tr th:only-of-type {\n",
       "        vertical-align: middle;\n",
       "    }\n",
       "\n",
       "    .dataframe tbody tr th {\n",
       "        vertical-align: top;\n",
       "    }\n",
       "\n",
       "    .dataframe thead th {\n",
       "        text-align: right;\n",
       "    }\n",
       "</style>\n",
       "<table border=\"1\" class=\"dataframe\">\n",
       "  <thead>\n",
       "    <tr style=\"text-align: right;\">\n",
       "      <th></th>\n",
       "      <th>age</th>\n",
       "      <th>sex</th>\n",
       "      <th>cp</th>\n",
       "      <th>trestbps</th>\n",
       "      <th>chol</th>\n",
       "      <th>fbs</th>\n",
       "      <th>restecg</th>\n",
       "      <th>thalach</th>\n",
       "      <th>exang</th>\n",
       "      <th>oldpeak</th>\n",
       "      <th>slope</th>\n",
       "      <th>target</th>\n",
       "    </tr>\n",
       "  </thead>\n",
       "  <tbody>\n",
       "    <tr>\n",
       "      <th>0</th>\n",
       "      <td>44</td>\n",
       "      <td>1</td>\n",
       "      <td>4</td>\n",
       "      <td>130</td>\n",
       "      <td>209</td>\n",
       "      <td>0</td>\n",
       "      <td>1</td>\n",
       "      <td>127</td>\n",
       "      <td>0</td>\n",
       "      <td>0</td>\n",
       "      <td>NaN</td>\n",
       "      <td>Healthy</td>\n",
       "    </tr>\n",
       "    <tr>\n",
       "      <th>1</th>\n",
       "      <td>60</td>\n",
       "      <td>1</td>\n",
       "      <td>4</td>\n",
       "      <td>132</td>\n",
       "      <td>218</td>\n",
       "      <td>0</td>\n",
       "      <td>1</td>\n",
       "      <td>140</td>\n",
       "      <td>1</td>\n",
       "      <td>1</td>\n",
       "      <td>3</td>\n",
       "      <td>At_risk</td>\n",
       "    </tr>\n",
       "    <tr>\n",
       "      <th>2</th>\n",
       "      <td>55</td>\n",
       "      <td>1</td>\n",
       "      <td>4</td>\n",
       "      <td>142</td>\n",
       "      <td>228</td>\n",
       "      <td>0</td>\n",
       "      <td>1</td>\n",
       "      <td>149</td>\n",
       "      <td>1</td>\n",
       "      <td>2</td>\n",
       "      <td>1</td>\n",
       "      <td>At_risk</td>\n",
       "    </tr>\n",
       "    <tr>\n",
       "      <th>3</th>\n",
       "      <td>66</td>\n",
       "      <td>1</td>\n",
       "      <td>3</td>\n",
       "      <td>110</td>\n",
       "      <td>213</td>\n",
       "      <td>1</td>\n",
       "      <td>2</td>\n",
       "      <td>99</td>\n",
       "      <td>1</td>\n",
       "      <td>1</td>\n",
       "      <td>2</td>\n",
       "      <td>Healthy</td>\n",
       "    </tr>\n",
       "    <tr>\n",
       "      <th>4</th>\n",
       "      <td>66</td>\n",
       "      <td>1</td>\n",
       "      <td>3</td>\n",
       "      <td>120</td>\n",
       "      <td>0</td>\n",
       "      <td>0</td>\n",
       "      <td>1</td>\n",
       "      <td>120</td>\n",
       "      <td>0</td>\n",
       "      <td>0</td>\n",
       "      <td>1</td>\n",
       "      <td>Healthy</td>\n",
       "    </tr>\n",
       "  </tbody>\n",
       "</table>\n",
       "</div>"
      ],
      "text/plain": [
       "   age sex cp  trestbps  chol fbs restecg  thalach exang  oldpeak slope  \\\n",
       "0   44   1  4       130   209   0       1      127     0        0   NaN   \n",
       "1   60   1  4       132   218   0       1      140     1        1     3   \n",
       "2   55   1  4       142   228   0       1      149     1        2     1   \n",
       "3   66   1  3       110   213   1       2       99     1        1     2   \n",
       "4   66   1  3       120     0   0       1      120     0        0     1   \n",
       "\n",
       "    target  \n",
       "0  Healthy  \n",
       "1  At_risk  \n",
       "2  At_risk  \n",
       "3  Healthy  \n",
       "4  Healthy  "
      ]
     },
     "execution_count": 19,
     "metadata": {},
     "output_type": "execute_result"
    }
   ],
   "source": [
    "df.head()"
   ]
  },
  {
   "cell_type": "markdown",
   "metadata": {},
   "source": [
    "It is clear that the data is clean and EDA can be performed"
   ]
  },
  {
   "cell_type": "code",
   "execution_count": 20,
   "metadata": {},
   "outputs": [
    {
     "data": {
      "text/html": [
       "<div>\n",
       "<style scoped>\n",
       "    .dataframe tbody tr th:only-of-type {\n",
       "        vertical-align: middle;\n",
       "    }\n",
       "\n",
       "    .dataframe tbody tr th {\n",
       "        vertical-align: top;\n",
       "    }\n",
       "\n",
       "    .dataframe thead th {\n",
       "        text-align: right;\n",
       "    }\n",
       "</style>\n",
       "<table border=\"1\" class=\"dataframe\">\n",
       "  <thead>\n",
       "    <tr style=\"text-align: right;\">\n",
       "      <th></th>\n",
       "      <th>age</th>\n",
       "      <th>trestbps</th>\n",
       "      <th>chol</th>\n",
       "      <th>thalach</th>\n",
       "      <th>oldpeak</th>\n",
       "    </tr>\n",
       "  </thead>\n",
       "  <tbody>\n",
       "    <tr>\n",
       "      <th>count</th>\n",
       "      <td>199.000000</td>\n",
       "      <td>199.000000</td>\n",
       "      <td>199.000000</td>\n",
       "      <td>199.000000</td>\n",
       "      <td>199.000000</td>\n",
       "    </tr>\n",
       "    <tr>\n",
       "      <th>mean</th>\n",
       "      <td>59.331658</td>\n",
       "      <td>133.517588</td>\n",
       "      <td>178.311558</td>\n",
       "      <td>122.638191</td>\n",
       "      <td>1.115578</td>\n",
       "    </tr>\n",
       "    <tr>\n",
       "      <th>std</th>\n",
       "      <td>7.827080</td>\n",
       "      <td>18.301031</td>\n",
       "      <td>112.144808</td>\n",
       "      <td>18.871435</td>\n",
       "      <td>0.922069</td>\n",
       "    </tr>\n",
       "    <tr>\n",
       "      <th>min</th>\n",
       "      <td>35.000000</td>\n",
       "      <td>0.000000</td>\n",
       "      <td>0.000000</td>\n",
       "      <td>69.000000</td>\n",
       "      <td>0.000000</td>\n",
       "    </tr>\n",
       "    <tr>\n",
       "      <th>25%</th>\n",
       "      <td>55.000000</td>\n",
       "      <td>125.500000</td>\n",
       "      <td>119.500000</td>\n",
       "      <td>112.000000</td>\n",
       "      <td>1.000000</td>\n",
       "    </tr>\n",
       "    <tr>\n",
       "      <th>50%</th>\n",
       "      <td>60.000000</td>\n",
       "      <td>133.000000</td>\n",
       "      <td>214.000000</td>\n",
       "      <td>122.000000</td>\n",
       "      <td>1.000000</td>\n",
       "    </tr>\n",
       "    <tr>\n",
       "      <th>75%</th>\n",
       "      <td>64.000000</td>\n",
       "      <td>140.000000</td>\n",
       "      <td>254.000000</td>\n",
       "      <td>130.000000</td>\n",
       "      <td>2.000000</td>\n",
       "    </tr>\n",
       "    <tr>\n",
       "      <th>max</th>\n",
       "      <td>77.000000</td>\n",
       "      <td>190.000000</td>\n",
       "      <td>458.000000</td>\n",
       "      <td>180.000000</td>\n",
       "      <td>4.000000</td>\n",
       "    </tr>\n",
       "  </tbody>\n",
       "</table>\n",
       "</div>"
      ],
      "text/plain": [
       "              age    trestbps        chol     thalach     oldpeak\n",
       "count  199.000000  199.000000  199.000000  199.000000  199.000000\n",
       "mean    59.331658  133.517588  178.311558  122.638191    1.115578\n",
       "std      7.827080   18.301031  112.144808   18.871435    0.922069\n",
       "min     35.000000    0.000000    0.000000   69.000000    0.000000\n",
       "25%     55.000000  125.500000  119.500000  112.000000    1.000000\n",
       "50%     60.000000  133.000000  214.000000  122.000000    1.000000\n",
       "75%     64.000000  140.000000  254.000000  130.000000    2.000000\n",
       "max     77.000000  190.000000  458.000000  180.000000    4.000000"
      ]
     },
     "execution_count": 20,
     "metadata": {},
     "output_type": "execute_result"
    }
   ],
   "source": [
    "df.describe()"
   ]
  },
  {
   "cell_type": "markdown",
   "metadata": {},
   "source": [
    "- The data consits of 199 data entries\n",
    "\n",
    "\n",
    "- The column does not consist of any null values\n",
    "\n",
    "\n",
    "- The column 'chol' is highly susceptable of consisting outliers, considering the high difference between 75 percentile and max value\n",
    "\n",
    "\n",
    "- The column 'age', 'trestbps' and 'thalach' are normally distributed\n",
    "\n",
    "\n",
    "- The columns 'chol' is right skewed."
   ]
  },
  {
   "cell_type": "code",
   "execution_count": 21,
   "metadata": {},
   "outputs": [
    {
     "data": {
      "text/html": [
       "<div>\n",
       "<style scoped>\n",
       "    .dataframe tbody tr th:only-of-type {\n",
       "        vertical-align: middle;\n",
       "    }\n",
       "\n",
       "    .dataframe tbody tr th {\n",
       "        vertical-align: top;\n",
       "    }\n",
       "\n",
       "    .dataframe thead th {\n",
       "        text-align: right;\n",
       "    }\n",
       "</style>\n",
       "<table border=\"1\" class=\"dataframe\">\n",
       "  <thead>\n",
       "    <tr style=\"text-align: right;\">\n",
       "      <th></th>\n",
       "      <th>sex</th>\n",
       "      <th>cp</th>\n",
       "      <th>fbs</th>\n",
       "      <th>restecg</th>\n",
       "      <th>exang</th>\n",
       "      <th>slope</th>\n",
       "      <th>target</th>\n",
       "    </tr>\n",
       "  </thead>\n",
       "  <tbody>\n",
       "    <tr>\n",
       "      <th>count</th>\n",
       "      <td>199</td>\n",
       "      <td>199</td>\n",
       "      <td>199</td>\n",
       "      <td>199</td>\n",
       "      <td>199</td>\n",
       "      <td>97</td>\n",
       "      <td>199</td>\n",
       "    </tr>\n",
       "    <tr>\n",
       "      <th>unique</th>\n",
       "      <td>2</td>\n",
       "      <td>4</td>\n",
       "      <td>2</td>\n",
       "      <td>3</td>\n",
       "      <td>2</td>\n",
       "      <td>3</td>\n",
       "      <td>2</td>\n",
       "    </tr>\n",
       "    <tr>\n",
       "      <th>top</th>\n",
       "      <td>1</td>\n",
       "      <td>4</td>\n",
       "      <td>0</td>\n",
       "      <td>1</td>\n",
       "      <td>1</td>\n",
       "      <td>2</td>\n",
       "      <td>At_risk</td>\n",
       "    </tr>\n",
       "    <tr>\n",
       "      <th>freq</th>\n",
       "      <td>193</td>\n",
       "      <td>130</td>\n",
       "      <td>131</td>\n",
       "      <td>92</td>\n",
       "      <td>147</td>\n",
       "      <td>52</td>\n",
       "      <td>148</td>\n",
       "    </tr>\n",
       "  </tbody>\n",
       "</table>\n",
       "</div>"
      ],
      "text/plain": [
       "        sex   cp  fbs  restecg exang slope   target\n",
       "count   199  199  199      199   199    97      199\n",
       "unique    2    4    2        3     2     3        2\n",
       "top       1    4    0        1     1     2  At_risk\n",
       "freq    193  130  131       92   147    52      148"
      ]
     },
     "execution_count": 21,
     "metadata": {},
     "output_type": "execute_result"
    }
   ],
   "source": [
    "df.describe(include=['O'])"
   ]
  },
  {
   "cell_type": "markdown",
   "metadata": {},
   "source": [
    "From the data we can see conclude that \n",
    "- The data consits of majority male entries almost i.e 96%  \n",
    "\n",
    "\n",
    "- Most entries in the data are asymptotic of chest pain i.e 65%\n",
    "\n",
    "\n",
    "- Most data entries have Fasting Blood Sugar Level of > 120mg/d i.e 66%\n",
    "\n",
    "\n",
    "- Most data entries have Excercise Induced Angina i.e 73%"
   ]
  },
  {
   "cell_type": "markdown",
   "metadata": {},
   "source": [
    "# EDA"
   ]
  },
  {
   "cell_type": "code",
   "execution_count": 22,
   "metadata": {},
   "outputs": [],
   "source": [
    "import matplotlib.pyplot as plt\n",
    "import seaborn as sns\n",
    "from matplotlib import pyplot"
   ]
  },
  {
   "cell_type": "markdown",
   "metadata": {},
   "source": [
    "#### Vizualizing categorical variables"
   ]
  },
  {
   "cell_type": "code",
   "execution_count": 23,
   "metadata": {},
   "outputs": [
    {
     "data": {
      "text/plain": [
       "<matplotlib.axes._subplots.AxesSubplot at 0x1e5a8a08788>"
      ]
     },
     "execution_count": 23,
     "metadata": {},
     "output_type": "execute_result"
    },
    {
     "data": {
      "image/png": "[encoded data removed]",
      "text/plain": [
       "<Figure size 1296x432 with 8 Axes>"
      ]
     },
     "metadata": {
      "needs_background": "light"
     },
     "output_type": "display_data"
    }
   ],
   "source": [
    "fig, axes = plt.subplots(2, 4, figsize=(18, 6))\n",
    "\n",
    "sns.countplot(ax=axes[0, 0], x=df['sex'], palette='summer')\n",
    "sns.countplot(ax=axes[0, 1], x=df['cp'], palette='summer')\n",
    "sns.countplot(ax=axes[0, 2], x=df['fbs'], palette='summer')\n",
    "sns.countplot(ax=axes[0, 3], x=df['restecg'], palette='summer')\n",
    "sns.countplot(ax=axes[1, 0], x=df['exang'], palette='summer')\n",
    "sns.countplot(ax=axes[1, 1], x=df['slope'], palette='summer')\n",
    "#sns.countplot(ax=axes[1, 2], x=df['thal'], palette='summer')\n",
    "sns.countplot(ax=axes[1, 2], x=df['target'], palette='summer')"
   ]
  },
  {
   "cell_type": "markdown",
   "metadata": {},
   "source": [
    "- The number of males in this dataset is extremly high in the data, making the data extremly skewed and imbalanced and hence it should be dropped.\n",
    "\n",
    "\n",
    "- Most entries in the data are asymptotic of chest pain\n",
    "\n",
    "\n",
    "- Most data entries have Excercise Induced Angina \n",
    "\n",
    "\n",
    "- Most data entries are at a high risk of heart disease than those that are healthy\n",
    "\n",
    "\n",
    "- Slope variable also displays high imbalance in the data, which hinder's the model's ability to predict accurately."
   ]
  },
  {
   "cell_type": "code",
   "execution_count": 24,
   "metadata": {},
   "outputs": [],
   "source": [
    "df.drop(['sex', 'slope'], axis=1, inplace=True)"
   ]
  },
  {
   "cell_type": "markdown",
   "metadata": {},
   "source": [
    "#### Comparing categorical data"
   ]
  },
  {
   "cell_type": "code",
   "execution_count": 25,
   "metadata": {
    "scrolled": false
   },
   "outputs": [
    {
     "data": {
      "image/png": "[encoded data removed]",
      "text/plain": [
       "<Figure size 432x288 with 1 Axes>"
      ]
     },
     "metadata": {
      "needs_background": "light"
     },
     "output_type": "display_data"
    },
    {
     "data": {
      "image/png": "[encoded data removed]",
      "text/plain": [
       "<Figure size 432x288 with 1 Axes>"
      ]
     },
     "metadata": {
      "needs_background": "light"
     },
     "output_type": "display_data"
    },
    {
     "data": {
      "image/png": "[encoded data removed]",
      "text/plain": [
       "<Figure size 432x288 with 1 Axes>"
      ]
     },
     "metadata": {
      "needs_background": "light"
     },
     "output_type": "display_data"
    },
    {
     "data": {
      "image/png": "[encoded data removed]",
      "text/plain": [
       "<Figure size 432x288 with 1 Axes>"
      ]
     },
     "metadata": {
      "needs_background": "light"
     },
     "output_type": "display_data"
    },
    {
     "data": {
      "image/png": "[encoded data removed]",
      "text/plain": [
       "<Figure size 432x288 with 1 Axes>"
      ]
     },
     "metadata": {
      "needs_background": "light"
     },
     "output_type": "display_data"
    }
   ],
   "source": [
    "df_1 = df[['cp','fbs','restecg','exang','target']]\n",
    "for i in df_1.columns:\n",
    "    sns.countplot(x=i, hue=\"target\", data=df_1, palette ='summer')\n",
    "    plt.show()"
   ]
  },
  {
   "cell_type": "markdown",
   "metadata": {},
   "source": [
    "- An individual with asymptotic chest pain also posseses a high risk of heart disease, and asymptotic doesn't mean healthy.\n",
    "\n",
    "\n",
    "- However an Anginia doesn't necesserily mean a probable high risk of heart disease.\n",
    "\n",
    "\n",
    "- Individuals with a blood sugar level less than 120 indicate a probable high risk of heart disease.\n",
    "\n",
    "\n",
    "- A high Blood Pressure conginally doesn't mean a probable high risk of heart disease. \n",
    "\n",
    "\n",
    "- Eletrocardiagraph results: the rate of heart desease diagnoses higher for patients with a ST-T wabe abnormality \n",
    "\n",
    "\n",
    "- Angina induced while excercise is a probable indication of heart disease"
   ]
  },
  {
   "cell_type": "markdown",
   "metadata": {},
   "source": [
    "#### Vizualizing Numerical Variables"
   ]
  },
  {
   "cell_type": "code",
   "execution_count": 26,
   "metadata": {},
   "outputs": [
    {
     "data": {
      "text/plain": [
       "<matplotlib.axes._subplots.AxesSubplot at 0x1e5a9017fc8>"
      ]
     },
     "execution_count": 26,
     "metadata": {},
     "output_type": "execute_result"
    },
    {
     "data": {
      "image/png": "[encoded data removed]",
      "text/plain": [
       "<Figure size 1296x432 with 3 Axes>"
      ]
     },
     "metadata": {
      "needs_background": "light"
     },
     "output_type": "display_data"
    }
   ],
   "source": [
    "fig, axes = plt.subplots(1, 3, figsize=(18, 6))\n",
    "\n",
    "sns.boxplot(ax=axes[0], x=df['target'],y=df['age'], palette='summer')\n",
    "sns.boxplot(ax=axes[1], x=df['target'],y=df['trestbps'], palette='summer')\n",
    "sns.boxplot(ax=axes[2], x=df['target'],y=df['chol'], palette='summer')"
   ]
  },
  {
   "cell_type": "markdown",
   "metadata": {},
   "source": [
    "- The age of patient doesn't necessarily influence on diagnosis of heart disease.\n",
    "\n",
    "\n",
    "- Resting Blood Pressure has a great affect on diagnosis of heart disease.\n",
    "\n",
    "\n",
    "- Serum cholestrol levels play a vital role in determining the diagnosis of heart disease."
   ]
  },
  {
   "cell_type": "markdown",
   "metadata": {},
   "source": [
    "#### Vizualizing Numerical Data"
   ]
  },
  {
   "cell_type": "code",
   "execution_count": 27,
   "metadata": {},
   "outputs": [
    {
     "data": {
      "text/plain": [
       "<matplotlib.legend.Legend at 0x1e5a937ca48>"
      ]
     },
     "execution_count": 27,
     "metadata": {},
     "output_type": "execute_result"
    },
    {
     "data": {
      "image/png": "[encoded data removed]",
      "text/plain": [
       "<Figure size 576x288 with 1 Axes>"
      ]
     },
     "metadata": {
      "needs_background": "light"
     },
     "output_type": "display_data"
    }
   ],
   "source": [
    "plt.subplots(figsize=(8,4))\n",
    "sns.distplot(df['age'],color='green')\n",
    "plt.title('Age \\n Median:{0:.2f} Years'.format(df['age'].median()),size=25)\n",
    "plt.axvline(df['age'].median(),color='black',label='Median')\n",
    "plt.legend()"
   ]
  },
  {
   "cell_type": "markdown",
   "metadata": {},
   "source": [
    "Age appears to follow a normal distribution."
   ]
  },
  {
   "cell_type": "code",
   "execution_count": 28,
   "metadata": {},
   "outputs": [
    {
     "data": {
      "text/plain": [
       "<matplotlib.legend.Legend at 0x1e5a9194788>"
      ]
     },
     "execution_count": 28,
     "metadata": {},
     "output_type": "execute_result"
    },
    {
     "data": {
      "image/png": "[encoded data removed]",
      "text/plain": [
       "<Figure size 576x288 with 1 Axes>"
      ]
     },
     "metadata": {
      "needs_background": "light"
     },
     "output_type": "display_data"
    }
   ],
   "source": [
    "plt.subplots(figsize=(8,4))\n",
    "sns.distplot(df['trestbps'],color='green')\n",
    "plt.title('Resting Blood Pressure \\n Median:{0:.2f} mm/hg'.format(df['trestbps'].median()),size=25)\n",
    "plt.axvline(df['trestbps'].median(),color='black',label='Median')\n",
    "plt.legend()"
   ]
  },
  {
   "cell_type": "markdown",
   "metadata": {},
   "source": [
    "Resting blood pressure appears to follow a normal distribution."
   ]
  },
  {
   "cell_type": "code",
   "execution_count": 29,
   "metadata": {},
   "outputs": [
    {
     "data": {
      "text/plain": [
       "<matplotlib.legend.Legend at 0x1e5a9294408>"
      ]
     },
     "execution_count": 29,
     "metadata": {},
     "output_type": "execute_result"
    },
    {
     "data": {
      "image/png": "[encoded data removed]",
      "text/plain": [
       "<Figure size 576x288 with 1 Axes>"
      ]
     },
     "metadata": {
      "needs_background": "light"
     },
     "output_type": "display_data"
    }
   ],
   "source": [
    "plt.subplots(figsize=(8,4))\n",
    "sns.distplot(df['chol'],color='green')\n",
    "plt.title('Cholestrol distribution \\n Median:{0:.2f} mg/dl'.format(df['chol'].median()),size=25)\n",
    "plt.axvline(df['chol'].median(),color='black',label='Median')\n",
    "plt.legend()"
   ]
  },
  {
   "cell_type": "markdown",
   "metadata": {},
   "source": [
    "Apparently is quite close to a normal distribution. However it is possible to notice a high value (acmia of 500) that can be a possible outlier!"
   ]
  },
  {
   "cell_type": "code",
   "execution_count": 30,
   "metadata": {},
   "outputs": [
    {
     "data": {
      "text/plain": [
       "<matplotlib.legend.Legend at 0x1e5a9521ec8>"
      ]
     },
     "execution_count": 30,
     "metadata": {},
     "output_type": "execute_result"
    },
    {
     "data": {
      "image/png": "[encoded data removed]",
      "text/plain": [
       "<Figure size 576x288 with 1 Axes>"
      ]
     },
     "metadata": {
      "needs_background": "light"
     },
     "output_type": "display_data"
    }
   ],
   "source": [
    "plt.subplots(figsize=(8,4))\n",
    "sns.distplot(df['thalach'],color='green')\n",
    "plt.title('Maximum Heart Rate distribution \\n Median:{0:.2f}'.format(df['thalach'].median()),size=25)\n",
    "plt.axvline(df['thalach'].median(),color='black',label='Median')\n",
    "plt.legend()"
   ]
  },
  {
   "cell_type": "markdown",
   "metadata": {},
   "source": [
    "Thalach: the maximum heart rate achieved seems to follow a right-skewed distribution"
   ]
  },
  {
   "cell_type": "code",
   "execution_count": 31,
   "metadata": {},
   "outputs": [
    {
     "data": {
      "text/plain": [
       "<seaborn.axisgrid.PairGrid at 0x1e5a95a80c8>"
      ]
     },
     "execution_count": 31,
     "metadata": {},
     "output_type": "execute_result"
    },
    {
     "data": {
      "image/png": "[encoded data removed]",
      "text/plain": [
       "<Figure size 974.75x900 with 30 Axes>"
      ]
     },
     "metadata": {
      "needs_background": "light"
     },
     "output_type": "display_data"
    }
   ],
   "source": [
    "# define continuous variable & plot\n",
    "continous_features = ['age', 'chol', 'thalach', 'oldpeak','trestbps']  \n",
    "sns.pairplot(df[continous_features + ['target']], hue='target', palette='summer')"
   ]
  },
  {
   "cell_type": "markdown",
   "metadata": {},
   "source": [
    "- oldpeak having a linear separation relation between Healthy and At-Risk.\n",
    "\n",
    "\n",
    "- thalach having a mild separation relation between Healthy and At-Risk.\n",
    "\n",
    "\n",
    "- Other features don’t form any clear separation"
   ]
  },
  {
   "cell_type": "markdown",
   "metadata": {},
   "source": [
    "# Feature Engineering"
   ]
  },
  {
   "cell_type": "markdown",
   "metadata": {},
   "source": [
    "#### Checking for outliers"
   ]
  },
  {
   "cell_type": "code",
   "execution_count": 32,
   "metadata": {},
   "outputs": [
    {
     "data": {
      "text/plain": [
       "<matplotlib.axes._subplots.AxesSubplot at 0x1e5ab0f3088>"
      ]
     },
     "execution_count": 32,
     "metadata": {},
     "output_type": "execute_result"
    },
    {
     "data": {
      "image/png": "[encoded data removed]",
      "text/plain": [
       "<Figure size 1296x432 with 4 Axes>"
      ]
     },
     "metadata": {
      "needs_background": "light"
     },
     "output_type": "display_data"
    }
   ],
   "source": [
    "fig, axes = plt.subplots(2, 2, figsize=(18, 6))\n",
    "\n",
    "sns.boxplot(ax=axes[0, 0], x=df['age'], palette='summer')\n",
    "sns.boxplot(ax=axes[0, 1], x=df['trestbps'], palette='summer')\n",
    "sns.boxplot(ax=axes[1, 0], x=df['chol'], palette='summer')\n",
    "sns.boxplot(ax=axes[1, 1], x=df['thalach'], palette='summer')"
   ]
  },
  {
   "cell_type": "markdown",
   "metadata": {},
   "source": [
    "It is visible that there are outlier's in the data"
   ]
  },
  {
   "cell_type": "markdown",
   "metadata": {},
   "source": [
    "#### Treating the outliers"
   ]
  },
  {
   "cell_type": "code",
   "execution_count": 33,
   "metadata": {},
   "outputs": [],
   "source": [
    "import warnings\n",
    "warnings.filterwarnings('ignore')"
   ]
  },
  {
   "cell_type": "markdown",
   "metadata": {},
   "source": [
    "We replace the outlier's with NaN and then impute them with mean value "
   ]
  },
  {
   "cell_type": "code",
   "execution_count": 34,
   "metadata": {},
   "outputs": [
    {
     "name": "stdout",
     "output_type": "stream",
     "text": [
      "(192, 10) (7, 10)\n",
      "nan\n",
      "(199, 10)\n"
     ]
    }
   ],
   "source": [
    "#for value in colname:\n",
    "q1 = df['age'].quantile(0.25) #first quartile value\n",
    "q3 = df['age'].quantile(0.75) # third quartile value\n",
    "iqr = q3-q1 #Interquartile range\n",
    "low  = q1-1.5*iqr #acceptable range\n",
    "high = q3+1.5*iqr #acceptable range \n",
    "\n",
    "df_include = df.loc[(df['age'] >= low) & \\\n",
    "                                (df['age'] <= high)] # meeting the acceptable range\n",
    "df_exclude = df.loc[(df['age'] < low) | \\\n",
    "                               (df['age'] > high)] # not meeting the acceptable range\n",
    "print(df_include.shape, df_exclude.shape)\n",
    "age_replace=(np.NaN)\n",
    "print(age_replace)\n",
    "\n",
    "#imputing outlier values with NaN\n",
    "df_exclude.age=age_replace\n",
    "\n",
    "#getting back the original shape of df\n",
    "df = pd.concat([df_include,df_exclude]) #concatenating both dfs to get the original shape\n",
    "print(df.shape)"
   ]
  },
  {
   "cell_type": "code",
   "execution_count": 35,
   "metadata": {},
   "outputs": [
    {
     "name": "stdout",
     "output_type": "stream",
     "text": [
      "(186, 10) (13, 10)\n",
      "nan\n",
      "(199, 10)\n"
     ]
    }
   ],
   "source": [
    "q1 = df['trestbps'].quantile(0.25)\n",
    "q3 = df['trestbps'].quantile(0.75) \n",
    "iqr = q3-q1 \n",
    "low  = q1-1.5*iqr \n",
    "high = q3+1.5*iqr \n",
    "df_include = df.loc[(df['trestbps'] >= low) & \\\n",
    "                                (df['trestbps'] <= high)] \n",
    "df_exclude = df.loc[(df['trestbps'] < low) | \\\n",
    "                               (df['trestbps'] > high)] \n",
    "print(df_include.shape, df_exclude.shape)\n",
    "trestbps_replace=(np.NaN)\n",
    "print(trestbps_replace)\n",
    "\n",
    "df_exclude.trestbps=trestbps_replace\n",
    "\n",
    "df = pd.concat([df_include,df_exclude]) \n",
    "print(df.shape)"
   ]
  },
  {
   "cell_type": "code",
   "execution_count": 36,
   "metadata": {},
   "outputs": [
    {
     "name": "stdout",
     "output_type": "stream",
     "text": [
      "(198, 10) (1, 10)\n",
      "nan\n",
      "(199, 10)\n"
     ]
    }
   ],
   "source": [
    "q1 = df['chol'].quantile(0.25)\n",
    "q3 = df['chol'].quantile(0.75) \n",
    "iqr = q3-q1 \n",
    "low  = q1-1.5*iqr \n",
    "high = q3+1.5*iqr \n",
    "df_include = df.loc[(df['chol'] >= low) & \\\n",
    "                                (df['chol'] <= high)] \n",
    "df_exclude = df.loc[(df['chol'] < low) | \\\n",
    "                               (df['chol'] > high)] \n",
    "print(df_include.shape, df_exclude.shape)\n",
    "chol_replace=(np.NaN)\n",
    "print(chol_replace)\n",
    "\n",
    "df_exclude.chol=chol_replace\n",
    "\n",
    "df = pd.concat([df_include,df_exclude]) \n",
    "print(df.shape)"
   ]
  },
  {
   "cell_type": "code",
   "execution_count": 37,
   "metadata": {},
   "outputs": [
    {
     "name": "stdout",
     "output_type": "stream",
     "text": [
      "(181, 10) (18, 10)\n",
      "nan\n",
      "(199, 10)\n"
     ]
    }
   ],
   "source": [
    "q1 = df['thalach'].quantile(0.25)\n",
    "q3 = df['thalach'].quantile(0.75) \n",
    "iqr = q3-q1 \n",
    "low  = q1-1.5*iqr \n",
    "high = q3+1.5*iqr \n",
    "df_include = df.loc[(df['thalach'] >= low) & \\\n",
    "                                (df['thalach'] <= high)] \n",
    "df_exclude = df.loc[(df['thalach'] < low) | \\\n",
    "                               (df['thalach'] > high)] \n",
    "print(df_include.shape, df_exclude.shape)\n",
    "thalach_replace=(np.NaN)\n",
    "print(thalach_replace)\n",
    "\n",
    "df_exclude.thalach=thalach_replace\n",
    "\n",
    "df = pd.concat([df_include,df_exclude]) \n",
    "print(df.shape)"
   ]
  },
  {
   "cell_type": "code",
   "execution_count": 38,
   "metadata": {},
   "outputs": [
    {
     "name": "stdout",
     "output_type": "stream",
     "text": [
      "(195, 10) (4, 10)\n",
      "nan\n",
      "(199, 10)\n"
     ]
    }
   ],
   "source": [
    "q1 = df['oldpeak'].quantile(0.25)\n",
    "q3 = df['oldpeak'].quantile(0.75) \n",
    "iqr = q3-q1 \n",
    "low  = q1-1.5*iqr \n",
    "high = q3+1.5*iqr \n",
    "df_include = df.loc[(df['oldpeak'] >= low) & \\\n",
    "                                (df['oldpeak'] <= high)] \n",
    "df_exclude = df.loc[(df['oldpeak'] < low) | \\\n",
    "                               (df['oldpeak'] > high)] \n",
    "print(df_include.shape, df_exclude.shape)\n",
    "oldpeak_replace=(np.NaN)\n",
    "print(oldpeak_replace)\n",
    "\n",
    "df_exclude.oldpeak=oldpeak_replace\n",
    "\n",
    "df = pd.concat([df_include,df_exclude]) \n",
    "print(df.shape)"
   ]
  },
  {
   "cell_type": "code",
   "execution_count": 39,
   "metadata": {},
   "outputs": [
    {
     "data": {
      "text/plain": [
       "age          7\n",
       "cp           0\n",
       "trestbps    13\n",
       "chol         1\n",
       "fbs          0\n",
       "restecg      0\n",
       "thalach     18\n",
       "exang        0\n",
       "oldpeak      4\n",
       "target       0\n",
       "dtype: int64"
      ]
     },
     "execution_count": 39,
     "metadata": {},
     "output_type": "execute_result"
    }
   ],
   "source": [
    "df.isnull().sum()"
   ]
  },
  {
   "cell_type": "markdown",
   "metadata": {},
   "source": [
    "#### Imputing null values with mean "
   ]
  },
  {
   "cell_type": "code",
   "execution_count": 40,
   "metadata": {},
   "outputs": [],
   "source": [
    "from sklearn.impute import SimpleImputer\n",
    "imp = SimpleImputer(strategy='median')\n",
    "\n",
    "df['age']=imp.fit_transform(df['age'].values.reshape(-1,1))\n",
    "df['trestbps']=imp.fit_transform(df['trestbps'].values.reshape(-1,1))\n",
    "df['chol']=imp.fit_transform(df['chol'].values.reshape(-1,1))\n",
    "df['thalach']=imp.fit_transform(df['thalach'].values.reshape(-1,1))\n",
    "df['oldpeak']=imp.fit_transform(df['oldpeak'].values.reshape(-1,1))"
   ]
  },
  {
   "cell_type": "code",
   "execution_count": 41,
   "metadata": {},
   "outputs": [
    {
     "data": {
      "text/plain": [
       "age         0\n",
       "cp          0\n",
       "trestbps    0\n",
       "chol        0\n",
       "fbs         0\n",
       "restecg     0\n",
       "thalach     0\n",
       "exang       0\n",
       "oldpeak     0\n",
       "target      0\n",
       "dtype: int64"
      ]
     },
     "execution_count": 41,
     "metadata": {},
     "output_type": "execute_result"
    }
   ],
   "source": [
    "df.isnull().sum()"
   ]
  },
  {
   "cell_type": "markdown",
   "metadata": {},
   "source": [
    "All values have been imputed and outliers are treated"
   ]
  },
  {
   "cell_type": "code",
   "execution_count": 42,
   "metadata": {},
   "outputs": [
    {
     "data": {
      "text/plain": [
       "age         float64\n",
       "cp           object\n",
       "trestbps    float64\n",
       "chol        float64\n",
       "fbs          object\n",
       "restecg      object\n",
       "thalach     float64\n",
       "exang        object\n",
       "oldpeak     float64\n",
       "target       object\n",
       "dtype: object"
      ]
     },
     "execution_count": 42,
     "metadata": {},
     "output_type": "execute_result"
    }
   ],
   "source": [
    "df.dtypes"
   ]
  },
  {
   "cell_type": "markdown",
   "metadata": {},
   "source": [
    "After treatment the dtypes have changed to float dtypes, which need to be changed back."
   ]
  },
  {
   "cell_type": "code",
   "execution_count": 43,
   "metadata": {},
   "outputs": [
    {
     "data": {
      "text/plain": [
       "age          int32\n",
       "cp          object\n",
       "trestbps     int32\n",
       "chol         int32\n",
       "fbs         object\n",
       "restecg     object\n",
       "thalach      int32\n",
       "exang       object\n",
       "oldpeak      int32\n",
       "target      object\n",
       "dtype: object"
      ]
     },
     "execution_count": 43,
     "metadata": {},
     "output_type": "execute_result"
    }
   ],
   "source": [
    "df['trestbps'] = df['trestbps'].astype('int')\n",
    "df['chol'] = df['chol'].astype('int')\n",
    "df['thalach'] = df['thalach'].astype('int')\n",
    "df['age'] = df['age'].astype('int')\n",
    "df['oldpeak'] = df['oldpeak'].astype('int')\n",
    "df.dtypes"
   ]
  },
  {
   "cell_type": "markdown",
   "metadata": {},
   "source": [
    "#### Encoding the data"
   ]
  },
  {
   "cell_type": "code",
   "execution_count": 44,
   "metadata": {},
   "outputs": [],
   "source": [
    "dummy_col = [column for column in df.drop(['target','oldpeak'], axis=1).columns if df[column].nunique() < 20]\n",
    "data = pd.get_dummies(df, columns=dummy_col, drop_first=True, dtype='int32')"
   ]
  },
  {
   "cell_type": "code",
   "execution_count": 45,
   "metadata": {},
   "outputs": [
    {
     "data": {
      "text/html": [
       "<div>\n",
       "<style scoped>\n",
       "    .dataframe tbody tr th:only-of-type {\n",
       "        vertical-align: middle;\n",
       "    }\n",
       "\n",
       "    .dataframe tbody tr th {\n",
       "        vertical-align: top;\n",
       "    }\n",
       "\n",
       "    .dataframe thead th {\n",
       "        text-align: right;\n",
       "    }\n",
       "</style>\n",
       "<table border=\"1\" class=\"dataframe\">\n",
       "  <thead>\n",
       "    <tr style=\"text-align: right;\">\n",
       "      <th></th>\n",
       "      <th>age</th>\n",
       "      <th>trestbps</th>\n",
       "      <th>chol</th>\n",
       "      <th>thalach</th>\n",
       "      <th>oldpeak</th>\n",
       "      <th>target</th>\n",
       "      <th>cp_2</th>\n",
       "      <th>cp_3</th>\n",
       "      <th>cp_4</th>\n",
       "      <th>fbs_1</th>\n",
       "      <th>restecg_1</th>\n",
       "      <th>restecg_2</th>\n",
       "      <th>exang_1</th>\n",
       "    </tr>\n",
       "  </thead>\n",
       "  <tbody>\n",
       "    <tr>\n",
       "      <th>0</th>\n",
       "      <td>44</td>\n",
       "      <td>130</td>\n",
       "      <td>209</td>\n",
       "      <td>127</td>\n",
       "      <td>0</td>\n",
       "      <td>Healthy</td>\n",
       "      <td>0</td>\n",
       "      <td>0</td>\n",
       "      <td>1</td>\n",
       "      <td>0</td>\n",
       "      <td>1</td>\n",
       "      <td>0</td>\n",
       "      <td>0</td>\n",
       "    </tr>\n",
       "    <tr>\n",
       "      <th>1</th>\n",
       "      <td>60</td>\n",
       "      <td>132</td>\n",
       "      <td>218</td>\n",
       "      <td>140</td>\n",
       "      <td>1</td>\n",
       "      <td>At_risk</td>\n",
       "      <td>0</td>\n",
       "      <td>0</td>\n",
       "      <td>1</td>\n",
       "      <td>0</td>\n",
       "      <td>1</td>\n",
       "      <td>0</td>\n",
       "      <td>1</td>\n",
       "    </tr>\n",
       "    <tr>\n",
       "      <th>2</th>\n",
       "      <td>55</td>\n",
       "      <td>142</td>\n",
       "      <td>228</td>\n",
       "      <td>149</td>\n",
       "      <td>2</td>\n",
       "      <td>At_risk</td>\n",
       "      <td>0</td>\n",
       "      <td>0</td>\n",
       "      <td>1</td>\n",
       "      <td>0</td>\n",
       "      <td>1</td>\n",
       "      <td>0</td>\n",
       "      <td>1</td>\n",
       "    </tr>\n",
       "    <tr>\n",
       "      <th>3</th>\n",
       "      <td>66</td>\n",
       "      <td>110</td>\n",
       "      <td>213</td>\n",
       "      <td>99</td>\n",
       "      <td>1</td>\n",
       "      <td>Healthy</td>\n",
       "      <td>0</td>\n",
       "      <td>1</td>\n",
       "      <td>0</td>\n",
       "      <td>1</td>\n",
       "      <td>0</td>\n",
       "      <td>1</td>\n",
       "      <td>1</td>\n",
       "    </tr>\n",
       "    <tr>\n",
       "      <th>4</th>\n",
       "      <td>66</td>\n",
       "      <td>120</td>\n",
       "      <td>0</td>\n",
       "      <td>120</td>\n",
       "      <td>0</td>\n",
       "      <td>Healthy</td>\n",
       "      <td>0</td>\n",
       "      <td>1</td>\n",
       "      <td>0</td>\n",
       "      <td>0</td>\n",
       "      <td>1</td>\n",
       "      <td>0</td>\n",
       "      <td>0</td>\n",
       "    </tr>\n",
       "  </tbody>\n",
       "</table>\n",
       "</div>"
      ],
      "text/plain": [
       "   age  trestbps  chol  thalach  oldpeak   target  cp_2  cp_3  cp_4  fbs_1  \\\n",
       "0   44       130   209      127        0  Healthy     0     0     1      0   \n",
       "1   60       132   218      140        1  At_risk     0     0     1      0   \n",
       "2   55       142   228      149        2  At_risk     0     0     1      0   \n",
       "3   66       110   213       99        1  Healthy     0     1     0      1   \n",
       "4   66       120     0      120        0  Healthy     0     1     0      0   \n",
       "\n",
       "   restecg_1  restecg_2  exang_1  \n",
       "0          1          0        0  \n",
       "1          1          0        1  \n",
       "2          1          0        1  \n",
       "3          0          1        1  \n",
       "4          1          0        0  "
      ]
     },
     "execution_count": 45,
     "metadata": {},
     "output_type": "execute_result"
    }
   ],
   "source": [
    "pd.options.display.max_columns = None\n",
    "data.head()"
   ]
  },
  {
   "cell_type": "code",
   "execution_count": 46,
   "metadata": {},
   "outputs": [
    {
     "data": {
      "text/plain": [
       "((199, 13), (199, 10))"
      ]
     },
     "execution_count": 46,
     "metadata": {},
     "output_type": "execute_result"
    }
   ],
   "source": [
    "data.shape, df.shape"
   ]
  },
  {
   "cell_type": "markdown",
   "metadata": {},
   "source": [
    "#### Label Encoding the Target Variable"
   ]
  },
  {
   "cell_type": "code",
   "execution_count": 47,
   "metadata": {},
   "outputs": [],
   "source": [
    "from sklearn.preprocessing import LabelEncoder\n",
    "le = LabelEncoder()\n",
    "data['target']=le.fit_transform(data['target'])"
   ]
  },
  {
   "cell_type": "markdown",
   "metadata": {},
   "source": [
    "## Correlation"
   ]
  },
  {
   "cell_type": "code",
   "execution_count": 48,
   "metadata": {},
   "outputs": [
    {
     "data": {
      "text/plain": [
       "<matplotlib.axes._subplots.AxesSubplot at 0x1e5ab1cc788>"
      ]
     },
     "execution_count": 48,
     "metadata": {},
     "output_type": "execute_result"
    },
    {
     "data": {
      "image/png": "[encoded data removed]",
      "text/plain": [
       "<Figure size 720x576 with 2 Axes>"
      ]
     },
     "metadata": {
      "needs_background": "light"
     },
     "output_type": "display_data"
    }
   ],
   "source": [
    "correlation = data.corr()\n",
    "plt.figure(figsize=(10,8))\n",
    "sns.heatmap(correlation, annot= True, linewidths=0.5, linecolor=\"white\", fmt= '.2f')"
   ]
  },
  {
   "cell_type": "markdown",
   "metadata": {},
   "source": [
    "- ‘cp’ shows good positive correlation with target.\n",
    "\n",
    "\n",
    "- ‘oldpeak’, ‘exang’ and ‘age’ show a good negative correlation with target.\n",
    "\n",
    "\n",
    "- ‘cp_4’ and ‘cp_4’ behave very negatively with each other and thus either of the variables need to be dropped.\n",
    "\n",
    "\n",
    "- We will drop ‘cp_4’ as it poses a very high data hence it is better to drop it to make the data less imbalanced."
   ]
  },
  {
   "cell_type": "code",
   "execution_count": 49,
   "metadata": {},
   "outputs": [],
   "source": [
    "# Dropping the column\n",
    "data.drop(['cp_4'], axis=1, inplace=True)"
   ]
  },
  {
   "cell_type": "markdown",
   "metadata": {},
   "source": [
    "#### Shuffling the data before splitting"
   ]
  },
  {
   "cell_type": "code",
   "execution_count": 50,
   "metadata": {},
   "outputs": [],
   "source": [
    "data = data.sample(frac = 1, random_state=0)"
   ]
  },
  {
   "cell_type": "markdown",
   "metadata": {},
   "source": [
    "#### Splitting the data"
   ]
  },
  {
   "cell_type": "code",
   "execution_count": 51,
   "metadata": {},
   "outputs": [],
   "source": [
    "x = data.drop(columns=['target'])\n",
    "y = data[['target']]"
   ]
  },
  {
   "cell_type": "markdown",
   "metadata": {},
   "source": [
    "#### Scaling the data"
   ]
  },
  {
   "cell_type": "code",
   "execution_count": 52,
   "metadata": {},
   "outputs": [],
   "source": [
    "from sklearn.preprocessing import StandardScaler\n",
    "sc = StandardScaler()\n",
    "x = sc.fit_transform(x)"
   ]
  },
  {
   "cell_type": "markdown",
   "metadata": {},
   "source": [
    "# Training Phase"
   ]
  },
  {
   "cell_type": "code",
   "execution_count": 53,
   "metadata": {},
   "outputs": [],
   "source": [
    "from sklearn.metrics import accuracy_score\n",
    "from sklearn.metrics import confusion_matrix,classification_report\n",
    "from sklearn.model_selection import train_test_split\n",
    "\n",
    "train_x,test_x,train_y,test_y=train_test_split(x,y,test_size=.22,random_state=47)"
   ]
  },
  {
   "cell_type": "code",
   "execution_count": 54,
   "metadata": {},
   "outputs": [],
   "source": [
    "from sklearn.metrics import roc_curve\n",
    "import matplotlib.pyplot as plt\n",
    "\n",
    "from sklearn.metrics import roc_auc_score"
   ]
  },
  {
   "cell_type": "markdown",
   "metadata": {},
   "source": [
    "## Logistic Regression"
   ]
  },
  {
   "cell_type": "code",
   "execution_count": 55,
   "metadata": {},
   "outputs": [
    {
     "name": "stdout",
     "output_type": "stream",
     "text": [
      "accuracy score: 75.0\n",
      "\n",
      "\n",
      "[[30  2]\n",
      " [ 9  3]]\n",
      "\n",
      "\n",
      "              precision    recall  f1-score   support\n",
      "\n",
      "           0       0.77      0.94      0.85        32\n",
      "           1       0.60      0.25      0.35        12\n",
      "\n",
      "    accuracy                           0.75        44\n",
      "   macro avg       0.68      0.59      0.60        44\n",
      "weighted avg       0.72      0.75      0.71        44\n",
      "\n"
     ]
    }
   ],
   "source": [
    "from sklearn.linear_model import LogisticRegression\n",
    "\n",
    "lg = LogisticRegression()\n",
    "lg.fit(train_x, train_y)\n",
    "pred = lg.predict(test_x)\n",
    "log = accuracy_score(test_y,pred)*100\n",
    "\n",
    "print('accuracy score:', log)\n",
    "print('\\n')\n",
    "print (confusion_matrix(test_y,pred))\n",
    "print('\\n')\n",
    "print (classification_report(test_y,pred))"
   ]
  },
  {
   "cell_type": "markdown",
   "metadata": {},
   "source": [
    "## Gaussian Naive Bayes"
   ]
  },
  {
   "cell_type": "code",
   "execution_count": 56,
   "metadata": {},
   "outputs": [
    {
     "name": "stdout",
     "output_type": "stream",
     "text": [
      "accuracy score: 77.27272727272727\n",
      "\n",
      "\n",
      "[[31  1]\n",
      " [ 9  3]]\n",
      "\n",
      "\n",
      "              precision    recall  f1-score   support\n",
      "\n",
      "           0       0.78      0.97      0.86        32\n",
      "           1       0.75      0.25      0.38        12\n",
      "\n",
      "    accuracy                           0.77        44\n",
      "   macro avg       0.76      0.61      0.62        44\n",
      "weighted avg       0.77      0.77      0.73        44\n",
      "\n"
     ]
    }
   ],
   "source": [
    "from sklearn.naive_bayes import GaussianNB\n",
    "gnb = GaussianNB()\n",
    "gnb.fit(train_x,train_y)\n",
    "predgnb= gnb.predict(test_x)\n",
    "gaussian = accuracy_score(test_y,predgnb)*100\n",
    "\n",
    "print('accuracy score:',gaussian)\n",
    "print('\\n')\n",
    "print(confusion_matrix(test_y, predgnb))\n",
    "print('\\n')\n",
    "print(classification_report(test_y, predgnb))"
   ]
  },
  {
   "cell_type": "markdown",
   "metadata": {},
   "source": [
    "## SVM "
   ]
  },
  {
   "cell_type": "code",
   "execution_count": 57,
   "metadata": {},
   "outputs": [
    {
     "name": "stdout",
     "output_type": "stream",
     "text": [
      "accuracy score: 75.0\n",
      "\n",
      "\n",
      "[[32  0]\n",
      " [11  1]]\n",
      "\n",
      "\n",
      "              precision    recall  f1-score   support\n",
      "\n",
      "           0       0.74      1.00      0.85        32\n",
      "           1       1.00      0.08      0.15        12\n",
      "\n",
      "    accuracy                           0.75        44\n",
      "   macro avg       0.87      0.54      0.50        44\n",
      "weighted avg       0.81      0.75      0.66        44\n",
      "\n"
     ]
    }
   ],
   "source": [
    "from sklearn.svm import SVC\n",
    "svc=SVC()\n",
    "svc.fit(train_x,train_y)\n",
    "svc.score(train_x,train_y)\n",
    "predsvc=svc.predict(test_x)\n",
    "svcs = accuracy_score(test_y, predsvc)*100\n",
    "\n",
    "print('accuracy score:',svcs)\n",
    "print('\\n')\n",
    "print(confusion_matrix(test_y, predsvc))\n",
    "print('\\n')\n",
    "print(classification_report(test_y, predsvc))"
   ]
  },
  {
   "cell_type": "markdown",
   "metadata": {},
   "source": [
    "## Decision Tree"
   ]
  },
  {
   "cell_type": "code",
   "execution_count": 58,
   "metadata": {},
   "outputs": [
    {
     "name": "stdout",
     "output_type": "stream",
     "text": [
      "accuracy score: 56.81818181818182\n",
      "\n",
      "\n",
      "[[23  9]\n",
      " [10  2]]\n",
      "\n",
      "\n",
      "              precision    recall  f1-score   support\n",
      "\n",
      "           0       0.70      0.72      0.71        32\n",
      "           1       0.18      0.17      0.17        12\n",
      "\n",
      "    accuracy                           0.57        44\n",
      "   macro avg       0.44      0.44      0.44        44\n",
      "weighted avg       0.56      0.57      0.56        44\n",
      "\n"
     ]
    }
   ],
   "source": [
    "from sklearn.tree import DecisionTreeClassifier\n",
    "dtc =DecisionTreeClassifier()\n",
    "dtc.fit(train_x,train_y)\n",
    "dtc.score(train_x,train_y)\n",
    "preddtc=dtc.predict(test_x)\n",
    "decision_e = accuracy_score(test_y, preddtc)*100\n",
    "\n",
    "print('accuracy score:',decision_e )\n",
    "print('\\n')\n",
    "print(confusion_matrix(test_y, preddtc))\n",
    "print('\\n')\n",
    "print(classification_report(test_y, preddtc))"
   ]
  },
  {
   "cell_type": "markdown",
   "metadata": {},
   "source": [
    "## RandomForest"
   ]
  },
  {
   "cell_type": "code",
   "execution_count": 59,
   "metadata": {},
   "outputs": [
    {
     "name": "stdout",
     "output_type": "stream",
     "text": [
      "accuracy score: 77.27272727272727\n",
      "\n",
      "\n",
      "[[32  0]\n",
      " [10  2]]\n",
      "              precision    recall  f1-score   support\n",
      "\n",
      "           0       0.76      1.00      0.86        32\n",
      "           1       1.00      0.17      0.29        12\n",
      "\n",
      "    accuracy                           0.77        44\n",
      "   macro avg       0.88      0.58      0.58        44\n",
      "weighted avg       0.83      0.77      0.71        44\n",
      "\n"
     ]
    }
   ],
   "source": [
    "from sklearn.ensemble import RandomForestClassifier\n",
    "rf = RandomForestClassifier(random_state=0) \n",
    "rf.fit(train_x,train_y)\n",
    "predrf = rf.predict(test_x)\n",
    "random = accuracy_score(test_y,predrf)*100\n",
    "\n",
    "print('accuracy score:',random)\n",
    "print('\\n')\n",
    "print(confusion_matrix(test_y,predrf))\n",
    "print(classification_report(test_y,predrf))"
   ]
  },
  {
   "cell_type": "markdown",
   "metadata": {},
   "source": [
    "## KNN"
   ]
  },
  {
   "cell_type": "code",
   "execution_count": 60,
   "metadata": {},
   "outputs": [
    {
     "name": "stdout",
     "output_type": "stream",
     "text": [
      "accuracy score: 77.27272727272727\n",
      "\n",
      "\n",
      "[[31  1]\n",
      " [ 9  3]]\n",
      "\n",
      "\n",
      "              precision    recall  f1-score   support\n",
      "\n",
      "           0       0.78      0.97      0.86        32\n",
      "           1       0.75      0.25      0.38        12\n",
      "\n",
      "    accuracy                           0.77        44\n",
      "   macro avg       0.76      0.61      0.62        44\n",
      "weighted avg       0.77      0.77      0.73        44\n",
      "\n"
     ]
    }
   ],
   "source": [
    "from sklearn.neighbors import KNeighborsClassifier\n",
    "knn = KNeighborsClassifier()\n",
    "knn.fit(train_x,train_y)\n",
    "knn.score(train_x,train_y)\n",
    "predknn = knn.predict(test_x)\n",
    "knn_a = accuracy_score(test_y, predknn)*100\n",
    "\n",
    "print('accuracy score:',knn_a)\n",
    "print('\\n')\n",
    "print(confusion_matrix(test_y, predknn))\n",
    "print('\\n')\n",
    "print(classification_report(test_y, predknn))"
   ]
  },
  {
   "cell_type": "markdown",
   "metadata": {},
   "source": [
    "## GradientBoost"
   ]
  },
  {
   "cell_type": "code",
   "execution_count": 61,
   "metadata": {},
   "outputs": [
    {
     "name": "stdout",
     "output_type": "stream",
     "text": [
      "accuracy score: 70.45454545454545\n",
      "\n",
      "\n",
      "[[29  3]\n",
      " [10  2]]\n",
      "\n",
      "\n",
      "              precision    recall  f1-score   support\n",
      "\n",
      "           0       0.74      0.91      0.82        32\n",
      "           1       0.40      0.17      0.24        12\n",
      "\n",
      "    accuracy                           0.70        44\n",
      "   macro avg       0.57      0.54      0.53        44\n",
      "weighted avg       0.65      0.70      0.66        44\n",
      "\n"
     ]
    }
   ],
   "source": [
    "from sklearn.ensemble import GradientBoostingClassifier\n",
    "\n",
    "gbr = GradientBoostingClassifier(random_state=0)\n",
    "gbr.fit(train_x,train_y)\n",
    "gbr.score(train_x,train_y)\n",
    "predgbr = gbr.predict(test_x)\n",
    "gbr_a = accuracy_score(test_y, predgbr)*100\n",
    "\n",
    "print('accuracy score:',gbr_a)\n",
    "print('\\n')\n",
    "print(confusion_matrix(test_y, predgbr))\n",
    "print('\\n')\n",
    "print(classification_report(test_y, predgbr))"
   ]
  },
  {
   "cell_type": "markdown",
   "metadata": {},
   "source": [
    "## ExtraaTree"
   ]
  },
  {
   "cell_type": "code",
   "execution_count": 62,
   "metadata": {},
   "outputs": [
    {
     "name": "stdout",
     "output_type": "stream",
     "text": [
      "accuracy score: 77.27272727272727\n",
      "\n",
      "\n",
      "[[32  0]\n",
      " [10  2]]\n",
      "\n",
      "\n",
      "              precision    recall  f1-score   support\n",
      "\n",
      "           0       0.76      1.00      0.86        32\n",
      "           1       1.00      0.17      0.29        12\n",
      "\n",
      "    accuracy                           0.77        44\n",
      "   macro avg       0.88      0.58      0.58        44\n",
      "weighted avg       0.83      0.77      0.71        44\n",
      "\n"
     ]
    }
   ],
   "source": [
    "from sklearn.ensemble import ExtraTreesClassifier\n",
    "reg = ExtraTreesClassifier()\n",
    "reg.fit(train_x, train_y)\n",
    "reg.score(train_x,train_y)\n",
    "predreg = reg.predict(test_x)\n",
    "reg_a = accuracy_score(test_y, predreg)*100\n",
    "\n",
    "print('accuracy score:',reg_a)\n",
    "print('\\n')\n",
    "print(confusion_matrix(test_y, predreg))\n",
    "print('\\n')\n",
    "print(classification_report(test_y, predreg))"
   ]
  },
  {
   "cell_type": "markdown",
   "metadata": {},
   "source": [
    "## XGBoost"
   ]
  },
  {
   "cell_type": "code",
   "execution_count": 63,
   "metadata": {},
   "outputs": [
    {
     "name": "stdout",
     "output_type": "stream",
     "text": [
      "[22:20:08] WARNING: C:/Users/Administrator/workspace/xgboost-win64_release_1.3.0/src/learner.cc:1061: Starting in XGBoost 1.3.0, the default evaluation metric used with the objective 'binary:logistic' was changed from 'error' to 'logloss'. Explicitly set eval_metric if you'd like to restore the old behavior.\n",
      "accuracy score: 68.18181818181817\n",
      "\n",
      "\n",
      "[[27  5]\n",
      " [ 9  3]]\n",
      "\n",
      "\n",
      "              precision    recall  f1-score   support\n",
      "\n",
      "           0       0.75      0.84      0.79        32\n",
      "           1       0.38      0.25      0.30        12\n",
      "\n",
      "    accuracy                           0.68        44\n",
      "   macro avg       0.56      0.55      0.55        44\n",
      "weighted avg       0.65      0.68      0.66        44\n",
      "\n"
     ]
    }
   ],
   "source": [
    "from xgboost import XGBClassifier\n",
    "\n",
    "xbg = XGBClassifier()\n",
    "xbg.fit(train_x, train_y)\n",
    "xbg.score(train_x,train_y)\n",
    "predxbg = xbg.predict(test_x)\n",
    "xbg_a = accuracy_score(test_y, predxbg)*100\n",
    "\n",
    "print('accuracy score:',xbg_a)\n",
    "print('\\n')\n",
    "print(confusion_matrix(test_y, predxbg))\n",
    "print('\\n')\n",
    "print(classification_report(test_y, predxbg))"
   ]
  },
  {
   "cell_type": "code",
   "execution_count": 64,
   "metadata": {},
   "outputs": [
    {
     "data": {
      "text/html": [
       "<div>\n",
       "<style scoped>\n",
       "    .dataframe tbody tr th:only-of-type {\n",
       "        vertical-align: middle;\n",
       "    }\n",
       "\n",
       "    .dataframe tbody tr th {\n",
       "        vertical-align: top;\n",
       "    }\n",
       "\n",
       "    .dataframe thead th {\n",
       "        text-align: right;\n",
       "    }\n",
       "</style>\n",
       "<table border=\"1\" class=\"dataframe\">\n",
       "  <thead>\n",
       "    <tr style=\"text-align: right;\">\n",
       "      <th></th>\n",
       "      <th>Model</th>\n",
       "      <th>Score</th>\n",
       "    </tr>\n",
       "  </thead>\n",
       "  <tbody>\n",
       "    <tr>\n",
       "      <th>1</th>\n",
       "      <td>Gaussian Naive Bayes</td>\n",
       "      <td>77.272727</td>\n",
       "    </tr>\n",
       "    <tr>\n",
       "      <th>4</th>\n",
       "      <td>Random Forest</td>\n",
       "      <td>77.272727</td>\n",
       "    </tr>\n",
       "    <tr>\n",
       "      <th>5</th>\n",
       "      <td>KNN</td>\n",
       "      <td>77.272727</td>\n",
       "    </tr>\n",
       "    <tr>\n",
       "      <th>7</th>\n",
       "      <td>ExtraaTree</td>\n",
       "      <td>77.272727</td>\n",
       "    </tr>\n",
       "    <tr>\n",
       "      <th>0</th>\n",
       "      <td>Logistic Regression</td>\n",
       "      <td>75.000000</td>\n",
       "    </tr>\n",
       "    <tr>\n",
       "      <th>2</th>\n",
       "      <td>Support Vector Machines</td>\n",
       "      <td>75.000000</td>\n",
       "    </tr>\n",
       "    <tr>\n",
       "      <th>6</th>\n",
       "      <td>GradientBoost</td>\n",
       "      <td>70.454545</td>\n",
       "    </tr>\n",
       "    <tr>\n",
       "      <th>8</th>\n",
       "      <td>XGBoost</td>\n",
       "      <td>68.181818</td>\n",
       "    </tr>\n",
       "    <tr>\n",
       "      <th>3</th>\n",
       "      <td>Decision Tree</td>\n",
       "      <td>56.818182</td>\n",
       "    </tr>\n",
       "  </tbody>\n",
       "</table>\n",
       "</div>"
      ],
      "text/plain": [
       "                     Model      Score\n",
       "1     Gaussian Naive Bayes  77.272727\n",
       "4            Random Forest  77.272727\n",
       "5                      KNN  77.272727\n",
       "7               ExtraaTree  77.272727\n",
       "0      Logistic Regression  75.000000\n",
       "2  Support Vector Machines  75.000000\n",
       "6            GradientBoost  70.454545\n",
       "8                  XGBoost  68.181818\n",
       "3            Decision Tree  56.818182"
      ]
     },
     "execution_count": 64,
     "metadata": {},
     "output_type": "execute_result"
    }
   ],
   "source": [
    "models = pd.DataFrame({\n",
    "    'Model': ['Logistic Regression', 'Gaussian Naive Bayes', 'Support Vector Machines', 'Decision Tree',\n",
    "              'Random Forest', 'KNN', 'GradientBoost', 'ExtraaTree', 'XGBoost' ],\n",
    "    'Score': [log,gaussian,svcs,decision_e,random,knn_a,gbr_a,reg_a,xbg_a]})\n",
    "models.sort_values(by='Score', ascending=False)"
   ]
  },
  {
   "cell_type": "markdown",
   "metadata": {},
   "source": [
    "## Performing RandomOverSampling on top 3 Models\n",
    "Oversampling increases the weight of the minority class by replicating the minority class examples.\n",
    "- RandomOverSampler generates samples of the minority class according to their density distributions. "
   ]
  },
  {
   "cell_type": "markdown",
   "metadata": {},
   "source": [
    "We Pick the top 3 best performing models and perform Oversampling on them\n",
    "1. Naive Bayes\n",
    "2. Random Forest\n",
    "3. KNN"
   ]
  },
  {
   "cell_type": "code",
   "execution_count": 65,
   "metadata": {},
   "outputs": [
    {
     "data": {
      "text/plain": [
       "((296, 11), (296, 1))"
      ]
     },
     "execution_count": 65,
     "metadata": {},
     "output_type": "execute_result"
    }
   ],
   "source": [
    "from imblearn.over_sampling import (RandomOverSampler)\n",
    "\n",
    "sampler = RandomOverSampler(random_state=0)\n",
    "X_resampled, y_resampled = sampler.fit_resample(x, y)\n",
    "X_resampled.shape,y_resampled.shape"
   ]
  },
  {
   "cell_type": "code",
   "execution_count": 66,
   "metadata": {},
   "outputs": [],
   "source": [
    "X_train, X_test, y_train, y_test = train_test_split(X_resampled, y_resampled, \n",
    "                                                    test_size=0.25, \n",
    "                                                    random_state=42,stratify=y_resampled)"
   ]
  },
  {
   "cell_type": "code",
   "execution_count": 67,
   "metadata": {},
   "outputs": [
    {
     "name": "stdout",
     "output_type": "stream",
     "text": [
      "Accuracy Score 0.6891891891891891\n",
      "Cross Val Score 0.6080225988700565\n"
     ]
    }
   ],
   "source": [
    "gnb = GaussianNB()\n",
    "gnb.fit(X_train, y_train)\n",
    "pred = gnb.predict(X_test)\n",
    "print('Accuracy Score', accuracy_score(y_test,pred))\n",
    "from sklearn.model_selection import cross_val_score\n",
    "print('Cross Val Score', cross_val_score(gnb,X_resampled,y_resampled).mean())"
   ]
  },
  {
   "cell_type": "code",
   "execution_count": 68,
   "metadata": {},
   "outputs": [
    {
     "name": "stdout",
     "output_type": "stream",
     "text": [
      "Accuracy Score 0.9054054054054054\n",
      "Cross Val Score 0.8751412429378531\n"
     ]
    }
   ],
   "source": [
    "rf = RandomForestClassifier()\n",
    "rf.fit(X_train, y_train)\n",
    "pred = rf.predict(X_test)\n",
    "print('Accuracy Score', accuracy_score(y_test,pred))\n",
    "from sklearn.model_selection import cross_val_score\n",
    "print('Cross Val Score', cross_val_score(rf,X_resampled,y_resampled).mean())"
   ]
  },
  {
   "cell_type": "code",
   "execution_count": 69,
   "metadata": {},
   "outputs": [
    {
     "name": "stdout",
     "output_type": "stream",
     "text": [
      "Accuracy Score 0.5945945945945946\n",
      "Cross Val Score 0.6654237288135594\n"
     ]
    }
   ],
   "source": [
    "knn = KNeighborsClassifier()\n",
    "knn.fit(X_train, y_train)\n",
    "pred = knn.predict(X_test)\n",
    "print('Accuracy Score', accuracy_score(y_test,pred))\n",
    "from sklearn.model_selection import cross_val_score\n",
    "print('Cross Val Score', cross_val_score(knn,X_resampled,y_resampled).mean())"
   ]
  },
  {
   "cell_type": "markdown",
   "metadata": {},
   "source": [
    "## Final Model\n",
    "\n",
    "Random Forest is giving the best accuracy, Hence it is our final model"
   ]
  },
  {
   "cell_type": "code",
   "execution_count": 70,
   "metadata": {},
   "outputs": [
    {
     "name": "stdout",
     "output_type": "stream",
     "text": [
      "Accuracy Score 0.9054054054054054\n",
      "Cross Val Score 0.8684745762711865\n"
     ]
    }
   ],
   "source": [
    "rf = RandomForestClassifier()\n",
    "rf.fit(X_train, y_train)\n",
    "pred = rf.predict(X_test)\n",
    "print('Accuracy Score', accuracy_score(y_test,pred))\n",
    "from sklearn.model_selection import cross_val_score\n",
    "print('Cross Val Score', cross_val_score(rf,X_resampled,y_resampled).mean())"
   ]
  },
  {
   "cell_type": "code",
   "execution_count": 71,
   "metadata": {},
   "outputs": [
    {
     "data": {
      "image/png": "[encoded data removed]",
      "text/plain": [
       "<Figure size 504x504 with 2 Axes>"
      ]
     },
     "metadata": {
      "needs_background": "light"
     },
     "output_type": "display_data"
    },
    {
     "name": "stdout",
     "output_type": "stream",
     "text": [
      "              precision    recall  f1-score   support\n",
      "\n",
      "           0       0.88      0.95      0.91        37\n",
      "           1       0.94      0.86      0.90        37\n",
      "\n",
      "    accuracy                           0.91        74\n",
      "   macro avg       0.91      0.91      0.91        74\n",
      "weighted avg       0.91      0.91      0.91        74\n",
      "\n"
     ]
    }
   ],
   "source": [
    "def conf_matrix(y_test,pred):\n",
    "    cm = confusion_matrix(y_test,pred)\n",
    "    plt.figure(figsize=(7,7))\n",
    "    sns.heatmap(cm, annot=True, fmt=\".3f\", linewidths=.5, square = True, cmap = 'YlGnBu');\n",
    "    plt.ylabel('Actual label');\n",
    "    plt.xlabel('Predicted label');\n",
    "    all_sample_title = 'Confusion Matrix - score:'+str(accuracy_score(y_test,pred))\n",
    "    plt.title(all_sample_title, size = 15);\n",
    "    plt.show()\n",
    "    print(classification_report(y_test,pred))\n",
    "conf_matrix(y_test,pred)"
   ]
  },
  {
   "cell_type": "code",
   "execution_count": 72,
   "metadata": {},
   "outputs": [
    {
     "data": {
      "image/png": "[encoded data removed]",
      "text/plain": [
       "<Figure size 432x288 with 1 Axes>"
      ]
     },
     "metadata": {
      "needs_background": "light"
     },
     "output_type": "display_data"
    }
   ],
   "source": [
    "def plot_roc_curve(y_test,X_test,model):\n",
    "    fpr_mlp, tpr_mlp, thresholds_mlp = roc_curve(y_test, model.predict_proba(X_test)[:,1])\n",
    "    plt.plot([0, 1], [0, 1], 'k--')\n",
    "    plt.plot(fpr_mlp, tpr_mlp)\n",
    "    plt.xlabel('False Positive Rate')\n",
    "    plt.ylabel('True Positive Rate')\n",
    "    plt.title('ROC CURVE')\n",
    "    plt.show()\n",
    "plot_roc_curve(y_test,X_test,rf)"
   ]
  },
  {
   "cell_type": "markdown",
   "metadata": {},
   "source": [
    "# Data Insights\n",
    "\n",
    "- Most of the patients are in the age between 50s to 60s. Let’s take a quick look basic stats. The mean age is about 54 years with ±9.08 std, the youngest is at 29 and the oldest is at 77. Which clearly states that a possibiity of heart diseases increases with age.\n",
    "\n",
    "\n",
    "- Chest pain (cp) or angina is a type of discomfort caused when heart muscle doesn’t receive enough oxygen rich blood, which triggered discomfort in arms, shoulders, neck, etc. However, there are higher numbers of heart disease patients without chest pain and almost balance amount between typical and atypical anginal pain.\n",
    "\n",
    "\n",
    "- Fasting blood sugar or fbs is a diabetes indicator with fbs >120 mg/d is considered diabetic (True class). Here, we observe that the number for class true, is lower compared to class false. However, if we look closely, there are higher number of heart disease patient without diabetes. This provide an indication that fbs might not be a strong feature differentiating between heart disease an non-disease patient.\n",
    "\n",
    "\n",
    "- As can be seen there is a pacient with high cholesterol. But, there's not a specific division between those that feel pain during exercise practice and those of not feel pain. Cholestrol is not necessarily a deciding factor."
   ]
  }
 ],
 "metadata": {
  "kernelspec": {
   "display_name": "Python 3",
   "language": "python",
   "name": "python3"
  },
  "language_info": {
   "codemirror_mode": {
    "name": "ipython",
    "version": 3
   },
   "file_extension": ".py",
   "mimetype": "text/x-python",
   "name": "python",
   "nbconvert_exporter": "python",
   "pygments_lexer": "ipython3",
   "version": "3.7.6"
  }
 },
 "nbformat": 4,
 "nbformat_minor": 4
}
