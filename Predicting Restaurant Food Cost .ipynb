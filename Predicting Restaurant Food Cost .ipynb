{
 "cells": [
  {
   "cell_type": "markdown",
   "metadata": {},
   "source": [
    "# Predicting Restaurant Food Cost \n",
    "\n",
    "The dataset contains food prices at different restaurants alongwith other associated features. The dataset can be used to analyse what factors affect food prices at restaurants and we can also prepare a machine learning model to predict the food prices for different restaurants."
   ]
  },
  {
   "cell_type": "markdown",
   "metadata": {},
   "source": [
    "## About the data\n",
    "\n",
    "- Size of training set: 12,690 records\n",
    "\n",
    "\n",
    "- Size of test set: 4,231 records\n",
    "\n",
    "\n",
    "__FEATURES:__\n",
    "\n",
    "\n",
    "- TITLE: The feature of the restaurant which can help identify what and for whom it is suitable for.\n",
    "\n",
    "\n",
    "- RESTAURANT_ID: A unique ID for each restaurant.\n",
    "\n",
    "\n",
    "- CUISINES: The variety of cuisines that the restaurant offers.\n",
    "\n",
    "\n",
    "- TIME: The open hours of the restaurant.\n",
    "\n",
    "\n",
    "- CITY: The city in which the restaurant is located.\n",
    "\n",
    "\n",
    "- LOCALITY: The locality of the restaurant.\n",
    "\n",
    "\n",
    "- RATING: The average rating of the restaurant by customers.\n",
    "\n",
    "\n",
    "- VOTES: The overall votes received by the restaurant.\n",
    "\n",
    "\n",
    "- COST: The average cost of a two-person meal."
   ]
  },
  {
   "cell_type": "code",
   "execution_count": 7,
   "metadata": {},
   "outputs": [
    {
     "data": {
      "text/plain": [
       "((12690, 9), (4231, 8))"
      ]
     },
     "execution_count": 7,
     "metadata": {},
     "output_type": "execute_result"
    }
   ],
   "source": [
    "# Importing the data\n",
    "import pandas as pd \n",
    "import numpy as np\n",
    "\n",
    "train = pd.read_excel(r'C:\\Users\\User\\Desktop\\Projects\\Data_Train.xlsx')\n",
    "test = pd.read_excel(r'C:\\Users\\User\\Desktop\\Projects\\Data_Test.xlsx')\n",
    "\n",
    "train.shape, test.shape"
   ]
  },
  {
   "cell_type": "markdown",
   "metadata": {},
   "source": [
    "#### Exploring the data"
   ]
  },
  {
   "cell_type": "code",
   "execution_count": 17,
   "metadata": {},
   "outputs": [
    {
     "data": {
      "text/html": [
       "<div>\n",
       "<style scoped>\n",
       "    .dataframe tbody tr th:only-of-type {\n",
       "        vertical-align: middle;\n",
       "    }\n",
       "\n",
       "    .dataframe tbody tr th {\n",
       "        vertical-align: top;\n",
       "    }\n",
       "\n",
       "    .dataframe thead th {\n",
       "        text-align: right;\n",
       "    }\n",
       "</style>\n",
       "<table border=\"1\" class=\"dataframe\">\n",
       "  <thead>\n",
       "    <tr style=\"text-align: right;\">\n",
       "      <th></th>\n",
       "      <th>TITLE</th>\n",
       "      <th>RESTAURANT_ID</th>\n",
       "      <th>CUISINES</th>\n",
       "      <th>TIME</th>\n",
       "      <th>CITY</th>\n",
       "      <th>LOCALITY</th>\n",
       "      <th>RATING</th>\n",
       "      <th>VOTES</th>\n",
       "      <th>COST</th>\n",
       "    </tr>\n",
       "  </thead>\n",
       "  <tbody>\n",
       "    <tr>\n",
       "      <th>0</th>\n",
       "      <td>CASUAL DINING</td>\n",
       "      <td>9438</td>\n",
       "      <td>Malwani, Goan, North Indian</td>\n",
       "      <td>11am – 4pm, 7:30pm – 11:30pm (Mon-Sun)</td>\n",
       "      <td>Thane</td>\n",
       "      <td>Dombivali East</td>\n",
       "      <td>3.6</td>\n",
       "      <td>49 votes</td>\n",
       "      <td>1200</td>\n",
       "    </tr>\n",
       "    <tr>\n",
       "      <th>1</th>\n",
       "      <td>CASUAL DINING,BAR</td>\n",
       "      <td>13198</td>\n",
       "      <td>Asian, Modern Indian, Japanese</td>\n",
       "      <td>6pm – 11pm (Mon-Sun)</td>\n",
       "      <td>Chennai</td>\n",
       "      <td>Ramapuram</td>\n",
       "      <td>4.2</td>\n",
       "      <td>30 votes</td>\n",
       "      <td>1500</td>\n",
       "    </tr>\n",
       "    <tr>\n",
       "      <th>2</th>\n",
       "      <td>CASUAL DINING</td>\n",
       "      <td>10915</td>\n",
       "      <td>North Indian, Chinese, Biryani, Hyderabadi</td>\n",
       "      <td>11am – 3:30pm, 7pm – 11pm (Mon-Sun)</td>\n",
       "      <td>Chennai</td>\n",
       "      <td>Saligramam</td>\n",
       "      <td>3.8</td>\n",
       "      <td>221 votes</td>\n",
       "      <td>800</td>\n",
       "    </tr>\n",
       "    <tr>\n",
       "      <th>3</th>\n",
       "      <td>QUICK BITES</td>\n",
       "      <td>6346</td>\n",
       "      <td>Tibetan, Chinese</td>\n",
       "      <td>11:30am – 1am (Mon-Sun)</td>\n",
       "      <td>Mumbai</td>\n",
       "      <td>Bandra West</td>\n",
       "      <td>4.1</td>\n",
       "      <td>24 votes</td>\n",
       "      <td>800</td>\n",
       "    </tr>\n",
       "    <tr>\n",
       "      <th>4</th>\n",
       "      <td>DESSERT PARLOR</td>\n",
       "      <td>15387</td>\n",
       "      <td>Desserts</td>\n",
       "      <td>11am – 1am (Mon-Sun)</td>\n",
       "      <td>Mumbai</td>\n",
       "      <td>Lower Parel</td>\n",
       "      <td>3.8</td>\n",
       "      <td>165 votes</td>\n",
       "      <td>300</td>\n",
       "    </tr>\n",
       "  </tbody>\n",
       "</table>\n",
       "</div>"
      ],
      "text/plain": [
       "               TITLE  RESTAURANT_ID  \\\n",
       "0      CASUAL DINING           9438   \n",
       "1  CASUAL DINING,BAR          13198   \n",
       "2      CASUAL DINING          10915   \n",
       "3        QUICK BITES           6346   \n",
       "4     DESSERT PARLOR          15387   \n",
       "\n",
       "                                     CUISINES  \\\n",
       "0                 Malwani, Goan, North Indian   \n",
       "1              Asian, Modern Indian, Japanese   \n",
       "2  North Indian, Chinese, Biryani, Hyderabadi   \n",
       "3                            Tibetan, Chinese   \n",
       "4                                    Desserts   \n",
       "\n",
       "                                     TIME     CITY        LOCALITY RATING  \\\n",
       "0  11am – 4pm, 7:30pm – 11:30pm (Mon-Sun)    Thane  Dombivali East    3.6   \n",
       "1                    6pm – 11pm (Mon-Sun)  Chennai       Ramapuram    4.2   \n",
       "2     11am – 3:30pm, 7pm – 11pm (Mon-Sun)  Chennai      Saligramam    3.8   \n",
       "3                 11:30am – 1am (Mon-Sun)   Mumbai     Bandra West    4.1   \n",
       "4                    11am – 1am (Mon-Sun)   Mumbai     Lower Parel    3.8   \n",
       "\n",
       "       VOTES  COST  \n",
       "0   49 votes  1200  \n",
       "1   30 votes  1500  \n",
       "2  221 votes   800  \n",
       "3   24 votes   800  \n",
       "4  165 votes   300  "
      ]
     },
     "execution_count": 17,
     "metadata": {},
     "output_type": "execute_result"
    }
   ],
   "source": [
    "train.head()"
   ]
  },
  {
   "cell_type": "code",
   "execution_count": 18,
   "metadata": {},
   "outputs": [
    {
     "data": {
      "text/html": [
       "<div>\n",
       "<style scoped>\n",
       "    .dataframe tbody tr th:only-of-type {\n",
       "        vertical-align: middle;\n",
       "    }\n",
       "\n",
       "    .dataframe tbody tr th {\n",
       "        vertical-align: top;\n",
       "    }\n",
       "\n",
       "    .dataframe thead th {\n",
       "        text-align: right;\n",
       "    }\n",
       "</style>\n",
       "<table border=\"1\" class=\"dataframe\">\n",
       "  <thead>\n",
       "    <tr style=\"text-align: right;\">\n",
       "      <th></th>\n",
       "      <th>TITLE</th>\n",
       "      <th>RESTAURANT_ID</th>\n",
       "      <th>CUISINES</th>\n",
       "      <th>TIME</th>\n",
       "      <th>CITY</th>\n",
       "      <th>LOCALITY</th>\n",
       "      <th>RATING</th>\n",
       "      <th>VOTES</th>\n",
       "    </tr>\n",
       "  </thead>\n",
       "  <tbody>\n",
       "    <tr>\n",
       "      <th>0</th>\n",
       "      <td>CASUAL DINING</td>\n",
       "      <td>4085</td>\n",
       "      <td>North Indian, Chinese, Mughlai, Kebab</td>\n",
       "      <td>12noon – 12midnight (Mon-Sun)</td>\n",
       "      <td>Noida</td>\n",
       "      <td>Sector 18</td>\n",
       "      <td>4.3</td>\n",
       "      <td>564 votes</td>\n",
       "    </tr>\n",
       "    <tr>\n",
       "      <th>1</th>\n",
       "      <td>QUICK BITES</td>\n",
       "      <td>12680</td>\n",
       "      <td>South Indian, Fast Food, Pizza, North Indian</td>\n",
       "      <td>7am – 12:30AM (Mon-Sun)</td>\n",
       "      <td>Mumbai</td>\n",
       "      <td>Grant Road</td>\n",
       "      <td>4.2</td>\n",
       "      <td>61 votes</td>\n",
       "    </tr>\n",
       "    <tr>\n",
       "      <th>2</th>\n",
       "      <td>CASUAL DINING</td>\n",
       "      <td>1411</td>\n",
       "      <td>North Indian, Seafood, Biryani, Chinese</td>\n",
       "      <td>11am – 11:30pm (Mon-Sun)</td>\n",
       "      <td>Mumbai</td>\n",
       "      <td>Marine Lines</td>\n",
       "      <td>3.8</td>\n",
       "      <td>350 votes</td>\n",
       "    </tr>\n",
       "    <tr>\n",
       "      <th>3</th>\n",
       "      <td>None</td>\n",
       "      <td>204</td>\n",
       "      <td>Biryani</td>\n",
       "      <td>9am – 10pm (Mon, Wed, Thu, Fri, Sat, Sun), 10:...</td>\n",
       "      <td>Faridabad</td>\n",
       "      <td>NIT</td>\n",
       "      <td>3.8</td>\n",
       "      <td>1445 votes</td>\n",
       "    </tr>\n",
       "    <tr>\n",
       "      <th>4</th>\n",
       "      <td>QUICK BITES</td>\n",
       "      <td>13453</td>\n",
       "      <td>South Indian, Kerala</td>\n",
       "      <td>11am – 10pm (Mon-Sun)</td>\n",
       "      <td>Kochi</td>\n",
       "      <td>Kaloor</td>\n",
       "      <td>3.6</td>\n",
       "      <td>23 votes</td>\n",
       "    </tr>\n",
       "  </tbody>\n",
       "</table>\n",
       "</div>"
      ],
      "text/plain": [
       "           TITLE  RESTAURANT_ID                                      CUISINES  \\\n",
       "0  CASUAL DINING           4085         North Indian, Chinese, Mughlai, Kebab   \n",
       "1    QUICK BITES          12680  South Indian, Fast Food, Pizza, North Indian   \n",
       "2  CASUAL DINING           1411       North Indian, Seafood, Biryani, Chinese   \n",
       "3           None            204                                       Biryani   \n",
       "4    QUICK BITES          13453                          South Indian, Kerala   \n",
       "\n",
       "                                                TIME       CITY      LOCALITY  \\\n",
       "0                      12noon – 12midnight (Mon-Sun)      Noida     Sector 18   \n",
       "1                            7am – 12:30AM (Mon-Sun)     Mumbai    Grant Road   \n",
       "2                           11am – 11:30pm (Mon-Sun)     Mumbai  Marine Lines   \n",
       "3  9am – 10pm (Mon, Wed, Thu, Fri, Sat, Sun), 10:...  Faridabad           NIT   \n",
       "4                              11am – 10pm (Mon-Sun)      Kochi        Kaloor   \n",
       "\n",
       "  RATING       VOTES  \n",
       "0    4.3   564 votes  \n",
       "1    4.2    61 votes  \n",
       "2    3.8   350 votes  \n",
       "3    3.8  1445 votes  \n",
       "4    3.6    23 votes  "
      ]
     },
     "execution_count": 18,
     "metadata": {},
     "output_type": "execute_result"
    }
   ],
   "source": [
    "test.head()"
   ]
  },
  {
   "cell_type": "code",
   "execution_count": 19,
   "metadata": {},
   "outputs": [
    {
     "name": "stdout",
     "output_type": "stream",
     "text": [
      "<class 'pandas.core.frame.DataFrame'>\n",
      "RangeIndex: 12690 entries, 0 to 12689\n",
      "Data columns (total 9 columns):\n",
      " #   Column         Non-Null Count  Dtype \n",
      "---  ------         --------------  ----- \n",
      " 0   TITLE          12690 non-null  object\n",
      " 1   RESTAURANT_ID  12690 non-null  int64 \n",
      " 2   CUISINES       12690 non-null  object\n",
      " 3   TIME           12690 non-null  object\n",
      " 4   CITY           12578 non-null  object\n",
      " 5   LOCALITY       12592 non-null  object\n",
      " 6   RATING         12688 non-null  object\n",
      " 7   VOTES          11486 non-null  object\n",
      " 8   COST           12690 non-null  int64 \n",
      "dtypes: int64(2), object(7)\n",
      "memory usage: 892.4+ KB\n"
     ]
    }
   ],
   "source": [
    "train.info()"
   ]
  },
  {
   "cell_type": "markdown",
   "metadata": {},
   "source": [
    "The training dataset has 12690 examples, 8 feature columns and 1 target column. 7 of the 9 features are type object data, and the target column 'COST' is of the type int64 including the 'RESTAURANT_ID'"
   ]
  },
  {
   "cell_type": "code",
   "execution_count": 21,
   "metadata": {},
   "outputs": [
    {
     "data": {
      "text/html": [
       "<div>\n",
       "<style scoped>\n",
       "    .dataframe tbody tr th:only-of-type {\n",
       "        vertical-align: middle;\n",
       "    }\n",
       "\n",
       "    .dataframe tbody tr th {\n",
       "        vertical-align: top;\n",
       "    }\n",
       "\n",
       "    .dataframe thead th {\n",
       "        text-align: right;\n",
       "    }\n",
       "</style>\n",
       "<table border=\"1\" class=\"dataframe\">\n",
       "  <thead>\n",
       "    <tr style=\"text-align: right;\">\n",
       "      <th></th>\n",
       "      <th>RESTAURANT_ID</th>\n",
       "      <th>COST</th>\n",
       "    </tr>\n",
       "  </thead>\n",
       "  <tbody>\n",
       "    <tr>\n",
       "      <th>count</th>\n",
       "      <td>12690.000000</td>\n",
       "      <td>12690.000000</td>\n",
       "    </tr>\n",
       "    <tr>\n",
       "      <th>mean</th>\n",
       "      <td>7759.134121</td>\n",
       "      <td>655.252246</td>\n",
       "    </tr>\n",
       "    <tr>\n",
       "      <th>std</th>\n",
       "      <td>4504.874150</td>\n",
       "      <td>627.003540</td>\n",
       "    </tr>\n",
       "    <tr>\n",
       "      <th>min</th>\n",
       "      <td>0.000000</td>\n",
       "      <td>20.000000</td>\n",
       "    </tr>\n",
       "    <tr>\n",
       "      <th>25%</th>\n",
       "      <td>3863.250000</td>\n",
       "      <td>300.000000</td>\n",
       "    </tr>\n",
       "    <tr>\n",
       "      <th>50%</th>\n",
       "      <td>7740.000000</td>\n",
       "      <td>500.000000</td>\n",
       "    </tr>\n",
       "    <tr>\n",
       "      <th>75%</th>\n",
       "      <td>11688.750000</td>\n",
       "      <td>800.000000</td>\n",
       "    </tr>\n",
       "    <tr>\n",
       "      <th>max</th>\n",
       "      <td>15573.000000</td>\n",
       "      <td>14000.000000</td>\n",
       "    </tr>\n",
       "  </tbody>\n",
       "</table>\n",
       "</div>"
      ],
      "text/plain": [
       "       RESTAURANT_ID          COST\n",
       "count   12690.000000  12690.000000\n",
       "mean     7759.134121    655.252246\n",
       "std      4504.874150    627.003540\n",
       "min         0.000000     20.000000\n",
       "25%      3863.250000    300.000000\n",
       "50%      7740.000000    500.000000\n",
       "75%     11688.750000    800.000000\n",
       "max     15573.000000  14000.000000"
      ]
     },
     "execution_count": 21,
     "metadata": {},
     "output_type": "execute_result"
    }
   ],
   "source": [
    "train.describe()"
   ]
  },
  {
   "cell_type": "markdown",
   "metadata": {},
   "source": [
    "- Both the column's do not have any missing values.\n",
    "\n",
    "\n",
    "- The average cost is 500 and the minimal cost is 20, which is extremly pocket friendly.\n",
    "\n",
    "\n",
    "- The maximum Fees is 14000, there is a huge difference between the minimum and the maximum, this it effects the distribution of the data"
   ]
  },
  {
   "cell_type": "code",
   "execution_count": 22,
   "metadata": {},
   "outputs": [
    {
     "data": {
      "text/html": [
       "<div>\n",
       "<style scoped>\n",
       "    .dataframe tbody tr th:only-of-type {\n",
       "        vertical-align: middle;\n",
       "    }\n",
       "\n",
       "    .dataframe tbody tr th {\n",
       "        vertical-align: top;\n",
       "    }\n",
       "\n",
       "    .dataframe thead th {\n",
       "        text-align: right;\n",
       "    }\n",
       "</style>\n",
       "<table border=\"1\" class=\"dataframe\">\n",
       "  <thead>\n",
       "    <tr style=\"text-align: right;\">\n",
       "      <th></th>\n",
       "      <th>TITLE</th>\n",
       "      <th>CUISINES</th>\n",
       "      <th>TIME</th>\n",
       "      <th>CITY</th>\n",
       "      <th>LOCALITY</th>\n",
       "      <th>RATING</th>\n",
       "      <th>VOTES</th>\n",
       "    </tr>\n",
       "  </thead>\n",
       "  <tbody>\n",
       "    <tr>\n",
       "      <th>count</th>\n",
       "      <td>12690</td>\n",
       "      <td>12690</td>\n",
       "      <td>12690</td>\n",
       "      <td>12578</td>\n",
       "      <td>12592</td>\n",
       "      <td>12688</td>\n",
       "      <td>11486</td>\n",
       "    </tr>\n",
       "    <tr>\n",
       "      <th>unique</th>\n",
       "      <td>113</td>\n",
       "      <td>4155</td>\n",
       "      <td>2689</td>\n",
       "      <td>359</td>\n",
       "      <td>1416</td>\n",
       "      <td>32</td>\n",
       "      <td>1847</td>\n",
       "    </tr>\n",
       "    <tr>\n",
       "      <th>top</th>\n",
       "      <td>QUICK BITES</td>\n",
       "      <td>South Indian</td>\n",
       "      <td>11am – 11pm (Mon-Sun)</td>\n",
       "      <td>Chennai</td>\n",
       "      <td>Gachibowli</td>\n",
       "      <td>3.9</td>\n",
       "      <td>44 votes</td>\n",
       "    </tr>\n",
       "    <tr>\n",
       "      <th>freq</th>\n",
       "      <td>4218</td>\n",
       "      <td>532</td>\n",
       "      <td>1415</td>\n",
       "      <td>2174</td>\n",
       "      <td>166</td>\n",
       "      <td>1238</td>\n",
       "      <td>71</td>\n",
       "    </tr>\n",
       "  </tbody>\n",
       "</table>\n",
       "</div>"
      ],
      "text/plain": [
       "              TITLE      CUISINES                   TIME     CITY    LOCALITY  \\\n",
       "count         12690         12690                  12690    12578       12592   \n",
       "unique          113          4155                   2689      359        1416   \n",
       "top     QUICK BITES  South Indian  11am – 11pm (Mon-Sun)  Chennai  Gachibowli   \n",
       "freq           4218           532                   1415     2174         166   \n",
       "\n",
       "       RATING     VOTES  \n",
       "count   12688     11486  \n",
       "unique     32      1847  \n",
       "top       3.9  44 votes  \n",
       "freq     1238        71  "
      ]
     },
     "execution_count": 22,
     "metadata": {},
     "output_type": "execute_result"
    }
   ],
   "source": [
    "train.describe(include=['O'])"
   ]
  },
  {
   "cell_type": "markdown",
   "metadata": {},
   "source": [
    "- The column 'TITLE' has 113 unique values, out of which Quick Bites is the most frequently occuring, hence maximum number of entries in our data is of cafes.\n",
    "\n",
    "\n",
    "- The column 'CUISINES' has 4155 unique cousine entries, the most favourite cousine being 'South Indian'.\n",
    "\n",
    "- The column 'CITY' has 359 unique location entries , the most frequently occuring city is 'Chennai'\n",
    "\n",
    "\n",
    "- The column 'RATING' has 3.9 unique entries, Most of the entries are of 3.9\n",
    "\n",
    "\n",
    "- The column 'VOTES' has only 1847 unique entries, out of which 44 is the most frequently occuring."
   ]
  },
  {
   "cell_type": "markdown",
   "metadata": {},
   "source": [
    "#### Combining the train and test data"
   ]
  },
  {
   "cell_type": "code",
   "execution_count": 8,
   "metadata": {},
   "outputs": [
    {
     "data": {
      "text/plain": [
       "(16921, 10)"
      ]
     },
     "execution_count": 8,
     "metadata": {},
     "output_type": "execute_result"
    }
   ],
   "source": [
    "df = pd.concat([train.assign(ind=\"train\"), test.assign(ind=\"test\")])\n",
    "df.shape"
   ]
  },
  {
   "cell_type": "markdown",
   "metadata": {},
   "source": [
    "# Feature Engineering"
   ]
  },
  {
   "cell_type": "code",
   "execution_count": 9,
   "metadata": {},
   "outputs": [
    {
     "data": {
      "text/plain": [
       "TITLE              123\n",
       "RESTAURANT_ID    15574\n",
       "CUISINES          5183\n",
       "TIME              3295\n",
       "CITY               450\n",
       "LOCALITY          1636\n",
       "RATING              32\n",
       "VOTES             2075\n",
       "COST                86\n",
       "ind                  2\n",
       "dtype: int64"
      ]
     },
     "execution_count": 9,
     "metadata": {},
     "output_type": "execute_result"
    }
   ],
   "source": [
    "df.nunique()"
   ]
  },
  {
   "cell_type": "markdown",
   "metadata": {},
   "source": [
    "- The column Restraunt_ID has 15,574 unique values which is almost equal to the number of entries. \n",
    "\n",
    "\n",
    "- The TIME column can be used to extract important features such as opening time, closing time, closing days, etc. However the column does not work efficiently thus i dropped it. \n",
    "\n",
    "\n",
    "- For values in CITY column which also contained locality, and thus we only keep only relevant ones."
   ]
  },
  {
   "cell_type": "code",
   "execution_count": 10,
   "metadata": {},
   "outputs": [],
   "source": [
    "df.drop(['RESTAURANT_ID','TIME','LOCALITY'], axis=1, inplace=True)"
   ]
  },
  {
   "cell_type": "markdown",
   "metadata": {},
   "source": [
    "The column 'VOTES' has the phrase 'votes' attached to the numerical value which needs to be dropped"
   ]
  },
  {
   "cell_type": "code",
   "execution_count": 11,
   "metadata": {},
   "outputs": [],
   "source": [
    "df['VOTES'] = df['VOTES'].str.replace('votes','')"
   ]
  },
  {
   "cell_type": "markdown",
   "metadata": {},
   "source": [
    "#### Treating the column CITY"
   ]
  },
  {
   "cell_type": "code",
   "execution_count": 12,
   "metadata": {},
   "outputs": [],
   "source": [
    "df.dropna(subset=['CITY'],inplace=True)"
   ]
  },
  {
   "cell_type": "markdown",
   "metadata": {},
   "source": [
    "#### Data Cleaning - City"
   ]
  },
  {
   "cell_type": "code",
   "execution_count": 13,
   "metadata": {},
   "outputs": [
    {
     "name": "stderr",
     "output_type": "stream",
     "text": [
      "C:\\Users\\User\\anaconda3\\lib\\site-packages\\fuzzywuzzy\\fuzz.py:11: UserWarning: Using slow pure-python SequenceMatcher. Install python-Levenshtein to remove this warning\n",
      "  warnings.warn('Using slow pure-python SequenceMatcher. Install python-Levenshtein to remove this warning')\n"
     ]
    }
   ],
   "source": [
    "import fuzzywuzzy\n",
    "from fuzzywuzzy import process\n",
    "names_array=[]\n",
    "def match_names(wrong_names,correct_names):\n",
    "    for row in wrong_names:\n",
    "        x = process.extractOne(row, correct_names)\n",
    "        if x[1]<60:\n",
    "            names_array.append('Others')\n",
    "        else:\n",
    "            names_array.append(x[0])\n",
    "    return names_array"
   ]
  },
  {
   "cell_type": "code",
   "execution_count": 14,
   "metadata": {},
   "outputs": [
    {
     "data": {
      "text/plain": [
       "Chennai          2855\n",
       "Bangalore        2835\n",
       "Hyderabad        2458\n",
       "Mumbai           2311\n",
       "New Delhi        1754\n",
       "Kochi            1751\n",
       "Gurgaon           524\n",
       "Secunderabad      396\n",
       "Noida             274\n",
       "Navi Mumbai       222\n",
       "Ghaziabad         132\n",
       "Thane             118\n",
       "Faridabad         109\n",
       "Bandra West        85\n",
       "Thane West         73\n",
       "Andheri West       69\n",
       "Bengaluru          61\n",
       "Greater Noida      38\n",
       "India              31\n",
       "Kakkanad           20\n",
       "Name: CITY, dtype: int64"
      ]
     },
     "execution_count": 14,
     "metadata": {},
     "output_type": "execute_result"
    }
   ],
   "source": [
    "df['CITY'].value_counts().head(20)"
   ]
  },
  {
   "cell_type": "code",
   "execution_count": 15,
   "metadata": {},
   "outputs": [],
   "source": [
    "#location should contain one of the following categories or 'Others' as set in the match names function\n",
    "correct_names=['Chennai ', 'Bangalore',     \n",
    "'Hyderabad','Mumbai',         \n",
    "'New Delhi','Kochi',           \n",
    "'Gurgaon', 'Secunderabad',    \n",
    "'Noida', 'Navi Mumbai',    \n",
    "'Ghaziabad','Thane',       \n",
    "'Faridabad','Bandra West',       \n",
    "'Thane West','Andheri West',      \n",
    "'Bengaluru','Greater Noida',    \n",
    "'India']"
   ]
  },
  {
   "cell_type": "code",
   "execution_count": 16,
   "metadata": {},
   "outputs": [
    {
     "name": "stdout",
     "output_type": "stream",
     "text": [
      "16774\n"
     ]
    }
   ],
   "source": [
    "name_match=match_names(df.CITY,correct_names)    \n",
    "\n",
    "print(len(names_array))\n",
    "df['CITY']=names_array"
   ]
  },
  {
   "cell_type": "code",
   "execution_count": 23,
   "metadata": {},
   "outputs": [
    {
     "data": {
      "text/plain": [
       "Chennai          2900\n",
       "Bangalore        2882\n",
       "Hyderabad        2490\n",
       "Mumbai           2343\n",
       "New Delhi        1795\n",
       "Kochi            1778\n",
       "Gurgaon           537\n",
       "Secunderabad      402\n",
       "Others            374\n",
       "Noida             279\n",
       "Navi Mumbai       229\n",
       "Ghaziabad         134\n",
       "Thane             126\n",
       "Faridabad         111\n",
       "Bandra West        96\n",
       "Thane West         84\n",
       "Andheri West       74\n",
       "Bengaluru          62\n",
       "India              40\n",
       "Greater Noida      38\n",
       "Name: CITY, dtype: int64"
      ]
     },
     "execution_count": 23,
     "metadata": {},
     "output_type": "execute_result"
    }
   ],
   "source": [
    "df[\"CITY\"].value_counts()"
   ]
  },
  {
   "cell_type": "code",
   "execution_count": 24,
   "metadata": {},
   "outputs": [
    {
     "data": {
      "text/plain": [
       "TITLE          0\n",
       "CUISINES       0\n",
       "CITY           0\n",
       "RATING         4\n",
       "VOTES       1584\n",
       "COST        4196\n",
       "ind            0\n",
       "dtype: int64"
      ]
     },
     "execution_count": 24,
     "metadata": {},
     "output_type": "execute_result"
    }
   ],
   "source": [
    "df.isna().sum()"
   ]
  },
  {
   "cell_type": "markdown",
   "metadata": {},
   "source": [
    "#### Cleaning - Cuisine"
   ]
  },
  {
   "cell_type": "code",
   "execution_count": 25,
   "metadata": {},
   "outputs": [],
   "source": [
    "cuisines_list=[]\n",
    "for row in df['CUISINES']:\n",
    "    cuisines_list.append(list(row.split(',')))\n",
    "\n",
    "df['CUISINES']=cuisines_list"
   ]
  },
  {
   "cell_type": "code",
   "execution_count": 26,
   "metadata": {},
   "outputs": [],
   "source": [
    "df_cuisines=df['CUISINES'].apply(lambda x: pd.Series(1, x))"
   ]
  },
  {
   "cell_type": "markdown",
   "metadata": {},
   "source": [
    "#### Cleaning - Title"
   ]
  },
  {
   "cell_type": "code",
   "execution_count": 27,
   "metadata": {},
   "outputs": [],
   "source": [
    "title_list=[]\n",
    "for row in df['TITLE']:\n",
    "    title_list.append(list(row.split(',')))\n",
    "df['TITLE']=title_list"
   ]
  },
  {
   "cell_type": "code",
   "execution_count": 28,
   "metadata": {},
   "outputs": [],
   "source": [
    "df_title=df['TITLE'].apply(lambda x: pd.Series(1, x))"
   ]
  },
  {
   "cell_type": "markdown",
   "metadata": {},
   "source": [
    "#### Cleaning - Rating "
   ]
  },
  {
   "cell_type": "code",
   "execution_count": 29,
   "metadata": {},
   "outputs": [
    {
     "data": {
      "text/html": [
       "<div>\n",
       "<style scoped>\n",
       "    .dataframe tbody tr th:only-of-type {\n",
       "        vertical-align: middle;\n",
       "    }\n",
       "\n",
       "    .dataframe tbody tr th {\n",
       "        vertical-align: top;\n",
       "    }\n",
       "\n",
       "    .dataframe thead th {\n",
       "        text-align: right;\n",
       "    }\n",
       "</style>\n",
       "<table border=\"1\" class=\"dataframe\">\n",
       "  <thead>\n",
       "    <tr style=\"text-align: right;\">\n",
       "      <th></th>\n",
       "      <th>TITLE</th>\n",
       "      <th>CUISINES</th>\n",
       "      <th>CITY</th>\n",
       "      <th>RATING</th>\n",
       "      <th>VOTES</th>\n",
       "      <th>COST</th>\n",
       "      <th>ind</th>\n",
       "    </tr>\n",
       "  </thead>\n",
       "  <tbody>\n",
       "    <tr>\n",
       "      <th>204</th>\n",
       "      <td>[BAKERY]</td>\n",
       "      <td>[Bakery]</td>\n",
       "      <td>Kochi</td>\n",
       "      <td>NaN</td>\n",
       "      <td>NaN</td>\n",
       "      <td>200.0</td>\n",
       "      <td>train</td>\n",
       "    </tr>\n",
       "    <tr>\n",
       "      <th>421</th>\n",
       "      <td>[CAFÉ]</td>\n",
       "      <td>[Cafe,  Fast Food]</td>\n",
       "      <td>Hyderabad</td>\n",
       "      <td>NaN</td>\n",
       "      <td>NaN</td>\n",
       "      <td>350.0</td>\n",
       "      <td>train</td>\n",
       "    </tr>\n",
       "    <tr>\n",
       "      <th>2035</th>\n",
       "      <td>[QUICK BITES]</td>\n",
       "      <td>[Kerala,  Arabian]</td>\n",
       "      <td>Kochi</td>\n",
       "      <td>NaN</td>\n",
       "      <td>NaN</td>\n",
       "      <td>NaN</td>\n",
       "      <td>test</td>\n",
       "    </tr>\n",
       "    <tr>\n",
       "      <th>2758</th>\n",
       "      <td>[None]</td>\n",
       "      <td>[Chinese,  North Indian,  South Indian]</td>\n",
       "      <td>Kochi</td>\n",
       "      <td>NaN</td>\n",
       "      <td>NaN</td>\n",
       "      <td>NaN</td>\n",
       "      <td>test</td>\n",
       "    </tr>\n",
       "  </tbody>\n",
       "</table>\n",
       "</div>"
      ],
      "text/plain": [
       "              TITLE                                 CUISINES       CITY  \\\n",
       "204        [BAKERY]                                 [Bakery]      Kochi   \n",
       "421          [CAFÉ]                       [Cafe,  Fast Food]  Hyderabad   \n",
       "2035  [QUICK BITES]                       [Kerala,  Arabian]      Kochi   \n",
       "2758         [None]  [Chinese,  North Indian,  South Indian]      Kochi   \n",
       "\n",
       "     RATING VOTES   COST    ind  \n",
       "204     NaN   NaN  200.0  train  \n",
       "421     NaN   NaN  350.0  train  \n",
       "2035    NaN   NaN    NaN   test  \n",
       "2758    NaN   NaN    NaN   test  "
      ]
     },
     "execution_count": 29,
     "metadata": {},
     "output_type": "execute_result"
    }
   ],
   "source": [
    "df[df['RATING'].isna()]"
   ]
  },
  {
   "cell_type": "code",
   "execution_count": 30,
   "metadata": {},
   "outputs": [],
   "source": [
    "df[\"RATING\"] = df.groupby(\"CITY\").RATING.transform(lambda x : x.fillna(x.mode()[0]))"
   ]
  },
  {
   "cell_type": "code",
   "execution_count": 31,
   "metadata": {},
   "outputs": [],
   "source": [
    "df['RATING']=df['RATING'].str.extract('(\\d+)').astype(float)"
   ]
  },
  {
   "cell_type": "markdown",
   "metadata": {},
   "source": [
    "#### Cleaning - votes"
   ]
  },
  {
   "cell_type": "code",
   "execution_count": 32,
   "metadata": {},
   "outputs": [],
   "source": [
    "df.VOTES.fillna('0',inplace=True)\n",
    "df['VOTES']=df['VOTES'].str.extract('(\\d+)').astype(float)"
   ]
  },
  {
   "cell_type": "code",
   "execution_count": 33,
   "metadata": {},
   "outputs": [
    {
     "data": {
      "text/html": [
       "<div>\n",
       "<style scoped>\n",
       "    .dataframe tbody tr th:only-of-type {\n",
       "        vertical-align: middle;\n",
       "    }\n",
       "\n",
       "    .dataframe tbody tr th {\n",
       "        vertical-align: top;\n",
       "    }\n",
       "\n",
       "    .dataframe thead th {\n",
       "        text-align: right;\n",
       "    }\n",
       "</style>\n",
       "<table border=\"1\" class=\"dataframe\">\n",
       "  <thead>\n",
       "    <tr style=\"text-align: right;\">\n",
       "      <th></th>\n",
       "      <th>Andheri West</th>\n",
       "      <th>Bandra West</th>\n",
       "      <th>Bangalore</th>\n",
       "      <th>Bengaluru</th>\n",
       "      <th>Chennai</th>\n",
       "      <th>Faridabad</th>\n",
       "      <th>Ghaziabad</th>\n",
       "      <th>Greater Noida</th>\n",
       "      <th>Gurgaon</th>\n",
       "      <th>Hyderabad</th>\n",
       "      <th>India</th>\n",
       "      <th>Kochi</th>\n",
       "      <th>Mumbai</th>\n",
       "      <th>Navi Mumbai</th>\n",
       "      <th>New Delhi</th>\n",
       "      <th>Noida</th>\n",
       "      <th>Others</th>\n",
       "      <th>Secunderabad</th>\n",
       "      <th>Thane</th>\n",
       "      <th>Thane West</th>\n",
       "    </tr>\n",
       "  </thead>\n",
       "  <tbody>\n",
       "    <tr>\n",
       "      <th>0</th>\n",
       "      <td>0</td>\n",
       "      <td>0</td>\n",
       "      <td>0</td>\n",
       "      <td>0</td>\n",
       "      <td>0</td>\n",
       "      <td>0</td>\n",
       "      <td>0</td>\n",
       "      <td>0</td>\n",
       "      <td>0</td>\n",
       "      <td>0</td>\n",
       "      <td>0</td>\n",
       "      <td>0</td>\n",
       "      <td>0</td>\n",
       "      <td>0</td>\n",
       "      <td>0</td>\n",
       "      <td>0</td>\n",
       "      <td>0</td>\n",
       "      <td>0</td>\n",
       "      <td>1</td>\n",
       "      <td>0</td>\n",
       "    </tr>\n",
       "    <tr>\n",
       "      <th>1</th>\n",
       "      <td>0</td>\n",
       "      <td>0</td>\n",
       "      <td>0</td>\n",
       "      <td>0</td>\n",
       "      <td>1</td>\n",
       "      <td>0</td>\n",
       "      <td>0</td>\n",
       "      <td>0</td>\n",
       "      <td>0</td>\n",
       "      <td>0</td>\n",
       "      <td>0</td>\n",
       "      <td>0</td>\n",
       "      <td>0</td>\n",
       "      <td>0</td>\n",
       "      <td>0</td>\n",
       "      <td>0</td>\n",
       "      <td>0</td>\n",
       "      <td>0</td>\n",
       "      <td>0</td>\n",
       "      <td>0</td>\n",
       "    </tr>\n",
       "    <tr>\n",
       "      <th>2</th>\n",
       "      <td>0</td>\n",
       "      <td>0</td>\n",
       "      <td>0</td>\n",
       "      <td>0</td>\n",
       "      <td>1</td>\n",
       "      <td>0</td>\n",
       "      <td>0</td>\n",
       "      <td>0</td>\n",
       "      <td>0</td>\n",
       "      <td>0</td>\n",
       "      <td>0</td>\n",
       "      <td>0</td>\n",
       "      <td>0</td>\n",
       "      <td>0</td>\n",
       "      <td>0</td>\n",
       "      <td>0</td>\n",
       "      <td>0</td>\n",
       "      <td>0</td>\n",
       "      <td>0</td>\n",
       "      <td>0</td>\n",
       "    </tr>\n",
       "    <tr>\n",
       "      <th>3</th>\n",
       "      <td>0</td>\n",
       "      <td>0</td>\n",
       "      <td>0</td>\n",
       "      <td>0</td>\n",
       "      <td>0</td>\n",
       "      <td>0</td>\n",
       "      <td>0</td>\n",
       "      <td>0</td>\n",
       "      <td>0</td>\n",
       "      <td>0</td>\n",
       "      <td>0</td>\n",
       "      <td>0</td>\n",
       "      <td>1</td>\n",
       "      <td>0</td>\n",
       "      <td>0</td>\n",
       "      <td>0</td>\n",
       "      <td>0</td>\n",
       "      <td>0</td>\n",
       "      <td>0</td>\n",
       "      <td>0</td>\n",
       "    </tr>\n",
       "    <tr>\n",
       "      <th>4</th>\n",
       "      <td>0</td>\n",
       "      <td>0</td>\n",
       "      <td>0</td>\n",
       "      <td>0</td>\n",
       "      <td>0</td>\n",
       "      <td>0</td>\n",
       "      <td>0</td>\n",
       "      <td>0</td>\n",
       "      <td>0</td>\n",
       "      <td>0</td>\n",
       "      <td>0</td>\n",
       "      <td>0</td>\n",
       "      <td>1</td>\n",
       "      <td>0</td>\n",
       "      <td>0</td>\n",
       "      <td>0</td>\n",
       "      <td>0</td>\n",
       "      <td>0</td>\n",
       "      <td>0</td>\n",
       "      <td>0</td>\n",
       "    </tr>\n",
       "  </tbody>\n",
       "</table>\n",
       "</div>"
      ],
      "text/plain": [
       "   Andheri West  Bandra West  Bangalore  Bengaluru  Chennai   Faridabad  \\\n",
       "0             0            0          0          0         0          0   \n",
       "1             0            0          0          0         1          0   \n",
       "2             0            0          0          0         1          0   \n",
       "3             0            0          0          0         0          0   \n",
       "4             0            0          0          0         0          0   \n",
       "\n",
       "   Ghaziabad  Greater Noida  Gurgaon  Hyderabad  India  Kochi  Mumbai  \\\n",
       "0          0              0        0          0      0      0       0   \n",
       "1          0              0        0          0      0      0       0   \n",
       "2          0              0        0          0      0      0       0   \n",
       "3          0              0        0          0      0      0       1   \n",
       "4          0              0        0          0      0      0       1   \n",
       "\n",
       "   Navi Mumbai  New Delhi  Noida  Others  Secunderabad  Thane  Thane West  \n",
       "0            0          0      0       0             0      1           0  \n",
       "1            0          0      0       0             0      0           0  \n",
       "2            0          0      0       0             0      0           0  \n",
       "3            0          0      0       0             0      0           0  \n",
       "4            0          0      0       0             0      0           0  "
      ]
     },
     "execution_count": 33,
     "metadata": {},
     "output_type": "execute_result"
    }
   ],
   "source": [
    "df_City = pd.get_dummies(df['CITY'])\n",
    "\n",
    "df_City.head()"
   ]
  },
  {
   "cell_type": "markdown",
   "metadata": {},
   "source": [
    "# EDA"
   ]
  },
  {
   "cell_type": "code",
   "execution_count": 34,
   "metadata": {},
   "outputs": [],
   "source": [
    "import matplotlib.pyplot as plt\n",
    "import seaborn as sns\n",
    "from matplotlib import pyplot"
   ]
  },
  {
   "cell_type": "code",
   "execution_count": 36,
   "metadata": {},
   "outputs": [
    {
     "data": {
      "text/plain": [
       "<matplotlib.axes._subplots.AxesSubplot at 0x18d29231788>"
      ]
     },
     "execution_count": 36,
     "metadata": {},
     "output_type": "execute_result"
    },
    {
     "data": {
      "image/png": "[encoded data removed]",
      "text/plain": [
       "<Figure size 1008x144 with 1 Axes>"
      ]
     },
     "metadata": {
      "needs_background": "light"
     },
     "output_type": "display_data"
    }
   ],
   "source": [
    "plt.figure(figsize=(14,2))\n",
    "sns.boxplot('COST', data=df, palette='BuPu')"
   ]
  },
  {
   "cell_type": "markdown",
   "metadata": {},
   "source": [
    "- The minimum cost is less than 100 and the maximum cost is 14000 and has a median cost of around 500. \n",
    "\n",
    "\n",
    "- There are outliers present the the data.\n",
    "\n",
    "\n",
    "- The outlier's will not be treated it as it is the cost of the restraurants which changes with respect to the different kind of restaurants."
   ]
  },
  {
   "cell_type": "code",
   "execution_count": 38,
   "metadata": {},
   "outputs": [
    {
     "data": {
      "text/plain": [
       "<matplotlib.axes._subplots.AxesSubplot at 0x18d2a46cd88>"
      ]
     },
     "execution_count": 38,
     "metadata": {},
     "output_type": "execute_result"
    },
    {
     "data": {
      "image/png": "[encoded data removed]",
      "text/plain": [
       "<Figure size 1296x576 with 3 Axes>"
      ]
     },
     "metadata": {
      "needs_background": "light"
     },
     "output_type": "display_data"
    }
   ],
   "source": [
    "fig, axes = plt.subplots(3, 1, figsize=(18, 8))\n",
    "\n",
    "sns.boxplot(ax=axes[0], x=df['COST'], palette='BuPu')\n",
    "sns.boxplot(ax=axes[1], x=df['VOTES'], palette='BuPu')\n",
    "sns.boxplot(ax=axes[2], x=df['RATING'], palette='BuPu')"
   ]
  },
  {
   "cell_type": "markdown",
   "metadata": {},
   "source": [
    "- The column COST and VOTES have multiple Outlier's but its valid to have outliers for values like COST and VOTES.\n",
    "\n",
    "\n",
    "- Also, since the number of outlier's are too many in number thus the rows should not be deleted."
   ]
  },
  {
   "cell_type": "code",
   "execution_count": 40,
   "metadata": {},
   "outputs": [
    {
     "data": {
      "text/plain": [
       "array([[<matplotlib.axes._subplots.AxesSubplot object at 0x0000018D258E3848>,\n",
       "        <matplotlib.axes._subplots.AxesSubplot object at 0x0000018D2585BB48>],\n",
       "       [<matplotlib.axes._subplots.AxesSubplot object at 0x0000018D25801288>,\n",
       "        <matplotlib.axes._subplots.AxesSubplot object at 0x0000018D25A96E48>]],\n",
       "      dtype=object)"
      ]
     },
     "execution_count": 40,
     "metadata": {},
     "output_type": "execute_result"
    },
    {
     "data": {
      "image/png": "[encoded data removed]",
      "text/plain": [
       "<Figure size 720x720 with 4 Axes>"
      ]
     },
     "metadata": {
      "needs_background": "light"
     },
     "output_type": "display_data"
    }
   ],
   "source": [
    "df.hist(figsize=(10,10), color='#8869cf')"
   ]
  },
  {
   "cell_type": "markdown",
   "metadata": {},
   "source": [
    "- 90% of the restaurants cost is below 1250\n",
    "\n",
    "\n",
    "- Most of the restaurants have the rating equivalent to 3 i.e. almost 8000 and above\n",
    "\n",
    "\n",
    "- Most of the votes are distributed around 0 to 100"
   ]
  },
  {
   "cell_type": "code",
   "execution_count": 43,
   "metadata": {},
   "outputs": [
    {
     "data": {
      "text/plain": [
       "<seaborn.axisgrid.PairGrid at 0x18d2c611f88>"
      ]
     },
     "execution_count": 43,
     "metadata": {},
     "output_type": "execute_result"
    },
    {
     "data": {
      "image/png": "[encoded data removed]",
      "text/plain": [
       "<Figure size 540x540 with 12 Axes>"
      ]
     },
     "metadata": {
      "needs_background": "light"
     },
     "output_type": "display_data"
    }
   ],
   "source": [
    "sns.pairplot(df)"
   ]
  },
  {
   "cell_type": "markdown",
   "metadata": {},
   "source": [
    "- The pairplot does not reveal any negative or possitive corelation"
   ]
  },
  {
   "cell_type": "code",
   "execution_count": 46,
   "metadata": {},
   "outputs": [
    {
     "data": {
      "image/png": "[encoded data removed]",
      "text/plain": [
       "<Figure size 360x360 with 2 Axes>"
      ]
     },
     "metadata": {
      "needs_background": "light"
     },
     "output_type": "display_data"
    }
   ],
   "source": [
    "corr_hmap=df.corr()\n",
    "plt.figure(figsize=(5,5))\n",
    "sns.heatmap(corr_hmap,annot=True)\n",
    "plt.show()"
   ]
  },
  {
   "cell_type": "code",
   "execution_count": 47,
   "metadata": {},
   "outputs": [
    {
     "data": {
      "image/png": "[encoded data removed]",
      "text/plain": [
       "<Figure size 576x432 with 1 Axes>"
      ]
     },
     "metadata": {
      "needs_background": "light"
     },
     "output_type": "display_data"
    }
   ],
   "source": [
    "fig, ax = plt.subplots(figsize=(8,6))\n",
    "sns.countplot(df['CITY'].sort_values(), ax=ax, color='b', alpha=0.5, palette='BuPu')\n",
    "plt.xticks(rotation=90)\n",
    "plt.show()"
   ]
  },
  {
   "cell_type": "markdown",
   "metadata": {},
   "source": [
    "- From the above count plot we could see that the maximum Restaurants are present in Bangalore city which is followed by Chennai, Hyderabad ,Mumbai and Delhi which are all big metro city in India where as other locations are having less than 500 restaurants each. \n",
    "\n",
    "\n",
    "- Bangalore is having more Restaurants which is around 2900."
   ]
  },
  {
   "cell_type": "code",
   "execution_count": 48,
   "metadata": {},
   "outputs": [],
   "source": [
    "# Since 'CUISINES' has been dummified hence it can be dropped\n",
    "\n",
    "df.drop(columns='CUISINES',inplace=True)"
   ]
  },
  {
   "cell_type": "code",
   "execution_count": 49,
   "metadata": {},
   "outputs": [],
   "source": [
    "# Since 'CITY' has been dummified hence it can be dropped\n",
    "\n",
    "df.drop(columns='CITY',inplace=True)"
   ]
  },
  {
   "cell_type": "markdown",
   "metadata": {},
   "source": [
    "#### Concatinating "
   ]
  },
  {
   "cell_type": "code",
   "execution_count": 50,
   "metadata": {},
   "outputs": [],
   "source": [
    "df = pd.concat([df,df_City,df_cuisines,df_title], axis=1)"
   ]
  },
  {
   "cell_type": "code",
   "execution_count": 51,
   "metadata": {},
   "outputs": [],
   "source": [
    "df.drop(columns='TITLE',inplace=True)"
   ]
  },
  {
   "cell_type": "code",
   "execution_count": 52,
   "metadata": {},
   "outputs": [
    {
     "data": {
      "text/plain": [
       "Index(['ind'], dtype='object')"
      ]
     },
     "execution_count": 52,
     "metadata": {},
     "output_type": "execute_result"
    }
   ],
   "source": [
    "df_column_category = df.select_dtypes(exclude=np.number).columns\n",
    "df_column_category"
   ]
  },
  {
   "cell_type": "code",
   "execution_count": 53,
   "metadata": {},
   "outputs": [],
   "source": [
    "df.fillna(0,inplace=True)"
   ]
  },
  {
   "cell_type": "markdown",
   "metadata": {},
   "source": [
    "# Training Phase"
   ]
  },
  {
   "cell_type": "code",
   "execution_count": 54,
   "metadata": {},
   "outputs": [],
   "source": [
    "test, train = df[df[\"ind\"].eq(\"test\")], df[df[\"ind\"].eq(\"train\")]\n",
    "test = test.drop(['ind','COST'], axis=1)\n",
    "train = train.drop(['ind'], axis=1)"
   ]
  },
  {
   "cell_type": "code",
   "execution_count": 55,
   "metadata": {},
   "outputs": [
    {
     "data": {
      "text/html": [
       "<div>\n",
       "<style scoped>\n",
       "    .dataframe tbody tr th:only-of-type {\n",
       "        vertical-align: middle;\n",
       "    }\n",
       "\n",
       "    .dataframe tbody tr th {\n",
       "        vertical-align: top;\n",
       "    }\n",
       "\n",
       "    .dataframe thead th {\n",
       "        text-align: right;\n",
       "    }\n",
       "</style>\n",
       "<table border=\"1\" class=\"dataframe\">\n",
       "  <thead>\n",
       "    <tr style=\"text-align: right;\">\n",
       "      <th></th>\n",
       "      <th>RATING</th>\n",
       "      <th>VOTES</th>\n",
       "      <th>COST</th>\n",
       "      <th>Andheri West</th>\n",
       "      <th>Bandra West</th>\n",
       "      <th>Bangalore</th>\n",
       "      <th>Bengaluru</th>\n",
       "      <th>Chennai</th>\n",
       "      <th>Faridabad</th>\n",
       "      <th>Ghaziabad</th>\n",
       "      <th>Greater Noida</th>\n",
       "      <th>Gurgaon</th>\n",
       "      <th>Hyderabad</th>\n",
       "      <th>India</th>\n",
       "      <th>Kochi</th>\n",
       "      <th>Mumbai</th>\n",
       "      <th>Navi Mumbai</th>\n",
       "      <th>New Delhi</th>\n",
       "      <th>Noida</th>\n",
       "      <th>Others</th>\n",
       "      <th>Secunderabad</th>\n",
       "      <th>Thane</th>\n",
       "      <th>Thane West</th>\n",
       "      <th>Malwani</th>\n",
       "      <th>Goan</th>\n",
       "      <th>North Indian</th>\n",
       "      <th>Asian</th>\n",
       "      <th>Modern Indian</th>\n",
       "      <th>Japanese</th>\n",
       "      <th>North Indian</th>\n",
       "      <th>Chinese</th>\n",
       "      <th>Biryani</th>\n",
       "      <th>Hyderabadi</th>\n",
       "      <th>Tibetan</th>\n",
       "      <th>Desserts</th>\n",
       "      <th>Seafood</th>\n",
       "      <th>Cafe</th>\n",
       "      <th>Pizza</th>\n",
       "      <th>Burger</th>\n",
       "      <th>Bar Food</th>\n",
       "      <th>South Indian</th>\n",
       "      <th>Fast Food</th>\n",
       "      <th>Fast Food</th>\n",
       "      <th>Beverages</th>\n",
       "      <th>Arabian</th>\n",
       "      <th>Mughlai</th>\n",
       "      <th>Maharashtrian</th>\n",
       "      <th>Parsi</th>\n",
       "      <th>Chinese</th>\n",
       "      <th>Thai</th>\n",
       "      <th>Bakery</th>\n",
       "      <th>Momos</th>\n",
       "      <th>Continental</th>\n",
       "      <th>European</th>\n",
       "      <th>Rolls</th>\n",
       "      <th>Andhra</th>\n",
       "      <th>Italian</th>\n",
       "      <th>Biryani</th>\n",
       "      <th>BBQ</th>\n",
       "      <th>Italian</th>\n",
       "      <th>Finger Food</th>\n",
       "      <th>Continental</th>\n",
       "      <th>Asian</th>\n",
       "      <th>Tea</th>\n",
       "      <th>American</th>\n",
       "      <th>Healthy Food</th>\n",
       "      <th>Beverages</th>\n",
       "      <th>Coffee</th>\n",
       "      <th>Indonesian</th>\n",
       "      <th>Korean</th>\n",
       "      <th>South Indian</th>\n",
       "      <th>American</th>\n",
       "      <th>Nepalese</th>\n",
       "      <th>European</th>\n",
       "      <th>Ice Cream</th>\n",
       "      <th>Desserts</th>\n",
       "      <th>Mexican</th>\n",
       "      <th>Kerala</th>\n",
       "      <th>Seafood</th>\n",
       "      <th>Indian</th>\n",
       "      <th>Pizza</th>\n",
       "      <th>Mithai</th>\n",
       "      <th>Street Food</th>\n",
       "      <th>Mithai</th>\n",
       "      <th>Rolls</th>\n",
       "      <th>Malaysian</th>\n",
       "      <th>Vietnamese</th>\n",
       "      <th>Thai</th>\n",
       "      <th>Arabian</th>\n",
       "      <th>Iranian</th>\n",
       "      <th>Kebab</th>\n",
       "      <th>Juices</th>\n",
       "      <th>Sandwich</th>\n",
       "      <th>Burger</th>\n",
       "      <th>Hyderabadi</th>\n",
       "      <th>Andhra</th>\n",
       "      <th>Maharashtrian</th>\n",
       "      <th>Mediterranean</th>\n",
       "      <th>Salad</th>\n",
       "      <th>Gujarati</th>\n",
       "      <th>Rajasthani</th>\n",
       "      <th>Mexican</th>\n",
       "      <th>Tex-Mex</th>\n",
       "      <th>Roast Chicken</th>\n",
       "      <th>Finger Food</th>\n",
       "      <th>Healthy Food</th>\n",
       "      <th>Ice Cream</th>\n",
       "      <th>Burmese</th>\n",
       "      <th>Juices</th>\n",
       "      <th>Kerala</th>\n",
       "      <th>Chettinad</th>\n",
       "      <th>North Eastern</th>\n",
       "      <th>Lebanese</th>\n",
       "      <th>Coffee and Tea</th>\n",
       "      <th>Grill</th>\n",
       "      <th>Sandwich</th>\n",
       "      <th>Indian</th>\n",
       "      <th>Coffee</th>\n",
       "      <th>Cafe</th>\n",
       "      <th></th>\n",
       "      <th>Indonesian</th>\n",
       "      <th>BBQ</th>\n",
       "      <th>Bihari</th>\n",
       "      <th>Lebanese</th>\n",
       "      <th>Bengali</th>\n",
       "      <th>Chettinad</th>\n",
       "      <th>Mediterranean</th>\n",
       "      <th>Mughlai</th>\n",
       "      <th>Lucknowi</th>\n",
       "      <th>Awadhi</th>\n",
       "      <th>Bengali</th>\n",
       "      <th>Street Food</th>\n",
       "      <th>Steak</th>\n",
       "      <th>French</th>\n",
       "      <th>Rajasthani</th>\n",
       "      <th>Gujarati</th>\n",
       "      <th>Bakery</th>\n",
       "      <th>Portuguese</th>\n",
       "      <th>Wraps</th>\n",
       "      <th>Sri Lankan</th>\n",
       "      <th>Oriya</th>\n",
       "      <th>Japanese</th>\n",
       "      <th>Ethiopian</th>\n",
       "      <th>Konkan</th>\n",
       "      <th>Modern Indian</th>\n",
       "      <th>Sushi</th>\n",
       "      <th>Spanish</th>\n",
       "      <th>Russian</th>\n",
       "      <th>Mangalorean</th>\n",
       "      <th>Turkish</th>\n",
       "      <th></th>\n",
       "      <th>Bubble Tea</th>\n",
       "      <th>Afghan</th>\n",
       "      <th>Steak</th>\n",
       "      <th>Kebab</th>\n",
       "      <th>Wraps</th>\n",
       "      <th>Momos</th>\n",
       "      <th>Naga</th>\n",
       "      <th>Bihari</th>\n",
       "      <th>Burmese</th>\n",
       "      <th>Malaysian</th>\n",
       "      <th>Singaporean</th>\n",
       "      <th>Malwani</th>\n",
       "      <th>Korean</th>\n",
       "      <th>German</th>\n",
       "      <th>Turkish</th>\n",
       "      <th>Bar Food</th>\n",
       "      <th>Middle Eastern</th>\n",
       "      <th>Tea</th>\n",
       "      <th>Tibetan</th>\n",
       "      <th>Sindhi</th>\n",
       "      <th>Cantonese</th>\n",
       "      <th>Vietnamese</th>\n",
       "      <th>Hot Pot</th>\n",
       "      <th>Pan Asian</th>\n",
       "      <th>Satay</th>\n",
       "      <th>Dumplings</th>\n",
       "      <th>Goan</th>\n",
       "      <th>Oriya</th>\n",
       "      <th>Mangalorean</th>\n",
       "      <th>Kashmiri</th>\n",
       "      <th>French</th>\n",
       "      <th>Raw Meats</th>\n",
       "      <th>Salad</th>\n",
       "      <th>Parsi</th>\n",
       "      <th>Drinks Only</th>\n",
       "      <th>Moroccan</th>\n",
       "      <th>Spanish</th>\n",
       "      <th>Panini</th>\n",
       "      <th>Middle Eastern</th>\n",
       "      <th>Kashmiri</th>\n",
       "      <th>North Eastern</th>\n",
       "      <th>Sri Lankan</th>\n",
       "      <th>Cafe Food</th>\n",
       "      <th>Charcoal Chicken</th>\n",
       "      <th>Sushi</th>\n",
       "      <th>Tex-Mex</th>\n",
       "      <th>Belgian</th>\n",
       "      <th>Afghan</th>\n",
       "      <th>Mongolian</th>\n",
       "      <th>Konkan</th>\n",
       "      <th>Bubble Tea</th>\n",
       "      <th>Tamil</th>\n",
       "      <th>African</th>\n",
       "      <th>German</th>\n",
       "      <th>Drinks Only</th>\n",
       "      <th>Portuguese</th>\n",
       "      <th>Paan</th>\n",
       "      <th>Assamese</th>\n",
       "      <th>Naga</th>\n",
       "      <th>Nepalese</th>\n",
       "      <th>Hot dogs</th>\n",
       "      <th>Paan</th>\n",
       "      <th>Poké</th>\n",
       "      <th>Sindhi</th>\n",
       "      <th>Cafe Food</th>\n",
       "      <th>Awadhi</th>\n",
       "      <th>British</th>\n",
       "      <th>Bohri</th>\n",
       "      <th>Fusion</th>\n",
       "      <th>Armenian</th>\n",
       "      <th>British</th>\n",
       "      <th>Russian</th>\n",
       "      <th>South American</th>\n",
       "      <th>Iranian</th>\n",
       "      <th>Lucknowi</th>\n",
       "      <th>Charcoal Chicken</th>\n",
       "      <th>Tamil</th>\n",
       "      <th>Greek</th>\n",
       "      <th>Pakistani</th>\n",
       "      <th>Peruvian</th>\n",
       "      <th>Cuisine Varies</th>\n",
       "      <th>Pakistani</th>\n",
       "      <th>Irish</th>\n",
       "      <th>Multi Cuisine</th>\n",
       "      <th>Jewish</th>\n",
       "      <th>Vegan</th>\n",
       "      <th>Oriental</th>\n",
       "      <th>Assamese</th>\n",
       "      <th>Modern Australian</th>\n",
       "      <th>Roast Chicken</th>\n",
       "      <th>Singaporean</th>\n",
       "      <th>Egyptian</th>\n",
       "      <th>African</th>\n",
       "      <th>Egyptian</th>\n",
       "      <th>Fish and Chips</th>\n",
       "      <th>Brazilian</th>\n",
       "      <th>South American</th>\n",
       "      <th>Mishti</th>\n",
       "      <th>Falafel</th>\n",
       "      <th>Cantonese</th>\n",
       "      <th>Hawaiian</th>\n",
       "      <th>CASUAL DINING</th>\n",
       "      <th>BAR</th>\n",
       "      <th>QUICK BITES</th>\n",
       "      <th>DESSERT PARLOR</th>\n",
       "      <th>CAFÉ</th>\n",
       "      <th>MICROBREWERY</th>\n",
       "      <th>BEVERAGE SHOP</th>\n",
       "      <th>IRANI CAFE</th>\n",
       "      <th>BAKERY</th>\n",
       "      <th>None</th>\n",
       "      <th>PUB</th>\n",
       "      <th>FINE DINING</th>\n",
       "      <th>SWEET SHOP</th>\n",
       "      <th>LOUNGE</th>\n",
       "      <th>FOOD COURT</th>\n",
       "      <th>FOOD TRUCK</th>\n",
       "      <th>MESS</th>\n",
       "      <th>KIOSK</th>\n",
       "      <th>CLUB</th>\n",
       "      <th>CONFECTIONERY</th>\n",
       "      <th>DHABA</th>\n",
       "      <th>MEAT SHOP</th>\n",
       "      <th>COCKTAIL BAR</th>\n",
       "      <th>PAAN SHOP</th>\n",
       "      <th>BHOJANALYA</th>\n",
       "    </tr>\n",
       "  </thead>\n",
       "  <tbody>\n",
       "    <tr>\n",
       "      <th>0</th>\n",
       "      <td>3.0</td>\n",
       "      <td>49.0</td>\n",
       "      <td>1200.0</td>\n",
       "      <td>0</td>\n",
       "      <td>0</td>\n",
       "      <td>0</td>\n",
       "      <td>0</td>\n",
       "      <td>0</td>\n",
       "      <td>0</td>\n",
       "      <td>0</td>\n",
       "      <td>0</td>\n",
       "      <td>0</td>\n",
       "      <td>0</td>\n",
       "      <td>0</td>\n",
       "      <td>0</td>\n",
       "      <td>0</td>\n",
       "      <td>0</td>\n",
       "      <td>0</td>\n",
       "      <td>0</td>\n",
       "      <td>0</td>\n",
       "      <td>0</td>\n",
       "      <td>1</td>\n",
       "      <td>0</td>\n",
       "      <td>1.0</td>\n",
       "      <td>1.0</td>\n",
       "      <td>1.0</td>\n",
       "      <td>0.0</td>\n",
       "      <td>0.0</td>\n",
       "      <td>0.0</td>\n",
       "      <td>0.0</td>\n",
       "      <td>0.0</td>\n",
       "      <td>0.0</td>\n",
       "      <td>0.0</td>\n",
       "      <td>0.0</td>\n",
       "      <td>0.0</td>\n",
       "      <td>0.0</td>\n",
       "      <td>0.0</td>\n",
       "      <td>0.0</td>\n",
       "      <td>0.0</td>\n",
       "      <td>0.0</td>\n",
       "      <td>0.0</td>\n",
       "      <td>0.0</td>\n",
       "      <td>0.0</td>\n",
       "      <td>0.0</td>\n",
       "      <td>0.0</td>\n",
       "      <td>0.0</td>\n",
       "      <td>0.0</td>\n",
       "      <td>0.0</td>\n",
       "      <td>0.0</td>\n",
       "      <td>0.0</td>\n",
       "      <td>0.0</td>\n",
       "      <td>0.0</td>\n",
       "      <td>0.0</td>\n",
       "      <td>0.0</td>\n",
       "      <td>0.0</td>\n",
       "      <td>0.0</td>\n",
       "      <td>0.0</td>\n",
       "      <td>0.0</td>\n",
       "      <td>0.0</td>\n",
       "      <td>0.0</td>\n",
       "      <td>0.0</td>\n",
       "      <td>0.0</td>\n",
       "      <td>0.0</td>\n",
       "      <td>0.0</td>\n",
       "      <td>0.0</td>\n",
       "      <td>0.0</td>\n",
       "      <td>0.0</td>\n",
       "      <td>0.0</td>\n",
       "      <td>0.0</td>\n",
       "      <td>0.0</td>\n",
       "      <td>0.0</td>\n",
       "      <td>0.0</td>\n",
       "      <td>0.0</td>\n",
       "      <td>0.0</td>\n",
       "      <td>0.0</td>\n",
       "      <td>0.0</td>\n",
       "      <td>0.0</td>\n",
       "      <td>0.0</td>\n",
       "      <td>0.0</td>\n",
       "      <td>0.0</td>\n",
       "      <td>0.0</td>\n",
       "      <td>0.0</td>\n",
       "      <td>0.0</td>\n",
       "      <td>0.0</td>\n",
       "      <td>0.0</td>\n",
       "      <td>0.0</td>\n",
       "      <td>0.0</td>\n",
       "      <td>0.0</td>\n",
       "      <td>0.0</td>\n",
       "      <td>0.0</td>\n",
       "      <td>0.0</td>\n",
       "      <td>0.0</td>\n",
       "      <td>0.0</td>\n",
       "      <td>0.0</td>\n",
       "      <td>0.0</td>\n",
       "      <td>0.0</td>\n",
       "      <td>0.0</td>\n",
       "      <td>0.0</td>\n",
       "      <td>0.0</td>\n",
       "      <td>0.0</td>\n",
       "      <td>0.0</td>\n",
       "      <td>0.0</td>\n",
       "      <td>0.0</td>\n",
       "      <td>0.0</td>\n",
       "      <td>0.0</td>\n",
       "      <td>0.0</td>\n",
       "      <td>0.0</td>\n",
       "      <td>0.0</td>\n",
       "      <td>0.0</td>\n",
       "      <td>0.0</td>\n",
       "      <td>0.0</td>\n",
       "      <td>0.0</td>\n",
       "      <td>0.0</td>\n",
       "      <td>0.0</td>\n",
       "      <td>0.0</td>\n",
       "      <td>0.0</td>\n",
       "      <td>0.0</td>\n",
       "      <td>0.0</td>\n",
       "      <td>0.0</td>\n",
       "      <td>0.0</td>\n",
       "      <td>0.0</td>\n",
       "      <td>0.0</td>\n",
       "      <td>0.0</td>\n",
       "      <td>0.0</td>\n",
       "      <td>0.0</td>\n",
       "      <td>0.0</td>\n",
       "      <td>0.0</td>\n",
       "      <td>0.0</td>\n",
       "      <td>0.0</td>\n",
       "      <td>0.0</td>\n",
       "      <td>0.0</td>\n",
       "      <td>0.0</td>\n",
       "      <td>0.0</td>\n",
       "      <td>0.0</td>\n",
       "      <td>0.0</td>\n",
       "      <td>0.0</td>\n",
       "      <td>0.0</td>\n",
       "      <td>0.0</td>\n",
       "      <td>0.0</td>\n",
       "      <td>0.0</td>\n",
       "      <td>0.0</td>\n",
       "      <td>0.0</td>\n",
       "      <td>0.0</td>\n",
       "      <td>0.0</td>\n",
       "      <td>0.0</td>\n",
       "      <td>0.0</td>\n",
       "      <td>0.0</td>\n",
       "      <td>0.0</td>\n",
       "      <td>0.0</td>\n",
       "      <td>0.0</td>\n",
       "      <td>0.0</td>\n",
       "      <td>0.0</td>\n",
       "      <td>0.0</td>\n",
       "      <td>0.0</td>\n",
       "      <td>0.0</td>\n",
       "      <td>0.0</td>\n",
       "      <td>0.0</td>\n",
       "      <td>0.0</td>\n",
       "      <td>0.0</td>\n",
       "      <td>0.0</td>\n",
       "      <td>0.0</td>\n",
       "      <td>0.0</td>\n",
       "      <td>0.0</td>\n",
       "      <td>0.0</td>\n",
       "      <td>0.0</td>\n",
       "      <td>0.0</td>\n",
       "      <td>0.0</td>\n",
       "      <td>0.0</td>\n",
       "      <td>0.0</td>\n",
       "      <td>0.0</td>\n",
       "      <td>0.0</td>\n",
       "      <td>0.0</td>\n",
       "      <td>0.0</td>\n",
       "      <td>0.0</td>\n",
       "      <td>0.0</td>\n",
       "      <td>0.0</td>\n",
       "      <td>0.0</td>\n",
       "      <td>0.0</td>\n",
       "      <td>0.0</td>\n",
       "      <td>0.0</td>\n",
       "      <td>0.0</td>\n",
       "      <td>0.0</td>\n",
       "      <td>0.0</td>\n",
       "      <td>0.0</td>\n",
       "      <td>0.0</td>\n",
       "      <td>0.0</td>\n",
       "      <td>0.0</td>\n",
       "      <td>0.0</td>\n",
       "      <td>0.0</td>\n",
       "      <td>0.0</td>\n",
       "      <td>0.0</td>\n",
       "      <td>0.0</td>\n",
       "      <td>0.0</td>\n",
       "      <td>0.0</td>\n",
       "      <td>0.0</td>\n",
       "      <td>0.0</td>\n",
       "      <td>0.0</td>\n",
       "      <td>0.0</td>\n",
       "      <td>0.0</td>\n",
       "      <td>0.0</td>\n",
       "      <td>0.0</td>\n",
       "      <td>0.0</td>\n",
       "      <td>0.0</td>\n",
       "      <td>0.0</td>\n",
       "      <td>0.0</td>\n",
       "      <td>0.0</td>\n",
       "      <td>0.0</td>\n",
       "      <td>0.0</td>\n",
       "      <td>0.0</td>\n",
       "      <td>0.0</td>\n",
       "      <td>0.0</td>\n",
       "      <td>0.0</td>\n",
       "      <td>0.0</td>\n",
       "      <td>0.0</td>\n",
       "      <td>0.0</td>\n",
       "      <td>0.0</td>\n",
       "      <td>0.0</td>\n",
       "      <td>0.0</td>\n",
       "      <td>0.0</td>\n",
       "      <td>0.0</td>\n",
       "      <td>0.0</td>\n",
       "      <td>0.0</td>\n",
       "      <td>0.0</td>\n",
       "      <td>0.0</td>\n",
       "      <td>0.0</td>\n",
       "      <td>0.0</td>\n",
       "      <td>0.0</td>\n",
       "      <td>0.0</td>\n",
       "      <td>0.0</td>\n",
       "      <td>0.0</td>\n",
       "      <td>0.0</td>\n",
       "      <td>0.0</td>\n",
       "      <td>0.0</td>\n",
       "      <td>0.0</td>\n",
       "      <td>0.0</td>\n",
       "      <td>0.0</td>\n",
       "      <td>0.0</td>\n",
       "      <td>0.0</td>\n",
       "      <td>0.0</td>\n",
       "      <td>0.0</td>\n",
       "      <td>0.0</td>\n",
       "      <td>0.0</td>\n",
       "      <td>0.0</td>\n",
       "      <td>0.0</td>\n",
       "      <td>0.0</td>\n",
       "      <td>0.0</td>\n",
       "      <td>0.0</td>\n",
       "      <td>0.0</td>\n",
       "      <td>0.0</td>\n",
       "      <td>0.0</td>\n",
       "      <td>0.0</td>\n",
       "      <td>0.0</td>\n",
       "      <td>1.0</td>\n",
       "      <td>0.0</td>\n",
       "      <td>0.0</td>\n",
       "      <td>0.0</td>\n",
       "      <td>0.0</td>\n",
       "      <td>0.0</td>\n",
       "      <td>0.0</td>\n",
       "      <td>0.0</td>\n",
       "      <td>0.0</td>\n",
       "      <td>0.0</td>\n",
       "      <td>0.0</td>\n",
       "      <td>0.0</td>\n",
       "      <td>0.0</td>\n",
       "      <td>0.0</td>\n",
       "      <td>0.0</td>\n",
       "      <td>0.0</td>\n",
       "      <td>0.0</td>\n",
       "      <td>0.0</td>\n",
       "      <td>0.0</td>\n",
       "      <td>0.0</td>\n",
       "      <td>0.0</td>\n",
       "      <td>0.0</td>\n",
       "      <td>0.0</td>\n",
       "      <td>0.0</td>\n",
       "      <td>0.0</td>\n",
       "    </tr>\n",
       "    <tr>\n",
       "      <th>1</th>\n",
       "      <td>4.0</td>\n",
       "      <td>30.0</td>\n",
       "      <td>1500.0</td>\n",
       "      <td>0</td>\n",
       "      <td>0</td>\n",
       "      <td>0</td>\n",
       "      <td>0</td>\n",
       "      <td>1</td>\n",
       "      <td>0</td>\n",
       "      <td>0</td>\n",
       "      <td>0</td>\n",
       "      <td>0</td>\n",
       "      <td>0</td>\n",
       "      <td>0</td>\n",
       "      <td>0</td>\n",
       "      <td>0</td>\n",
       "      <td>0</td>\n",
       "      <td>0</td>\n",
       "      <td>0</td>\n",
       "      <td>0</td>\n",
       "      <td>0</td>\n",
       "      <td>0</td>\n",
       "      <td>0</td>\n",
       "      <td>0.0</td>\n",
       "      <td>0.0</td>\n",
       "      <td>0.0</td>\n",
       "      <td>1.0</td>\n",
       "      <td>1.0</td>\n",
       "      <td>1.0</td>\n",
       "      <td>0.0</td>\n",
       "      <td>0.0</td>\n",
       "      <td>0.0</td>\n",
       "      <td>0.0</td>\n",
       "      <td>0.0</td>\n",
       "      <td>0.0</td>\n",
       "      <td>0.0</td>\n",
       "      <td>0.0</td>\n",
       "      <td>0.0</td>\n",
       "      <td>0.0</td>\n",
       "      <td>0.0</td>\n",
       "      <td>0.0</td>\n",
       "      <td>0.0</td>\n",
       "      <td>0.0</td>\n",
       "      <td>0.0</td>\n",
       "      <td>0.0</td>\n",
       "      <td>0.0</td>\n",
       "      <td>0.0</td>\n",
       "      <td>0.0</td>\n",
       "      <td>0.0</td>\n",
       "      <td>0.0</td>\n",
       "      <td>0.0</td>\n",
       "      <td>0.0</td>\n",
       "      <td>0.0</td>\n",
       "      <td>0.0</td>\n",
       "      <td>0.0</td>\n",
       "      <td>0.0</td>\n",
       "      <td>0.0</td>\n",
       "      <td>0.0</td>\n",
       "      <td>0.0</td>\n",
       "      <td>0.0</td>\n",
       "      <td>0.0</td>\n",
       "      <td>0.0</td>\n",
       "      <td>0.0</td>\n",
       "      <td>0.0</td>\n",
       "      <td>0.0</td>\n",
       "      <td>0.0</td>\n",
       "      <td>0.0</td>\n",
       "      <td>0.0</td>\n",
       "      <td>0.0</td>\n",
       "      <td>0.0</td>\n",
       "      <td>0.0</td>\n",
       "      <td>0.0</td>\n",
       "      <td>0.0</td>\n",
       "      <td>0.0</td>\n",
       "      <td>0.0</td>\n",
       "      <td>0.0</td>\n",
       "      <td>0.0</td>\n",
       "      <td>0.0</td>\n",
       "      <td>0.0</td>\n",
       "      <td>0.0</td>\n",
       "      <td>0.0</td>\n",
       "      <td>0.0</td>\n",
       "      <td>0.0</td>\n",
       "      <td>0.0</td>\n",
       "      <td>0.0</td>\n",
       "      <td>0.0</td>\n",
       "      <td>0.0</td>\n",
       "      <td>0.0</td>\n",
       "      <td>0.0</td>\n",
       "      <td>0.0</td>\n",
       "      <td>0.0</td>\n",
       "      <td>0.0</td>\n",
       "      <td>0.0</td>\n",
       "      <td>0.0</td>\n",
       "      <td>0.0</td>\n",
       "      <td>0.0</td>\n",
       "      <td>0.0</td>\n",
       "      <td>0.0</td>\n",
       "      <td>0.0</td>\n",
       "      <td>0.0</td>\n",
       "      <td>0.0</td>\n",
       "      <td>0.0</td>\n",
       "      <td>0.0</td>\n",
       "      <td>0.0</td>\n",
       "      <td>0.0</td>\n",
       "      <td>0.0</td>\n",
       "      <td>0.0</td>\n",
       "      <td>0.0</td>\n",
       "      <td>0.0</td>\n",
       "      <td>0.0</td>\n",
       "      <td>0.0</td>\n",
       "      <td>0.0</td>\n",
       "      <td>0.0</td>\n",
       "      <td>0.0</td>\n",
       "      <td>0.0</td>\n",
       "      <td>0.0</td>\n",
       "      <td>0.0</td>\n",
       "      <td>0.0</td>\n",
       "      <td>0.0</td>\n",
       "      <td>0.0</td>\n",
       "      <td>0.0</td>\n",
       "      <td>0.0</td>\n",
       "      <td>0.0</td>\n",
       "      <td>0.0</td>\n",
       "      <td>0.0</td>\n",
       "      <td>0.0</td>\n",
       "      <td>0.0</td>\n",
       "      <td>0.0</td>\n",
       "      <td>0.0</td>\n",
       "      <td>0.0</td>\n",
       "      <td>0.0</td>\n",
       "      <td>0.0</td>\n",
       "      <td>0.0</td>\n",
       "      <td>0.0</td>\n",
       "      <td>0.0</td>\n",
       "      <td>0.0</td>\n",
       "      <td>0.0</td>\n",
       "      <td>0.0</td>\n",
       "      <td>0.0</td>\n",
       "      <td>0.0</td>\n",
       "      <td>0.0</td>\n",
       "      <td>0.0</td>\n",
       "      <td>0.0</td>\n",
       "      <td>0.0</td>\n",
       "      <td>0.0</td>\n",
       "      <td>0.0</td>\n",
       "      <td>0.0</td>\n",
       "      <td>0.0</td>\n",
       "      <td>0.0</td>\n",
       "      <td>0.0</td>\n",
       "      <td>0.0</td>\n",
       "      <td>0.0</td>\n",
       "      <td>0.0</td>\n",
       "      <td>0.0</td>\n",
       "      <td>0.0</td>\n",
       "      <td>0.0</td>\n",
       "      <td>0.0</td>\n",
       "      <td>0.0</td>\n",
       "      <td>0.0</td>\n",
       "      <td>0.0</td>\n",
       "      <td>0.0</td>\n",
       "      <td>0.0</td>\n",
       "      <td>0.0</td>\n",
       "      <td>0.0</td>\n",
       "      <td>0.0</td>\n",
       "      <td>0.0</td>\n",
       "      <td>0.0</td>\n",
       "      <td>0.0</td>\n",
       "      <td>0.0</td>\n",
       "      <td>0.0</td>\n",
       "      <td>0.0</td>\n",
       "      <td>0.0</td>\n",
       "      <td>0.0</td>\n",
       "      <td>0.0</td>\n",
       "      <td>0.0</td>\n",
       "      <td>0.0</td>\n",
       "      <td>0.0</td>\n",
       "      <td>0.0</td>\n",
       "      <td>0.0</td>\n",
       "      <td>0.0</td>\n",
       "      <td>0.0</td>\n",
       "      <td>0.0</td>\n",
       "      <td>0.0</td>\n",
       "      <td>0.0</td>\n",
       "      <td>0.0</td>\n",
       "      <td>0.0</td>\n",
       "      <td>0.0</td>\n",
       "      <td>0.0</td>\n",
       "      <td>0.0</td>\n",
       "      <td>0.0</td>\n",
       "      <td>0.0</td>\n",
       "      <td>0.0</td>\n",
       "      <td>0.0</td>\n",
       "      <td>0.0</td>\n",
       "      <td>0.0</td>\n",
       "      <td>0.0</td>\n",
       "      <td>0.0</td>\n",
       "      <td>0.0</td>\n",
       "      <td>0.0</td>\n",
       "      <td>0.0</td>\n",
       "      <td>0.0</td>\n",
       "      <td>0.0</td>\n",
       "      <td>0.0</td>\n",
       "      <td>0.0</td>\n",
       "      <td>0.0</td>\n",
       "      <td>0.0</td>\n",
       "      <td>0.0</td>\n",
       "      <td>0.0</td>\n",
       "      <td>0.0</td>\n",
       "      <td>0.0</td>\n",
       "      <td>0.0</td>\n",
       "      <td>0.0</td>\n",
       "      <td>0.0</td>\n",
       "      <td>0.0</td>\n",
       "      <td>0.0</td>\n",
       "      <td>0.0</td>\n",
       "      <td>0.0</td>\n",
       "      <td>0.0</td>\n",
       "      <td>0.0</td>\n",
       "      <td>0.0</td>\n",
       "      <td>0.0</td>\n",
       "      <td>0.0</td>\n",
       "      <td>0.0</td>\n",
       "      <td>0.0</td>\n",
       "      <td>0.0</td>\n",
       "      <td>0.0</td>\n",
       "      <td>0.0</td>\n",
       "      <td>0.0</td>\n",
       "      <td>0.0</td>\n",
       "      <td>0.0</td>\n",
       "      <td>0.0</td>\n",
       "      <td>0.0</td>\n",
       "      <td>0.0</td>\n",
       "      <td>0.0</td>\n",
       "      <td>0.0</td>\n",
       "      <td>0.0</td>\n",
       "      <td>0.0</td>\n",
       "      <td>0.0</td>\n",
       "      <td>0.0</td>\n",
       "      <td>0.0</td>\n",
       "      <td>0.0</td>\n",
       "      <td>0.0</td>\n",
       "      <td>0.0</td>\n",
       "      <td>0.0</td>\n",
       "      <td>0.0</td>\n",
       "      <td>0.0</td>\n",
       "      <td>0.0</td>\n",
       "      <td>0.0</td>\n",
       "      <td>0.0</td>\n",
       "      <td>0.0</td>\n",
       "      <td>0.0</td>\n",
       "      <td>0.0</td>\n",
       "      <td>1.0</td>\n",
       "      <td>1.0</td>\n",
       "      <td>0.0</td>\n",
       "      <td>0.0</td>\n",
       "      <td>0.0</td>\n",
       "      <td>0.0</td>\n",
       "      <td>0.0</td>\n",
       "      <td>0.0</td>\n",
       "      <td>0.0</td>\n",
       "      <td>0.0</td>\n",
       "      <td>0.0</td>\n",
       "      <td>0.0</td>\n",
       "      <td>0.0</td>\n",
       "      <td>0.0</td>\n",
       "      <td>0.0</td>\n",
       "      <td>0.0</td>\n",
       "      <td>0.0</td>\n",
       "      <td>0.0</td>\n",
       "      <td>0.0</td>\n",
       "      <td>0.0</td>\n",
       "      <td>0.0</td>\n",
       "      <td>0.0</td>\n",
       "      <td>0.0</td>\n",
       "      <td>0.0</td>\n",
       "      <td>0.0</td>\n",
       "    </tr>\n",
       "    <tr>\n",
       "      <th>2</th>\n",
       "      <td>3.0</td>\n",
       "      <td>221.0</td>\n",
       "      <td>800.0</td>\n",
       "      <td>0</td>\n",
       "      <td>0</td>\n",
       "      <td>0</td>\n",
       "      <td>0</td>\n",
       "      <td>1</td>\n",
       "      <td>0</td>\n",
       "      <td>0</td>\n",
       "      <td>0</td>\n",
       "      <td>0</td>\n",
       "      <td>0</td>\n",
       "      <td>0</td>\n",
       "      <td>0</td>\n",
       "      <td>0</td>\n",
       "      <td>0</td>\n",
       "      <td>0</td>\n",
       "      <td>0</td>\n",
       "      <td>0</td>\n",
       "      <td>0</td>\n",
       "      <td>0</td>\n",
       "      <td>0</td>\n",
       "      <td>0.0</td>\n",
       "      <td>0.0</td>\n",
       "      <td>0.0</td>\n",
       "      <td>0.0</td>\n",
       "      <td>0.0</td>\n",
       "      <td>0.0</td>\n",
       "      <td>1.0</td>\n",
       "      <td>1.0</td>\n",
       "      <td>1.0</td>\n",
       "      <td>1.0</td>\n",
       "      <td>0.0</td>\n",
       "      <td>0.0</td>\n",
       "      <td>0.0</td>\n",
       "      <td>0.0</td>\n",
       "      <td>0.0</td>\n",
       "      <td>0.0</td>\n",
       "      <td>0.0</td>\n",
       "      <td>0.0</td>\n",
       "      <td>0.0</td>\n",
       "      <td>0.0</td>\n",
       "      <td>0.0</td>\n",
       "      <td>0.0</td>\n",
       "      <td>0.0</td>\n",
       "      <td>0.0</td>\n",
       "      <td>0.0</td>\n",
       "      <td>0.0</td>\n",
       "      <td>0.0</td>\n",
       "      <td>0.0</td>\n",
       "      <td>0.0</td>\n",
       "      <td>0.0</td>\n",
       "      <td>0.0</td>\n",
       "      <td>0.0</td>\n",
       "      <td>0.0</td>\n",
       "      <td>0.0</td>\n",
       "      <td>0.0</td>\n",
       "      <td>0.0</td>\n",
       "      <td>0.0</td>\n",
       "      <td>0.0</td>\n",
       "      <td>0.0</td>\n",
       "      <td>0.0</td>\n",
       "      <td>0.0</td>\n",
       "      <td>0.0</td>\n",
       "      <td>0.0</td>\n",
       "      <td>0.0</td>\n",
       "      <td>0.0</td>\n",
       "      <td>0.0</td>\n",
       "      <td>0.0</td>\n",
       "      <td>0.0</td>\n",
       "      <td>0.0</td>\n",
       "      <td>0.0</td>\n",
       "      <td>0.0</td>\n",
       "      <td>0.0</td>\n",
       "      <td>0.0</td>\n",
       "      <td>0.0</td>\n",
       "      <td>0.0</td>\n",
       "      <td>0.0</td>\n",
       "      <td>0.0</td>\n",
       "      <td>0.0</td>\n",
       "      <td>0.0</td>\n",
       "      <td>0.0</td>\n",
       "      <td>0.0</td>\n",
       "      <td>0.0</td>\n",
       "      <td>0.0</td>\n",
       "      <td>0.0</td>\n",
       "      <td>0.0</td>\n",
       "      <td>0.0</td>\n",
       "      <td>0.0</td>\n",
       "      <td>0.0</td>\n",
       "      <td>0.0</td>\n",
       "      <td>0.0</td>\n",
       "      <td>0.0</td>\n",
       "      <td>0.0</td>\n",
       "      <td>0.0</td>\n",
       "      <td>0.0</td>\n",
       "      <td>0.0</td>\n",
       "      <td>0.0</td>\n",
       "      <td>0.0</td>\n",
       "      <td>0.0</td>\n",
       "      <td>0.0</td>\n",
       "      <td>0.0</td>\n",
       "      <td>0.0</td>\n",
       "      <td>0.0</td>\n",
       "      <td>0.0</td>\n",
       "      <td>0.0</td>\n",
       "      <td>0.0</td>\n",
       "      <td>0.0</td>\n",
       "      <td>0.0</td>\n",
       "      <td>0.0</td>\n",
       "      <td>0.0</td>\n",
       "      <td>0.0</td>\n",
       "      <td>0.0</td>\n",
       "      <td>0.0</td>\n",
       "      <td>0.0</td>\n",
       "      <td>0.0</td>\n",
       "      <td>0.0</td>\n",
       "      <td>0.0</td>\n",
       "      <td>0.0</td>\n",
       "      <td>0.0</td>\n",
       "      <td>0.0</td>\n",
       "      <td>0.0</td>\n",
       "      <td>0.0</td>\n",
       "      <td>0.0</td>\n",
       "      <td>0.0</td>\n",
       "      <td>0.0</td>\n",
       "      <td>0.0</td>\n",
       "      <td>0.0</td>\n",
       "      <td>0.0</td>\n",
       "      <td>0.0</td>\n",
       "      <td>0.0</td>\n",
       "      <td>0.0</td>\n",
       "      <td>0.0</td>\n",
       "      <td>0.0</td>\n",
       "      <td>0.0</td>\n",
       "      <td>0.0</td>\n",
       "      <td>0.0</td>\n",
       "      <td>0.0</td>\n",
       "      <td>0.0</td>\n",
       "      <td>0.0</td>\n",
       "      <td>0.0</td>\n",
       "      <td>0.0</td>\n",
       "      <td>0.0</td>\n",
       "      <td>0.0</td>\n",
       "      <td>0.0</td>\n",
       "      <td>0.0</td>\n",
       "      <td>0.0</td>\n",
       "      <td>0.0</td>\n",
       "      <td>0.0</td>\n",
       "      <td>0.0</td>\n",
       "      <td>0.0</td>\n",
       "      <td>0.0</td>\n",
       "      <td>0.0</td>\n",
       "      <td>0.0</td>\n",
       "      <td>0.0</td>\n",
       "      <td>0.0</td>\n",
       "      <td>0.0</td>\n",
       "      <td>0.0</td>\n",
       "      <td>0.0</td>\n",
       "      <td>0.0</td>\n",
       "      <td>0.0</td>\n",
       "      <td>0.0</td>\n",
       "      <td>0.0</td>\n",
       "      <td>0.0</td>\n",
       "      <td>0.0</td>\n",
       "      <td>0.0</td>\n",
       "      <td>0.0</td>\n",
       "      <td>0.0</td>\n",
       "      <td>0.0</td>\n",
       "      <td>0.0</td>\n",
       "      <td>0.0</td>\n",
       "      <td>0.0</td>\n",
       "      <td>0.0</td>\n",
       "      <td>0.0</td>\n",
       "      <td>0.0</td>\n",
       "      <td>0.0</td>\n",
       "      <td>0.0</td>\n",
       "      <td>0.0</td>\n",
       "      <td>0.0</td>\n",
       "      <td>0.0</td>\n",
       "      <td>0.0</td>\n",
       "      <td>0.0</td>\n",
       "      <td>0.0</td>\n",
       "      <td>0.0</td>\n",
       "      <td>0.0</td>\n",
       "      <td>0.0</td>\n",
       "      <td>0.0</td>\n",
       "      <td>0.0</td>\n",
       "      <td>0.0</td>\n",
       "      <td>0.0</td>\n",
       "      <td>0.0</td>\n",
       "      <td>0.0</td>\n",
       "      <td>0.0</td>\n",
       "      <td>0.0</td>\n",
       "      <td>0.0</td>\n",
       "      <td>0.0</td>\n",
       "      <td>0.0</td>\n",
       "      <td>0.0</td>\n",
       "      <td>0.0</td>\n",
       "      <td>0.0</td>\n",
       "      <td>0.0</td>\n",
       "      <td>0.0</td>\n",
       "      <td>0.0</td>\n",
       "      <td>0.0</td>\n",
       "      <td>0.0</td>\n",
       "      <td>0.0</td>\n",
       "      <td>0.0</td>\n",
       "      <td>0.0</td>\n",
       "      <td>0.0</td>\n",
       "      <td>0.0</td>\n",
       "      <td>0.0</td>\n",
       "      <td>0.0</td>\n",
       "      <td>0.0</td>\n",
       "      <td>0.0</td>\n",
       "      <td>0.0</td>\n",
       "      <td>0.0</td>\n",
       "      <td>0.0</td>\n",
       "      <td>0.0</td>\n",
       "      <td>0.0</td>\n",
       "      <td>0.0</td>\n",
       "      <td>0.0</td>\n",
       "      <td>0.0</td>\n",
       "      <td>0.0</td>\n",
       "      <td>0.0</td>\n",
       "      <td>0.0</td>\n",
       "      <td>0.0</td>\n",
       "      <td>0.0</td>\n",
       "      <td>0.0</td>\n",
       "      <td>0.0</td>\n",
       "      <td>0.0</td>\n",
       "      <td>0.0</td>\n",
       "      <td>0.0</td>\n",
       "      <td>0.0</td>\n",
       "      <td>0.0</td>\n",
       "      <td>0.0</td>\n",
       "      <td>0.0</td>\n",
       "      <td>0.0</td>\n",
       "      <td>0.0</td>\n",
       "      <td>0.0</td>\n",
       "      <td>0.0</td>\n",
       "      <td>0.0</td>\n",
       "      <td>0.0</td>\n",
       "      <td>0.0</td>\n",
       "      <td>0.0</td>\n",
       "      <td>0.0</td>\n",
       "      <td>0.0</td>\n",
       "      <td>0.0</td>\n",
       "      <td>0.0</td>\n",
       "      <td>0.0</td>\n",
       "      <td>0.0</td>\n",
       "      <td>0.0</td>\n",
       "      <td>1.0</td>\n",
       "      <td>0.0</td>\n",
       "      <td>0.0</td>\n",
       "      <td>0.0</td>\n",
       "      <td>0.0</td>\n",
       "      <td>0.0</td>\n",
       "      <td>0.0</td>\n",
       "      <td>0.0</td>\n",
       "      <td>0.0</td>\n",
       "      <td>0.0</td>\n",
       "      <td>0.0</td>\n",
       "      <td>0.0</td>\n",
       "      <td>0.0</td>\n",
       "      <td>0.0</td>\n",
       "      <td>0.0</td>\n",
       "      <td>0.0</td>\n",
       "      <td>0.0</td>\n",
       "      <td>0.0</td>\n",
       "      <td>0.0</td>\n",
       "      <td>0.0</td>\n",
       "      <td>0.0</td>\n",
       "      <td>0.0</td>\n",
       "      <td>0.0</td>\n",
       "      <td>0.0</td>\n",
       "      <td>0.0</td>\n",
       "    </tr>\n",
       "    <tr>\n",
       "      <th>3</th>\n",
       "      <td>4.0</td>\n",
       "      <td>24.0</td>\n",
       "      <td>800.0</td>\n",
       "      <td>0</td>\n",
       "      <td>0</td>\n",
       "      <td>0</td>\n",
       "      <td>0</td>\n",
       "      <td>0</td>\n",
       "      <td>0</td>\n",
       "      <td>0</td>\n",
       "      <td>0</td>\n",
       "      <td>0</td>\n",
       "      <td>0</td>\n",
       "      <td>0</td>\n",
       "      <td>0</td>\n",
       "      <td>1</td>\n",
       "      <td>0</td>\n",
       "      <td>0</td>\n",
       "      <td>0</td>\n",
       "      <td>0</td>\n",
       "      <td>0</td>\n",
       "      <td>0</td>\n",
       "      <td>0</td>\n",
       "      <td>0.0</td>\n",
       "      <td>0.0</td>\n",
       "      <td>0.0</td>\n",
       "      <td>0.0</td>\n",
       "      <td>0.0</td>\n",
       "      <td>0.0</td>\n",
       "      <td>0.0</td>\n",
       "      <td>1.0</td>\n",
       "      <td>0.0</td>\n",
       "      <td>0.0</td>\n",
       "      <td>1.0</td>\n",
       "      <td>0.0</td>\n",
       "      <td>0.0</td>\n",
       "      <td>0.0</td>\n",
       "      <td>0.0</td>\n",
       "      <td>0.0</td>\n",
       "      <td>0.0</td>\n",
       "      <td>0.0</td>\n",
       "      <td>0.0</td>\n",
       "      <td>0.0</td>\n",
       "      <td>0.0</td>\n",
       "      <td>0.0</td>\n",
       "      <td>0.0</td>\n",
       "      <td>0.0</td>\n",
       "      <td>0.0</td>\n",
       "      <td>0.0</td>\n",
       "      <td>0.0</td>\n",
       "      <td>0.0</td>\n",
       "      <td>0.0</td>\n",
       "      <td>0.0</td>\n",
       "      <td>0.0</td>\n",
       "      <td>0.0</td>\n",
       "      <td>0.0</td>\n",
       "      <td>0.0</td>\n",
       "      <td>0.0</td>\n",
       "      <td>0.0</td>\n",
       "      <td>0.0</td>\n",
       "      <td>0.0</td>\n",
       "      <td>0.0</td>\n",
       "      <td>0.0</td>\n",
       "      <td>0.0</td>\n",
       "      <td>0.0</td>\n",
       "      <td>0.0</td>\n",
       "      <td>0.0</td>\n",
       "      <td>0.0</td>\n",
       "      <td>0.0</td>\n",
       "      <td>0.0</td>\n",
       "      <td>0.0</td>\n",
       "      <td>0.0</td>\n",
       "      <td>0.0</td>\n",
       "      <td>0.0</td>\n",
       "      <td>0.0</td>\n",
       "      <td>0.0</td>\n",
       "      <td>0.0</td>\n",
       "      <td>0.0</td>\n",
       "      <td>0.0</td>\n",
       "      <td>0.0</td>\n",
       "      <td>0.0</td>\n",
       "      <td>0.0</td>\n",
       "      <td>0.0</td>\n",
       "      <td>0.0</td>\n",
       "      <td>0.0</td>\n",
       "      <td>0.0</td>\n",
       "      <td>0.0</td>\n",
       "      <td>0.0</td>\n",
       "      <td>0.0</td>\n",
       "      <td>0.0</td>\n",
       "      <td>0.0</td>\n",
       "      <td>0.0</td>\n",
       "      <td>0.0</td>\n",
       "      <td>0.0</td>\n",
       "      <td>0.0</td>\n",
       "      <td>0.0</td>\n",
       "      <td>0.0</td>\n",
       "      <td>0.0</td>\n",
       "      <td>0.0</td>\n",
       "      <td>0.0</td>\n",
       "      <td>0.0</td>\n",
       "      <td>0.0</td>\n",
       "      <td>0.0</td>\n",
       "      <td>0.0</td>\n",
       "      <td>0.0</td>\n",
       "      <td>0.0</td>\n",
       "      <td>0.0</td>\n",
       "      <td>0.0</td>\n",
       "      <td>0.0</td>\n",
       "      <td>0.0</td>\n",
       "      <td>0.0</td>\n",
       "      <td>0.0</td>\n",
       "      <td>0.0</td>\n",
       "      <td>0.0</td>\n",
       "      <td>0.0</td>\n",
       "      <td>0.0</td>\n",
       "      <td>0.0</td>\n",
       "      <td>0.0</td>\n",
       "      <td>0.0</td>\n",
       "      <td>0.0</td>\n",
       "      <td>0.0</td>\n",
       "      <td>0.0</td>\n",
       "      <td>0.0</td>\n",
       "      <td>0.0</td>\n",
       "      <td>0.0</td>\n",
       "      <td>0.0</td>\n",
       "      <td>0.0</td>\n",
       "      <td>0.0</td>\n",
       "      <td>0.0</td>\n",
       "      <td>0.0</td>\n",
       "      <td>0.0</td>\n",
       "      <td>0.0</td>\n",
       "      <td>0.0</td>\n",
       "      <td>0.0</td>\n",
       "      <td>0.0</td>\n",
       "      <td>0.0</td>\n",
       "      <td>0.0</td>\n",
       "      <td>0.0</td>\n",
       "      <td>0.0</td>\n",
       "      <td>0.0</td>\n",
       "      <td>0.0</td>\n",
       "      <td>0.0</td>\n",
       "      <td>0.0</td>\n",
       "      <td>0.0</td>\n",
       "      <td>0.0</td>\n",
       "      <td>0.0</td>\n",
       "      <td>0.0</td>\n",
       "      <td>0.0</td>\n",
       "      <td>0.0</td>\n",
       "      <td>0.0</td>\n",
       "      <td>0.0</td>\n",
       "      <td>0.0</td>\n",
       "      <td>0.0</td>\n",
       "      <td>0.0</td>\n",
       "      <td>0.0</td>\n",
       "      <td>0.0</td>\n",
       "      <td>0.0</td>\n",
       "      <td>0.0</td>\n",
       "      <td>0.0</td>\n",
       "      <td>0.0</td>\n",
       "      <td>0.0</td>\n",
       "      <td>0.0</td>\n",
       "      <td>0.0</td>\n",
       "      <td>0.0</td>\n",
       "      <td>0.0</td>\n",
       "      <td>0.0</td>\n",
       "      <td>0.0</td>\n",
       "      <td>0.0</td>\n",
       "      <td>0.0</td>\n",
       "      <td>0.0</td>\n",
       "      <td>0.0</td>\n",
       "      <td>0.0</td>\n",
       "      <td>0.0</td>\n",
       "      <td>0.0</td>\n",
       "      <td>0.0</td>\n",
       "      <td>0.0</td>\n",
       "      <td>0.0</td>\n",
       "      <td>0.0</td>\n",
       "      <td>0.0</td>\n",
       "      <td>0.0</td>\n",
       "      <td>0.0</td>\n",
       "      <td>0.0</td>\n",
       "      <td>0.0</td>\n",
       "      <td>0.0</td>\n",
       "      <td>0.0</td>\n",
       "      <td>0.0</td>\n",
       "      <td>0.0</td>\n",
       "      <td>0.0</td>\n",
       "      <td>0.0</td>\n",
       "      <td>0.0</td>\n",
       "      <td>0.0</td>\n",
       "      <td>0.0</td>\n",
       "      <td>0.0</td>\n",
       "      <td>0.0</td>\n",
       "      <td>0.0</td>\n",
       "      <td>0.0</td>\n",
       "      <td>0.0</td>\n",
       "      <td>0.0</td>\n",
       "      <td>0.0</td>\n",
       "      <td>0.0</td>\n",
       "      <td>0.0</td>\n",
       "      <td>0.0</td>\n",
       "      <td>0.0</td>\n",
       "      <td>0.0</td>\n",
       "      <td>0.0</td>\n",
       "      <td>0.0</td>\n",
       "      <td>0.0</td>\n",
       "      <td>0.0</td>\n",
       "      <td>0.0</td>\n",
       "      <td>0.0</td>\n",
       "      <td>0.0</td>\n",
       "      <td>0.0</td>\n",
       "      <td>0.0</td>\n",
       "      <td>0.0</td>\n",
       "      <td>0.0</td>\n",
       "      <td>0.0</td>\n",
       "      <td>0.0</td>\n",
       "      <td>0.0</td>\n",
       "      <td>0.0</td>\n",
       "      <td>0.0</td>\n",
       "      <td>0.0</td>\n",
       "      <td>0.0</td>\n",
       "      <td>0.0</td>\n",
       "      <td>0.0</td>\n",
       "      <td>0.0</td>\n",
       "      <td>0.0</td>\n",
       "      <td>0.0</td>\n",
       "      <td>0.0</td>\n",
       "      <td>0.0</td>\n",
       "      <td>0.0</td>\n",
       "      <td>0.0</td>\n",
       "      <td>0.0</td>\n",
       "      <td>0.0</td>\n",
       "      <td>0.0</td>\n",
       "      <td>0.0</td>\n",
       "      <td>0.0</td>\n",
       "      <td>0.0</td>\n",
       "      <td>0.0</td>\n",
       "      <td>0.0</td>\n",
       "      <td>0.0</td>\n",
       "      <td>0.0</td>\n",
       "      <td>0.0</td>\n",
       "      <td>0.0</td>\n",
       "      <td>0.0</td>\n",
       "      <td>0.0</td>\n",
       "      <td>0.0</td>\n",
       "      <td>0.0</td>\n",
       "      <td>0.0</td>\n",
       "      <td>0.0</td>\n",
       "      <td>0.0</td>\n",
       "      <td>0.0</td>\n",
       "      <td>0.0</td>\n",
       "      <td>0.0</td>\n",
       "      <td>0.0</td>\n",
       "      <td>1.0</td>\n",
       "      <td>0.0</td>\n",
       "      <td>0.0</td>\n",
       "      <td>0.0</td>\n",
       "      <td>0.0</td>\n",
       "      <td>0.0</td>\n",
       "      <td>0.0</td>\n",
       "      <td>0.0</td>\n",
       "      <td>0.0</td>\n",
       "      <td>0.0</td>\n",
       "      <td>0.0</td>\n",
       "      <td>0.0</td>\n",
       "      <td>0.0</td>\n",
       "      <td>0.0</td>\n",
       "      <td>0.0</td>\n",
       "      <td>0.0</td>\n",
       "      <td>0.0</td>\n",
       "      <td>0.0</td>\n",
       "      <td>0.0</td>\n",
       "      <td>0.0</td>\n",
       "      <td>0.0</td>\n",
       "      <td>0.0</td>\n",
       "      <td>0.0</td>\n",
       "    </tr>\n",
       "    <tr>\n",
       "      <th>4</th>\n",
       "      <td>3.0</td>\n",
       "      <td>165.0</td>\n",
       "      <td>300.0</td>\n",
       "      <td>0</td>\n",
       "      <td>0</td>\n",
       "      <td>0</td>\n",
       "      <td>0</td>\n",
       "      <td>0</td>\n",
       "      <td>0</td>\n",
       "      <td>0</td>\n",
       "      <td>0</td>\n",
       "      <td>0</td>\n",
       "      <td>0</td>\n",
       "      <td>0</td>\n",
       "      <td>0</td>\n",
       "      <td>1</td>\n",
       "      <td>0</td>\n",
       "      <td>0</td>\n",
       "      <td>0</td>\n",
       "      <td>0</td>\n",
       "      <td>0</td>\n",
       "      <td>0</td>\n",
       "      <td>0</td>\n",
       "      <td>0.0</td>\n",
       "      <td>0.0</td>\n",
       "      <td>0.0</td>\n",
       "      <td>0.0</td>\n",
       "      <td>0.0</td>\n",
       "      <td>0.0</td>\n",
       "      <td>0.0</td>\n",
       "      <td>0.0</td>\n",
       "      <td>0.0</td>\n",
       "      <td>0.0</td>\n",
       "      <td>0.0</td>\n",
       "      <td>1.0</td>\n",
       "      <td>0.0</td>\n",
       "      <td>0.0</td>\n",
       "      <td>0.0</td>\n",
       "      <td>0.0</td>\n",
       "      <td>0.0</td>\n",
       "      <td>0.0</td>\n",
       "      <td>0.0</td>\n",
       "      <td>0.0</td>\n",
       "      <td>0.0</td>\n",
       "      <td>0.0</td>\n",
       "      <td>0.0</td>\n",
       "      <td>0.0</td>\n",
       "      <td>0.0</td>\n",
       "      <td>0.0</td>\n",
       "      <td>0.0</td>\n",
       "      <td>0.0</td>\n",
       "      <td>0.0</td>\n",
       "      <td>0.0</td>\n",
       "      <td>0.0</td>\n",
       "      <td>0.0</td>\n",
       "      <td>0.0</td>\n",
       "      <td>0.0</td>\n",
       "      <td>0.0</td>\n",
       "      <td>0.0</td>\n",
       "      <td>0.0</td>\n",
       "      <td>0.0</td>\n",
       "      <td>0.0</td>\n",
       "      <td>0.0</td>\n",
       "      <td>0.0</td>\n",
       "      <td>0.0</td>\n",
       "      <td>0.0</td>\n",
       "      <td>0.0</td>\n",
       "      <td>0.0</td>\n",
       "      <td>0.0</td>\n",
       "      <td>0.0</td>\n",
       "      <td>0.0</td>\n",
       "      <td>0.0</td>\n",
       "      <td>0.0</td>\n",
       "      <td>0.0</td>\n",
       "      <td>0.0</td>\n",
       "      <td>0.0</td>\n",
       "      <td>0.0</td>\n",
       "      <td>0.0</td>\n",
       "      <td>0.0</td>\n",
       "      <td>0.0</td>\n",
       "      <td>0.0</td>\n",
       "      <td>0.0</td>\n",
       "      <td>0.0</td>\n",
       "      <td>0.0</td>\n",
       "      <td>0.0</td>\n",
       "      <td>0.0</td>\n",
       "      <td>0.0</td>\n",
       "      <td>0.0</td>\n",
       "      <td>0.0</td>\n",
       "      <td>0.0</td>\n",
       "      <td>0.0</td>\n",
       "      <td>0.0</td>\n",
       "      <td>0.0</td>\n",
       "      <td>0.0</td>\n",
       "      <td>0.0</td>\n",
       "      <td>0.0</td>\n",
       "      <td>0.0</td>\n",
       "      <td>0.0</td>\n",
       "      <td>0.0</td>\n",
       "      <td>0.0</td>\n",
       "      <td>0.0</td>\n",
       "      <td>0.0</td>\n",
       "      <td>0.0</td>\n",
       "      <td>0.0</td>\n",
       "      <td>0.0</td>\n",
       "      <td>0.0</td>\n",
       "      <td>0.0</td>\n",
       "      <td>0.0</td>\n",
       "      <td>0.0</td>\n",
       "      <td>0.0</td>\n",
       "      <td>0.0</td>\n",
       "      <td>0.0</td>\n",
       "      <td>0.0</td>\n",
       "      <td>0.0</td>\n",
       "      <td>0.0</td>\n",
       "      <td>0.0</td>\n",
       "      <td>0.0</td>\n",
       "      <td>0.0</td>\n",
       "      <td>0.0</td>\n",
       "      <td>0.0</td>\n",
       "      <td>0.0</td>\n",
       "      <td>0.0</td>\n",
       "      <td>0.0</td>\n",
       "      <td>0.0</td>\n",
       "      <td>0.0</td>\n",
       "      <td>0.0</td>\n",
       "      <td>0.0</td>\n",
       "      <td>0.0</td>\n",
       "      <td>0.0</td>\n",
       "      <td>0.0</td>\n",
       "      <td>0.0</td>\n",
       "      <td>0.0</td>\n",
       "      <td>0.0</td>\n",
       "      <td>0.0</td>\n",
       "      <td>0.0</td>\n",
       "      <td>0.0</td>\n",
       "      <td>0.0</td>\n",
       "      <td>0.0</td>\n",
       "      <td>0.0</td>\n",
       "      <td>0.0</td>\n",
       "      <td>0.0</td>\n",
       "      <td>0.0</td>\n",
       "      <td>0.0</td>\n",
       "      <td>0.0</td>\n",
       "      <td>0.0</td>\n",
       "      <td>0.0</td>\n",
       "      <td>0.0</td>\n",
       "      <td>0.0</td>\n",
       "      <td>0.0</td>\n",
       "      <td>0.0</td>\n",
       "      <td>0.0</td>\n",
       "      <td>0.0</td>\n",
       "      <td>0.0</td>\n",
       "      <td>0.0</td>\n",
       "      <td>0.0</td>\n",
       "      <td>0.0</td>\n",
       "      <td>0.0</td>\n",
       "      <td>0.0</td>\n",
       "      <td>0.0</td>\n",
       "      <td>0.0</td>\n",
       "      <td>0.0</td>\n",
       "      <td>0.0</td>\n",
       "      <td>0.0</td>\n",
       "      <td>0.0</td>\n",
       "      <td>0.0</td>\n",
       "      <td>0.0</td>\n",
       "      <td>0.0</td>\n",
       "      <td>0.0</td>\n",
       "      <td>0.0</td>\n",
       "      <td>0.0</td>\n",
       "      <td>0.0</td>\n",
       "      <td>0.0</td>\n",
       "      <td>0.0</td>\n",
       "      <td>0.0</td>\n",
       "      <td>0.0</td>\n",
       "      <td>0.0</td>\n",
       "      <td>0.0</td>\n",
       "      <td>0.0</td>\n",
       "      <td>0.0</td>\n",
       "      <td>0.0</td>\n",
       "      <td>0.0</td>\n",
       "      <td>0.0</td>\n",
       "      <td>0.0</td>\n",
       "      <td>0.0</td>\n",
       "      <td>0.0</td>\n",
       "      <td>0.0</td>\n",
       "      <td>0.0</td>\n",
       "      <td>0.0</td>\n",
       "      <td>0.0</td>\n",
       "      <td>0.0</td>\n",
       "      <td>0.0</td>\n",
       "      <td>0.0</td>\n",
       "      <td>0.0</td>\n",
       "      <td>0.0</td>\n",
       "      <td>0.0</td>\n",
       "      <td>0.0</td>\n",
       "      <td>0.0</td>\n",
       "      <td>0.0</td>\n",
       "      <td>0.0</td>\n",
       "      <td>0.0</td>\n",
       "      <td>0.0</td>\n",
       "      <td>0.0</td>\n",
       "      <td>0.0</td>\n",
       "      <td>0.0</td>\n",
       "      <td>0.0</td>\n",
       "      <td>0.0</td>\n",
       "      <td>0.0</td>\n",
       "      <td>0.0</td>\n",
       "      <td>0.0</td>\n",
       "      <td>0.0</td>\n",
       "      <td>0.0</td>\n",
       "      <td>0.0</td>\n",
       "      <td>0.0</td>\n",
       "      <td>0.0</td>\n",
       "      <td>0.0</td>\n",
       "      <td>0.0</td>\n",
       "      <td>0.0</td>\n",
       "      <td>0.0</td>\n",
       "      <td>0.0</td>\n",
       "      <td>0.0</td>\n",
       "      <td>0.0</td>\n",
       "      <td>0.0</td>\n",
       "      <td>0.0</td>\n",
       "      <td>0.0</td>\n",
       "      <td>0.0</td>\n",
       "      <td>0.0</td>\n",
       "      <td>0.0</td>\n",
       "      <td>0.0</td>\n",
       "      <td>0.0</td>\n",
       "      <td>0.0</td>\n",
       "      <td>0.0</td>\n",
       "      <td>0.0</td>\n",
       "      <td>0.0</td>\n",
       "      <td>0.0</td>\n",
       "      <td>0.0</td>\n",
       "      <td>0.0</td>\n",
       "      <td>0.0</td>\n",
       "      <td>0.0</td>\n",
       "      <td>0.0</td>\n",
       "      <td>0.0</td>\n",
       "      <td>0.0</td>\n",
       "      <td>0.0</td>\n",
       "      <td>0.0</td>\n",
       "      <td>0.0</td>\n",
       "      <td>0.0</td>\n",
       "      <td>0.0</td>\n",
       "      <td>0.0</td>\n",
       "      <td>0.0</td>\n",
       "      <td>0.0</td>\n",
       "      <td>0.0</td>\n",
       "      <td>0.0</td>\n",
       "      <td>0.0</td>\n",
       "      <td>0.0</td>\n",
       "      <td>0.0</td>\n",
       "      <td>0.0</td>\n",
       "      <td>1.0</td>\n",
       "      <td>0.0</td>\n",
       "      <td>0.0</td>\n",
       "      <td>0.0</td>\n",
       "      <td>0.0</td>\n",
       "      <td>0.0</td>\n",
       "      <td>0.0</td>\n",
       "      <td>0.0</td>\n",
       "      <td>0.0</td>\n",
       "      <td>0.0</td>\n",
       "      <td>0.0</td>\n",
       "      <td>0.0</td>\n",
       "      <td>0.0</td>\n",
       "      <td>0.0</td>\n",
       "      <td>0.0</td>\n",
       "      <td>0.0</td>\n",
       "      <td>0.0</td>\n",
       "      <td>0.0</td>\n",
       "      <td>0.0</td>\n",
       "      <td>0.0</td>\n",
       "      <td>0.0</td>\n",
       "      <td>0.0</td>\n",
       "    </tr>\n",
       "  </tbody>\n",
       "</table>\n",
       "</div>"
      ],
      "text/plain": [
       "   RATING  VOTES    COST  Andheri West  Bandra West  Bangalore  Bengaluru  \\\n",
       "0     3.0   49.0  1200.0             0            0          0          0   \n",
       "1     4.0   30.0  1500.0             0            0          0          0   \n",
       "2     3.0  221.0   800.0             0            0          0          0   \n",
       "3     4.0   24.0   800.0             0            0          0          0   \n",
       "4     3.0  165.0   300.0             0            0          0          0   \n",
       "\n",
       "   Chennai   Faridabad  Ghaziabad  Greater Noida  Gurgaon  Hyderabad  India  \\\n",
       "0         0          0          0              0        0          0      0   \n",
       "1         1          0          0              0        0          0      0   \n",
       "2         1          0          0              0        0          0      0   \n",
       "3         0          0          0              0        0          0      0   \n",
       "4         0          0          0              0        0          0      0   \n",
       "\n",
       "   Kochi  Mumbai  Navi Mumbai  New Delhi  Noida  Others  Secunderabad  Thane  \\\n",
       "0      0       0            0          0      0       0             0      1   \n",
       "1      0       0            0          0      0       0             0      0   \n",
       "2      0       0            0          0      0       0             0      0   \n",
       "3      0       1            0          0      0       0             0      0   \n",
       "4      0       1            0          0      0       0             0      0   \n",
       "\n",
       "   Thane West  Malwani   Goan   North Indian  Asian   Modern Indian  \\\n",
       "0           0      1.0    1.0            1.0    0.0             0.0   \n",
       "1           0      0.0    0.0            0.0    1.0             1.0   \n",
       "2           0      0.0    0.0            0.0    0.0             0.0   \n",
       "3           0      0.0    0.0            0.0    0.0             0.0   \n",
       "4           0      0.0    0.0            0.0    0.0             0.0   \n",
       "\n",
       "    Japanese  North Indian   Chinese   Biryani   Hyderabadi  Tibetan  \\\n",
       "0        0.0           0.0       0.0       0.0          0.0      0.0   \n",
       "1        1.0           0.0       0.0       0.0          0.0      0.0   \n",
       "2        0.0           1.0       1.0       1.0          1.0      0.0   \n",
       "3        0.0           0.0       1.0       0.0          0.0      1.0   \n",
       "4        0.0           0.0       0.0       0.0          0.0      0.0   \n",
       "\n",
       "   Desserts   Seafood  Cafe   Pizza   Burger  Bar Food  South Indian  \\\n",
       "0       0.0       0.0   0.0     0.0      0.0       0.0           0.0   \n",
       "1       0.0       0.0   0.0     0.0      0.0       0.0           0.0   \n",
       "2       0.0       0.0   0.0     0.0      0.0       0.0           0.0   \n",
       "3       0.0       0.0   0.0     0.0      0.0       0.0           0.0   \n",
       "4       1.0       0.0   0.0     0.0      0.0       0.0           0.0   \n",
       "\n",
       "    Fast Food  Fast Food   Beverages  Arabian   Mughlai  Maharashtrian  Parsi  \\\n",
       "0         0.0        0.0         0.0      0.0       0.0            0.0    0.0   \n",
       "1         0.0        0.0         0.0      0.0       0.0            0.0    0.0   \n",
       "2         0.0        0.0         0.0      0.0       0.0            0.0    0.0   \n",
       "3         0.0        0.0         0.0      0.0       0.0            0.0    0.0   \n",
       "4         0.0        0.0         0.0      0.0       0.0            0.0    0.0   \n",
       "\n",
       "   Chinese   Thai  Bakery   Momos  Continental   European   Rolls  Andhra  \\\n",
       "0      0.0    0.0     0.0     0.0          0.0        0.0     0.0     0.0   \n",
       "1      0.0    0.0     0.0     0.0          0.0        0.0     0.0     0.0   \n",
       "2      0.0    0.0     0.0     0.0          0.0        0.0     0.0     0.0   \n",
       "3      0.0    0.0     0.0     0.0          0.0        0.0     0.0     0.0   \n",
       "4      0.0    0.0     0.0     0.0          0.0        0.0     0.0     0.0   \n",
       "\n",
       "    Italian  Biryani   BBQ  Italian  Finger Food   Continental   Asian   Tea  \\\n",
       "0       0.0      0.0   0.0      0.0          0.0           0.0     0.0   0.0   \n",
       "1       0.0      0.0   0.0      0.0          0.0           0.0     0.0   0.0   \n",
       "2       0.0      0.0   0.0      0.0          0.0           0.0     0.0   0.0   \n",
       "3       0.0      0.0   0.0      0.0          0.0           0.0     0.0   0.0   \n",
       "4       0.0      0.0   0.0      0.0          0.0           0.0     0.0   0.0   \n",
       "\n",
       "    American   Healthy Food  Beverages   Coffee   Indonesian   Korean  \\\n",
       "0        0.0            0.0        0.0      0.0          0.0      0.0   \n",
       "1        0.0            0.0        0.0      0.0          0.0      0.0   \n",
       "2        0.0            0.0        0.0      0.0          0.0      0.0   \n",
       "3        0.0            0.0        0.0      0.0          0.0      0.0   \n",
       "4        0.0            0.0        0.0      0.0          0.0      0.0   \n",
       "\n",
       "    South Indian  American   Nepalese  European  Ice Cream   Desserts  \\\n",
       "0            0.0       0.0        0.0       0.0        0.0        0.0   \n",
       "1            0.0       0.0        0.0       0.0        0.0        0.0   \n",
       "2            0.0       0.0        0.0       0.0        0.0        0.0   \n",
       "3            0.0       0.0        0.0       0.0        0.0        0.0   \n",
       "4            0.0       0.0        0.0       0.0        0.0        0.0   \n",
       "\n",
       "    Mexican  Kerala  Seafood   Indian  Pizza  Mithai   Street Food   Mithai  \\\n",
       "0       0.0     0.0      0.0      0.0    0.0     0.0           0.0      0.0   \n",
       "1       0.0     0.0      0.0      0.0    0.0     0.0           0.0      0.0   \n",
       "2       0.0     0.0      0.0      0.0    0.0     0.0           0.0      0.0   \n",
       "3       0.0     0.0      0.0      0.0    0.0     0.0           0.0      0.0   \n",
       "4       0.0     0.0      0.0      0.0    0.0     0.0           0.0      0.0   \n",
       "\n",
       "   Rolls   Malaysian   Vietnamese  Thai   Arabian   Iranian   Kebab  Juices  \\\n",
       "0    0.0         0.0          0.0   0.0       0.0       0.0     0.0     0.0   \n",
       "1    0.0         0.0          0.0   0.0       0.0       0.0     0.0     0.0   \n",
       "2    0.0         0.0          0.0   0.0       0.0       0.0     0.0     0.0   \n",
       "3    0.0         0.0          0.0   0.0       0.0       0.0     0.0     0.0   \n",
       "4    0.0         0.0          0.0   0.0       0.0       0.0     0.0     0.0   \n",
       "\n",
       "    Sandwich  Burger  Hyderabadi   Andhra   Maharashtrian  Mediterranean  \\\n",
       "0        0.0     0.0         0.0      0.0             0.0            0.0   \n",
       "1        0.0     0.0         0.0      0.0             0.0            0.0   \n",
       "2        0.0     0.0         0.0      0.0             0.0            0.0   \n",
       "3        0.0     0.0         0.0      0.0             0.0            0.0   \n",
       "4        0.0     0.0         0.0      0.0             0.0            0.0   \n",
       "\n",
       "    Salad  Gujarati   Rajasthani  Mexican   Tex-Mex   Roast Chicken  \\\n",
       "0     0.0       0.0          0.0      0.0       0.0             0.0   \n",
       "1     0.0       0.0          0.0      0.0       0.0             0.0   \n",
       "2     0.0       0.0          0.0      0.0       0.0             0.0   \n",
       "3     0.0       0.0          0.0      0.0       0.0             0.0   \n",
       "4     0.0       0.0          0.0      0.0       0.0             0.0   \n",
       "\n",
       "    Finger Food  Healthy Food   Ice Cream   Burmese   Juices   Kerala  \\\n",
       "0           0.0           0.0         0.0       0.0      0.0      0.0   \n",
       "1           0.0           0.0         0.0       0.0      0.0      0.0   \n",
       "2           0.0           0.0         0.0       0.0      0.0      0.0   \n",
       "3           0.0           0.0         0.0       0.0      0.0      0.0   \n",
       "4           0.0           0.0         0.0       0.0      0.0      0.0   \n",
       "\n",
       "    Chettinad   North Eastern   Lebanese   Coffee and Tea   Grill  Sandwich  \\\n",
       "0         0.0             0.0        0.0              0.0     0.0       0.0   \n",
       "1         0.0             0.0        0.0              0.0     0.0       0.0   \n",
       "2         0.0             0.0        0.0              0.0     0.0       0.0   \n",
       "3         0.0             0.0        0.0              0.0     0.0       0.0   \n",
       "4         0.0             0.0        0.0              0.0     0.0       0.0   \n",
       "\n",
       "   Indian  Coffee   Cafe       Indonesian  BBQ  Bihari  Lebanese  Bengali  \\\n",
       "0     0.0     0.0    0.0  0.0         0.0  0.0     0.0       0.0      0.0   \n",
       "1     0.0     0.0    0.0  0.0         0.0  0.0     0.0       0.0      0.0   \n",
       "2     0.0     0.0    0.0  0.0         0.0  0.0     0.0       0.0      0.0   \n",
       "3     0.0     0.0    0.0  0.0         0.0  0.0     0.0       0.0      0.0   \n",
       "4     0.0     0.0    0.0  0.0         0.0  0.0     0.0       0.0      0.0   \n",
       "\n",
       "   Chettinad   Mediterranean  Mughlai   Lucknowi   Awadhi   Bengali  \\\n",
       "0        0.0             0.0      0.0        0.0      0.0       0.0   \n",
       "1        0.0             0.0      0.0        0.0      0.0       0.0   \n",
       "2        0.0             0.0      0.0        0.0      0.0       0.0   \n",
       "3        0.0             0.0      0.0        0.0      0.0       0.0   \n",
       "4        0.0             0.0      0.0        0.0      0.0       0.0   \n",
       "\n",
       "   Street Food   Steak   French  Rajasthani   Gujarati   Bakery  Portuguese  \\\n",
       "0          0.0     0.0      0.0         0.0        0.0      0.0         0.0   \n",
       "1          0.0     0.0      0.0         0.0        0.0      0.0         0.0   \n",
       "2          0.0     0.0      0.0         0.0        0.0      0.0         0.0   \n",
       "3          0.0     0.0      0.0         0.0        0.0      0.0         0.0   \n",
       "4          0.0     0.0      0.0         0.0        0.0      0.0         0.0   \n",
       "\n",
       "    Wraps   Sri Lankan  Oriya  Japanese  Ethiopian   Konkan  Modern Indian  \\\n",
       "0     0.0          0.0    0.0       0.0        0.0      0.0            0.0   \n",
       "1     0.0          0.0    0.0       0.0        0.0      0.0            0.0   \n",
       "2     0.0          0.0    0.0       0.0        0.0      0.0            0.0   \n",
       "3     0.0          0.0    0.0       0.0        0.0      0.0            0.0   \n",
       "4     0.0          0.0    0.0       0.0        0.0      0.0            0.0   \n",
       "\n",
       "    Sushi  Spanish  Russian  Mangalorean  Turkish        Bubble Tea   Afghan  \\\n",
       "0     0.0      0.0      0.0          0.0      0.0  0.0          0.0      0.0   \n",
       "1     0.0      0.0      0.0          0.0      0.0  0.0          0.0      0.0   \n",
       "2     0.0      0.0      0.0          0.0      0.0  0.0          0.0      0.0   \n",
       "3     0.0      0.0      0.0          0.0      0.0  0.0          0.0      0.0   \n",
       "4     0.0      0.0      0.0          0.0      0.0  0.0          0.0      0.0   \n",
       "\n",
       "   Steak  Kebab  Wraps  Momos  Naga   Bihari  Burmese  Malaysian  \\\n",
       "0    0.0    0.0    0.0    0.0   0.0      0.0      0.0        0.0   \n",
       "1    0.0    0.0    0.0    0.0   0.0      0.0      0.0        0.0   \n",
       "2    0.0    0.0    0.0    0.0   0.0      0.0      0.0        0.0   \n",
       "3    0.0    0.0    0.0    0.0   0.0      0.0      0.0        0.0   \n",
       "4    0.0    0.0    0.0    0.0   0.0      0.0      0.0        0.0   \n",
       "\n",
       "    Singaporean   Malwani  Korean   German   Turkish   Bar Food  \\\n",
       "0           0.0       0.0     0.0      0.0       0.0        0.0   \n",
       "1           0.0       0.0     0.0      0.0       0.0        0.0   \n",
       "2           0.0       0.0     0.0      0.0       0.0        0.0   \n",
       "3           0.0       0.0     0.0      0.0       0.0        0.0   \n",
       "4           0.0       0.0     0.0      0.0       0.0        0.0   \n",
       "\n",
       "    Middle Eastern  Tea   Tibetan  Sindhi   Cantonese  Vietnamese   Hot Pot  \\\n",
       "0              0.0  0.0       0.0     0.0         0.0         0.0       0.0   \n",
       "1              0.0  0.0       0.0     0.0         0.0         0.0       0.0   \n",
       "2              0.0  0.0       0.0     0.0         0.0         0.0       0.0   \n",
       "3              0.0  0.0       0.0     0.0         0.0         0.0       0.0   \n",
       "4              0.0  0.0       0.0     0.0         0.0         0.0       0.0   \n",
       "\n",
       "    Pan Asian   Satay   Dumplings  Goan   Oriya   Mangalorean   Kashmiri  \\\n",
       "0         0.0     0.0         0.0   0.0     0.0           0.0        0.0   \n",
       "1         0.0     0.0         0.0   0.0     0.0           0.0        0.0   \n",
       "2         0.0     0.0         0.0   0.0     0.0           0.0        0.0   \n",
       "3         0.0     0.0         0.0   0.0     0.0           0.0        0.0   \n",
       "4         0.0     0.0         0.0   0.0     0.0           0.0        0.0   \n",
       "\n",
       "   French  Raw Meats  Salad   Parsi   Drinks Only   Moroccan   Spanish  \\\n",
       "0     0.0        0.0    0.0     0.0           0.0        0.0       0.0   \n",
       "1     0.0        0.0    0.0     0.0           0.0        0.0       0.0   \n",
       "2     0.0        0.0    0.0     0.0           0.0        0.0       0.0   \n",
       "3     0.0        0.0    0.0     0.0           0.0        0.0       0.0   \n",
       "4     0.0        0.0    0.0     0.0           0.0        0.0       0.0   \n",
       "\n",
       "    Panini  Middle Eastern  Kashmiri  North Eastern  Sri Lankan   Cafe Food  \\\n",
       "0      0.0             0.0       0.0            0.0         0.0         0.0   \n",
       "1      0.0             0.0       0.0            0.0         0.0         0.0   \n",
       "2      0.0             0.0       0.0            0.0         0.0         0.0   \n",
       "3      0.0             0.0       0.0            0.0         0.0         0.0   \n",
       "4      0.0             0.0       0.0            0.0         0.0         0.0   \n",
       "\n",
       "    Charcoal Chicken  Sushi  Tex-Mex   Belgian  Afghan   Mongolian  Konkan  \\\n",
       "0                0.0    0.0      0.0       0.0     0.0         0.0     0.0   \n",
       "1                0.0    0.0      0.0       0.0     0.0         0.0     0.0   \n",
       "2                0.0    0.0      0.0       0.0     0.0         0.0     0.0   \n",
       "3                0.0    0.0      0.0       0.0     0.0         0.0     0.0   \n",
       "4                0.0    0.0      0.0       0.0     0.0         0.0     0.0   \n",
       "\n",
       "   Bubble Tea   Tamil  African  German  Drinks Only   Portuguese  Paan  \\\n",
       "0         0.0     0.0      0.0     0.0          0.0          0.0   0.0   \n",
       "1         0.0     0.0      0.0     0.0          0.0          0.0   0.0   \n",
       "2         0.0     0.0      0.0     0.0          0.0          0.0   0.0   \n",
       "3         0.0     0.0      0.0     0.0          0.0          0.0   0.0   \n",
       "4         0.0     0.0      0.0     0.0          0.0          0.0   0.0   \n",
       "\n",
       "   Assamese   Naga  Nepalese  Hot dogs   Paan   Poké   Sindhi  Cafe Food  \\\n",
       "0       0.0    0.0       0.0       0.0    0.0    0.0      0.0        0.0   \n",
       "1       0.0    0.0       0.0       0.0    0.0    0.0      0.0        0.0   \n",
       "2       0.0    0.0       0.0       0.0    0.0    0.0      0.0        0.0   \n",
       "3       0.0    0.0       0.0       0.0    0.0    0.0      0.0        0.0   \n",
       "4       0.0    0.0       0.0       0.0    0.0    0.0      0.0        0.0   \n",
       "\n",
       "   Awadhi  British  Bohri   Fusion  Armenian   British   Russian  \\\n",
       "0     0.0      0.0    0.0      0.0       0.0       0.0       0.0   \n",
       "1     0.0      0.0    0.0      0.0       0.0       0.0       0.0   \n",
       "2     0.0      0.0    0.0      0.0       0.0       0.0       0.0   \n",
       "3     0.0      0.0    0.0      0.0       0.0       0.0       0.0   \n",
       "4     0.0      0.0    0.0      0.0       0.0       0.0       0.0   \n",
       "\n",
       "   South American  Iranian  Lucknowi  Charcoal Chicken  Tamil   Greek  \\\n",
       "0             0.0      0.0       0.0               0.0    0.0     0.0   \n",
       "1             0.0      0.0       0.0               0.0    0.0     0.0   \n",
       "2             0.0      0.0       0.0               0.0    0.0     0.0   \n",
       "3             0.0      0.0       0.0               0.0    0.0     0.0   \n",
       "4             0.0      0.0       0.0               0.0    0.0     0.0   \n",
       "\n",
       "    Pakistani   Peruvian   Cuisine Varies  Pakistani  Irish  Multi Cuisine  \\\n",
       "0         0.0        0.0              0.0        0.0    0.0            0.0   \n",
       "1         0.0        0.0              0.0        0.0    0.0            0.0   \n",
       "2         0.0        0.0              0.0        0.0    0.0            0.0   \n",
       "3         0.0        0.0              0.0        0.0    0.0            0.0   \n",
       "4         0.0        0.0              0.0        0.0    0.0            0.0   \n",
       "\n",
       "    Jewish   Vegan   Oriental   Assamese   Modern Australian  Roast Chicken  \\\n",
       "0      0.0     0.0        0.0        0.0                 0.0            0.0   \n",
       "1      0.0     0.0        0.0        0.0                 0.0            0.0   \n",
       "2      0.0     0.0        0.0        0.0                 0.0            0.0   \n",
       "3      0.0     0.0        0.0        0.0                 0.0            0.0   \n",
       "4      0.0     0.0        0.0        0.0                 0.0            0.0   \n",
       "\n",
       "   Singaporean  Egyptian   African   Egyptian   Fish and Chips  Brazilian  \\\n",
       "0          0.0       0.0       0.0        0.0              0.0        0.0   \n",
       "1          0.0       0.0       0.0        0.0              0.0        0.0   \n",
       "2          0.0       0.0       0.0        0.0              0.0        0.0   \n",
       "3          0.0       0.0       0.0        0.0              0.0        0.0   \n",
       "4          0.0       0.0       0.0        0.0              0.0        0.0   \n",
       "\n",
       "    South American   Mishti   Falafel  Cantonese   Hawaiian  CASUAL DINING  \\\n",
       "0              0.0      0.0       0.0        0.0        0.0            1.0   \n",
       "1              0.0      0.0       0.0        0.0        0.0            1.0   \n",
       "2              0.0      0.0       0.0        0.0        0.0            1.0   \n",
       "3              0.0      0.0       0.0        0.0        0.0            0.0   \n",
       "4              0.0      0.0       0.0        0.0        0.0            0.0   \n",
       "\n",
       "   BAR  QUICK BITES  DESSERT PARLOR  CAFÉ  MICROBREWERY  BEVERAGE SHOP  \\\n",
       "0  0.0          0.0             0.0   0.0           0.0            0.0   \n",
       "1  1.0          0.0             0.0   0.0           0.0            0.0   \n",
       "2  0.0          0.0             0.0   0.0           0.0            0.0   \n",
       "3  0.0          1.0             0.0   0.0           0.0            0.0   \n",
       "4  0.0          0.0             1.0   0.0           0.0            0.0   \n",
       "\n",
       "   IRANI CAFE  BAKERY  None  PUB  FINE DINING  SWEET SHOP  LOUNGE  FOOD COURT  \\\n",
       "0         0.0     0.0   0.0  0.0          0.0         0.0     0.0         0.0   \n",
       "1         0.0     0.0   0.0  0.0          0.0         0.0     0.0         0.0   \n",
       "2         0.0     0.0   0.0  0.0          0.0         0.0     0.0         0.0   \n",
       "3         0.0     0.0   0.0  0.0          0.0         0.0     0.0         0.0   \n",
       "4         0.0     0.0   0.0  0.0          0.0         0.0     0.0         0.0   \n",
       "\n",
       "   FOOD TRUCK  MESS  KIOSK  CLUB  CONFECTIONERY  DHABA  MEAT SHOP  \\\n",
       "0         0.0   0.0    0.0   0.0            0.0    0.0        0.0   \n",
       "1         0.0   0.0    0.0   0.0            0.0    0.0        0.0   \n",
       "2         0.0   0.0    0.0   0.0            0.0    0.0        0.0   \n",
       "3         0.0   0.0    0.0   0.0            0.0    0.0        0.0   \n",
       "4         0.0   0.0    0.0   0.0            0.0    0.0        0.0   \n",
       "\n",
       "   COCKTAIL BAR  PAAN SHOP  BHOJANALYA  \n",
       "0           0.0        0.0         0.0  \n",
       "1           0.0        0.0         0.0  \n",
       "2           0.0        0.0         0.0  \n",
       "3           0.0        0.0         0.0  \n",
       "4           0.0        0.0         0.0  "
      ]
     },
     "execution_count": 55,
     "metadata": {},
     "output_type": "execute_result"
    }
   ],
   "source": [
    "pd.options.display.max_columns = None\n",
    "train.head()"
   ]
  },
  {
   "cell_type": "code",
   "execution_count": 56,
   "metadata": {},
   "outputs": [
    {
     "data": {
      "text/plain": [
       "((12578, 276), (12578,), (4196, 276))"
      ]
     },
     "execution_count": 56,
     "metadata": {},
     "output_type": "execute_result"
    }
   ],
   "source": [
    "targets = train['COST']\n",
    "train.drop('COST',axis=1,inplace=True)\n",
    "train.shape, targets.shape, test.shape"
   ]
  },
  {
   "cell_type": "markdown",
   "metadata": {},
   "source": [
    "#### Performing PCA"
   ]
  },
  {
   "cell_type": "code",
   "execution_count": 57,
   "metadata": {},
   "outputs": [],
   "source": [
    "from sklearn.decomposition import PCA\n",
    "pca = PCA(n_components=200)\n",
    "train = pca.fit_transform(train)\n",
    "test = pca.fit_transform(test)"
   ]
  },
  {
   "cell_type": "markdown",
   "metadata": {},
   "source": [
    "#### Scaling the data"
   ]
  },
  {
   "cell_type": "code",
   "execution_count": 58,
   "metadata": {},
   "outputs": [
    {
     "data": {
      "text/plain": [
       "array([[-0.40390628, -0.16234521, -0.97461431, ...,  0.10206955,\n",
       "         0.2962015 , -0.48054874],\n",
       "       [-0.42725224, -1.13841872, -0.78125041, ..., -0.55782255,\n",
       "        -0.79132063, -1.04159998],\n",
       "       [-0.19256013, -0.12171275, -1.81337012, ...,  0.03197957,\n",
       "         0.10079673,  0.03602066],\n",
       "       ...,\n",
       "       [ 0.28296928, -0.88180529, -0.28735206, ...,  0.28121699,\n",
       "         0.0646076 ,  0.07101025],\n",
       "       [-0.42479523, -0.18338858, -1.88909357, ...,  0.04050437,\n",
       "         0.07326762,  0.0259766 ],\n",
       "       [ 0.3677531 ,  0.06010311, -1.6357664 , ...,  0.01904095,\n",
       "         0.09442473,  0.0583269 ]])"
      ]
     },
     "execution_count": 58,
     "metadata": {},
     "output_type": "execute_result"
    }
   ],
   "source": [
    "from sklearn.preprocessing import StandardScaler\n",
    "train = StandardScaler().fit_transform(train)\n",
    "train"
   ]
  },
  {
   "cell_type": "markdown",
   "metadata": {},
   "source": [
    "# Training Phase"
   ]
  },
  {
   "cell_type": "code",
   "execution_count": 59,
   "metadata": {},
   "outputs": [],
   "source": [
    "from sklearn.model_selection import train_test_split\n",
    "x_train, x_test, y_train,y_test = train_test_split(train,targets,test_size=.20,random_state=55)"
   ]
  },
  {
   "cell_type": "code",
   "execution_count": 60,
   "metadata": {},
   "outputs": [
    {
     "name": "stdout",
     "output_type": "stream",
     "text": [
      "max R2 score corresponding to random state 122 is 0.7637695070741659\n"
     ]
    }
   ],
   "source": [
    "from sklearn.metrics import r2_score, mean_squared_error,mean_absolute_error,roc_curve,auc\n",
    "from sklearn.model_selection import train_test_split\n",
    "from sklearn.linear_model import LinearRegression\n",
    "max_r2_score=0\n",
    "for r_state in range(0,200):\n",
    "    X_train,X_test,y_train,y_test = train_test_split(train,targets, test_size=0.20,random_state=r_state)\n",
    "    lr = LinearRegression()\n",
    "    lr.fit(X_train,y_train)\n",
    "    y_pred = lr.predict(X_test)\n",
    "    r2_scr = r2_score(y_test,y_pred)\n",
    "    if r2_scr>max_r2_score:\n",
    "        max_r2_score = r2_scr\n",
    "        final_r_state = r_state\n",
    "    \n",
    "print(\"max R2 score corresponding to random state\",final_r_state,\"is\",max_r2_score)"
   ]
  },
  {
   "cell_type": "code",
   "execution_count": 61,
   "metadata": {},
   "outputs": [],
   "source": [
    "X_train,X_test,y_train,y_test = train_test_split(train,targets, test_size=0.20,random_state=122)"
   ]
  },
  {
   "cell_type": "code",
   "execution_count": 62,
   "metadata": {},
   "outputs": [],
   "source": [
    "from sklearn.model_selection import GridSearchCV\n",
    "from sklearn.model_selection import cross_val_score\n",
    "import warnings\n",
    "warnings.filterwarnings('ignore')"
   ]
  },
  {
   "cell_type": "markdown",
   "metadata": {},
   "source": [
    "## Linear Regression"
   ]
  },
  {
   "cell_type": "code",
   "execution_count": 63,
   "metadata": {},
   "outputs": [
    {
     "name": "stdout",
     "output_type": "stream",
     "text": [
      "R2 Score: 76.3769507074166\n"
     ]
    }
   ],
   "source": [
    "from sklearn.linear_model import LinearRegression\n",
    "\n",
    "lg = LinearRegression()\n",
    "lg.fit(X_train, y_train)\n",
    "lg.score(X_train, y_train)\n",
    "pred_lin = lg.predict(X_test)\n",
    "\n",
    "lgs = r2_score(y_test, pred_lin)\n",
    "print('R2 Score:',lgs*100)"
   ]
  },
  {
   "cell_type": "code",
   "execution_count": 73,
   "metadata": {},
   "outputs": [
    {
     "name": "stdout",
     "output_type": "stream",
     "text": [
      "Error:\n",
      "Mean Absolute Error: 191.3464852598046\n",
      "Mean Squared Error: 97361.10513900721\n",
      "Root Mean Square Error: 312.0274108776458\n"
     ]
    }
   ],
   "source": [
    "print('Error:')\n",
    "\n",
    "print('Mean Absolute Error:',mean_absolute_error(y_test,pred_lin))\n",
    "print('Mean Squared Error:',mean_squared_error(y_test,pred_lin))\n",
    "print('Root Mean Square Error:',np.sqrt(mean_squared_error(y_test,pred_lin)))"
   ]
  },
  {
   "cell_type": "code",
   "execution_count": 74,
   "metadata": {},
   "outputs": [
    {
     "data": {
      "image/png": "[encoded data removed]",
      "text/plain": [
       "<Figure size 432x288 with 1 Axes>"
      ]
     },
     "metadata": {
      "needs_background": "light"
     },
     "output_type": "display_data"
    }
   ],
   "source": [
    "plt.figure(figsize=(6,4))\n",
    "plt.scatter(x=y_test, y=pred_lin, color='#8869cf')\n",
    "plt.plot(y_test,y_test, color='black')\n",
    "plt.xlabel('Actual Happiness Score',fontsize=14)\n",
    "plt.ylabel('Predicted Happiness Score',fontsize=14)\n",
    "plt.title('Linear Regression',fontsize=18)\n",
    "plt.show()"
   ]
  },
  {
   "cell_type": "markdown",
   "metadata": {},
   "source": [
    "## Lasso Regression"
   ]
  },
  {
   "cell_type": "code",
   "execution_count": 64,
   "metadata": {},
   "outputs": [
    {
     "name": "stdout",
     "output_type": "stream",
     "text": [
      "R2 Score: 76.37134647875622\n"
     ]
    }
   ],
   "source": [
    "from sklearn.linear_model import Lasso\n",
    "\n",
    "ls = Lasso()\n",
    "ls.fit(X_train, y_train)\n",
    "ls.score(X_train, y_train)\n",
    "pred_ls = ls.predict(X_test)\n",
    "\n",
    "lss = r2_score(y_test, pred_ls)\n",
    "print('R2 Score:',lss*100)"
   ]
  },
  {
   "cell_type": "code",
   "execution_count": 75,
   "metadata": {},
   "outputs": [
    {
     "name": "stdout",
     "output_type": "stream",
     "text": [
      "Error:\n",
      "Mean Absolute Error: 191.41099341701403\n",
      "Mean Squared Error: 97384.20266079906\n",
      "Root Mean Square Error: 312.0644206903425\n"
     ]
    }
   ],
   "source": [
    "print('Error:')\n",
    "\n",
    "print('Mean Absolute Error:',mean_absolute_error(y_test,pred_ls))\n",
    "print('Mean Squared Error:',mean_squared_error(y_test,pred_ls))\n",
    "print('Root Mean Square Error:',np.sqrt(mean_squared_error(y_test,pred_ls)))"
   ]
  },
  {
   "cell_type": "code",
   "execution_count": 76,
   "metadata": {},
   "outputs": [
    {
     "data": {
      "image/png": "[encoded data removed]",
      "text/plain": [
       "<Figure size 432x288 with 1 Axes>"
      ]
     },
     "metadata": {
      "needs_background": "light"
     },
     "output_type": "display_data"
    }
   ],
   "source": [
    "plt.figure(figsize=(6,4))\n",
    "plt.scatter(x=y_test, y=pred_ls, color='#8869cf')\n",
    "plt.plot(y_test,y_test, color='black')\n",
    "plt.xlabel('Actual Happiness Score',fontsize=14)\n",
    "plt.ylabel('Predicted Happiness Score',fontsize=14)\n",
    "plt.title('Lasso Regression',fontsize=18)\n",
    "plt.show()"
   ]
  },
  {
   "cell_type": "markdown",
   "metadata": {},
   "source": [
    "## Ridge Regression"
   ]
  },
  {
   "cell_type": "code",
   "execution_count": 65,
   "metadata": {},
   "outputs": [
    {
     "name": "stdout",
     "output_type": "stream",
     "text": [
      "R2 Score: 76.37628795614695\n"
     ]
    }
   ],
   "source": [
    "from sklearn.linear_model import Ridge\n",
    "\n",
    "rg = Ridge()\n",
    "rg.fit(X_train, y_train)\n",
    "rg.score(X_train, y_train)\n",
    "pred_rg = rg.predict(X_test)\n",
    "\n",
    "rgs = r2_score(y_test, pred_rg)\n",
    "print('R2 Score:',rgs*100)"
   ]
  },
  {
   "cell_type": "code",
   "execution_count": 77,
   "metadata": {},
   "outputs": [
    {
     "name": "stdout",
     "output_type": "stream",
     "text": [
      "Error:\n",
      "Mean Absolute Error: 191.34575048311171\n",
      "Mean Squared Error: 97363.83663210299\n",
      "Root Mean Square Error: 312.0317878551847\n"
     ]
    }
   ],
   "source": [
    "print('Error:')\n",
    "\n",
    "print('Mean Absolute Error:',mean_absolute_error(y_test,pred_rg))\n",
    "print('Mean Squared Error:',mean_squared_error(y_test,pred_rg))\n",
    "print('Root Mean Square Error:',np.sqrt(mean_squared_error(y_test,pred_rg)))"
   ]
  },
  {
   "cell_type": "code",
   "execution_count": 78,
   "metadata": {},
   "outputs": [
    {
     "data": {
      "image/png": "[encoded data removed]",
      "text/plain": [
       "<Figure size 432x288 with 1 Axes>"
      ]
     },
     "metadata": {
      "needs_background": "light"
     },
     "output_type": "display_data"
    }
   ],
   "source": [
    "plt.figure(figsize=(6,4))\n",
    "plt.scatter(x=y_test, y=pred_rg, color='#8869cf')\n",
    "plt.plot(y_test,y_test, color='black')\n",
    "plt.xlabel('Actual Happiness Score',fontsize=14)\n",
    "plt.ylabel('Predicted Happiness Score',fontsize=14)\n",
    "plt.title('Ridge Regression',fontsize=18)\n",
    "plt.show()"
   ]
  },
  {
   "cell_type": "markdown",
   "metadata": {},
   "source": [
    "## KNN"
   ]
  },
  {
   "cell_type": "code",
   "execution_count": 66,
   "metadata": {},
   "outputs": [
    {
     "name": "stdout",
     "output_type": "stream",
     "text": [
      "R2 Score: 58.58910529468042\n"
     ]
    }
   ],
   "source": [
    "from sklearn.neighbors import KNeighborsRegressor\n",
    "\n",
    "kn = KNeighborsRegressor()\n",
    "kn.fit(X_train, y_train)\n",
    "kn.score(X_train, y_train)\n",
    "pred_kn = kn.predict(X_test)\n",
    "\n",
    "kns = r2_score(y_test,pred_kn)\n",
    "print('R2 Score:',kns*100)"
   ]
  },
  {
   "cell_type": "code",
   "execution_count": 79,
   "metadata": {},
   "outputs": [
    {
     "name": "stdout",
     "output_type": "stream",
     "text": [
      "Error:\n",
      "Mean Absolute Error: 228.4475357710652\n",
      "Mean Squared Error: 170672.73675675676\n",
      "Root Mean Square Error: 413.1255702044558\n"
     ]
    }
   ],
   "source": [
    "print('Error:')\n",
    "\n",
    "print('Mean Absolute Error:',mean_absolute_error(y_test,pred_kn))\n",
    "print('Mean Squared Error:',mean_squared_error(y_test,pred_kn))\n",
    "print('Root Mean Square Error:',np.sqrt(mean_squared_error(y_test,pred_kn)))"
   ]
  },
  {
   "cell_type": "code",
   "execution_count": 80,
   "metadata": {},
   "outputs": [
    {
     "data": {
      "image/png": "[encoded data removed]",
      "text/plain": [
       "<Figure size 432x288 with 1 Axes>"
      ]
     },
     "metadata": {
      "needs_background": "light"
     },
     "output_type": "display_data"
    }
   ],
   "source": [
    "plt.figure(figsize=(6,4))\n",
    "plt.scatter(x=y_test, y=pred_kn, color='#8869cf')\n",
    "plt.plot(y_test,y_test, color='black')\n",
    "plt.xlabel('Actual Happiness Score',fontsize=14)\n",
    "plt.ylabel('Predicted Happiness Score',fontsize=14)\n",
    "plt.title('KNN Regression',fontsize=18)\n",
    "plt.show()"
   ]
  },
  {
   "cell_type": "markdown",
   "metadata": {},
   "source": [
    "## Decision Tree"
   ]
  },
  {
   "cell_type": "code",
   "execution_count": 67,
   "metadata": {},
   "outputs": [
    {
     "name": "stdout",
     "output_type": "stream",
     "text": [
      "R2 Score: 45.20939080830352\n"
     ]
    }
   ],
   "source": [
    "from sklearn.tree import DecisionTreeRegressor\n",
    "\n",
    "dtr = DecisionTreeRegressor()\n",
    "dtr.fit(X_train, y_train)\n",
    "dtr.score(X_train, y_train)\n",
    "pred_dtr = dtr.predict(X_test)\n",
    "\n",
    "dtrs = r2_score(y_test,pred_dtr)\n",
    "print('R2 Score:',dtrs*100)"
   ]
  },
  {
   "cell_type": "code",
   "execution_count": 81,
   "metadata": {},
   "outputs": [
    {
     "name": "stdout",
     "output_type": "stream",
     "text": [
      "Error:\n",
      "Mean Absolute Error: 274.68800489795075\n",
      "Mean Squared Error: 225816.49794964466\n",
      "Root Mean Square Error: 475.2015340354497\n"
     ]
    }
   ],
   "source": [
    "print('Error:')\n",
    "\n",
    "print('Mean Absolute Error:',mean_absolute_error(y_test,pred_dtr))\n",
    "print('Mean Squared Error:',mean_squared_error(y_test,pred_dtr))\n",
    "print('Root Mean Square Error:',np.sqrt(mean_squared_error(y_test,pred_dtr)))"
   ]
  },
  {
   "cell_type": "code",
   "execution_count": 82,
   "metadata": {},
   "outputs": [
    {
     "data": {
      "image/png": "[encoded data removed]",
      "text/plain": [
       "<Figure size 432x288 with 1 Axes>"
      ]
     },
     "metadata": {
      "needs_background": "light"
     },
     "output_type": "display_data"
    }
   ],
   "source": [
    "plt.figure(figsize=(6,4))\n",
    "plt.scatter(x=y_test, y=pred_dtr, color='#8869cf')\n",
    "plt.plot(y_test,y_test, color='black')\n",
    "plt.xlabel('Actual Happiness Score',fontsize=14)\n",
    "plt.ylabel('Predicted Happiness Score',fontsize=14)\n",
    "plt.title('DecisionTree Regression',fontsize=18)\n",
    "plt.show()"
   ]
  },
  {
   "cell_type": "markdown",
   "metadata": {},
   "source": [
    "## Random Forest"
   ]
  },
  {
   "cell_type": "code",
   "execution_count": 68,
   "metadata": {},
   "outputs": [
    {
     "name": "stdout",
     "output_type": "stream",
     "text": [
      "R2 Score: 74.44313745428384\n"
     ]
    }
   ],
   "source": [
    "from sklearn.ensemble import RandomForestRegressor\n",
    "\n",
    "rf = RandomForestRegressor()\n",
    "rf.fit(X_train, y_train)\n",
    "rf.score(X_train, y_train)\n",
    "pred_random = rf.predict(X_test)\n",
    "\n",
    "rfs = r2_score(y_test,pred_random)\n",
    "print('R2 Score:',rfs*100)"
   ]
  },
  {
   "cell_type": "code",
   "execution_count": 83,
   "metadata": {},
   "outputs": [
    {
     "name": "stdout",
     "output_type": "stream",
     "text": [
      "Error:\n",
      "Mean Absolute Error: 193.70703732994306\n",
      "Mean Squared Error: 105331.2106544105\n",
      "Root Mean Square Error: 324.5477016624991\n"
     ]
    }
   ],
   "source": [
    "print('Error:')\n",
    "\n",
    "print('Mean Absolute Error:',mean_absolute_error(y_test,pred_random))\n",
    "print('Mean Squared Error:',mean_squared_error(y_test,pred_random))\n",
    "print('Root Mean Square Error:',np.sqrt(mean_squared_error(y_test,pred_random)))"
   ]
  },
  {
   "cell_type": "code",
   "execution_count": 84,
   "metadata": {},
   "outputs": [
    {
     "data": {
      "image/png": "[encoded data removed]",
      "text/plain": [
       "<Figure size 432x288 with 1 Axes>"
      ]
     },
     "metadata": {
      "needs_background": "light"
     },
     "output_type": "display_data"
    }
   ],
   "source": [
    "plt.figure(figsize=(6,4))\n",
    "plt.scatter(x=y_test, y=pred_random, color='#8869cf')\n",
    "plt.plot(y_test,y_test, color='black')\n",
    "plt.xlabel('Actual Happiness Score',fontsize=14)\n",
    "plt.ylabel('Predicted Happiness Score',fontsize=14)\n",
    "plt.title('RandomForest Regression',fontsize=18)\n",
    "plt.show()"
   ]
  },
  {
   "cell_type": "markdown",
   "metadata": {},
   "source": [
    "## GradientBoost Regression"
   ]
  },
  {
   "cell_type": "code",
   "execution_count": 69,
   "metadata": {},
   "outputs": [
    {
     "name": "stdout",
     "output_type": "stream",
     "text": [
      "R2 Score: 74.16814108792748\n"
     ]
    }
   ],
   "source": [
    "from sklearn.ensemble import GradientBoostingRegressor\n",
    "\n",
    "gbr = GradientBoostingRegressor()\n",
    "gbr.fit(X_train, y_train)\n",
    "gbr.score(X_train, y_train)\n",
    "pred_gb = gbr.predict(X_test)\n",
    "\n",
    "gbs = r2_score(y_test,pred_gb)\n",
    "print('R2 Score:',gbs*100)"
   ]
  },
  {
   "cell_type": "code",
   "execution_count": 85,
   "metadata": {},
   "outputs": [
    {
     "name": "stdout",
     "output_type": "stream",
     "text": [
      "Error:\n",
      "Mean Absolute Error: 195.23596014141538\n",
      "Mean Squared Error: 106464.593132094\n",
      "Root Mean Square Error: 326.28912505949995\n"
     ]
    }
   ],
   "source": [
    "print('Error:')\n",
    "\n",
    "print('Mean Absolute Error:',mean_absolute_error(y_test,pred_gb))\n",
    "print('Mean Squared Error:',mean_squared_error(y_test,pred_gb))\n",
    "print('Root Mean Square Error:',np.sqrt(mean_squared_error(y_test,pred_gb)))"
   ]
  },
  {
   "cell_type": "code",
   "execution_count": 86,
   "metadata": {},
   "outputs": [
    {
     "data": {
      "image/png": "[encoded data removed]",
      "text/plain": [
       "<Figure size 432x288 with 1 Axes>"
      ]
     },
     "metadata": {
      "needs_background": "light"
     },
     "output_type": "display_data"
    }
   ],
   "source": [
    "plt.figure(figsize=(6,4))\n",
    "plt.scatter(x=y_test, y=pred_gb, color='#8869cf')\n",
    "plt.plot(y_test,y_test, color='black')\n",
    "plt.xlabel('Actual Happiness Score',fontsize=14)\n",
    "plt.ylabel('Predicted Happiness Score',fontsize=14)\n",
    "plt.title('GradientBoost Regression',fontsize=18)\n",
    "plt.show()"
   ]
  },
  {
   "cell_type": "markdown",
   "metadata": {},
   "source": [
    "## ADABoost"
   ]
  },
  {
   "cell_type": "code",
   "execution_count": 70,
   "metadata": {},
   "outputs": [
    {
     "name": "stdout",
     "output_type": "stream",
     "text": [
      "R2 Score: -10.37586919141884\n"
     ]
    }
   ],
   "source": [
    "from sklearn.ensemble import AdaBoostRegressor\n",
    "\n",
    "ada = AdaBoostRegressor()\n",
    "ada.fit(X_train, y_train)\n",
    "ada.score(X_train, y_train)\n",
    "pred_ada = ada.predict(X_test)\n",
    "\n",
    "adas = r2_score(y_test,pred_ada)\n",
    "print('R2 Score:',adas*100)"
   ]
  },
  {
   "cell_type": "code",
   "execution_count": 87,
   "metadata": {},
   "outputs": [
    {
     "name": "stdout",
     "output_type": "stream",
     "text": [
      "Error:\n",
      "Mean Absolute Error: 610.3601583403298\n",
      "Mean Squared Error: 454908.1057257457\n",
      "Root Mean Square Error: 674.4687581539606\n"
     ]
    }
   ],
   "source": [
    "print('Error:')\n",
    "\n",
    "print('Mean Absolute Error:',mean_absolute_error(y_test,pred_ada))\n",
    "print('Mean Squared Error:',mean_squared_error(y_test,pred_ada))\n",
    "print('Root Mean Square Error:',np.sqrt(mean_squared_error(y_test,pred_ada)))"
   ]
  },
  {
   "cell_type": "code",
   "execution_count": 88,
   "metadata": {},
   "outputs": [
    {
     "data": {
      "image/png": "[encoded data removed]",
      "text/plain": [
       "<Figure size 432x288 with 1 Axes>"
      ]
     },
     "metadata": {
      "needs_background": "light"
     },
     "output_type": "display_data"
    }
   ],
   "source": [
    "plt.figure(figsize=(6,4))\n",
    "plt.scatter(x=y_test, y=pred_ada, color='#8869cf')\n",
    "plt.plot(y_test,y_test, color='black')\n",
    "plt.xlabel('Actual Happiness Score',fontsize=14)\n",
    "plt.ylabel('Predicted Happiness Score',fontsize=14)\n",
    "plt.title('AdaBoost Regression',fontsize=18)\n",
    "plt.show()"
   ]
  },
  {
   "cell_type": "markdown",
   "metadata": {},
   "source": [
    "## XGB"
   ]
  },
  {
   "cell_type": "code",
   "execution_count": 71,
   "metadata": {},
   "outputs": [
    {
     "name": "stdout",
     "output_type": "stream",
     "text": [
      "R2 Score: 73.04038384896249\n"
     ]
    }
   ],
   "source": [
    "import xgboost as xgb\n",
    "\n",
    "xg = xgb.XGBRegressor()\n",
    "xg.fit(X_train, y_train)\n",
    "xg.score(X_train, y_train)\n",
    "pred_xg = xg.predict(X_test)\n",
    "\n",
    "xgs = r2_score(y_test,pred_xg)\n",
    "print('R2 Score:',xgs*100)"
   ]
  },
  {
   "cell_type": "code",
   "execution_count": 89,
   "metadata": {},
   "outputs": [
    {
     "name": "stdout",
     "output_type": "stream",
     "text": [
      "Error:\n",
      "Mean Absolute Error: 195.38446533206158\n",
      "Mean Squared Error: 111112.58288795575\n",
      "Root Mean Square Error: 333.3355409912897\n"
     ]
    }
   ],
   "source": [
    "print('Error:')\n",
    "\n",
    "print('Mean Absolute Error:',mean_absolute_error(y_test,pred_xg))\n",
    "print('Mean Squared Error:',mean_squared_error(y_test,pred_xg))\n",
    "print('Root Mean Square Error:',np.sqrt(mean_squared_error(y_test,pred_xg)))"
   ]
  },
  {
   "cell_type": "code",
   "execution_count": 90,
   "metadata": {},
   "outputs": [
    {
     "data": {
      "image/png": "[encoded data removed]",
      "text/plain": [
       "<Figure size 432x288 with 1 Axes>"
      ]
     },
     "metadata": {
      "needs_background": "light"
     },
     "output_type": "display_data"
    }
   ],
   "source": [
    "plt.figure(figsize=(6,4))\n",
    "plt.scatter(x=y_test, y=pred_xg, color='#8869cf')\n",
    "plt.plot(y_test,y_test, color='black')\n",
    "plt.xlabel('Actual Happiness Score',fontsize=14)\n",
    "plt.ylabel('Predicted Happiness Score',fontsize=14)\n",
    "plt.title('XGB Regression',fontsize=18)\n",
    "plt.show()"
   ]
  },
  {
   "cell_type": "markdown",
   "metadata": {},
   "source": [
    "## BaggingRegressor"
   ]
  },
  {
   "cell_type": "code",
   "execution_count": 72,
   "metadata": {},
   "outputs": [
    {
     "name": "stdout",
     "output_type": "stream",
     "text": [
      "R2 Score: 71.93562035595949\n"
     ]
    }
   ],
   "source": [
    "from sklearn.ensemble import BaggingRegressor\n",
    "\n",
    "bg = BaggingRegressor()\n",
    "bg.fit(X_train, y_train)\n",
    "bg.score(X_train, y_train)\n",
    "pred_bg = bg.predict(X_test)\n",
    "\n",
    "bgs = r2_score(y_test,pred_bg)\n",
    "print('R2 Score:',bgs*100)"
   ]
  },
  {
   "cell_type": "code",
   "execution_count": 91,
   "metadata": {},
   "outputs": [
    {
     "name": "stdout",
     "output_type": "stream",
     "text": [
      "Error:\n",
      "Mean Absolute Error: 203.28208639115374\n",
      "Mean Squared Error: 115665.8051779238\n",
      "Root Mean Square Error: 340.0967585525093\n"
     ]
    }
   ],
   "source": [
    "print('Error:')\n",
    "\n",
    "print('Mean Absolute Error:',mean_absolute_error(y_test,pred_bg))\n",
    "print('Mean Squared Error:',mean_squared_error(y_test,pred_bg))\n",
    "print('Root Mean Square Error:',np.sqrt(mean_squared_error(y_test,pred_bg)))"
   ]
  },
  {
   "cell_type": "code",
   "execution_count": 92,
   "metadata": {},
   "outputs": [
    {
     "data": {
      "image/png": "[encoded data removed]",
      "text/plain": [
       "<Figure size 432x288 with 1 Axes>"
      ]
     },
     "metadata": {
      "needs_background": "light"
     },
     "output_type": "display_data"
    }
   ],
   "source": [
    "plt.figure(figsize=(6,4))\n",
    "plt.scatter(x=y_test, y=pred_bg, color='#8869cf')\n",
    "plt.plot(y_test,y_test, color='black')\n",
    "plt.xlabel('Actual Happiness Score',fontsize=14)\n",
    "plt.ylabel('Predicted Happiness Score',fontsize=14)\n",
    "plt.title('XGB Regression',fontsize=18)\n",
    "plt.show()"
   ]
  },
  {
   "cell_type": "markdown",
   "metadata": {},
   "source": [
    "#### Picking the model"
   ]
  },
  {
   "cell_type": "code",
   "execution_count": 93,
   "metadata": {},
   "outputs": [
    {
     "data": {
      "text/html": [
       "<div>\n",
       "<style scoped>\n",
       "    .dataframe tbody tr th:only-of-type {\n",
       "        vertical-align: middle;\n",
       "    }\n",
       "\n",
       "    .dataframe tbody tr th {\n",
       "        vertical-align: top;\n",
       "    }\n",
       "\n",
       "    .dataframe thead th {\n",
       "        text-align: right;\n",
       "    }\n",
       "</style>\n",
       "<table border=\"1\" class=\"dataframe\">\n",
       "  <thead>\n",
       "    <tr style=\"text-align: right;\">\n",
       "      <th></th>\n",
       "      <th>Model</th>\n",
       "      <th>R2 Score</th>\n",
       "    </tr>\n",
       "  </thead>\n",
       "  <tbody>\n",
       "    <tr>\n",
       "      <th>0</th>\n",
       "      <td>Linear Regression</td>\n",
       "      <td>76.376951</td>\n",
       "    </tr>\n",
       "    <tr>\n",
       "      <th>2</th>\n",
       "      <td>Ridge Regression</td>\n",
       "      <td>76.376288</td>\n",
       "    </tr>\n",
       "    <tr>\n",
       "      <th>1</th>\n",
       "      <td>Lasso Regression</td>\n",
       "      <td>76.371346</td>\n",
       "    </tr>\n",
       "    <tr>\n",
       "      <th>5</th>\n",
       "      <td>Random Forest Regression</td>\n",
       "      <td>74.443137</td>\n",
       "    </tr>\n",
       "    <tr>\n",
       "      <th>6</th>\n",
       "      <td>Gradient Boost Regression</td>\n",
       "      <td>74.168141</td>\n",
       "    </tr>\n",
       "    <tr>\n",
       "      <th>8</th>\n",
       "      <td>XGBoost</td>\n",
       "      <td>73.040384</td>\n",
       "    </tr>\n",
       "    <tr>\n",
       "      <th>9</th>\n",
       "      <td>BaggingRegressor</td>\n",
       "      <td>71.935620</td>\n",
       "    </tr>\n",
       "    <tr>\n",
       "      <th>3</th>\n",
       "      <td>KNN</td>\n",
       "      <td>58.589105</td>\n",
       "    </tr>\n",
       "    <tr>\n",
       "      <th>4</th>\n",
       "      <td>Decision Tree Regression</td>\n",
       "      <td>45.209391</td>\n",
       "    </tr>\n",
       "    <tr>\n",
       "      <th>7</th>\n",
       "      <td>AdaBoost Regressor</td>\n",
       "      <td>-10.375869</td>\n",
       "    </tr>\n",
       "  </tbody>\n",
       "</table>\n",
       "</div>"
      ],
      "text/plain": [
       "                       Model   R2 Score\n",
       "0          Linear Regression  76.376951\n",
       "2           Ridge Regression  76.376288\n",
       "1           Lasso Regression  76.371346\n",
       "5   Random Forest Regression  74.443137\n",
       "6  Gradient Boost Regression  74.168141\n",
       "8                    XGBoost  73.040384\n",
       "9           BaggingRegressor  71.935620\n",
       "3                        KNN  58.589105\n",
       "4   Decision Tree Regression  45.209391\n",
       "7         AdaBoost Regressor -10.375869"
      ]
     },
     "execution_count": 93,
     "metadata": {},
     "output_type": "execute_result"
    }
   ],
   "source": [
    "models = pd.DataFrame({\n",
    "    'Model': ['Linear Regression','Lasso Regression', 'Ridge Regression','KNN','Decision Tree Regression',\n",
    "              'Random Forest Regression','Gradient Boost Regression','AdaBoost Regressor','XGBoost','BaggingRegressor'],\n",
    "    'R2 Score': [lgs*100, lss*100, rgs*100, kns*100, dtrs*100, rfs*100, gbs*100, adas*100, xgs*100, bgs*100]})\n",
    "models.sort_values(by='R2 Score', ascending=False)"
   ]
  },
  {
   "cell_type": "markdown",
   "metadata": {},
   "source": [
    "__The best 3 models are:__\n",
    "\n",
    "1. Linear Regression\n",
    "2. Ridge Regression\n",
    "3. Lasso Regression"
   ]
  },
  {
   "cell_type": "markdown",
   "metadata": {},
   "source": [
    "#### CrossValidation"
   ]
  },
  {
   "cell_type": "code",
   "execution_count": 94,
   "metadata": {},
   "outputs": [
    {
     "name": "stdout",
     "output_type": "stream",
     "text": [
      "Cross Val Score: 70.55214038152913\n"
     ]
    }
   ],
   "source": [
    "linscore = cross_val_score(lg,train,targets,cv=5)\n",
    "linc = linscore.mean() \n",
    "print('Cross Val Score:',linc*100)"
   ]
  },
  {
   "cell_type": "code",
   "execution_count": 95,
   "metadata": {},
   "outputs": [
    {
     "name": "stdout",
     "output_type": "stream",
     "text": [
      "Cross Val Score: 70.63404655744847\n"
     ]
    }
   ],
   "source": [
    "lsscore = cross_val_score(ls,train,targets,cv=5)\n",
    "lsc = lsscore.mean() \n",
    "print('Cross Val Score:',lsc*100)"
   ]
  },
  {
   "cell_type": "code",
   "execution_count": 96,
   "metadata": {},
   "outputs": [
    {
     "name": "stdout",
     "output_type": "stream",
     "text": [
      "Cross Val Score: 70.55242132766868\n"
     ]
    }
   ],
   "source": [
    "rgscore = cross_val_score(rg,train,targets,cv=5)\n",
    "rgc = rgscore.mean() \n",
    "print('Cross Val Score:',rgc*100)"
   ]
  },
  {
   "cell_type": "markdown",
   "metadata": {},
   "source": [
    "The best cross validation score is given by the lasso Rigression and hence that is our best model."
   ]
  },
  {
   "cell_type": "markdown",
   "metadata": {},
   "source": [
    "#### Saving the best model"
   ]
  },
  {
   "cell_type": "code",
   "execution_count": 97,
   "metadata": {},
   "outputs": [],
   "source": [
    "import pickle\n",
    "\n",
    "filename = 'Restraunt_Cost_Prediction.pkl'\n",
    "pickle.dump(ls, open(filename, 'wb'))"
   ]
  },
  {
   "cell_type": "markdown",
   "metadata": {},
   "source": [
    "# Testing Phase"
   ]
  },
  {
   "cell_type": "code",
   "execution_count": 98,
   "metadata": {},
   "outputs": [],
   "source": [
    "pred_ls = ls.predict(test)\n",
    "df = pd.DataFrame(pred_ls)\n",
    "df.to_csv('Restraunt_Cost_Prediction.csv')"
   ]
  }
 ],
 "metadata": {
  "kernelspec": {
   "display_name": "Python 3",
   "language": "python",
   "name": "python3"
  },
  "language_info": {
   "codemirror_mode": {
    "name": "ipython",
    "version": 3
   },
   "file_extension": ".py",
   "mimetype": "text/x-python",
   "name": "python",
   "nbconvert_exporter": "python",
   "pygments_lexer": "ipython3",
   "version": "3.7.6"
  }
 },
 "nbformat": 4,
 "nbformat_minor": 4
}
